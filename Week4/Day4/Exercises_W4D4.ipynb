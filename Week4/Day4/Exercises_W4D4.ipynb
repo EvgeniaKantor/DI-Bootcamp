{
  "nbformat": 4,
  "nbformat_minor": 0,
  "metadata": {
    "colab": {
      "provenance": [],
      "authorship_tag": "ABX9TyPxaaH6RkoYauNKacwijZQY",
      "include_colab_link": true
    },
    "kernelspec": {
      "name": "python3",
      "display_name": "Python 3"
    },
    "language_info": {
      "name": "python"
    }
  },
  "cells": [
    {
      "cell_type": "markdown",
      "metadata": {
        "id": "view-in-github",
        "colab_type": "text"
      },
      "source": [
        "<a href=\"https://colab.research.google.com/github/EvgeniaKantor/DI-Bootcamp/blob/main/Exercises_W4D4.ipynb\" target=\"_parent\"><img src=\"https://colab.research.google.com/assets/colab-badge.svg\" alt=\"Open In Colab\"/></a>"
      ]
    },
    {
      "cell_type": "markdown",
      "source": [
        "Exercise 1: Duplicate Detection And Removal"
      ],
      "metadata": {
        "id": "13deTn4idiXy"
      }
    },
    {
      "cell_type": "code",
      "execution_count": 2,
      "metadata": {
        "colab": {
          "base_uri": "https://localhost:8080/",
          "height": 90
        },
        "id": "OFm3yEYONDeb",
        "outputId": "ed8d85fe-1d0a-4263-e499-af0c4b0664ee"
      },
      "outputs": [
        {
          "output_type": "display_data",
          "data": {
            "text/plain": [
              "<IPython.core.display.HTML object>"
            ],
            "text/html": [
              "\n",
              "     <input type=\"file\" id=\"files-0b540799-8ac8-43fd-96d9-c4e7f61b2b97\" name=\"files[]\" multiple disabled\n",
              "        style=\"border:none\" />\n",
              "     <output id=\"result-0b540799-8ac8-43fd-96d9-c4e7f61b2b97\">\n",
              "      Upload widget is only available when the cell has been executed in the\n",
              "      current browser session. Please rerun this cell to enable.\n",
              "      </output>\n",
              "      <script>// Copyright 2017 Google LLC\n",
              "//\n",
              "// Licensed under the Apache License, Version 2.0 (the \"License\");\n",
              "// you may not use this file except in compliance with the License.\n",
              "// You may obtain a copy of the License at\n",
              "//\n",
              "//      http://www.apache.org/licenses/LICENSE-2.0\n",
              "//\n",
              "// Unless required by applicable law or agreed to in writing, software\n",
              "// distributed under the License is distributed on an \"AS IS\" BASIS,\n",
              "// WITHOUT WARRANTIES OR CONDITIONS OF ANY KIND, either express or implied.\n",
              "// See the License for the specific language governing permissions and\n",
              "// limitations under the License.\n",
              "\n",
              "/**\n",
              " * @fileoverview Helpers for google.colab Python module.\n",
              " */\n",
              "(function(scope) {\n",
              "function span(text, styleAttributes = {}) {\n",
              "  const element = document.createElement('span');\n",
              "  element.textContent = text;\n",
              "  for (const key of Object.keys(styleAttributes)) {\n",
              "    element.style[key] = styleAttributes[key];\n",
              "  }\n",
              "  return element;\n",
              "}\n",
              "\n",
              "// Max number of bytes which will be uploaded at a time.\n",
              "const MAX_PAYLOAD_SIZE = 100 * 1024;\n",
              "\n",
              "function _uploadFiles(inputId, outputId) {\n",
              "  const steps = uploadFilesStep(inputId, outputId);\n",
              "  const outputElement = document.getElementById(outputId);\n",
              "  // Cache steps on the outputElement to make it available for the next call\n",
              "  // to uploadFilesContinue from Python.\n",
              "  outputElement.steps = steps;\n",
              "\n",
              "  return _uploadFilesContinue(outputId);\n",
              "}\n",
              "\n",
              "// This is roughly an async generator (not supported in the browser yet),\n",
              "// where there are multiple asynchronous steps and the Python side is going\n",
              "// to poll for completion of each step.\n",
              "// This uses a Promise to block the python side on completion of each step,\n",
              "// then passes the result of the previous step as the input to the next step.\n",
              "function _uploadFilesContinue(outputId) {\n",
              "  const outputElement = document.getElementById(outputId);\n",
              "  const steps = outputElement.steps;\n",
              "\n",
              "  const next = steps.next(outputElement.lastPromiseValue);\n",
              "  return Promise.resolve(next.value.promise).then((value) => {\n",
              "    // Cache the last promise value to make it available to the next\n",
              "    // step of the generator.\n",
              "    outputElement.lastPromiseValue = value;\n",
              "    return next.value.response;\n",
              "  });\n",
              "}\n",
              "\n",
              "/**\n",
              " * Generator function which is called between each async step of the upload\n",
              " * process.\n",
              " * @param {string} inputId Element ID of the input file picker element.\n",
              " * @param {string} outputId Element ID of the output display.\n",
              " * @return {!Iterable<!Object>} Iterable of next steps.\n",
              " */\n",
              "function* uploadFilesStep(inputId, outputId) {\n",
              "  const inputElement = document.getElementById(inputId);\n",
              "  inputElement.disabled = false;\n",
              "\n",
              "  const outputElement = document.getElementById(outputId);\n",
              "  outputElement.innerHTML = '';\n",
              "\n",
              "  const pickedPromise = new Promise((resolve) => {\n",
              "    inputElement.addEventListener('change', (e) => {\n",
              "      resolve(e.target.files);\n",
              "    });\n",
              "  });\n",
              "\n",
              "  const cancel = document.createElement('button');\n",
              "  inputElement.parentElement.appendChild(cancel);\n",
              "  cancel.textContent = 'Cancel upload';\n",
              "  const cancelPromise = new Promise((resolve) => {\n",
              "    cancel.onclick = () => {\n",
              "      resolve(null);\n",
              "    };\n",
              "  });\n",
              "\n",
              "  // Wait for the user to pick the files.\n",
              "  const files = yield {\n",
              "    promise: Promise.race([pickedPromise, cancelPromise]),\n",
              "    response: {\n",
              "      action: 'starting',\n",
              "    }\n",
              "  };\n",
              "\n",
              "  cancel.remove();\n",
              "\n",
              "  // Disable the input element since further picks are not allowed.\n",
              "  inputElement.disabled = true;\n",
              "\n",
              "  if (!files) {\n",
              "    return {\n",
              "      response: {\n",
              "        action: 'complete',\n",
              "      }\n",
              "    };\n",
              "  }\n",
              "\n",
              "  for (const file of files) {\n",
              "    const li = document.createElement('li');\n",
              "    li.append(span(file.name, {fontWeight: 'bold'}));\n",
              "    li.append(span(\n",
              "        `(${file.type || 'n/a'}) - ${file.size} bytes, ` +\n",
              "        `last modified: ${\n",
              "            file.lastModifiedDate ? file.lastModifiedDate.toLocaleDateString() :\n",
              "                                    'n/a'} - `));\n",
              "    const percent = span('0% done');\n",
              "    li.appendChild(percent);\n",
              "\n",
              "    outputElement.appendChild(li);\n",
              "\n",
              "    const fileDataPromise = new Promise((resolve) => {\n",
              "      const reader = new FileReader();\n",
              "      reader.onload = (e) => {\n",
              "        resolve(e.target.result);\n",
              "      };\n",
              "      reader.readAsArrayBuffer(file);\n",
              "    });\n",
              "    // Wait for the data to be ready.\n",
              "    let fileData = yield {\n",
              "      promise: fileDataPromise,\n",
              "      response: {\n",
              "        action: 'continue',\n",
              "      }\n",
              "    };\n",
              "\n",
              "    // Use a chunked sending to avoid message size limits. See b/62115660.\n",
              "    let position = 0;\n",
              "    do {\n",
              "      const length = Math.min(fileData.byteLength - position, MAX_PAYLOAD_SIZE);\n",
              "      const chunk = new Uint8Array(fileData, position, length);\n",
              "      position += length;\n",
              "\n",
              "      const base64 = btoa(String.fromCharCode.apply(null, chunk));\n",
              "      yield {\n",
              "        response: {\n",
              "          action: 'append',\n",
              "          file: file.name,\n",
              "          data: base64,\n",
              "        },\n",
              "      };\n",
              "\n",
              "      let percentDone = fileData.byteLength === 0 ?\n",
              "          100 :\n",
              "          Math.round((position / fileData.byteLength) * 100);\n",
              "      percent.textContent = `${percentDone}% done`;\n",
              "\n",
              "    } while (position < fileData.byteLength);\n",
              "  }\n",
              "\n",
              "  // All done.\n",
              "  yield {\n",
              "    response: {\n",
              "      action: 'complete',\n",
              "    }\n",
              "  };\n",
              "}\n",
              "\n",
              "scope.google = scope.google || {};\n",
              "scope.google.colab = scope.google.colab || {};\n",
              "scope.google.colab._files = {\n",
              "  _uploadFiles,\n",
              "  _uploadFilesContinue,\n",
              "};\n",
              "})(self);\n",
              "</script> "
            ]
          },
          "metadata": {}
        },
        {
          "output_type": "stream",
          "name": "stdout",
          "text": [
            "Saving kaggle.json to kaggle (1).json\n",
            "mkdir: cannot create directory ‘/root/.kaggle’: File exists\n"
          ]
        }
      ],
      "source": [
        "from google.colab import files\n",
        "uploaded = files.upload()\n",
        "# Make directory named kaggle and copy kaggle.json file there\n",
        "!mkdir ~/.kaggle\n",
        "!cp kaggle.json ~/.kaggle/\n",
        "\n",
        "# Change the permissions of the file\n",
        "!chmod 600 ~/.kaggle/kaggle.json\n"
      ]
    },
    {
      "cell_type": "code",
      "source": [
        "!kaggle datasets download -d heptapod/titanic"
      ],
      "metadata": {
        "colab": {
          "base_uri": "https://localhost:8080/"
        },
        "id": "wStPrPD9bZfn",
        "outputId": "25b2925a-93a7-4935-a42c-4e6a50863683"
      },
      "execution_count": 3,
      "outputs": [
        {
          "output_type": "stream",
          "name": "stdout",
          "text": [
            "Downloading titanic.zip to /content\n",
            "\r  0% 0.00/10.8k [00:00<?, ?B/s]\n",
            "\r100% 10.8k/10.8k [00:00<00:00, 14.9MB/s]\n"
          ]
        }
      ]
    },
    {
      "cell_type": "code",
      "source": [
        "!unzip titanic.zip"
      ],
      "metadata": {
        "colab": {
          "base_uri": "https://localhost:8080/"
        },
        "id": "ke5u8vhKbs-n",
        "outputId": "bad506cb-417f-4fe1-a7fb-d5c0ec958853"
      },
      "execution_count": 4,
      "outputs": [
        {
          "output_type": "stream",
          "name": "stdout",
          "text": [
            "Archive:  titanic.zip\n",
            "  inflating: train_and_test2.csv     \n"
          ]
        }
      ]
    },
    {
      "cell_type": "code",
      "source": [
        "import pandas as pd\n",
        "\n",
        "# Load the Titanic dataset\n",
        "titanic_data = pd.read_csv('train_and_test2.csv')\n",
        "\n",
        "# Explore the dataset\n",
        "print(titanic_data.head())\n",
        "print(titanic_data.info())"
      ],
      "metadata": {
        "colab": {
          "base_uri": "https://localhost:8080/"
        },
        "id": "wOfM_T6qbxsk",
        "outputId": "4d0697c9-ad84-412f-e44d-975b27549bb7"
      },
      "execution_count": 6,
      "outputs": [
        {
          "output_type": "stream",
          "name": "stdout",
          "text": [
            "   Passengerid   Age     Fare  Sex  sibsp  zero  zero.1  zero.2  zero.3  \\\n",
            "0            1  22.0   7.2500    0      1     0       0       0       0   \n",
            "1            2  38.0  71.2833    1      1     0       0       0       0   \n",
            "2            3  26.0   7.9250    1      0     0       0       0       0   \n",
            "3            4  35.0  53.1000    1      1     0       0       0       0   \n",
            "4            5  35.0   8.0500    0      0     0       0       0       0   \n",
            "\n",
            "   zero.4  ...  zero.12  zero.13  zero.14  Pclass  zero.15  zero.16  Embarked  \\\n",
            "0       0  ...        0        0        0       3        0        0       2.0   \n",
            "1       0  ...        0        0        0       1        0        0       0.0   \n",
            "2       0  ...        0        0        0       3        0        0       2.0   \n",
            "3       0  ...        0        0        0       1        0        0       2.0   \n",
            "4       0  ...        0        0        0       3        0        0       2.0   \n",
            "\n",
            "   zero.17  zero.18  2urvived  \n",
            "0        0        0         0  \n",
            "1        0        0         1  \n",
            "2        0        0         1  \n",
            "3        0        0         1  \n",
            "4        0        0         0  \n",
            "\n",
            "[5 rows x 28 columns]\n",
            "<class 'pandas.core.frame.DataFrame'>\n",
            "RangeIndex: 1309 entries, 0 to 1308\n",
            "Data columns (total 28 columns):\n",
            " #   Column       Non-Null Count  Dtype  \n",
            "---  ------       --------------  -----  \n",
            " 0   Passengerid  1309 non-null   int64  \n",
            " 1   Age          1309 non-null   float64\n",
            " 2   Fare         1309 non-null   float64\n",
            " 3   Sex          1309 non-null   int64  \n",
            " 4   sibsp        1309 non-null   int64  \n",
            " 5   zero         1309 non-null   int64  \n",
            " 6   zero.1       1309 non-null   int64  \n",
            " 7   zero.2       1309 non-null   int64  \n",
            " 8   zero.3       1309 non-null   int64  \n",
            " 9   zero.4       1309 non-null   int64  \n",
            " 10  zero.5       1309 non-null   int64  \n",
            " 11  zero.6       1309 non-null   int64  \n",
            " 12  Parch        1309 non-null   int64  \n",
            " 13  zero.7       1309 non-null   int64  \n",
            " 14  zero.8       1309 non-null   int64  \n",
            " 15  zero.9       1309 non-null   int64  \n",
            " 16  zero.10      1309 non-null   int64  \n",
            " 17  zero.11      1309 non-null   int64  \n",
            " 18  zero.12      1309 non-null   int64  \n",
            " 19  zero.13      1309 non-null   int64  \n",
            " 20  zero.14      1309 non-null   int64  \n",
            " 21  Pclass       1309 non-null   int64  \n",
            " 22  zero.15      1309 non-null   int64  \n",
            " 23  zero.16      1309 non-null   int64  \n",
            " 24  Embarked     1307 non-null   float64\n",
            " 25  zero.17      1309 non-null   int64  \n",
            " 26  zero.18      1309 non-null   int64  \n",
            " 27  2urvived     1309 non-null   int64  \n",
            "dtypes: float64(3), int64(25)\n",
            "memory usage: 286.5 KB\n",
            "None\n"
          ]
        }
      ]
    },
    {
      "cell_type": "code",
      "source": [
        "# Identify if there are any duplicate rows based on all columns\n",
        "duplicate_rows = titanic_data.duplicated()"
      ],
      "metadata": {
        "id": "xmeDKbPfcKwf"
      },
      "execution_count": 7,
      "outputs": []
    },
    {
      "cell_type": "code",
      "source": [
        "# Print the number of duplicate rows\n",
        "print(\"Number of duplicate rows found:\", duplicate_rows.sum())"
      ],
      "metadata": {
        "colab": {
          "base_uri": "https://localhost:8080/"
        },
        "id": "XctMm3E1cpDM",
        "outputId": "a63b5a7f-414c-4f35-d21f-dbbc3de197f2"
      },
      "execution_count": 8,
      "outputs": [
        {
          "output_type": "stream",
          "name": "stdout",
          "text": [
            "Number of duplicate rows found: 0\n"
          ]
        }
      ]
    },
    {
      "cell_type": "code",
      "source": [
        "# Remove any duplicate rows found in the dataset (in our case there's no such need)\n",
        "titanic_df = titanic_data.drop_duplicates()"
      ],
      "metadata": {
        "id": "pbx_wRPyctsd"
      },
      "execution_count": 10,
      "outputs": []
    },
    {
      "cell_type": "code",
      "source": [
        "# Verify the removal of duplicates by checking the number of rows before and after\n",
        "print(\"Number of rows before removing duplicates:\", len(titanic_data))"
      ],
      "metadata": {
        "colab": {
          "base_uri": "https://localhost:8080/"
        },
        "id": "-HfRJ40EdQNs",
        "outputId": "4bbe2115-0c73-4b1d-f392-f94961b80dcf"
      },
      "execution_count": 11,
      "outputs": [
        {
          "output_type": "stream",
          "name": "stdout",
          "text": [
            "Number of rows before removing duplicates: 1309\n"
          ]
        }
      ]
    },
    {
      "cell_type": "code",
      "source": [
        "# Verify the removal of duplicates by checking the number of rows before and after\n",
        "print(\"Number of rows before removing duplicates:\", len(titanic_df))"
      ],
      "metadata": {
        "colab": {
          "base_uri": "https://localhost:8080/"
        },
        "id": "2uEIelx3dZRz",
        "outputId": "63386ccb-16c1-4d59-ef7b-8a85f0877e53"
      },
      "execution_count": 12,
      "outputs": [
        {
          "output_type": "stream",
          "name": "stdout",
          "text": [
            "Number of rows before removing duplicates: 1309\n"
          ]
        }
      ]
    },
    {
      "cell_type": "markdown",
      "source": [
        "Exercise 2: Handling Missing Values"
      ],
      "metadata": {
        "id": "iouxq0IkdsPP"
      }
    },
    {
      "cell_type": "code",
      "source": [
        "# Check for missing values in the DataFrame\n",
        "missing_data = titanic_df.isnull()\n",
        "print(missing_data.head())"
      ],
      "metadata": {
        "colab": {
          "base_uri": "https://localhost:8080/"
        },
        "id": "GLu1GLRPduof",
        "outputId": "f355feea-8bf4-47f9-a166-e48145854052"
      },
      "execution_count": 13,
      "outputs": [
        {
          "output_type": "stream",
          "name": "stdout",
          "text": [
            "   Passengerid    Age   Fare    Sex  sibsp   zero  zero.1  zero.2  zero.3  \\\n",
            "0        False  False  False  False  False  False   False   False   False   \n",
            "1        False  False  False  False  False  False   False   False   False   \n",
            "2        False  False  False  False  False  False   False   False   False   \n",
            "3        False  False  False  False  False  False   False   False   False   \n",
            "4        False  False  False  False  False  False   False   False   False   \n",
            "\n",
            "   zero.4  ...  zero.12  zero.13  zero.14  Pclass  zero.15  zero.16  Embarked  \\\n",
            "0   False  ...    False    False    False   False    False    False     False   \n",
            "1   False  ...    False    False    False   False    False    False     False   \n",
            "2   False  ...    False    False    False   False    False    False     False   \n",
            "3   False  ...    False    False    False   False    False    False     False   \n",
            "4   False  ...    False    False    False   False    False    False     False   \n",
            "\n",
            "   zero.17  zero.18  2urvived  \n",
            "0    False    False     False  \n",
            "1    False    False     False  \n",
            "2    False    False     False  \n",
            "3    False    False     False  \n",
            "4    False    False     False  \n",
            "\n",
            "[5 rows x 28 columns]\n"
          ]
        }
      ]
    },
    {
      "cell_type": "code",
      "source": [
        "# Count missing values in each column\n",
        "missing_counts = titanic_df.isnull().sum()\n",
        "print(\"\\nMissing value counts in each column:\")\n",
        "print(missing_counts)"
      ],
      "metadata": {
        "colab": {
          "base_uri": "https://localhost:8080/"
        },
        "id": "mnHEIw2VeXp9",
        "outputId": "096d7efd-c697-4ce1-af9b-5fc538621eba"
      },
      "execution_count": 14,
      "outputs": [
        {
          "output_type": "stream",
          "name": "stdout",
          "text": [
            "\n",
            "Missing value counts in each column:\n",
            "Passengerid    0\n",
            "Age            0\n",
            "Fare           0\n",
            "Sex            0\n",
            "sibsp          0\n",
            "zero           0\n",
            "zero.1         0\n",
            "zero.2         0\n",
            "zero.3         0\n",
            "zero.4         0\n",
            "zero.5         0\n",
            "zero.6         0\n",
            "Parch          0\n",
            "zero.7         0\n",
            "zero.8         0\n",
            "zero.9         0\n",
            "zero.10        0\n",
            "zero.11        0\n",
            "zero.12        0\n",
            "zero.13        0\n",
            "zero.14        0\n",
            "Pclass         0\n",
            "zero.15        0\n",
            "zero.16        0\n",
            "Embarked       2\n",
            "zero.17        0\n",
            "zero.18        0\n",
            "2urvived       0\n",
            "dtype: int64\n"
          ]
        }
      ]
    },
    {
      "cell_type": "code",
      "source": [],
      "metadata": {
        "id": "lMbulS5WfoPE"
      },
      "execution_count": null,
      "outputs": []
    },
    {
      "cell_type": "code",
      "source": [
        "# # Strategy 1: Removal of rows with missing values\n",
        "# titanic_df_removed = titanic_df.dropna()\n"
      ],
      "metadata": {
        "id": "wAZfW34CebTx"
      },
      "execution_count": 21,
      "outputs": []
    },
    {
      "cell_type": "code",
      "source": [
        "# Strategy 2: Fill missing values with the mean of the column\n",
        "titanic_df_mean_filled = titanic_df.fillna(titanic_df.mean())\n"
      ],
      "metadata": {
        "id": "O2s24fgzfqHG"
      },
      "execution_count": 23,
      "outputs": []
    },
    {
      "cell_type": "code",
      "source": [
        "# Strategy 3: Filling missing values with a constant for categorical columns\n",
        "titanic_df_filled = titanic_df.fillna('Unknown')"
      ],
      "metadata": {
        "id": "ySzLZC-JiAZt"
      },
      "execution_count": 24,
      "outputs": []
    },
    {
      "cell_type": "code",
      "source": [
        "# Print the first few rows of each processed DataFrame to verify\n",
        "print(\"\\nDataFrame after removal of rows with missing values:\")\n",
        "print(titanic_df_removed.head())\n",
        "print(\"\\nDataFrame after filling missing values with the mean of the column:\")\n",
        "print(titanic_df_mean_filled.head())\n",
        "print(\"\\nDataFrame after filling missing values with a constant:\")\n",
        "print(titanic_df_filled.head())"
      ],
      "metadata": {
        "colab": {
          "base_uri": "https://localhost:8080/"
        },
        "id": "mDcspJIqjP8x",
        "outputId": "eeaee8ed-0591-459d-eec4-bc2541f8ec3e"
      },
      "execution_count": 25,
      "outputs": [
        {
          "output_type": "stream",
          "name": "stdout",
          "text": [
            "\n",
            "DataFrame after removal of rows with missing values:\n",
            "   Passengerid   Age     Fare  Sex  sibsp  zero  zero.1  zero.2  zero.3  \\\n",
            "0            1  22.0   7.2500    0      1     0       0       0       0   \n",
            "1            2  38.0  71.2833    1      1     0       0       0       0   \n",
            "2            3  26.0   7.9250    1      0     0       0       0       0   \n",
            "3            4  35.0  53.1000    1      1     0       0       0       0   \n",
            "4            5  35.0   8.0500    0      0     0       0       0       0   \n",
            "\n",
            "   zero.4  ...  zero.12  zero.13  zero.14  Pclass  zero.15  zero.16  Embarked  \\\n",
            "0       0  ...        0        0        0       3        0        0       2.0   \n",
            "1       0  ...        0        0        0       1        0        0       0.0   \n",
            "2       0  ...        0        0        0       3        0        0       2.0   \n",
            "3       0  ...        0        0        0       1        0        0       2.0   \n",
            "4       0  ...        0        0        0       3        0        0       2.0   \n",
            "\n",
            "   zero.17  zero.18  2urvived  \n",
            "0        0        0         0  \n",
            "1        0        0         1  \n",
            "2        0        0         1  \n",
            "3        0        0         1  \n",
            "4        0        0         0  \n",
            "\n",
            "[5 rows x 28 columns]\n",
            "\n",
            "DataFrame after filling missing values with the mean of the column:\n",
            "   Passengerid   Age     Fare  Sex  sibsp  zero  zero.1  zero.2  zero.3  \\\n",
            "0            1  22.0   7.2500    0      1     0       0       0       0   \n",
            "1            2  38.0  71.2833    1      1     0       0       0       0   \n",
            "2            3  26.0   7.9250    1      0     0       0       0       0   \n",
            "3            4  35.0  53.1000    1      1     0       0       0       0   \n",
            "4            5  35.0   8.0500    0      0     0       0       0       0   \n",
            "\n",
            "   zero.4  ...  zero.12  zero.13  zero.14  Pclass  zero.15  zero.16  Embarked  \\\n",
            "0       0  ...        0        0        0       3        0        0       2.0   \n",
            "1       0  ...        0        0        0       1        0        0       0.0   \n",
            "2       0  ...        0        0        0       3        0        0       2.0   \n",
            "3       0  ...        0        0        0       1        0        0       2.0   \n",
            "4       0  ...        0        0        0       3        0        0       2.0   \n",
            "\n",
            "   zero.17  zero.18  2urvived  \n",
            "0        0        0         0  \n",
            "1        0        0         1  \n",
            "2        0        0         1  \n",
            "3        0        0         1  \n",
            "4        0        0         0  \n",
            "\n",
            "[5 rows x 28 columns]\n",
            "\n",
            "DataFrame after filling missing values with a constant:\n",
            "   Passengerid   Age     Fare  Sex  sibsp  zero  zero.1  zero.2  zero.3  \\\n",
            "0            1  22.0   7.2500    0      1     0       0       0       0   \n",
            "1            2  38.0  71.2833    1      1     0       0       0       0   \n",
            "2            3  26.0   7.9250    1      0     0       0       0       0   \n",
            "3            4  35.0  53.1000    1      1     0       0       0       0   \n",
            "4            5  35.0   8.0500    0      0     0       0       0       0   \n",
            "\n",
            "   zero.4  ...  zero.12  zero.13  zero.14  Pclass  zero.15  zero.16  Embarked  \\\n",
            "0       0  ...        0        0        0       3        0        0       2.0   \n",
            "1       0  ...        0        0        0       1        0        0       0.0   \n",
            "2       0  ...        0        0        0       3        0        0       2.0   \n",
            "3       0  ...        0        0        0       1        0        0       2.0   \n",
            "4       0  ...        0        0        0       3        0        0       2.0   \n",
            "\n",
            "   zero.17  zero.18  2urvived  \n",
            "0        0        0         0  \n",
            "1        0        0         1  \n",
            "2        0        0         1  \n",
            "3        0        0         1  \n",
            "4        0        0         0  \n",
            "\n",
            "[5 rows x 28 columns]\n"
          ]
        }
      ]
    },
    {
      "cell_type": "code",
      "source": [],
      "metadata": {
        "id": "dP8QpoxsjVVf"
      },
      "execution_count": null,
      "outputs": []
    },
    {
      "cell_type": "markdown",
      "source": [
        "Exercise 3: Feature Engineering"
      ],
      "metadata": {
        "id": "393WmuFhjz__"
      }
    },
    {
      "cell_type": "code",
      "source": [
        "print(titanic_df.columns)"
      ],
      "metadata": {
        "colab": {
          "base_uri": "https://localhost:8080/"
        },
        "id": "VOM_bZBWj7HY",
        "outputId": "5f04e1af-e173-4e0c-933f-655028309fd8"
      },
      "execution_count": 26,
      "outputs": [
        {
          "output_type": "stream",
          "name": "stdout",
          "text": [
            "Index(['Passengerid', 'Age', 'Fare', 'Sex', 'sibsp', 'zero', 'zero.1',\n",
            "       'zero.2', 'zero.3', 'zero.4', 'zero.5', 'zero.6', 'Parch', 'zero.7',\n",
            "       'zero.8', 'zero.9', 'zero.10', 'zero.11', 'zero.12', 'zero.13',\n",
            "       'zero.14', 'Pclass', 'zero.15', 'zero.16', 'Embarked', 'zero.17',\n",
            "       'zero.18', '2urvived'],\n",
            "      dtype='object')\n"
          ]
        }
      ]
    },
    {
      "cell_type": "code",
      "source": [
        "# Create a new feature 'Family Size' by adding 'SibSp' and 'Parch'\n",
        "titanic_df['FamilySize'] = titanic_df['sibsp'] + titanic_df['Parch']"
      ],
      "metadata": {
        "id": "HVzqg7yQkZMf"
      },
      "execution_count": 27,
      "outputs": []
    },
    {
      "cell_type": "code",
      "source": [
        "print(titanic_df.columns)"
      ],
      "metadata": {
        "colab": {
          "base_uri": "https://localhost:8080/"
        },
        "id": "CC1kHE3okh-6",
        "outputId": "6b8e8d8d-c967-490e-a742-f2b1f21f47ad"
      },
      "execution_count": 28,
      "outputs": [
        {
          "output_type": "stream",
          "name": "stdout",
          "text": [
            "Index(['Passengerid', 'Age', 'Fare', 'Sex', 'sibsp', 'zero', 'zero.1',\n",
            "       'zero.2', 'zero.3', 'zero.4', 'zero.5', 'zero.6', 'Parch', 'zero.7',\n",
            "       'zero.8', 'zero.9', 'zero.10', 'zero.11', 'zero.12', 'zero.13',\n",
            "       'zero.14', 'Pclass', 'zero.15', 'zero.16', 'Embarked', 'zero.17',\n",
            "       'zero.18', '2urvived', 'FamilySize'],\n",
            "      dtype='object')\n"
          ]
        }
      ]
    },
    {
      "cell_type": "code",
      "source": [
        "print(titanic_df)"
      ],
      "metadata": {
        "colab": {
          "base_uri": "https://localhost:8080/"
        },
        "id": "-3Z2myQFkmZQ",
        "outputId": "bb96ab96-896b-4609-c874-c4ed69831f47"
      },
      "execution_count": 29,
      "outputs": [
        {
          "output_type": "stream",
          "name": "stdout",
          "text": [
            "      Passengerid   Age      Fare  Sex  sibsp  zero  zero.1  zero.2  zero.3  \\\n",
            "0               1  22.0    7.2500    0      1     0       0       0       0   \n",
            "1               2  38.0   71.2833    1      1     0       0       0       0   \n",
            "2               3  26.0    7.9250    1      0     0       0       0       0   \n",
            "3               4  35.0   53.1000    1      1     0       0       0       0   \n",
            "4               5  35.0    8.0500    0      0     0       0       0       0   \n",
            "...           ...   ...       ...  ...    ...   ...     ...     ...     ...   \n",
            "1304         1305  28.0    8.0500    0      0     0       0       0       0   \n",
            "1305         1306  39.0  108.9000    1      0     0       0       0       0   \n",
            "1306         1307  38.5    7.2500    0      0     0       0       0       0   \n",
            "1307         1308  28.0    8.0500    0      0     0       0       0       0   \n",
            "1308         1309  28.0   22.3583    0      1     0       0       0       0   \n",
            "\n",
            "      zero.4  ...  zero.13  zero.14  Pclass  zero.15  zero.16  Embarked  \\\n",
            "0          0  ...        0        0       3        0        0       2.0   \n",
            "1          0  ...        0        0       1        0        0       0.0   \n",
            "2          0  ...        0        0       3        0        0       2.0   \n",
            "3          0  ...        0        0       1        0        0       2.0   \n",
            "4          0  ...        0        0       3        0        0       2.0   \n",
            "...      ...  ...      ...      ...     ...      ...      ...       ...   \n",
            "1304       0  ...        0        0       3        0        0       2.0   \n",
            "1305       0  ...        0        0       1        0        0       0.0   \n",
            "1306       0  ...        0        0       3        0        0       2.0   \n",
            "1307       0  ...        0        0       3        0        0       2.0   \n",
            "1308       0  ...        0        0       3        0        0       0.0   \n",
            "\n",
            "      zero.17  zero.18  2urvived  FamilySize  \n",
            "0           0        0         0           1  \n",
            "1           0        0         1           1  \n",
            "2           0        0         1           0  \n",
            "3           0        0         1           1  \n",
            "4           0        0         0           0  \n",
            "...       ...      ...       ...         ...  \n",
            "1304        0        0         0           0  \n",
            "1305        0        0         0           0  \n",
            "1306        0        0         0           0  \n",
            "1307        0        0         0           0  \n",
            "1308        0        0         0           2  \n",
            "\n",
            "[1309 rows x 29 columns]\n"
          ]
        }
      ]
    },
    {
      "cell_type": "code",
      "source": [
        "# List of column names\n",
        "column_names = ['Passengerid', 'Age', 'Fare', 'Sex', 'sibsp', 'zero', 'Embarked', '2urvived']\n",
        "\n",
        "# Concatenate column names to generate table name\n",
        "table_name = '_'.join(column_names)\n",
        "\n",
        "# Print the generated table name\n",
        "print(\"Generated table name:\", table_name)\n"
      ],
      "metadata": {
        "colab": {
          "base_uri": "https://localhost:8080/"
        },
        "id": "ICBS9h-slE4p",
        "outputId": "942f4f55-b1c4-4ee1-986a-1ef5a745a612"
      },
      "execution_count": 36,
      "outputs": [
        {
          "output_type": "stream",
          "name": "stdout",
          "text": [
            "Generated table name: Passengerid_Age_Fare_Sex_sibsp_zero_Embarked_2urvived\n"
          ]
        }
      ]
    },
    {
      "cell_type": "code",
      "source": [
        "from sklearn.preprocessing import OneHotEncoder, LabelEncoder, StandardScaler\n",
        "\n",
        "# Convert categorical variables into numerical form\n",
        "# Label encode the 'Sex' column\n",
        "label_encoder = LabelEncoder()\n",
        "titanic_df['Sex'] = label_encoder.fit_transform(titanic_df['Sex'])\n",
        "\n",
        "# One-hot encode the 'Embarked' column\n",
        "embarked_onehot = pd.get_dummies(titanic_df['Embarked'], prefix='Embarked')\n",
        "titanic_df = pd.concat([titanic_df, embarked_onehot], axis=1)\n",
        "titanic_df.drop('Embarked', axis=1, inplace=True)"
      ],
      "metadata": {
        "id": "SpzzlxErCZeZ"
      },
      "execution_count": 37,
      "outputs": []
    },
    {
      "cell_type": "code",
      "source": [
        "# Normalize or standardize numerical features if required\n",
        "# Standardize the 'Age' and 'Fare' columns\n",
        "scaler = StandardScaler()\n",
        "titanic_df[['Age', 'Fare']] = scaler.fit_transform(titanic_df[['Age', 'Fare']])\n",
        "\n",
        "# Print the first few rows of the modified DataFrame to verify\n",
        "print(titanic_df.head())"
      ],
      "metadata": {
        "colab": {
          "base_uri": "https://localhost:8080/"
        },
        "id": "APaOUY3CDKyg",
        "outputId": "76542a70-1dd5-45c1-e684-0fcc2a992d35"
      },
      "execution_count": 38,
      "outputs": [
        {
          "output_type": "stream",
          "name": "stdout",
          "text": [
            "   Passengerid       Age      Fare  Sex  sibsp  zero  zero.1  zero.2  zero.3  \\\n",
            "0            1 -0.581628 -0.503291    0      1     0       0       0       0   \n",
            "1            2  0.658652  0.734744    1      1     0       0       0       0   \n",
            "2            3 -0.271558 -0.490240    1      0     0       0       0       0   \n",
            "3            4  0.426099  0.383183    1      1     0       0       0       0   \n",
            "4            5  0.426099 -0.487824    0      0     0       0       0       0   \n",
            "\n",
            "   zero.4  ...  Pclass  zero.15  zero.16  zero.17  zero.18  2urvived  \\\n",
            "0       0  ...       3        0        0        0        0         0   \n",
            "1       0  ...       1        0        0        0        0         1   \n",
            "2       0  ...       3        0        0        0        0         1   \n",
            "3       0  ...       1        0        0        0        0         1   \n",
            "4       0  ...       3        0        0        0        0         0   \n",
            "\n",
            "   FamilySize  Embarked_0.0  Embarked_1.0  Embarked_2.0  \n",
            "0           1             0             0             1  \n",
            "1           1             1             0             0  \n",
            "2           0             0             0             1  \n",
            "3           1             0             0             1  \n",
            "4           0             0             0             1  \n",
            "\n",
            "[5 rows x 31 columns]\n"
          ]
        }
      ]
    },
    {
      "cell_type": "markdown",
      "source": [
        "Exercise 4: Outlier Detection And Handling"
      ],
      "metadata": {
        "id": "FEzxI9S3DkLM"
      }
    },
    {
      "cell_type": "code",
      "source": [
        "# Define a function to detect outliers using IQR\n",
        "def detect_outliers_iqr(df, column):\n",
        "    Q1 = df[column].quantile(0.25)\n",
        "    Q3 = df[column].quantile(0.75)\n",
        "    IQR = Q3 - Q1\n",
        "    lower_bound = Q1 - 1.5 * IQR\n",
        "    upper_bound = Q3 + 1.5 * IQR\n",
        "    outliers = df[(df[column] < lower_bound) | (df[column] > upper_bound)]\n",
        "    return outliers\n",
        "\n",
        "# Detect outliers in the 'Fare' column using IQR\n",
        "outliers_fare = detect_outliers_iqr(titanic_df, 'Fare')\n",
        "\n",
        "# Handling outliers by capping\n",
        "titanic_df['Fare'] = titanic_df['Fare'].clip(lower=outliers_fare['Fare'].min(), upper=outliers_fare['Fare'].max())\n",
        "\n",
        "# Print the number of outliers detected and the modified DataFrame\n",
        "print(\"Number of outliers detected in 'Fare' column:\", len(outliers_fare))\n",
        "print(\"Modified DataFrame after handling outliers:\")\n",
        "print(titanic_df.head())"
      ],
      "metadata": {
        "colab": {
          "base_uri": "https://localhost:8080/"
        },
        "id": "9WpjQoKhDmiu",
        "outputId": "5f36fa17-99e2-43b6-b56c-e6c600cecc52"
      },
      "execution_count": 39,
      "outputs": [
        {
          "output_type": "stream",
          "name": "stdout",
          "text": [
            "Number of outliers detected in 'Fare' column: 171\n",
            "Modified DataFrame after handling outliers:\n",
            "   Passengerid       Age      Fare  Sex  sibsp  zero  zero.1  zero.2  zero.3  \\\n",
            "0            1 -0.581628  0.644196    0      1     0       0       0       0   \n",
            "1            2  0.658652  0.734744    1      1     0       0       0       0   \n",
            "2            3 -0.271558  0.644196    1      0     0       0       0       0   \n",
            "3            4  0.426099  0.644196    1      1     0       0       0       0   \n",
            "4            5  0.426099  0.644196    0      0     0       0       0       0   \n",
            "\n",
            "   zero.4  ...  Pclass  zero.15  zero.16  zero.17  zero.18  2urvived  \\\n",
            "0       0  ...       3        0        0        0        0         0   \n",
            "1       0  ...       1        0        0        0        0         1   \n",
            "2       0  ...       3        0        0        0        0         1   \n",
            "3       0  ...       1        0        0        0        0         1   \n",
            "4       0  ...       3        0        0        0        0         0   \n",
            "\n",
            "   FamilySize  Embarked_0.0  Embarked_1.0  Embarked_2.0  \n",
            "0           1             0             0             1  \n",
            "1           1             1             0             0  \n",
            "2           0             0             0             1  \n",
            "3           1             0             0             1  \n",
            "4           0             0             0             1  \n",
            "\n",
            "[5 rows x 31 columns]\n"
          ]
        }
      ]
    },
    {
      "cell_type": "markdown",
      "source": [
        "Exercise 5: Data Standardization And Normalization"
      ],
      "metadata": {
        "id": "FjsDyWaiHm8l"
      }
    },
    {
      "cell_type": "code",
      "source": [
        "from sklearn.preprocessing import StandardScaler, MinMaxScaler\n",
        "\n",
        "# Apply standardization to features with a wide range of values\n",
        "scaler = StandardScaler()\n",
        "titanic_df[['Age', 'Fare']] = scaler.fit_transform(titanic_df[['Age', 'Fare']])\n",
        "\n",
        "# Apply normalization to data that requires a bounded range\n",
        "min_max_scaler = MinMaxScaler()\n",
        "titanic_df[['sibsp', 'Parch']] = min_max_scaler.fit_transform(titanic_df[['sibsp', 'Parch']])\n",
        "\n",
        "# Print the first few rows of the modified DataFrame\n",
        "print(\"\\nModified DataFrame after standardization and normalization:\")\n",
        "print(titanic_df.head())"
      ],
      "metadata": {
        "colab": {
          "base_uri": "https://localhost:8080/"
        },
        "id": "ycFW2CKzHn1-",
        "outputId": "ca2f96ac-3f4d-49ee-fd1f-5212b0051e35"
      },
      "execution_count": 40,
      "outputs": [
        {
          "output_type": "stream",
          "name": "stdout",
          "text": [
            "\n",
            "Modified DataFrame after standardization and normalization:\n",
            "   Passengerid       Age      Fare  Sex  sibsp  zero  zero.1  zero.2  zero.3  \\\n",
            "0            1 -0.581628 -0.232953    0  0.125     0       0       0       0   \n",
            "1            2  0.658652 -0.111299    1  0.125     0       0       0       0   \n",
            "2            3 -0.271558 -0.232953    1  0.000     0       0       0       0   \n",
            "3            4  0.426099 -0.232953    1  0.125     0       0       0       0   \n",
            "4            5  0.426099 -0.232953    0  0.000     0       0       0       0   \n",
            "\n",
            "   zero.4  ...  Pclass  zero.15  zero.16  zero.17  zero.18  2urvived  \\\n",
            "0       0  ...       3        0        0        0        0         0   \n",
            "1       0  ...       1        0        0        0        0         1   \n",
            "2       0  ...       3        0        0        0        0         1   \n",
            "3       0  ...       1        0        0        0        0         1   \n",
            "4       0  ...       3        0        0        0        0         0   \n",
            "\n",
            "   FamilySize  Embarked_0.0  Embarked_1.0  Embarked_2.0  \n",
            "0           1             0             0             1  \n",
            "1           1             1             0             0  \n",
            "2           0             0             0             1  \n",
            "3           1             0             0             1  \n",
            "4           0             0             0             1  \n",
            "\n",
            "[5 rows x 31 columns]\n"
          ]
        }
      ]
    },
    {
      "cell_type": "markdown",
      "source": [
        "Exercise 6: Feature Encoding"
      ],
      "metadata": {
        "id": "jMb3JrbbNM9O"
      }
    },
    {
      "cell_type": "code",
      "source": [
        "print(titanic_df.columns)"
      ],
      "metadata": {
        "colab": {
          "base_uri": "https://localhost:8080/"
        },
        "id": "vD5r6-0NRS4o",
        "outputId": "cdc67909-5685-4569-b3dd-ac071b830874"
      },
      "execution_count": 42,
      "outputs": [
        {
          "output_type": "stream",
          "name": "stdout",
          "text": [
            "Index(['Passengerid', 'Age', 'Fare', 'Sex', 'sibsp', 'zero', 'zero.1',\n",
            "       'zero.2', 'zero.3', 'zero.4', 'zero.5', 'zero.6', 'Parch', 'zero.7',\n",
            "       'zero.8', 'zero.9', 'zero.10', 'zero.11', 'zero.12', 'zero.13',\n",
            "       'zero.14', 'Pclass', 'zero.15', 'zero.16', 'zero.17', 'zero.18',\n",
            "       '2urvived', 'FamilySize', 'Embarked_0.0', 'Embarked_1.0',\n",
            "       'Embarked_2.0'],\n",
            "      dtype='object')\n"
          ]
        }
      ]
    },
    {
      "cell_type": "code",
      "source": [
        "from sklearn.preprocessing import LabelEncoder\n",
        "\n",
        "# Identify categorical columns\n",
        "categorical_columns = ['Sex', 'Embarked_0.0']\n",
        "\n",
        "# One-hot encoding for nominal variables\n",
        "encoded_features = pd.get_dummies(titanic_df[categorical_columns], drop_first=True)\n",
        "# Integration of encoded features back into the main dataset\n",
        "titanic_df = pd.concat([titanic_df, encoded_features], axis=1)\n",
        "\n",
        "# Drop the original categorical columns\n",
        "titanic_df.drop(categorical_columns, axis=1, inplace=True)\n",
        "\n",
        "# Print the first few rows of the modified DataFrame\n",
        "print(titanic_df.head())"
      ],
      "metadata": {
        "colab": {
          "base_uri": "https://localhost:8080/"
        },
        "id": "lZzH6m4VNPBq",
        "outputId": "add73ceb-9213-411f-9f09-3c23450f9af3"
      },
      "execution_count": 47,
      "outputs": [
        {
          "output_type": "stream",
          "name": "stdout",
          "text": [
            "   Passengerid       Age      Fare  sibsp  zero  zero.1  zero.2  zero.3  \\\n",
            "0            1 -0.581628 -0.232953  0.125     0       0       0       0   \n",
            "1            2  0.658652 -0.111299  0.125     0       0       0       0   \n",
            "2            3 -0.271558 -0.232953  0.000     0       0       0       0   \n",
            "3            4  0.426099 -0.232953  0.125     0       0       0       0   \n",
            "4            5  0.426099 -0.232953  0.000     0       0       0       0   \n",
            "\n",
            "   zero.4  zero.5  ...  zero.14  Pclass  zero.15  zero.16  zero.17  zero.18  \\\n",
            "0       0       0  ...        0       3        0        0        0        0   \n",
            "1       0       0  ...        0       1        0        0        0        0   \n",
            "2       0       0  ...        0       3        0        0        0        0   \n",
            "3       0       0  ...        0       1        0        0        0        0   \n",
            "4       0       0  ...        0       3        0        0        0        0   \n",
            "\n",
            "   2urvived  FamilySize  Embarked_1.0  Embarked_2.0  \n",
            "0         0           1             0             1  \n",
            "1         1           1             0             0  \n",
            "2         1           0             0             1  \n",
            "3         1           1             0             1  \n",
            "4         0           0             0             1  \n",
            "\n",
            "[5 rows x 29 columns]\n"
          ]
        }
      ]
    },
    {
      "cell_type": "code",
      "source": [
        "# Load the Titanic dataset\n",
        "titanic_df = pd.read_csv(\"train_and_test2.csv\")\n",
        "\n",
        "# Integration of encoded features back into the main dataset\n",
        "titanic_df = pd.concat([titanic_df, encoded_features], axis=1)\n",
        "\n",
        "# Drop the original categorical columns\n",
        "titanic_df.drop(categorical_columns, axis=1, inplace=True)\n",
        "\n",
        "# Print the first few rows of the modified DataFrame\n",
        "print(titanic_df.head())"
      ],
      "metadata": {
        "colab": {
          "base_uri": "https://localhost:8080/"
        },
        "id": "C8kgFq0CR9bk",
        "outputId": "2e0eb579-cb23-4ff3-bba2-62eb038df02a"
      },
      "execution_count": 50,
      "outputs": [
        {
          "output_type": "stream",
          "name": "stdout",
          "text": [
            "   Passengerid   Age     Fare  sibsp  zero  zero.1  zero.2  zero.3  zero.4  \\\n",
            "0            1  22.0   7.2500      1     0       0       0       0       0   \n",
            "1            2  38.0  71.2833      1     0       0       0       0       0   \n",
            "2            3  26.0   7.9250      0     0       0       0       0       0   \n",
            "3            4  35.0  53.1000      1     0       0       0       0       0   \n",
            "4            5  35.0   8.0500      0     0       0       0       0       0   \n",
            "\n",
            "   zero.5  ...  zero.12  zero.13  zero.14  Pclass  zero.15  zero.16  Embarked  \\\n",
            "0       0  ...        0        0        0       3        0        0       2.0   \n",
            "1       0  ...        0        0        0       1        0        0       0.0   \n",
            "2       0  ...        0        0        0       3        0        0       2.0   \n",
            "3       0  ...        0        0        0       1        0        0       2.0   \n",
            "4       0  ...        0        0        0       3        0        0       2.0   \n",
            "\n",
            "   zero.17  zero.18  2urvived  \n",
            "0        0        0         0  \n",
            "1        0        0         1  \n",
            "2        0        0         1  \n",
            "3        0        0         1  \n",
            "4        0        0         0  \n",
            "\n",
            "[5 rows x 27 columns]\n"
          ]
        }
      ]
    },
    {
      "cell_type": "code",
      "source": [
        "# Create age groups (bins) using pd.cut()\n",
        "# Define the intervals for age groups\n",
        "age_bins = [0, 18, 30, 40, 50, 60, 100]  # Define age intervals for age groups\n",
        "\n",
        "# Define labels for the age groups\n",
        "age_labels = ['0-18', '19-30', '31-40', '41-50', '51-60', '61-100']\n",
        "\n",
        "# Create a new column 'Age_Group' with age groups\n",
        "titanic_df['Age_Group'] = pd.cut(titanic_df['Age'], bins=age_bins, labels=age_labels)\n",
        "\n",
        "# Apply one-hot encoding to the age groups\n",
        "age_groups_encoded = pd.get_dummies(titanic_df['Age_Group'], prefix='Age')\n",
        "\n",
        "# Concatenate the encoded age groups with the original DataFrame\n",
        "titanic_df = pd.concat([titanic_df, age_groups_encoded], axis=1)\n",
        "\n",
        "# Print the first few rows of the modified DataFrame\n",
        "print(titanic_df.head())"
      ],
      "metadata": {
        "colab": {
          "base_uri": "https://localhost:8080/"
        },
        "id": "ior-IpFpSl8G",
        "outputId": "1d085cf3-ff85-4a6b-9b19-1495caf20a52"
      },
      "execution_count": 51,
      "outputs": [
        {
          "output_type": "stream",
          "name": "stdout",
          "text": [
            "   Passengerid   Age     Fare  sibsp  zero  zero.1  zero.2  zero.3  zero.4  \\\n",
            "0            1  22.0   7.2500      1     0       0       0       0       0   \n",
            "1            2  38.0  71.2833      1     0       0       0       0       0   \n",
            "2            3  26.0   7.9250      0     0       0       0       0       0   \n",
            "3            4  35.0  53.1000      1     0       0       0       0       0   \n",
            "4            5  35.0   8.0500      0     0       0       0       0       0   \n",
            "\n",
            "   zero.5  ...  zero.17  zero.18  2urvived  Age_Group  Age_0-18  Age_19-30  \\\n",
            "0       0  ...        0        0         0      19-30         0          1   \n",
            "1       0  ...        0        0         1      31-40         0          0   \n",
            "2       0  ...        0        0         1      19-30         0          1   \n",
            "3       0  ...        0        0         1      31-40         0          0   \n",
            "4       0  ...        0        0         0      31-40         0          0   \n",
            "\n",
            "   Age_31-40  Age_41-50  Age_51-60  Age_61-100  \n",
            "0          0          0          0           0  \n",
            "1          1          0          0           0  \n",
            "2          0          0          0           0  \n",
            "3          1          0          0           0  \n",
            "4          1          0          0           0  \n",
            "\n",
            "[5 rows x 34 columns]\n"
          ]
        }
      ]
    }
  ]
}
