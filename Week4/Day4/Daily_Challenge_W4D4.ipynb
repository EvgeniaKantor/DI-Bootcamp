{
  "nbformat": 4,
  "nbformat_minor": 0,
  "metadata": {
    "colab": {
      "provenance": [],
      "authorship_tag": "ABX9TyNNpxtzqLiJ6e8W3hHsaCkl",
      "include_colab_link": true
    },
    "kernelspec": {
      "name": "python3",
      "display_name": "Python 3"
    },
    "language_info": {
      "name": "python"
    }
  },
  "cells": [
    {
      "cell_type": "markdown",
      "metadata": {
        "id": "view-in-github",
        "colab_type": "text"
      },
      "source": [
        "<a href=\"https://colab.research.google.com/github/EvgeniaKantor/DI-Bootcamp/blob/main/Dayly_Challenge_W4D4.ipynb\" target=\"_parent\"><img src=\"https://colab.research.google.com/assets/colab-badge.svg\" alt=\"Open In Colab\"/></a>"
      ]
    },
    {
      "cell_type": "code",
      "execution_count": 1,
      "metadata": {
        "colab": {
          "base_uri": "https://localhost:8080/",
          "height": 125
        },
        "id": "oLp_fVmkUDwi",
        "outputId": "42a70c7c-b709-4ea9-bbf2-996f6924c55e"
      },
      "outputs": [
        {
          "output_type": "display_data",
          "data": {
            "text/plain": [
              "<IPython.core.display.HTML object>"
            ],
            "text/html": [
              "\n",
              "     <input type=\"file\" id=\"files-364b8a49-8b9b-4d7c-a04e-0364fbdc39f1\" name=\"files[]\" multiple disabled\n",
              "        style=\"border:none\" />\n",
              "     <output id=\"result-364b8a49-8b9b-4d7c-a04e-0364fbdc39f1\">\n",
              "      Upload widget is only available when the cell has been executed in the\n",
              "      current browser session. Please rerun this cell to enable.\n",
              "      </output>\n",
              "      <script>// Copyright 2017 Google LLC\n",
              "//\n",
              "// Licensed under the Apache License, Version 2.0 (the \"License\");\n",
              "// you may not use this file except in compliance with the License.\n",
              "// You may obtain a copy of the License at\n",
              "//\n",
              "//      http://www.apache.org/licenses/LICENSE-2.0\n",
              "//\n",
              "// Unless required by applicable law or agreed to in writing, software\n",
              "// distributed under the License is distributed on an \"AS IS\" BASIS,\n",
              "// WITHOUT WARRANTIES OR CONDITIONS OF ANY KIND, either express or implied.\n",
              "// See the License for the specific language governing permissions and\n",
              "// limitations under the License.\n",
              "\n",
              "/**\n",
              " * @fileoverview Helpers for google.colab Python module.\n",
              " */\n",
              "(function(scope) {\n",
              "function span(text, styleAttributes = {}) {\n",
              "  const element = document.createElement('span');\n",
              "  element.textContent = text;\n",
              "  for (const key of Object.keys(styleAttributes)) {\n",
              "    element.style[key] = styleAttributes[key];\n",
              "  }\n",
              "  return element;\n",
              "}\n",
              "\n",
              "// Max number of bytes which will be uploaded at a time.\n",
              "const MAX_PAYLOAD_SIZE = 100 * 1024;\n",
              "\n",
              "function _uploadFiles(inputId, outputId) {\n",
              "  const steps = uploadFilesStep(inputId, outputId);\n",
              "  const outputElement = document.getElementById(outputId);\n",
              "  // Cache steps on the outputElement to make it available for the next call\n",
              "  // to uploadFilesContinue from Python.\n",
              "  outputElement.steps = steps;\n",
              "\n",
              "  return _uploadFilesContinue(outputId);\n",
              "}\n",
              "\n",
              "// This is roughly an async generator (not supported in the browser yet),\n",
              "// where there are multiple asynchronous steps and the Python side is going\n",
              "// to poll for completion of each step.\n",
              "// This uses a Promise to block the python side on completion of each step,\n",
              "// then passes the result of the previous step as the input to the next step.\n",
              "function _uploadFilesContinue(outputId) {\n",
              "  const outputElement = document.getElementById(outputId);\n",
              "  const steps = outputElement.steps;\n",
              "\n",
              "  const next = steps.next(outputElement.lastPromiseValue);\n",
              "  return Promise.resolve(next.value.promise).then((value) => {\n",
              "    // Cache the last promise value to make it available to the next\n",
              "    // step of the generator.\n",
              "    outputElement.lastPromiseValue = value;\n",
              "    return next.value.response;\n",
              "  });\n",
              "}\n",
              "\n",
              "/**\n",
              " * Generator function which is called between each async step of the upload\n",
              " * process.\n",
              " * @param {string} inputId Element ID of the input file picker element.\n",
              " * @param {string} outputId Element ID of the output display.\n",
              " * @return {!Iterable<!Object>} Iterable of next steps.\n",
              " */\n",
              "function* uploadFilesStep(inputId, outputId) {\n",
              "  const inputElement = document.getElementById(inputId);\n",
              "  inputElement.disabled = false;\n",
              "\n",
              "  const outputElement = document.getElementById(outputId);\n",
              "  outputElement.innerHTML = '';\n",
              "\n",
              "  const pickedPromise = new Promise((resolve) => {\n",
              "    inputElement.addEventListener('change', (e) => {\n",
              "      resolve(e.target.files);\n",
              "    });\n",
              "  });\n",
              "\n",
              "  const cancel = document.createElement('button');\n",
              "  inputElement.parentElement.appendChild(cancel);\n",
              "  cancel.textContent = 'Cancel upload';\n",
              "  const cancelPromise = new Promise((resolve) => {\n",
              "    cancel.onclick = () => {\n",
              "      resolve(null);\n",
              "    };\n",
              "  });\n",
              "\n",
              "  // Wait for the user to pick the files.\n",
              "  const files = yield {\n",
              "    promise: Promise.race([pickedPromise, cancelPromise]),\n",
              "    response: {\n",
              "      action: 'starting',\n",
              "    }\n",
              "  };\n",
              "\n",
              "  cancel.remove();\n",
              "\n",
              "  // Disable the input element since further picks are not allowed.\n",
              "  inputElement.disabled = true;\n",
              "\n",
              "  if (!files) {\n",
              "    return {\n",
              "      response: {\n",
              "        action: 'complete',\n",
              "      }\n",
              "    };\n",
              "  }\n",
              "\n",
              "  for (const file of files) {\n",
              "    const li = document.createElement('li');\n",
              "    li.append(span(file.name, {fontWeight: 'bold'}));\n",
              "    li.append(span(\n",
              "        `(${file.type || 'n/a'}) - ${file.size} bytes, ` +\n",
              "        `last modified: ${\n",
              "            file.lastModifiedDate ? file.lastModifiedDate.toLocaleDateString() :\n",
              "                                    'n/a'} - `));\n",
              "    const percent = span('0% done');\n",
              "    li.appendChild(percent);\n",
              "\n",
              "    outputElement.appendChild(li);\n",
              "\n",
              "    const fileDataPromise = new Promise((resolve) => {\n",
              "      const reader = new FileReader();\n",
              "      reader.onload = (e) => {\n",
              "        resolve(e.target.result);\n",
              "      };\n",
              "      reader.readAsArrayBuffer(file);\n",
              "    });\n",
              "    // Wait for the data to be ready.\n",
              "    let fileData = yield {\n",
              "      promise: fileDataPromise,\n",
              "      response: {\n",
              "        action: 'continue',\n",
              "      }\n",
              "    };\n",
              "\n",
              "    // Use a chunked sending to avoid message size limits. See b/62115660.\n",
              "    let position = 0;\n",
              "    do {\n",
              "      const length = Math.min(fileData.byteLength - position, MAX_PAYLOAD_SIZE);\n",
              "      const chunk = new Uint8Array(fileData, position, length);\n",
              "      position += length;\n",
              "\n",
              "      const base64 = btoa(String.fromCharCode.apply(null, chunk));\n",
              "      yield {\n",
              "        response: {\n",
              "          action: 'append',\n",
              "          file: file.name,\n",
              "          data: base64,\n",
              "        },\n",
              "      };\n",
              "\n",
              "      let percentDone = fileData.byteLength === 0 ?\n",
              "          100 :\n",
              "          Math.round((position / fileData.byteLength) * 100);\n",
              "      percent.textContent = `${percentDone}% done`;\n",
              "\n",
              "    } while (position < fileData.byteLength);\n",
              "  }\n",
              "\n",
              "  // All done.\n",
              "  yield {\n",
              "    response: {\n",
              "      action: 'complete',\n",
              "    }\n",
              "  };\n",
              "}\n",
              "\n",
              "scope.google = scope.google || {};\n",
              "scope.google.colab = scope.google.colab || {};\n",
              "scope.google.colab._files = {\n",
              "  _uploadFiles,\n",
              "  _uploadFilesContinue,\n",
              "};\n",
              "})(self);\n",
              "</script> "
            ]
          },
          "metadata": {}
        },
        {
          "output_type": "stream",
          "name": "stdout",
          "text": [
            "Saving kaggle.json to kaggle.json\n",
            "Downloading data-science-job-salary.zip to /content\n",
            "  0% 0.00/9.97k [00:00<?, ?B/s]\n",
            "100% 9.97k/9.97k [00:00<00:00, 14.1MB/s]\n"
          ]
        }
      ],
      "source": [
        "from google.colab import files\n",
        "uploaded = files.upload()\n",
        "# Make directory named kaggle and copy kaggle.json file there\n",
        "!mkdir ~/.kaggle\n",
        "!cp kaggle.json ~/.kaggle/\n",
        "\n",
        "# Change the permissions of the file\n",
        "!chmod 600 ~/.kaggle/kaggle.json\n",
        "\n",
        "!kaggle datasets download -d milanvaddoriya/data-science-job-salary"
      ]
    },
    {
      "cell_type": "code",
      "source": [
        "!unzip data-science-job-salary.zip"
      ],
      "metadata": {
        "colab": {
          "base_uri": "https://localhost:8080/"
        },
        "id": "ZQ3Vh9nvUVDk",
        "outputId": "8a0cbf37-fb3b-4045-da0f-0a0b3b9134d2"
      },
      "execution_count": 3,
      "outputs": [
        {
          "output_type": "stream",
          "name": "stdout",
          "text": [
            "Archive:  data-science-job-salary.zip\n",
            "replace datascience_salaries.csv? [y]es, [n]o, [A]ll, [N]one, [r]ename: "
          ]
        }
      ]
    },
    {
      "cell_type": "code",
      "source": [
        "import pandas as pd\n",
        "data = pd.read_csv('datascience_salaries.csv')\n",
        "print(data.head())\n",
        "print('\\n Names of colums: \\n', data.columns)"
      ],
      "metadata": {
        "colab": {
          "base_uri": "https://localhost:8080/"
        },
        "id": "W83xkxIJUg1z",
        "outputId": "08b16eea-f0b6-4052-a3bc-09eb9eb7e388"
      },
      "execution_count": 20,
      "outputs": [
        {
          "output_type": "stream",
          "name": "stdout",
          "text": [
            "   Unnamed: 0       job_title   job_type experience_level       location  \\\n",
            "0           0  Data scientist  Full Time           Senior  New York City   \n",
            "1           2  Data scientist  Full Time           Senior         Boston   \n",
            "2           3  Data scientist  Full Time           Senior         London   \n",
            "3           4  Data scientist  Full Time           Senior         Boston   \n",
            "4           5  Data scientist  Full Time           Senior  New York City   \n",
            "\n",
            "  salary_currency  salary  \n",
            "0             USD  149000  \n",
            "1             USD  120000  \n",
            "2             USD   68000  \n",
            "3             USD  120000  \n",
            "4             USD  149000  \n",
            "\n",
            " Names of colums: \n",
            " Index(['Unnamed: 0', 'job_title', 'job_type', 'experience_level', 'location',\n",
            "       'salary_currency', 'salary'],\n",
            "      dtype='object')\n"
          ]
        }
      ]
    },
    {
      "cell_type": "code",
      "source": [
        "from sklearn.preprocessing import MinMaxScaler\n",
        "# Step 2: Normalize the 'salary' column using Min-Max normalization\n",
        "scaler = MinMaxScaler()\n",
        "data['normalized_salary'] = scaler.fit_transform(data[['salary']])\n"
      ],
      "metadata": {
        "id": "ZFQPX2mCWNw7"
      },
      "execution_count": 21,
      "outputs": []
    },
    {
      "cell_type": "code",
      "source": [
        "print(data.head())"
      ],
      "metadata": {
        "colab": {
          "base_uri": "https://localhost:8080/"
        },
        "id": "TSvD9OTBWi8W",
        "outputId": "5c7c53c8-4ddf-4a51-c098-02578389f367"
      },
      "execution_count": 22,
      "outputs": [
        {
          "output_type": "stream",
          "name": "stdout",
          "text": [
            "   Unnamed: 0       job_title   job_type experience_level       location  \\\n",
            "0           0  Data scientist  Full Time           Senior  New York City   \n",
            "1           2  Data scientist  Full Time           Senior         Boston   \n",
            "2           3  Data scientist  Full Time           Senior         London   \n",
            "3           4  Data scientist  Full Time           Senior         Boston   \n",
            "4           5  Data scientist  Full Time           Senior  New York City   \n",
            "\n",
            "  salary_currency  salary  normalized_salary  \n",
            "0             USD  149000           0.601010  \n",
            "1             USD  120000           0.454545  \n",
            "2             USD   68000           0.191919  \n",
            "3             USD  120000           0.454545  \n",
            "4             USD  149000           0.601010  \n"
          ]
        }
      ]
    },
    {
      "cell_type": "code",
      "source": [
        "import pandas as pd\n",
        "from sklearn.preprocessing import OneHotEncoder, MinMaxScaler\n",
        "from sklearn.decomposition import PCA\n",
        "\n",
        "# Load the data\n",
        "data = pd.read_csv('datascience_salaries.csv')\n",
        "\n",
        "# Drop unnecessary columns\n",
        "data.drop(['Unnamed: 0', 'job_type'], axis=1, inplace=True)\n",
        "\n",
        "# Convert categorical variables to numerical form using one-hot encoding\n",
        "categorical_columns = ['job_title', 'experience_level', 'location', 'salary_currency']\n",
        "data_encoded = pd.get_dummies(data, columns=categorical_columns, drop_first=True)\n",
        "\n",
        "# Normalize the 'salary' column using Min-Max normalization\n",
        "scaler = MinMaxScaler()\n",
        "data_encoded['normalized_salary'] = scaler.fit_transform(data_encoded[['salary']])\n",
        "\n",
        "# Perform dimensionality reduction using PCA\n",
        "pca = PCA(n_components=2)\n",
        "data_pca = pca.fit_transform(data_encoded.drop(['salary', 'normalized_salary'], axis=1))\n",
        "data_encoded['PCA_1'] = data_pca[:, 0]\n",
        "data_encoded['PCA_2'] = data_pca[:, 1]\n",
        "\n",
        "# Print the modified DataFrame\n",
        "print(data_encoded.head())"
      ],
      "metadata": {
        "colab": {
          "base_uri": "https://localhost:8080/"
        },
        "id": "LzE19A1bXNzj",
        "outputId": "5100b123-aa73-4b0c-b929-480d53705df5"
      },
      "execution_count": 28,
      "outputs": [
        {
          "output_type": "stream",
          "name": "stdout",
          "text": [
            "   salary  job_title_Data analyst  job_title_Data scientist  job_title_ML Ops  \\\n",
            "0  149000                       0                         1                 0   \n",
            "1  120000                       0                         1                 0   \n",
            "2   68000                       0                         1                 0   \n",
            "3  120000                       0                         1                 0   \n",
            "4  149000                       0                         1                 0   \n",
            "\n",
            "   job_title_Machine learning  experience_level_Executive  \\\n",
            "0                           0                           0   \n",
            "1                           0                           0   \n",
            "2                           0                           0   \n",
            "3                           0                           0   \n",
            "4                           0                           0   \n",
            "\n",
            "   experience_level_Mid  experience_level_Senior  location_Aberdeen  \\\n",
            "0                     0                        1                  0   \n",
            "1                     0                        1                  0   \n",
            "2                     0                        1                  0   \n",
            "3                     0                        1                  0   \n",
            "4                     0                        1                  0   \n",
            "\n",
            "   location_Abu Dhabi  ...  location_Wrocław  location_Zurich  \\\n",
            "0                   0  ...                 0                0   \n",
            "1                   0  ...                 0                0   \n",
            "2                   0  ...                 0                0   \n",
            "3                   0  ...                 0                0   \n",
            "4                   0  ...                 0                0   \n",
            "\n",
            "   location_tel aviv  location_České Budějovice  location_İstanbul  \\\n",
            "0                  0                          0                  0   \n",
            "1                  0                          0                  0   \n",
            "2                  0                          0                  0   \n",
            "3                  0                          0                  0   \n",
            "4                  0                          0                  0   \n",
            "\n",
            "   salary_currency_GBP  salary_currency_USD  normalized_salary     PCA_1  \\\n",
            "0                    0                    1           0.601010 -0.610654   \n",
            "1                    0                    1           0.454545 -0.613918   \n",
            "2                    0                    1           0.191919 -0.589755   \n",
            "3                    0                    1           0.454545 -0.613918   \n",
            "4                    0                    1           0.601010 -0.610654   \n",
            "\n",
            "      PCA_2  \n",
            "0  0.580916  \n",
            "1  0.590158  \n",
            "2  0.588882  \n",
            "3  0.590158  \n",
            "4  0.580916  \n",
            "\n",
            "[5 rows x 332 columns]\n"
          ]
        }
      ]
    },
    {
      "cell_type": "code",
      "source": [
        "# Load the data\n",
        "data = pd.read_csv('datascience_salaries.csv')\n",
        "\n",
        "# Group the data by 'experience_level' and calculate average and median salaries\n",
        "aggregated_data = data.groupby('experience_level')['salary'].agg(['mean', 'median'])\n",
        "\n",
        "# Print the aggregated data\n",
        "print(aggregated_data)"
      ],
      "metadata": {
        "colab": {
          "base_uri": "https://localhost:8080/"
        },
        "id": "T3Dj0rX-a0x0",
        "outputId": "39c924fd-beb5-4cde-80ca-607f84b36f64"
      },
      "execution_count": 29,
      "outputs": [
        {
          "output_type": "stream",
          "name": "stdout",
          "text": [
            "                          mean   median\n",
            "experience_level                       \n",
            "Entry             36111.111111  30000.0\n",
            "Executive         76076.923077  46000.0\n",
            "Mid               51786.885246  51000.0\n",
            "Senior            75088.033012  68000.0\n"
          ]
        }
      ]
    }
  ]
}
