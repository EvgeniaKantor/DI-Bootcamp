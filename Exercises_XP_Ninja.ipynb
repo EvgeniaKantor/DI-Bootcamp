{
  "nbformat": 4,
  "nbformat_minor": 0,
  "metadata": {
    "colab": {
      "provenance": [],
      "authorship_tag": "ABX9TyNmbJ6eQbajDefvzizqJSI4",
      "include_colab_link": true
    },
    "kernelspec": {
      "name": "python3",
      "display_name": "Python 3"
    },
    "language_info": {
      "name": "python"
    }
  },
  "cells": [
    {
      "cell_type": "markdown",
      "metadata": {
        "id": "view-in-github",
        "colab_type": "text"
      },
      "source": [
        "<a href=\"https://colab.research.google.com/github/EvgeniaKantor/DI-Bootcamp/blob/main/Exercises_XP_Ninja.ipynb\" target=\"_parent\"><img src=\"https://colab.research.google.com/assets/colab-badge.svg\" alt=\"Open In Colab\"/></a>"
      ]
    },
    {
      "cell_type": "markdown",
      "source": [
        "# Exercises XP Ninja\n",
        "## Exercise 1: Formula"
      ],
      "metadata": {
        "id": "UfeVWanehcJH"
      }
    },
    {
      "cell_type": "code",
      "source": [
        "C = 50\n",
        "H = 30"
      ],
      "metadata": {
        "id": "zlc3rFmxgLfv"
      },
      "execution_count": 12,
      "outputs": []
    },
    {
      "cell_type": "code",
      "source": [
        "D = input(\"Enter D: \")"
      ],
      "metadata": {
        "colab": {
          "base_uri": "https://localhost:8080/"
        },
        "id": "caS81F1ygQ6y",
        "outputId": "1c6a741a-5e90-4426-fd55-350495d77a1b"
      },
      "execution_count": 13,
      "outputs": [
        {
          "name": "stdout",
          "output_type": "stream",
          "text": [
            "Enter D: 120\n"
          ]
        }
      ]
    },
    {
      "cell_type": "code",
      "source": [
        "# Convert D to an integer before the calculation\n",
        "D = int(D)"
      ],
      "metadata": {
        "id": "fZ8dnrnBhDIR"
      },
      "execution_count": 15,
      "outputs": []
    },
    {
      "cell_type": "code",
      "source": [
        "Q = ((2 * C * D)/H) ** 0.5\n",
        "Q = int(Q)\n",
        "Q"
      ],
      "metadata": {
        "colab": {
          "base_uri": "https://localhost:8080/"
        },
        "id": "mr6NRfunf8qu",
        "outputId": "8ec784f7-5aa1-4d6d-bcc4-8c2738b0bf12"
      },
      "execution_count": 20,
      "outputs": [
        {
          "output_type": "execute_result",
          "data": {
            "text/plain": [
              "20"
            ]
          },
          "metadata": {},
          "execution_count": 20
        }
      ]
    },
    {
      "cell_type": "code",
      "source": [
        "# Function to calculate Q for a given D\n",
        "def calculate_q(D):\n",
        "    return round(((2 * C * D) / H) ** 0.5) #The final result of the square root calculation is rounded to the nearest integer using the round() function\n",
        "\n",
        "# Ask the user for a comma-separated string of numbers\n",
        "input_string = input(\"Enter comma-separated values for D: \")\n",
        "\n",
        "# Split the input string into a list of strings\n",
        "D_values = input_string.split(',')\n",
        "\n",
        "# Initialize an empty list to store Q values\n",
        "Q_values = []\n",
        "\n",
        "# Loop through each value in the list of D values\n",
        "for d in D_values:\n",
        "    # Convert the string to an integer\n",
        "    D = int(d)\n",
        "    # Calculate Q using the function\n",
        "    Q = calculate_q(D)\n",
        "    # Append the result to the Q_values list\n",
        "    Q_values.append(Q)\n",
        "\n",
        "# Convert Q values to strings and join them with commas\n",
        "output_string = ','.join(map(str, Q_values))\n",
        "\n",
        "# Print the result\n",
        "print(output_string)"
      ],
      "metadata": {
        "colab": {
          "base_uri": "https://localhost:8080/"
        },
        "id": "0ErQMTj6i8Nu",
        "outputId": "619c9340-0286-4d07-c3e5-3e43d58840c6"
      },
      "execution_count": 21,
      "outputs": [
        {
          "output_type": "stream",
          "name": "stdout",
          "text": [
            "Enter comma-separated values for D: 100,150,180\n",
            "18,22,24\n"
          ]
        }
      ]
    },
    {
      "cell_type": "markdown",
      "source": [
        "## Exercise 2 : List Of Integers"
      ],
      "metadata": {
        "id": "xWCDnaslmYvx"
      }
    },
    {
      "cell_type": "code",
      "source": [
        "my_list = [3, 47, 99, -80, 22, 97, 54, -23, 5, 7]\n",
        "my_list"
      ],
      "metadata": {
        "colab": {
          "base_uri": "https://localhost:8080/"
        },
        "id": "ry4PlOU2mcM9",
        "outputId": "01c8445f-938a-46ce-edea-faeefda92b7d"
      },
      "execution_count": 40,
      "outputs": [
        {
          "output_type": "execute_result",
          "data": {
            "text/plain": [
              "[3, 47, 99, -80, 22, 97, 54, -23, 5, 7]"
            ]
          },
          "metadata": {},
          "execution_count": 40
        }
      ]
    },
    {
      "cell_type": "code",
      "source": [
        "# The list of numbers – sorted in descending order (largest to smallest)\n",
        "my_list.sort()\n",
        "my_list.reverse()\n",
        "my_list"
      ],
      "metadata": {
        "colab": {
          "base_uri": "https://localhost:8080/"
        },
        "id": "7xZZ2hz2miAp",
        "outputId": "92175010-197f-4533-dfd6-fd0a57f3bff4"
      },
      "execution_count": 41,
      "outputs": [
        {
          "output_type": "execute_result",
          "data": {
            "text/plain": [
              "[99, 97, 54, 47, 22, 7, 5, 3, -23, -80]"
            ]
          },
          "metadata": {},
          "execution_count": 41
        }
      ]
    },
    {
      "cell_type": "code",
      "source": [
        "# The sum of all the numbers\n",
        "sum1 = sum(my_list)\n",
        "sum1"
      ],
      "metadata": {
        "colab": {
          "base_uri": "https://localhost:8080/"
        },
        "id": "2BsUR5PZnrtt",
        "outputId": "c9839a6f-aba5-4830-9e57-32a446db2265"
      },
      "execution_count": 42,
      "outputs": [
        {
          "output_type": "execute_result",
          "data": {
            "text/plain": [
              "231"
            ]
          },
          "metadata": {},
          "execution_count": 42
        }
      ]
    },
    {
      "cell_type": "code",
      "source": [
        "# A list containing the first and the last numbers\n",
        "first_last = [my_list[0], my_list[-1]]\n",
        "first_last"
      ],
      "metadata": {
        "colab": {
          "base_uri": "https://localhost:8080/"
        },
        "id": "b6-Udttfn0rm",
        "outputId": "dbe07486-bf38-4ad6-9ff4-f7b8e0d51810"
      },
      "execution_count": 43,
      "outputs": [
        {
          "output_type": "execute_result",
          "data": {
            "text/plain": [
              "[99, -80]"
            ]
          },
          "metadata": {},
          "execution_count": 43
        }
      ]
    },
    {
      "cell_type": "code",
      "source": [
        "# A list of all the numbers greater than 50\n",
        "new_list = []\n",
        "for numbers in my_list:\n",
        "  if numbers > 50:\n",
        "    new_list.append(numbers)\n",
        "new_list"
      ],
      "metadata": {
        "colab": {
          "base_uri": "https://localhost:8080/"
        },
        "id": "RYYcM4kzo8ZB",
        "outputId": "a7a6baa1-e4b8-463a-8bd7-ca161eb3fa5e"
      },
      "execution_count": 44,
      "outputs": [
        {
          "output_type": "execute_result",
          "data": {
            "text/plain": [
              "[99, 97, 54]"
            ]
          },
          "metadata": {},
          "execution_count": 44
        }
      ]
    },
    {
      "cell_type": "code",
      "source": [
        "# A list of all the numbers smaller than 10\n",
        "new_list = []\n",
        "for numbers in my_list:\n",
        "  if numbers < 10:\n",
        "    new_list.append(numbers)\n",
        "new_list"
      ],
      "metadata": {
        "colab": {
          "base_uri": "https://localhost:8080/"
        },
        "id": "_faMX0pbqFvP",
        "outputId": "137917e2-a653-4c6c-fb0b-fce05a08e985"
      },
      "execution_count": 45,
      "outputs": [
        {
          "output_type": "execute_result",
          "data": {
            "text/plain": [
              "[7, 5, 3, -23, -80]"
            ]
          },
          "metadata": {},
          "execution_count": 45
        }
      ]
    },
    {
      "cell_type": "code",
      "source": [
        "# A list of all the numbers squared\n",
        "squared_list = []\n",
        "for numbers in my_list:\n",
        "  squared_list.append(numbers ** 2)\n",
        "squared_list"
      ],
      "metadata": {
        "colab": {
          "base_uri": "https://localhost:8080/"
        },
        "id": "FWWL_-apqQzu",
        "outputId": "60b54dc3-e13d-49a5-8dab-8d9e6fb45ce3"
      },
      "execution_count": 46,
      "outputs": [
        {
          "output_type": "execute_result",
          "data": {
            "text/plain": [
              "[9801, 9409, 2916, 2209, 484, 49, 25, 9, 529, 6400]"
            ]
          },
          "metadata": {},
          "execution_count": 46
        }
      ]
    },
    {
      "cell_type": "code",
      "source": [
        "# The numbers without any duplicates – also print how many numbers are in the new list\n",
        "new_list = list(set(my_list))\n",
        "new_list"
      ],
      "metadata": {
        "colab": {
          "base_uri": "https://localhost:8080/"
        },
        "id": "BbJxzd8aqbLD",
        "outputId": "fe750965-1edb-4b15-e308-734c8d409cac"
      },
      "execution_count": 51,
      "outputs": [
        {
          "output_type": "execute_result",
          "data": {
            "text/plain": [
              "[97, 99, 3, 5, 7, -23, 47, -80, 22, 54]"
            ]
          },
          "metadata": {},
          "execution_count": 51
        }
      ]
    },
    {
      "cell_type": "code",
      "source": [
        "len(new_list)"
      ],
      "metadata": {
        "colab": {
          "base_uri": "https://localhost:8080/"
        },
        "id": "re37-3zltCy5",
        "outputId": "f758a478-6660-46da-89d4-b8de600197c5"
      },
      "execution_count": 52,
      "outputs": [
        {
          "output_type": "execute_result",
          "data": {
            "text/plain": [
              "10"
            ]
          },
          "metadata": {},
          "execution_count": 52
        }
      ]
    },
    {
      "cell_type": "code",
      "source": [
        "# The average of all the numbers\n",
        "average = sum(my_list) / len(my_list)\n",
        "average"
      ],
      "metadata": {
        "colab": {
          "base_uri": "https://localhost:8080/"
        },
        "id": "CyM5OhyKtIom",
        "outputId": "948ba057-a5fe-4a88-b096-6a8fd8e39c5b"
      },
      "execution_count": 53,
      "outputs": [
        {
          "output_type": "execute_result",
          "data": {
            "text/plain": [
              "23.1"
            ]
          },
          "metadata": {},
          "execution_count": 53
        }
      ]
    },
    {
      "cell_type": "code",
      "source": [
        "# The largest number\n",
        "max(my_list)"
      ],
      "metadata": {
        "colab": {
          "base_uri": "https://localhost:8080/"
        },
        "id": "UzsbU-n-tUPq",
        "outputId": "e06ceb54-4003-46b1-abd2-775f1949eb9c"
      },
      "execution_count": 54,
      "outputs": [
        {
          "output_type": "execute_result",
          "data": {
            "text/plain": [
              "99"
            ]
          },
          "metadata": {},
          "execution_count": 54
        }
      ]
    },
    {
      "cell_type": "code",
      "source": [
        "# The smallest number\n",
        "min(my_list)"
      ],
      "metadata": {
        "colab": {
          "base_uri": "https://localhost:8080/"
        },
        "id": "LYfeOWL2ted3",
        "outputId": "a3099865-2a62-47fb-81eb-70c8ff1ad2cb"
      },
      "execution_count": 55,
      "outputs": [
        {
          "output_type": "execute_result",
          "data": {
            "text/plain": [
              "-80"
            ]
          },
          "metadata": {},
          "execution_count": 55
        }
      ]
    },
    {
      "cell_type": "code",
      "source": [
        "# Find the sum, average, largest and smallest number without using built in functions\n",
        "\n",
        "# Initialize variables\n",
        "total_sum = 0\n",
        "count = 0\n",
        "largest = None\n",
        "smallest = None\n",
        "\n",
        "# Loop through the list to calculate sum, count, largest, and smallest\n",
        "for num in my_list:\n",
        "    # Calculate sum\n",
        "    total_sum += num\n",
        "    # Count number of elements\n",
        "    count += 1\n",
        "\n",
        "    # Check for largest number\n",
        "    if largest is None or num > largest:\n",
        "        largest = num\n",
        "\n",
        "    # Check for smallest number\n",
        "    if smallest is None or num < smallest:\n",
        "        smallest = num\n",
        "\n",
        "# Calculate the average\n",
        "if count > 0:\n",
        "    average = total_sum / count\n",
        "else:\n",
        "    average = 0  # Handle case where the list is empty\n",
        "\n",
        "# Print the results\n",
        "print(f\"Sum: {total_sum}\")\n",
        "print(f\"Average: {average}\")\n",
        "print(f\"Largest number: {largest}\")\n",
        "print(f\"Smallest number: {smallest}\")"
      ],
      "metadata": {
        "colab": {
          "base_uri": "https://localhost:8080/"
        },
        "id": "G2KyBLIbtl9B",
        "outputId": "be4be42c-c3fb-47c7-916a-3310160b3eef"
      },
      "execution_count": 56,
      "outputs": [
        {
          "output_type": "stream",
          "name": "stdout",
          "text": [
            "Sum: 231\n",
            "Average: 23.1\n",
            "Largest number: 99\n",
            "Smallest number: -80\n"
          ]
        }
      ]
    },
    {
      "cell_type": "code",
      "source": [
        "# Ask the user for an integer between -100 and 100 – repeat this question 10 times. Each number should be added into a variable that you created earlier.\n",
        "\n",
        "User_input = []\n",
        "for i in range(10):\n",
        "    num = int(input(\"Enter a number between -100 and 100: \"))\n",
        "    User_input.append(num)\n",
        "User_input"
      ],
      "metadata": {
        "colab": {
          "base_uri": "https://localhost:8080/"
        },
        "id": "4c9h2tnUu2XA",
        "outputId": "94dcf0a8-8d68-4fff-b477-305f56a158fd"
      },
      "execution_count": 57,
      "outputs": [
        {
          "name": "stdout",
          "output_type": "stream",
          "text": [
            "Enter a number between -100 and 100: -99\n",
            "Enter a number between -100 and 100: 80\n",
            "Enter a number between -100 and 100: 10\n",
            "Enter a number between -100 and 100: 55\n",
            "Enter a number between -100 and 100: -2\n",
            "Enter a number between -100 and 100: 3\n",
            "Enter a number between -100 and 100: 0\n",
            "Enter a number between -100 and 100: 15\n",
            "Enter a number between -100 and 100: 12\n",
            "Enter a number between -100 and 100: 77\n"
          ]
        },
        {
          "output_type": "execute_result",
          "data": {
            "text/plain": [
              "[-99, 80, 10, 55, -2, 3, 0, 15, 12, 77]"
            ]
          },
          "metadata": {},
          "execution_count": 57
        }
      ]
    },
    {
      "cell_type": "code",
      "source": [
        "# Generate 10 random integers yourself. Make sure that these random integers are between -100 and 100\n",
        "import random\n",
        "random_integers = [random.randint(-100, 100) for _ in range(10)]\n",
        "random_integers"
      ],
      "metadata": {
        "colab": {
          "base_uri": "https://localhost:8080/"
        },
        "id": "NlxGDcBlvqoZ",
        "outputId": "1e487542-ed95-404f-c170-02d630c63696"
      },
      "execution_count": 58,
      "outputs": [
        {
          "output_type": "execute_result",
          "data": {
            "text/plain": [
              "[39, 31, -83, -53, -77, 15, 30, 83, -85, -12]"
            ]
          },
          "metadata": {},
          "execution_count": 58
        }
      ]
    },
    {
      "cell_type": "code",
      "source": [
        "#Instead of always generating 10 integers, let the amount of integers also be random! Generate a random positive integer no smaller than 50\n",
        "random_integers = [random.randint(-100, 100) for _ in range(random.randint(50, 100))]\n",
        "random_integers"
      ],
      "metadata": {
        "colab": {
          "base_uri": "https://localhost:8080/"
        },
        "collapsed": true,
        "id": "KHdHvUGlwA2K",
        "outputId": "09328cb3-4f51-44b5-9b0c-b27de7461964"
      },
      "execution_count": 59,
      "outputs": [
        {
          "output_type": "execute_result",
          "data": {
            "text/plain": [
              "[-28,\n",
              " 51,\n",
              " -41,\n",
              " -93,\n",
              " 13,\n",
              " -24,\n",
              " 4,\n",
              " 96,\n",
              " -89,\n",
              " 38,\n",
              " 91,\n",
              " -11,\n",
              " 91,\n",
              " -46,\n",
              " -16,\n",
              " -13,\n",
              " -60,\n",
              " 70,\n",
              " -11,\n",
              " -65,\n",
              " -17,\n",
              " -28,\n",
              " 88,\n",
              " 49,\n",
              " 57,\n",
              " 36,\n",
              " -90,\n",
              " 10,\n",
              " -23,\n",
              " -18,\n",
              " -46,\n",
              " -86,\n",
              " 25,\n",
              " 88,\n",
              " 59,\n",
              " 30,\n",
              " 98,\n",
              " 57,\n",
              " 48,\n",
              " 9,\n",
              " 55,\n",
              " 80,\n",
              " 32,\n",
              " -86,\n",
              " -3,\n",
              " 26,\n",
              " 61,\n",
              " 22,\n",
              " 75,\n",
              " 100,\n",
              " 30,\n",
              " -67,\n",
              " -66,\n",
              " 26,\n",
              " -43,\n",
              " 77,\n",
              " -26,\n",
              " 31,\n",
              " 86,\n",
              " 76,\n",
              " 39,\n",
              " -40]"
            ]
          },
          "metadata": {},
          "execution_count": 59
        }
      ]
    },
    {
      "cell_type": "code",
      "source": [
        "# Will the code work when the number of random numbers is not equal to 10? YES\n",
        "random_integers = [random.randint(-100, 100) for _ in range(11)]\n",
        "random_integers"
      ],
      "metadata": {
        "colab": {
          "base_uri": "https://localhost:8080/"
        },
        "id": "ch0l9uy2wPbZ",
        "outputId": "160bd393-5a23-4f36-f76a-cd374340636e"
      },
      "execution_count": 60,
      "outputs": [
        {
          "output_type": "execute_result",
          "data": {
            "text/plain": [
              "[31, -45, -25, 54, -83, -77, -56, -44, 73, -8, -77]"
            ]
          },
          "metadata": {},
          "execution_count": 60
        }
      ]
    },
    {
      "cell_type": "markdown",
      "source": [
        "##Exercise 3: Working On A Paragraph"
      ],
      "metadata": {
        "id": "ifoENEz9w-rU"
      }
    },
    {
      "cell_type": "code",
      "source": [
        "paragraph = \"Find an interesting paragraph of text online. (Please keep it appropriate to the social context of our class.)\"\n",
        "print(f\"The paragraph contains {len(paragraph)} characters\")"
      ],
      "metadata": {
        "colab": {
          "base_uri": "https://localhost:8080/"
        },
        "id": "gPMe52oFxBfn",
        "outputId": "59fbc454-628e-47d4-bbd1-19a28ca00ad5"
      },
      "execution_count": 61,
      "outputs": [
        {
          "output_type": "stream",
          "name": "stdout",
          "text": [
            "The paragraph contains 110 characters\n"
          ]
        }
      ]
    },
    {
      "cell_type": "code",
      "source": [
        "# How many sentences it contains\n",
        "sentences = paragraph.count('.') + paragraph.count('!') + paragraph.count('?')\n",
        "sentences"
      ],
      "metadata": {
        "colab": {
          "base_uri": "https://localhost:8080/"
        },
        "id": "lJKEbu3XxznD",
        "outputId": "7499820a-a499-492e-e0fc-926e465ce51e"
      },
      "execution_count": 62,
      "outputs": [
        {
          "output_type": "execute_result",
          "data": {
            "text/plain": [
              "2"
            ]
          },
          "metadata": {},
          "execution_count": 62
        }
      ]
    },
    {
      "cell_type": "code",
      "source": [
        "# How many words it contains\n",
        "words = len(paragraph.split())\n",
        "words"
      ],
      "metadata": {
        "colab": {
          "base_uri": "https://localhost:8080/"
        },
        "id": "DCclQ1tnx_TN",
        "outputId": "0d0e4618-36da-46a1-e3ae-d2375cc2c066"
      },
      "execution_count": 63,
      "outputs": [
        {
          "output_type": "execute_result",
          "data": {
            "text/plain": [
              "18"
            ]
          },
          "metadata": {},
          "execution_count": 63
        }
      ]
    },
    {
      "cell_type": "code",
      "source": [
        "# How many unique words it contains\n",
        "unique_words = len(set(paragraph.lower().split()))\n",
        "unique_words"
      ],
      "metadata": {
        "colab": {
          "base_uri": "https://localhost:8080/"
        },
        "id": "Me16GVb4yHQy",
        "outputId": "57a71f35-ceaf-4def-cf4a-66cc77d1c2a2"
      },
      "execution_count": 65,
      "outputs": [
        {
          "output_type": "execute_result",
          "data": {
            "text/plain": [
              "17"
            ]
          },
          "metadata": {},
          "execution_count": 65
        }
      ]
    },
    {
      "cell_type": "code",
      "source": [
        "# How many non-whitespace characters it contains\n",
        "non_whitespace = len(paragraph.replace(' ', ''))\n",
        "non_whitespace"
      ],
      "metadata": {
        "colab": {
          "base_uri": "https://localhost:8080/"
        },
        "id": "FN4Yx32SyP2P",
        "outputId": "c3f2a45e-cd1f-4893-eea5-de60bf9e91fb"
      },
      "execution_count": 66,
      "outputs": [
        {
          "output_type": "execute_result",
          "data": {
            "text/plain": [
              "93"
            ]
          },
          "metadata": {},
          "execution_count": 66
        }
      ]
    },
    {
      "cell_type": "code",
      "source": [
        "# The average amount of words per sentence in the paragraph\n",
        "average_words_per_sentence = words / sentences\n",
        "average_words_per_sentence"
      ],
      "metadata": {
        "colab": {
          "base_uri": "https://localhost:8080/"
        },
        "id": "UYFS1HPnyw37",
        "outputId": "5e43366e-975f-4584-b384-1ddd93b3ddda"
      },
      "execution_count": 67,
      "outputs": [
        {
          "output_type": "execute_result",
          "data": {
            "text/plain": [
              "9.0"
            ]
          },
          "metadata": {},
          "execution_count": 67
        }
      ]
    },
    {
      "cell_type": "code",
      "source": [
        "# The amount of non-unique words in the paragraph\n",
        "non_unique_words = words - unique_words\n",
        "non_unique_words"
      ],
      "metadata": {
        "colab": {
          "base_uri": "https://localhost:8080/"
        },
        "id": "l5eEiSoGy5Jy",
        "outputId": "deaa6f20-6da9-4a36-df81-37027a231d42"
      },
      "execution_count": 68,
      "outputs": [
        {
          "output_type": "execute_result",
          "data": {
            "text/plain": [
              "1"
            ]
          },
          "metadata": {},
          "execution_count": 68
        }
      ]
    },
    {
      "cell_type": "markdown",
      "source": [
        "## Exercise 4 : Frequency Of The Words"
      ],
      "metadata": {
        "id": "qFzOMb9m1U7s"
      }
    },
    {
      "cell_type": "code",
      "source": [
        "# Frequency of the words from the input\n",
        "diction = {}\n",
        "for word in input(\"Write a paragraph: \").split():\n",
        "  diction[word] = diction.get(word, 0) + 1\n",
        "diction"
      ],
      "metadata": {
        "colab": {
          "base_uri": "https://localhost:8080/"
        },
        "id": "tfCm_b7C1WbL",
        "outputId": "a435d585-3db8-44fd-c1b3-2234f4ddc3f6"
      },
      "execution_count": 69,
      "outputs": [
        {
          "name": "stdout",
          "output_type": "stream",
          "text": [
            "Write a paragraph: New to Python or choosing between Python 2 and Python 3? Read Python 2 or Python 3.\n"
          ]
        },
        {
          "output_type": "execute_result",
          "data": {
            "text/plain": [
              "{'New': 1,\n",
              " 'to': 1,\n",
              " 'Python': 5,\n",
              " 'or': 2,\n",
              " 'choosing': 1,\n",
              " 'between': 1,\n",
              " '2': 2,\n",
              " 'and': 1,\n",
              " '3?': 1,\n",
              " 'Read': 1,\n",
              " '3.': 1}"
            ]
          },
          "metadata": {},
          "execution_count": 69
        }
      ]
    }
  ]
}