{
  "nbformat": 4,
  "nbformat_minor": 0,
  "metadata": {
    "colab": {
      "provenance": [],
      "authorship_tag": "ABX9TyOw/Z8P+vBe96nPJxU5tTnq",
      "include_colab_link": true
    },
    "kernelspec": {
      "name": "python3",
      "display_name": "Python 3"
    },
    "language_info": {
      "name": "python"
    }
  },
  "cells": [
    {
      "cell_type": "markdown",
      "metadata": {
        "id": "view-in-github",
        "colab_type": "text"
      },
      "source": [
        "<a href=\"https://colab.research.google.com/github/EvgeniaKantor/DI-Bootcamp/blob/main/Exercises_XP_Ninja.ipynb\" target=\"_parent\"><img src=\"https://colab.research.google.com/assets/colab-badge.svg\" alt=\"Open In Colab\"/></a>"
      ]
    },
    {
      "cell_type": "markdown",
      "source": [
        "# Exercise 3 : Outputs\n",
        "Instructions\n",
        "Predict the output of the following code snippets:\n",
        "\n",
        "    >>> 3 <= 3 < 9\n",
        "\n",
        "    >>> 3 == 3 == 3\n",
        "\n",
        "    >>> bool(0)\n",
        "\n",
        "    >>> bool(5 == \"5\")\n",
        "    \n",
        "    >>> bool(4 == 4) == bool(\"4\" == \"4\")\n",
        "\n",
        "    >>> bool(bool(None))\n",
        "\n",
        "    x = (1 == True)\n",
        "    y = (1 == False)\n",
        "    a = True + 4\n",
        "    b = False + 10\n",
        "\n",
        "    print(\"x is\", x)\n",
        "    print(\"y is\", y)\n",
        "    print(\"a:\", a)\n",
        "    print(\"b:\", b)"
      ],
      "metadata": {
        "id": "yrWQy1k_eYu1"
      }
    },
    {
      "cell_type": "code",
      "execution_count": 1,
      "metadata": {
        "colab": {
          "base_uri": "https://localhost:8080/"
        },
        "id": "GjyzWoTHeQQZ",
        "outputId": "a4361221-1e40-428f-ab76-3b72d857a8d6"
      },
      "outputs": [
        {
          "output_type": "stream",
          "name": "stdout",
          "text": [
            "True\n"
          ]
        }
      ],
      "source": [
        "print(3 <= 3 < 9)"
      ]
    },
    {
      "cell_type": "code",
      "source": [
        "print(3 == 3 == 3)"
      ],
      "metadata": {
        "colab": {
          "base_uri": "https://localhost:8080/"
        },
        "id": "eNqUvdrWhzzh",
        "outputId": "797c0002-239c-4b31-d600-d6f3cd38e011"
      },
      "execution_count": 2,
      "outputs": [
        {
          "output_type": "stream",
          "name": "stdout",
          "text": [
            "True\n"
          ]
        }
      ]
    },
    {
      "cell_type": "code",
      "source": [
        "print(bool(0))"
      ],
      "metadata": {
        "colab": {
          "base_uri": "https://localhost:8080/"
        },
        "id": "U1Fp7zu-h8FI",
        "outputId": "cfabd26c-fc26-43f3-da22-b2ed18f3b14f"
      },
      "execution_count": 3,
      "outputs": [
        {
          "output_type": "stream",
          "name": "stdout",
          "text": [
            "False\n"
          ]
        }
      ]
    },
    {
      "cell_type": "code",
      "source": [
        "print(bool(4 == 4) == bool(\"4\" == \"4\"))"
      ],
      "metadata": {
        "colab": {
          "base_uri": "https://localhost:8080/"
        },
        "id": "11itk1p3h_3Q",
        "outputId": "9ce7e893-b9fa-4fc6-f75f-cdca5f8b9894"
      },
      "execution_count": 4,
      "outputs": [
        {
          "output_type": "stream",
          "name": "stdout",
          "text": [
            "True\n"
          ]
        }
      ]
    },
    {
      "cell_type": "code",
      "source": [
        "print(bool(bool(None)))"
      ],
      "metadata": {
        "colab": {
          "base_uri": "https://localhost:8080/"
        },
        "id": "qwc21zWxiFR1",
        "outputId": "0af8087b-d20d-4568-aae3-eb1ac51a5988"
      },
      "execution_count": 5,
      "outputs": [
        {
          "output_type": "stream",
          "name": "stdout",
          "text": [
            "False\n"
          ]
        }
      ]
    },
    {
      "cell_type": "code",
      "source": [
        "x = (1 == True)\n",
        "y = (1 == False)\n",
        "a = True + 4\n",
        "b = False + 10\n",
        "\n",
        "print(\"x is\", x)\n",
        "print(\"y is\", y)\n",
        "print(\"a:\", a)\n",
        "print(\"b:\", b)"
      ],
      "metadata": {
        "colab": {
          "base_uri": "https://localhost:8080/"
        },
        "id": "rV8wdqiyi-Ut",
        "outputId": "8f398ed8-d67e-4173-9285-8339fc6e085c"
      },
      "execution_count": 6,
      "outputs": [
        {
          "output_type": "stream",
          "name": "stdout",
          "text": [
            "x is True\n",
            "y is False\n",
            "a: 5\n",
            "b: 10\n"
          ]
        }
      ]
    },
    {
      "cell_type": "markdown",
      "source": [
        "# Exercise 4 : How Many Characters In A Sentence ?\n",
        "\n",
        "Instructions\n",
        "\n",
        "Use python to find out how many characters are in the following text, use a single line of code (beyond the establishment of your my_text variable).\n",
        "\n",
        "my_text = \"Lorem ipsum dolor sit amet, consectetur adipiscing elit,\n",
        "           sed do eiusmod tempor incididunt ut labore et dolore magna aliqua.\n",
        "           Ut enim ad minim veniam, quis nostrud exercitation ullamco\n",
        "           laboris nisi ut aliquip ex ea commodo consequat.\n",
        "           Duis aute irure dolor in reprehenderit in voluptate velit\n",
        "           esse cillum dolore eu fugiat nulla pariatur.\n",
        "           Excepteur sint occaecat cupidatat non proident,\n",
        "           sunt in culpa qui officia deserunt mollit anim id est laborum."
      ],
      "metadata": {
        "id": "mg2kQRY8jcp5"
      }
    },
    {
      "cell_type": "code",
      "source": [
        "my_text = \"Lorem ipsum dolor sit amet, consectetur adipiscing elit, sed do eiusmod tempor incididunt ut labore et dolore magna aliqua. Ut enim ad minim veniam, quis nostrud exercitation ullamco laboris nisi ut aliquip ex ea commodo consequat. Duis aute irure dolor in reprehenderit in voluptate velit esse cillum dolore eu fugiat nulla pariatur. Excepteur sint occaecat cupidatat non proident, sunt in culpa qui officia deserunt mollit anim id est laborum.\"\n",
        "print(len(my_text))"
      ],
      "metadata": {
        "colab": {
          "base_uri": "https://localhost:8080/"
        },
        "id": "-Mce1BPijmsV",
        "outputId": "dd589419-04d8-4260-fc34-e42524b106d0"
      },
      "execution_count": 7,
      "outputs": [
        {
          "output_type": "stream",
          "name": "stdout",
          "text": [
            "445\n"
          ]
        }
      ]
    },
    {
      "cell_type": "markdown",
      "source": [
        "# Exercise 5: Longest Word Without A Specific Character\n",
        "Instructions\n",
        "\n",
        "Keep asking the user to input the longest sentence they can without the character “A”.\n",
        "\n",
        "Each time a user successfully sets a new longest sentence, print a congratulations message."
      ],
      "metadata": {
        "id": "w6dqu_eWlz7J"
      }
    },
    {
      "cell_type": "code",
      "source": [
        "user_input = input(\"Write the longest sentence without the character 'A': \")\n",
        "if 'A' not in user_input.upper():\n",
        "    print(\"Congratulations!\")\n",
        "else:\n",
        "    print(\"Try again!\")"
      ],
      "metadata": {
        "colab": {
          "base_uri": "https://localhost:8080/"
        },
        "id": "8JnQk4eQl3xh",
        "outputId": "643dbe46-66a4-4350-cac6-241b87869b03"
      },
      "execution_count": 10,
      "outputs": [
        {
          "output_type": "stream",
          "name": "stdout",
          "text": [
            "Write the longest sentence without the character 'A': a djgjs;\n",
            "Try again!\n"
          ]
        }
      ]
    },
    {
      "cell_type": "code",
      "source": [
        "# Initialize the longest valid sentence length to 0\n",
        "longest_sentence = \"\"\n",
        "\n",
        "while True:\n",
        "    # Prompt the user to enter a sentence\n",
        "    user_input = input(\"Write the longest sentence without the character 'A': \")\n",
        "\n",
        "    # Check if the input contains the character 'A'\n",
        "    if 'A' not in user_input.upper():\n",
        "        # If the new sentence is longer than the current longest valid sentence\n",
        "        if len(user_input) > len(longest_sentence):\n",
        "            longest_sentence = user_input\n",
        "            print(\"Congratulations! You've set a new record with a sentence length of\", len(longest_sentence))\n",
        "        else:\n",
        "            print(\"Good attempt! But it wasn't longer than the current longest sentence.\")\n",
        "    else:\n",
        "        print(\"Try again! Your sentence contains the character 'A'.\")\n"
      ],
      "metadata": {
        "id": "LHDCNlVhrTxh"
      },
      "execution_count": null,
      "outputs": []
    }
  ]
}