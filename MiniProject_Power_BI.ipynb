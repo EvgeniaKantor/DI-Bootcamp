{
  "nbformat": 4,
  "nbformat_minor": 0,
  "metadata": {
    "colab": {
      "provenance": [],
      "authorship_tag": "ABX9TyNqrtirmHEGYabVM6UuI0sW",
      "include_colab_link": true
    },
    "kernelspec": {
      "name": "python3",
      "display_name": "Python 3"
    },
    "language_info": {
      "name": "python"
    }
  },
  "cells": [
    {
      "cell_type": "markdown",
      "metadata": {
        "id": "view-in-github",
        "colab_type": "text"
      },
      "source": [
        "<a href=\"https://colab.research.google.com/github/EvgeniaKantor/DI-Bootcamp/blob/main/MiniProject_Power_BI.ipynb\" target=\"_parent\"><img src=\"https://colab.research.google.com/assets/colab-badge.svg\" alt=\"Open In Colab\"/></a>"
      ]
    },
    {
      "cell_type": "code",
      "execution_count": 7,
      "metadata": {
        "id": "ft4RLUgkUveV"
      },
      "outputs": [],
      "source": [
        "import pandas as pd"
      ]
    },
    {
      "cell_type": "code",
      "source": [
        "df = pd.read_excel('owid-covid-data.xlsx')\n",
        "df.info()"
      ],
      "metadata": {
        "colab": {
          "base_uri": "https://localhost:8080/"
        },
        "id": "lYPRj8PTVj2v",
        "outputId": "915bd7cd-45f7-461d-89df-0196ffe1d731"
      },
      "execution_count": 8,
      "outputs": [
        {
          "output_type": "stream",
          "name": "stdout",
          "text": [
            "<class 'pandas.core.frame.DataFrame'>\n",
            "RangeIndex: 103907 entries, 0 to 103906\n",
            "Data columns (total 60 columns):\n",
            " #   Column                                 Non-Null Count   Dtype  \n",
            "---  ------                                 --------------   -----  \n",
            " 0   iso_code                               103907 non-null  object \n",
            " 1   continent                              99067 non-null   object \n",
            " 2   location                               103907 non-null  object \n",
            " 3   date                                   103907 non-null  object \n",
            " 4   total_cases                            99800 non-null   float64\n",
            " 5   new_cases                              99797 non-null   float64\n",
            " 6   new_cases_smoothed                     98787 non-null   float64\n",
            " 7   total_deaths                           89535 non-null   float64\n",
            " 8   new_deaths                             89691 non-null   float64\n",
            " 9   new_deaths_smoothed                    98787 non-null   float64\n",
            " 10  total_cases_per_million                99270 non-null   float64\n",
            " 11  new_cases_per_million                  99267 non-null   float64\n",
            " 12  new_cases_smoothed_per_million         98262 non-null   float64\n",
            " 13  total_deaths_per_million               89018 non-null   float64\n",
            " 14  new_deaths_per_million                 89174 non-null   float64\n",
            " 15  new_deaths_smoothed_per_million        98262 non-null   float64\n",
            " 16  reproduction_rate                      83707 non-null   float64\n",
            " 17  icu_patients                           10725 non-null   float64\n",
            " 18  icu_patients_per_million               10725 non-null   float64\n",
            " 19  hosp_patients                          12948 non-null   float64\n",
            " 20  hosp_patients_per_million              12948 non-null   float64\n",
            " 21  weekly_icu_admissions                  952 non-null     float64\n",
            " 22  weekly_icu_admissions_per_million      952 non-null     float64\n",
            " 23  weekly_hosp_admissions                 1617 non-null    float64\n",
            " 24  weekly_hosp_admissions_per_million     1617 non-null    float64\n",
            " 25  new_tests                              46416 non-null   float64\n",
            " 26  total_tests                            46093 non-null   float64\n",
            " 27  total_tests_per_thousand               46093 non-null   float64\n",
            " 28  new_tests_per_thousand                 46416 non-null   float64\n",
            " 29  new_tests_smoothed                     54078 non-null   float64\n",
            " 30  new_tests_smoothed_per_thousand        54078 non-null   float64\n",
            " 31  positive_rate                          50496 non-null   float64\n",
            " 32  tests_per_case                         49866 non-null   float64\n",
            " 33  tests_units                            55803 non-null   object \n",
            " 34  total_vaccinations                     18783 non-null   float64\n",
            " 35  people_vaccinated                      17977 non-null   float64\n",
            " 36  people_fully_vaccinated                15049 non-null   float64\n",
            " 37  new_vaccinations                       15656 non-null   float64\n",
            " 38  new_vaccinations_smoothed              32924 non-null   float64\n",
            " 39  total_vaccinations_per_hundred         18783 non-null   float64\n",
            " 40  people_vaccinated_per_hundred          17977 non-null   float64\n",
            " 41  people_fully_vaccinated_per_hundred    15049 non-null   float64\n",
            " 42  new_vaccinations_smoothed_per_million  32924 non-null   float64\n",
            " 43  stringency_index                       87200 non-null   float64\n",
            " 44  population                             103212 non-null  float64\n",
            " 45  population_density                     96453 non-null   float64\n",
            " 46  median_age                             92626 non-null   float64\n",
            " 47  aged_65_older                          91588 non-null   float64\n",
            " 48  aged_70_older                          92115 non-null   float64\n",
            " 49  gdp_per_capita                         93006 non-null   float64\n",
            " 50  extreme_poverty                        62670 non-null   float64\n",
            " 51  cardiovasc_death_rate                  92973 non-null   float64\n",
            " 52  diabetes_prevalence                    95468 non-null   float64\n",
            " 53  female_smokers                         72697 non-null   float64\n",
            " 54  male_smokers                           71638 non-null   float64\n",
            " 55  handwashing_facilities                 46703 non-null   float64\n",
            " 56  hospital_beds_per_thousand             84661 non-null   float64\n",
            " 57  life_expectancy                        98646 non-null   float64\n",
            " 58  human_development_index                93098 non-null   float64\n",
            " 59  excess_mortality                       3664 non-null    float64\n",
            "dtypes: float64(55), object(5)\n",
            "memory usage: 47.6+ MB\n"
          ]
        }
      ]
    },
    {
      "cell_type": "code",
      "source": [
        "# Calculate the total number of cells\n",
        "total_cells = df.size\n",
        "\n",
        "# Calculate the number of empty cells\n",
        "empty_cells = df.isnull().sum().sum()\n",
        "\n",
        "# Calculate the number of filled cells\n",
        "filled_cells = total_cells - empty_cells\n",
        "\n",
        "# Calculate the percentage of empty and filled cells\n",
        "percent_empty = (empty_cells / total_cells) * 100\n",
        "percent_filled = (filled_cells / total_cells) * 100\n",
        "\n",
        "print(f\"Total cells: {total_cells}\")\n",
        "print(f\"Filled cells: {filled_cells} ({percent_filled:.2f}%)\")\n",
        "print(f\"Empty cells: {empty_cells} ({percent_empty:.2f}%)\")\n"
      ],
      "metadata": {
        "colab": {
          "base_uri": "https://localhost:8080/"
        },
        "id": "vlTEMUEzLkFG",
        "outputId": "076b67b2-f9e0-41ae-e011-6c8d8d3e31bf"
      },
      "execution_count": 240,
      "outputs": [
        {
          "output_type": "stream",
          "name": "stdout",
          "text": [
            "Total cells: 6234420\n",
            "Filled cells: 3709508 (59.50%)\n",
            "Empty cells: 2524912 (40.50%)\n"
          ]
        }
      ]
    },
    {
      "cell_type": "code",
      "source": [
        "missing_values = df.isnull().sum()\n",
        "print(missing_values[missing_values > 0])"
      ],
      "metadata": {
        "colab": {
          "base_uri": "https://localhost:8080/"
        },
        "id": "VeKzuT2DYRqR",
        "outputId": "dc04b308-dd37-428d-afd8-f3bb78d2bbbe"
      },
      "execution_count": 241,
      "outputs": [
        {
          "output_type": "stream",
          "name": "stdout",
          "text": [
            "continent                                  4840\n",
            "total_cases                                4107\n",
            "new_cases                                  4110\n",
            "new_cases_smoothed                         5120\n",
            "total_deaths                              14372\n",
            "new_deaths                                14216\n",
            "new_deaths_smoothed                        5120\n",
            "total_cases_per_million                    4637\n",
            "new_cases_per_million                      4640\n",
            "new_cases_smoothed_per_million             5645\n",
            "total_deaths_per_million                  14889\n",
            "new_deaths_per_million                    14733\n",
            "new_deaths_smoothed_per_million            5645\n",
            "reproduction_rate                         20200\n",
            "icu_patients                              93182\n",
            "icu_patients_per_million                  93182\n",
            "hosp_patients                             90959\n",
            "hosp_patients_per_million                 90959\n",
            "weekly_icu_admissions                    102955\n",
            "weekly_icu_admissions_per_million        102955\n",
            "weekly_hosp_admissions                   102290\n",
            "weekly_hosp_admissions_per_million       102290\n",
            "new_tests                                 57491\n",
            "total_tests                               57814\n",
            "total_tests_per_thousand                  57814\n",
            "new_tests_per_thousand                    57491\n",
            "new_tests_smoothed                        49829\n",
            "new_tests_smoothed_per_thousand           49829\n",
            "positive_rate                             53411\n",
            "tests_per_case                            54041\n",
            "tests_units                               48104\n",
            "total_vaccinations                        85124\n",
            "people_vaccinated                         85930\n",
            "people_fully_vaccinated                   88858\n",
            "new_vaccinations                          88251\n",
            "new_vaccinations_smoothed                 70983\n",
            "total_vaccinations_per_hundred            85124\n",
            "people_vaccinated_per_hundred             85930\n",
            "people_fully_vaccinated_per_hundred       88858\n",
            "new_vaccinations_smoothed_per_million     70983\n",
            "stringency_index                          16707\n",
            "population                                  695\n",
            "population_density                         7454\n",
            "median_age                                11281\n",
            "aged_65_older                             12319\n",
            "aged_70_older                             11792\n",
            "gdp_per_capita                            10901\n",
            "extreme_poverty                           41237\n",
            "cardiovasc_death_rate                     10934\n",
            "diabetes_prevalence                        8439\n",
            "female_smokers                            31210\n",
            "male_smokers                              32269\n",
            "handwashing_facilities                    57204\n",
            "hospital_beds_per_thousand                19246\n",
            "life_expectancy                            5261\n",
            "human_development_index                   10809\n",
            "excess_mortality                         100243\n",
            "dtype: int64\n"
          ]
        }
      ]
    },
    {
      "cell_type": "markdown",
      "source": [
        "The 'location' column shows countries, but there is also duplicate information, as countries are joined by data for continents, parts of the world and for the world as a whole. So I will delete the rows corresponding to the empty cells in the 'continent' column"
      ],
      "metadata": {
        "id": "boZuS4-Vce5c"
      }
    },
    {
      "cell_type": "code",
      "source": [
        "df_cleaned = df.dropna(subset=['continent'])\n",
        "df_cleaned.info()"
      ],
      "metadata": {
        "colab": {
          "base_uri": "https://localhost:8080/"
        },
        "id": "ZMgJnxBfdo6o",
        "outputId": "f1ae17e9-d605-44e4-80cf-e7c557b40889"
      },
      "execution_count": 242,
      "outputs": [
        {
          "output_type": "stream",
          "name": "stdout",
          "text": [
            "<class 'pandas.core.frame.DataFrame'>\n",
            "Index: 99067 entries, 0 to 103906\n",
            "Data columns (total 60 columns):\n",
            " #   Column                                 Non-Null Count  Dtype  \n",
            "---  ------                                 --------------  -----  \n",
            " 0   iso_code                               99067 non-null  object \n",
            " 1   continent                              99067 non-null  object \n",
            " 2   location                               99067 non-null  object \n",
            " 3   date                                   99067 non-null  object \n",
            " 4   total_cases                            94965 non-null  float64\n",
            " 5   new_cases                              94957 non-null  float64\n",
            " 6   new_cases_smoothed                     94000 non-null  float64\n",
            " 7   total_deaths                           84865 non-null  float64\n",
            " 8   new_deaths                             84864 non-null  float64\n",
            " 9   new_deaths_smoothed                    94000 non-null  float64\n",
            " 10  total_cases_per_million                94965 non-null  float64\n",
            " 11  new_cases_per_million                  94957 non-null  float64\n",
            " 12  new_cases_smoothed_per_million         94000 non-null  float64\n",
            " 13  total_deaths_per_million               84865 non-null  float64\n",
            " 14  new_deaths_per_million                 84864 non-null  float64\n",
            " 15  new_deaths_smoothed_per_million        94000 non-null  float64\n",
            " 16  reproduction_rate                      83164 non-null  float64\n",
            " 17  icu_patients                           10725 non-null  float64\n",
            " 18  icu_patients_per_million               10725 non-null  float64\n",
            " 19  hosp_patients                          12948 non-null  float64\n",
            " 20  hosp_patients_per_million              12948 non-null  float64\n",
            " 21  weekly_icu_admissions                  952 non-null    float64\n",
            " 22  weekly_icu_admissions_per_million      952 non-null    float64\n",
            " 23  weekly_hosp_admissions                 1617 non-null   float64\n",
            " 24  weekly_hosp_admissions_per_million     1617 non-null   float64\n",
            " 25  new_tests                              46416 non-null  float64\n",
            " 26  total_tests                            46093 non-null  float64\n",
            " 27  total_tests_per_thousand               46093 non-null  float64\n",
            " 28  new_tests_per_thousand                 46416 non-null  float64\n",
            " 29  new_tests_smoothed                     54078 non-null  float64\n",
            " 30  new_tests_smoothed_per_thousand        54078 non-null  float64\n",
            " 31  positive_rate                          50496 non-null  float64\n",
            " 32  tests_per_case                         49866 non-null  float64\n",
            " 33  tests_units                            55803 non-null  object \n",
            " 34  total_vaccinations                     17119 non-null  float64\n",
            " 35  people_vaccinated                      16313 non-null  float64\n",
            " 36  people_fully_vaccinated                13525 non-null  float64\n",
            " 37  new_vaccinations                       14011 non-null  float64\n",
            " 38  new_vaccinations_smoothed              31233 non-null  float64\n",
            " 39  total_vaccinations_per_hundred         17119 non-null  float64\n",
            " 40  people_vaccinated_per_hundred          16313 non-null  float64\n",
            " 41  people_fully_vaccinated_per_hundred    13525 non-null  float64\n",
            " 42  new_vaccinations_smoothed_per_million  31233 non-null  float64\n",
            " 43  stringency_index                       87200 non-null  float64\n",
            " 44  population                             98902 non-null  float64\n",
            " 45  population_density                     95907 non-null  float64\n",
            " 46  median_age                             92080 non-null  float64\n",
            " 47  aged_65_older                          91042 non-null  float64\n",
            " 48  aged_70_older                          91569 non-null  float64\n",
            " 49  gdp_per_capita                         92460 non-null  float64\n",
            " 50  extreme_poverty                        62124 non-null  float64\n",
            " 51  cardiovasc_death_rate                  92427 non-null  float64\n",
            " 52  diabetes_prevalence                    94922 non-null  float64\n",
            " 53  female_smokers                         72151 non-null  float64\n",
            " 54  male_smokers                           71092 non-null  float64\n",
            " 55  handwashing_facilities                 46157 non-null  float64\n",
            " 56  hospital_beds_per_thousand             84115 non-null  float64\n",
            " 57  life_expectancy                        98100 non-null  float64\n",
            " 58  human_development_index                92552 non-null  float64\n",
            " 59  excess_mortality                       3664 non-null   float64\n",
            "dtypes: float64(55), object(5)\n",
            "memory usage: 46.1+ MB\n"
          ]
        }
      ]
    },
    {
      "cell_type": "markdown",
      "source": [
        "No population information was given for Northern Cyprus. I found it on the internet for 2021 = 390745"
      ],
      "metadata": {
        "id": "Pf1YL__QxYCE"
      }
    },
    {
      "cell_type": "code",
      "source": [
        "# Add the population value of 326,000 for Northern Cyprus\n",
        "df_cleaned.loc[df_cleaned['location'] == 'Northern Cyprus', 'population'] = 390745"
      ],
      "metadata": {
        "id": "thP4IbbKxWNT"
      },
      "execution_count": 243,
      "outputs": []
    },
    {
      "cell_type": "code",
      "source": [
        "missing_values = df_cleaned.isnull().sum()\n",
        "print(missing_values[missing_values > 0])"
      ],
      "metadata": {
        "colab": {
          "base_uri": "https://localhost:8080/"
        },
        "id": "DoYzDSIAjSve",
        "outputId": "5417b441-35c2-477e-ba3e-34321699ef9d"
      },
      "execution_count": 244,
      "outputs": [
        {
          "output_type": "stream",
          "name": "stdout",
          "text": [
            "total_cases                               4102\n",
            "new_cases                                 4110\n",
            "new_cases_smoothed                        5067\n",
            "total_deaths                             14202\n",
            "new_deaths                               14203\n",
            "new_deaths_smoothed                       5067\n",
            "total_cases_per_million                   4102\n",
            "new_cases_per_million                     4110\n",
            "new_cases_smoothed_per_million            5067\n",
            "total_deaths_per_million                 14202\n",
            "new_deaths_per_million                   14203\n",
            "new_deaths_smoothed_per_million           5067\n",
            "reproduction_rate                        15903\n",
            "icu_patients                             88342\n",
            "icu_patients_per_million                 88342\n",
            "hosp_patients                            86119\n",
            "hosp_patients_per_million                86119\n",
            "weekly_icu_admissions                    98115\n",
            "weekly_icu_admissions_per_million        98115\n",
            "weekly_hosp_admissions                   97450\n",
            "weekly_hosp_admissions_per_million       97450\n",
            "new_tests                                52651\n",
            "total_tests                              52974\n",
            "total_tests_per_thousand                 52974\n",
            "new_tests_per_thousand                   52651\n",
            "new_tests_smoothed                       44989\n",
            "new_tests_smoothed_per_thousand          44989\n",
            "positive_rate                            48571\n",
            "tests_per_case                           49201\n",
            "tests_units                              43264\n",
            "total_vaccinations                       81948\n",
            "people_vaccinated                        82754\n",
            "people_fully_vaccinated                  85542\n",
            "new_vaccinations                         85056\n",
            "new_vaccinations_smoothed                67834\n",
            "total_vaccinations_per_hundred           81948\n",
            "people_vaccinated_per_hundred            82754\n",
            "people_fully_vaccinated_per_hundred      85542\n",
            "new_vaccinations_smoothed_per_million    67834\n",
            "stringency_index                         11867\n",
            "population_density                        3160\n",
            "median_age                                6987\n",
            "aged_65_older                             8025\n",
            "aged_70_older                             7498\n",
            "gdp_per_capita                            6607\n",
            "extreme_poverty                          36943\n",
            "cardiovasc_death_rate                     6640\n",
            "diabetes_prevalence                       4145\n",
            "female_smokers                           26916\n",
            "male_smokers                             27975\n",
            "handwashing_facilities                   52910\n",
            "hospital_beds_per_thousand               14952\n",
            "life_expectancy                            967\n",
            "human_development_index                   6515\n",
            "excess_mortality                         95403\n",
            "dtype: int64\n"
          ]
        }
      ]
    },
    {
      "cell_type": "code",
      "source": [
        "# Drop rows where both 'new_cases' and 'total_cases' are NaN\n",
        "df_cleaned = df_cleaned.dropna(subset=['new_cases', 'total_cases'], how='all')"
      ],
      "metadata": {
        "id": "3UBLKP_rgBoS"
      },
      "execution_count": 245,
      "outputs": []
    },
    {
      "cell_type": "code",
      "source": [
        "columns_to_drop = ['total_deaths', 'total_cases_per_million', 'total_deaths_per_million', 'total_tests', 'total_tests_per_thousand','new_cases_smoothed', 'new_deaths_smoothed']\n",
        "df_cleaned = df_cleaned.drop(columns=columns_to_drop)"
      ],
      "metadata": {
        "id": "haw3-oS22xd-"
      },
      "execution_count": 246,
      "outputs": []
    },
    {
      "cell_type": "code",
      "source": [
        "columns_to_drop = ['new_cases_smoothed_per_million', 'new_deaths_smoothed_per_million', 'total_vaccinations', 'total_vaccinations_per_hundred']\n",
        "df_cleaned = df_cleaned.drop(columns=columns_to_drop)"
      ],
      "metadata": {
        "id": "1H4malmd3TEZ"
      },
      "execution_count": 247,
      "outputs": []
    },
    {
      "cell_type": "code",
      "source": [
        "columns_to_drop = ['new_cases_per_million', 'new_deaths_per_million', 'icu_patients_per_million', 'hosp_patients_per_million', 'weekly_icu_admissions', 'weekly_icu_admissions_per_million', 'weekly_hosp_admissions']\n",
        "df_cleaned = df_cleaned.drop(columns=columns_to_drop)"
      ],
      "metadata": {
        "id": "HghLVkx63xOH"
      },
      "execution_count": 248,
      "outputs": []
    },
    {
      "cell_type": "code",
      "source": [
        "columns_to_drop = ['weekly_hosp_admissions_per_million', 'new_tests_per_thousand', 'new_tests_smoothed', 'new_tests_smoothed_per_thousand', 'new_vaccinations_smoothed', 'people_vaccinated_per_hundred']\n",
        "df_cleaned = df_cleaned.drop(columns=columns_to_drop)"
      ],
      "metadata": {
        "id": "SlPV35Iy4Qvf"
      },
      "execution_count": 249,
      "outputs": []
    },
    {
      "cell_type": "code",
      "source": [
        "columns_to_drop = ['people_fully_vaccinated_per_hundred', 'new_vaccinations_smoothed_per_million']\n",
        "df_cleaned = df_cleaned.drop(columns=columns_to_drop)"
      ],
      "metadata": {
        "id": "NoaaTNMz4rUh"
      },
      "execution_count": 250,
      "outputs": []
    },
    {
      "cell_type": "code",
      "source": [
        "missing_values = df_cleaned.isnull().sum()\n",
        "print(missing_values[missing_values > 0])"
      ],
      "metadata": {
        "colab": {
          "base_uri": "https://localhost:8080/"
        },
        "id": "FyYgvuqi23eh",
        "outputId": "bedb6253-ee0a-4be3-a12d-83907da05ed2"
      },
      "execution_count": 251,
      "outputs": [
        {
          "output_type": "stream",
          "name": "stdout",
          "text": [
            "new_cases                         8\n",
            "new_deaths                    10102\n",
            "reproduction_rate             11801\n",
            "icu_patients                  84246\n",
            "hosp_patients                 82022\n",
            "new_tests                     48804\n",
            "positive_rate                 44585\n",
            "tests_per_case                45159\n",
            "tests_units                   39677\n",
            "people_vaccinated             79629\n",
            "people_fully_vaccinated       82342\n",
            "new_vaccinations              81588\n",
            "stringency_index               9157\n",
            "population_density             2006\n",
            "median_age                     4259\n",
            "aged_65_older                  5291\n",
            "aged_70_older                  4761\n",
            "gdp_per_capita                 4040\n",
            "extreme_poverty               33371\n",
            "cardiovasc_death_rate          3546\n",
            "diabetes_prevalence            2028\n",
            "female_smokers                23508\n",
            "male_smokers                  24507\n",
            "handwashing_facilities        48971\n",
            "hospital_beds_per_thousand    11590\n",
            "life_expectancy                 494\n",
            "human_development_index        3052\n",
            "excess_mortality              91356\n",
            "dtype: int64\n"
          ]
        }
      ]
    },
    {
      "cell_type": "code",
      "source": [
        "columns_to_drop = ['total_cases']\n",
        "df_cleaned = df_cleaned.drop(columns=columns_to_drop)"
      ],
      "metadata": {
        "id": "fsAZrowbhisH"
      },
      "execution_count": 252,
      "outputs": []
    },
    {
      "cell_type": "code",
      "source": [
        "print(df_cleaned.head())"
      ],
      "metadata": {
        "colab": {
          "base_uri": "https://localhost:8080/"
        },
        "id": "P6hNaAKrEhtL",
        "outputId": "f3aec299-b8fb-43e8-981f-c029aa067313"
      },
      "execution_count": 253,
      "outputs": [
        {
          "output_type": "stream",
          "name": "stdout",
          "text": [
            "  iso_code continent     location        date  new_cases  new_deaths  \\\n",
            "0      AFG      Asia  Afghanistan  2020-02-24        1.0         NaN   \n",
            "1      AFG      Asia  Afghanistan  2020-02-25        0.0         NaN   \n",
            "2      AFG      Asia  Afghanistan  2020-02-26        0.0         NaN   \n",
            "3      AFG      Asia  Afghanistan  2020-02-27        0.0         NaN   \n",
            "4      AFG      Asia  Afghanistan  2020-02-28        0.0         NaN   \n",
            "\n",
            "   reproduction_rate  icu_patients  hosp_patients  new_tests  ...  \\\n",
            "0                NaN           NaN            NaN        NaN  ...   \n",
            "1                NaN           NaN            NaN        NaN  ...   \n",
            "2                NaN           NaN            NaN        NaN  ...   \n",
            "3                NaN           NaN            NaN        NaN  ...   \n",
            "4                NaN           NaN            NaN        NaN  ...   \n",
            "\n",
            "   extreme_poverty  cardiovasc_death_rate diabetes_prevalence  female_smokers  \\\n",
            "0              NaN                597.029                9.59             NaN   \n",
            "1              NaN                597.029                9.59             NaN   \n",
            "2              NaN                597.029                9.59             NaN   \n",
            "3              NaN                597.029                9.59             NaN   \n",
            "4              NaN                597.029                9.59             NaN   \n",
            "\n",
            "   male_smokers  handwashing_facilities  hospital_beds_per_thousand  \\\n",
            "0           NaN                  37.746                         0.5   \n",
            "1           NaN                  37.746                         0.5   \n",
            "2           NaN                  37.746                         0.5   \n",
            "3           NaN                  37.746                         0.5   \n",
            "4           NaN                  37.746                         0.5   \n",
            "\n",
            "   life_expectancy  human_development_index  excess_mortality  \n",
            "0            64.83                    0.511               NaN  \n",
            "1            64.83                    0.511               NaN  \n",
            "2            64.83                    0.511               NaN  \n",
            "3            64.83                    0.511               NaN  \n",
            "4            64.83                    0.511               NaN  \n",
            "\n",
            "[5 rows x 33 columns]\n"
          ]
        }
      ]
    },
    {
      "cell_type": "code",
      "source": [
        "# Fill NaN values in 'new_cases' with 0\n",
        "df_cleaned['new_cases'] = df_cleaned['new_cases'].fillna(0)"
      ],
      "metadata": {
        "id": "pflRQ1Deh4Vg"
      },
      "execution_count": 254,
      "outputs": []
    },
    {
      "cell_type": "code",
      "source": [
        "import pandas as pd\n",
        "\n",
        "# Convert 'date' column to datetime\n",
        "df_cleaned['date'] = pd.to_datetime(df_cleaned['date'])\n",
        "\n",
        "# Sort the DataFrame by 'date'\n",
        "df_sorted = df_cleaned.sort_values(by='date')\n",
        "\n",
        "# Extract unique values from 'date' column\n",
        "unique_dates = df_sorted['date'].dt.date.unique()\n",
        "\n",
        "# Generate a sequence of dates from the minimum to the maximum date\n",
        "min_date = df_sorted['date'].min().date()\n",
        "max_date = df_sorted['date'].max().date()\n",
        "expected_dates = pd.date_range(start=min_date, end=max_date)\n",
        "\n",
        "# Identify missing dates in the sequence\n",
        "missing_dates = expected_dates[~expected_dates.isin(unique_dates)]\n",
        "\n",
        "print(\"Unique dates in the DataFrame:\")\n",
        "print(unique_dates)\n",
        "\n",
        "if len(missing_dates) > 0:\n",
        "    print(\"\\nMissing dates in the sequence:\")\n",
        "    print(missing_dates)\n",
        "else:\n",
        "    print(\"\\nNo missing dates in the sequence.\")\n"
      ],
      "metadata": {
        "colab": {
          "base_uri": "https://localhost:8080/"
        },
        "id": "QZFa4D5_Fs-5",
        "outputId": "c29278e3-23e6-4662-a608-0ead7cfca0e7"
      },
      "execution_count": 255,
      "outputs": [
        {
          "output_type": "stream",
          "name": "stdout",
          "text": [
            "Unique dates in the DataFrame:\n",
            "[datetime.date(2020, 1, 22) datetime.date(2020, 1, 23)\n",
            " datetime.date(2020, 1, 24) datetime.date(2020, 1, 25)\n",
            " datetime.date(2020, 1, 26) datetime.date(2020, 1, 27)\n",
            " datetime.date(2020, 1, 28) datetime.date(2020, 1, 29)\n",
            " datetime.date(2020, 1, 30) datetime.date(2020, 1, 31)\n",
            " datetime.date(2020, 2, 1) datetime.date(2020, 2, 2)\n",
            " datetime.date(2020, 2, 3) datetime.date(2020, 2, 4)\n",
            " datetime.date(2020, 2, 5) datetime.date(2020, 2, 6)\n",
            " datetime.date(2020, 2, 7) datetime.date(2020, 2, 8)\n",
            " datetime.date(2020, 2, 9) datetime.date(2020, 2, 10)\n",
            " datetime.date(2020, 2, 11) datetime.date(2020, 2, 12)\n",
            " datetime.date(2020, 2, 13) datetime.date(2020, 2, 14)\n",
            " datetime.date(2020, 2, 15) datetime.date(2020, 2, 16)\n",
            " datetime.date(2020, 2, 17) datetime.date(2020, 2, 18)\n",
            " datetime.date(2020, 2, 19) datetime.date(2020, 2, 20)\n",
            " datetime.date(2020, 2, 21) datetime.date(2020, 2, 22)\n",
            " datetime.date(2020, 2, 23) datetime.date(2020, 2, 24)\n",
            " datetime.date(2020, 2, 25) datetime.date(2020, 2, 26)\n",
            " datetime.date(2020, 2, 27) datetime.date(2020, 2, 28)\n",
            " datetime.date(2020, 2, 29) datetime.date(2020, 3, 1)\n",
            " datetime.date(2020, 3, 2) datetime.date(2020, 3, 3)\n",
            " datetime.date(2020, 3, 4) datetime.date(2020, 3, 5)\n",
            " datetime.date(2020, 3, 6) datetime.date(2020, 3, 7)\n",
            " datetime.date(2020, 3, 8) datetime.date(2020, 3, 9)\n",
            " datetime.date(2020, 3, 10) datetime.date(2020, 3, 11)\n",
            " datetime.date(2020, 3, 12) datetime.date(2020, 3, 13)\n",
            " datetime.date(2020, 3, 14) datetime.date(2020, 3, 15)\n",
            " datetime.date(2020, 3, 16) datetime.date(2020, 3, 17)\n",
            " datetime.date(2020, 3, 18) datetime.date(2020, 3, 19)\n",
            " datetime.date(2020, 3, 20) datetime.date(2020, 3, 21)\n",
            " datetime.date(2020, 3, 22) datetime.date(2020, 3, 23)\n",
            " datetime.date(2020, 3, 24) datetime.date(2020, 3, 25)\n",
            " datetime.date(2020, 3, 26) datetime.date(2020, 3, 27)\n",
            " datetime.date(2020, 3, 28) datetime.date(2020, 3, 29)\n",
            " datetime.date(2020, 3, 30) datetime.date(2020, 3, 31)\n",
            " datetime.date(2020, 4, 1) datetime.date(2020, 4, 2)\n",
            " datetime.date(2020, 4, 3) datetime.date(2020, 4, 4)\n",
            " datetime.date(2020, 4, 5) datetime.date(2020, 4, 6)\n",
            " datetime.date(2020, 4, 7) datetime.date(2020, 4, 8)\n",
            " datetime.date(2020, 4, 9) datetime.date(2020, 4, 10)\n",
            " datetime.date(2020, 4, 11) datetime.date(2020, 4, 12)\n",
            " datetime.date(2020, 4, 13) datetime.date(2020, 4, 14)\n",
            " datetime.date(2020, 4, 15) datetime.date(2020, 4, 16)\n",
            " datetime.date(2020, 4, 17) datetime.date(2020, 4, 18)\n",
            " datetime.date(2020, 4, 19) datetime.date(2020, 4, 20)\n",
            " datetime.date(2020, 4, 21) datetime.date(2020, 4, 22)\n",
            " datetime.date(2020, 4, 23) datetime.date(2020, 4, 24)\n",
            " datetime.date(2020, 4, 25) datetime.date(2020, 4, 26)\n",
            " datetime.date(2020, 4, 27) datetime.date(2020, 4, 28)\n",
            " datetime.date(2020, 4, 29) datetime.date(2020, 4, 30)\n",
            " datetime.date(2020, 5, 1) datetime.date(2020, 5, 2)\n",
            " datetime.date(2020, 5, 3) datetime.date(2020, 5, 4)\n",
            " datetime.date(2020, 5, 5) datetime.date(2020, 5, 6)\n",
            " datetime.date(2020, 5, 7) datetime.date(2020, 5, 8)\n",
            " datetime.date(2020, 5, 9) datetime.date(2020, 5, 10)\n",
            " datetime.date(2020, 5, 11) datetime.date(2020, 5, 12)\n",
            " datetime.date(2020, 5, 13) datetime.date(2020, 5, 14)\n",
            " datetime.date(2020, 5, 15) datetime.date(2020, 5, 16)\n",
            " datetime.date(2020, 5, 17) datetime.date(2020, 5, 18)\n",
            " datetime.date(2020, 5, 19) datetime.date(2020, 5, 20)\n",
            " datetime.date(2020, 5, 21) datetime.date(2020, 5, 22)\n",
            " datetime.date(2020, 5, 23) datetime.date(2020, 5, 24)\n",
            " datetime.date(2020, 5, 25) datetime.date(2020, 5, 26)\n",
            " datetime.date(2020, 5, 27) datetime.date(2020, 5, 28)\n",
            " datetime.date(2020, 5, 29) datetime.date(2020, 5, 30)\n",
            " datetime.date(2020, 5, 31) datetime.date(2020, 6, 1)\n",
            " datetime.date(2020, 6, 2) datetime.date(2020, 6, 3)\n",
            " datetime.date(2020, 6, 4) datetime.date(2020, 6, 5)\n",
            " datetime.date(2020, 6, 6) datetime.date(2020, 6, 7)\n",
            " datetime.date(2020, 6, 8) datetime.date(2020, 6, 9)\n",
            " datetime.date(2020, 6, 10) datetime.date(2020, 6, 11)\n",
            " datetime.date(2020, 6, 12) datetime.date(2020, 6, 13)\n",
            " datetime.date(2020, 6, 14) datetime.date(2020, 6, 15)\n",
            " datetime.date(2020, 6, 16) datetime.date(2020, 6, 17)\n",
            " datetime.date(2020, 6, 18) datetime.date(2020, 6, 19)\n",
            " datetime.date(2020, 6, 20) datetime.date(2020, 6, 21)\n",
            " datetime.date(2020, 6, 22) datetime.date(2020, 6, 23)\n",
            " datetime.date(2020, 6, 24) datetime.date(2020, 6, 25)\n",
            " datetime.date(2020, 6, 26) datetime.date(2020, 6, 27)\n",
            " datetime.date(2020, 6, 28) datetime.date(2020, 6, 29)\n",
            " datetime.date(2020, 6, 30) datetime.date(2020, 7, 1)\n",
            " datetime.date(2020, 7, 2) datetime.date(2020, 7, 3)\n",
            " datetime.date(2020, 7, 4) datetime.date(2020, 7, 5)\n",
            " datetime.date(2020, 7, 6) datetime.date(2020, 7, 7)\n",
            " datetime.date(2020, 7, 8) datetime.date(2020, 7, 9)\n",
            " datetime.date(2020, 7, 10) datetime.date(2020, 7, 11)\n",
            " datetime.date(2020, 7, 12) datetime.date(2020, 7, 13)\n",
            " datetime.date(2020, 7, 14) datetime.date(2020, 7, 15)\n",
            " datetime.date(2020, 7, 16) datetime.date(2020, 7, 17)\n",
            " datetime.date(2020, 7, 18) datetime.date(2020, 7, 19)\n",
            " datetime.date(2020, 7, 20) datetime.date(2020, 7, 21)\n",
            " datetime.date(2020, 7, 22) datetime.date(2020, 7, 23)\n",
            " datetime.date(2020, 7, 24) datetime.date(2020, 7, 25)\n",
            " datetime.date(2020, 7, 26) datetime.date(2020, 7, 27)\n",
            " datetime.date(2020, 7, 28) datetime.date(2020, 7, 29)\n",
            " datetime.date(2020, 7, 30) datetime.date(2020, 7, 31)\n",
            " datetime.date(2020, 8, 1) datetime.date(2020, 8, 2)\n",
            " datetime.date(2020, 8, 3) datetime.date(2020, 8, 4)\n",
            " datetime.date(2020, 8, 5) datetime.date(2020, 8, 6)\n",
            " datetime.date(2020, 8, 7) datetime.date(2020, 8, 8)\n",
            " datetime.date(2020, 8, 9) datetime.date(2020, 8, 10)\n",
            " datetime.date(2020, 8, 11) datetime.date(2020, 8, 12)\n",
            " datetime.date(2020, 8, 13) datetime.date(2020, 8, 14)\n",
            " datetime.date(2020, 8, 15) datetime.date(2020, 8, 16)\n",
            " datetime.date(2020, 8, 17) datetime.date(2020, 8, 18)\n",
            " datetime.date(2020, 8, 19) datetime.date(2020, 8, 20)\n",
            " datetime.date(2020, 8, 21) datetime.date(2020, 8, 22)\n",
            " datetime.date(2020, 8, 23) datetime.date(2020, 8, 24)\n",
            " datetime.date(2020, 8, 25) datetime.date(2020, 8, 26)\n",
            " datetime.date(2020, 8, 27) datetime.date(2020, 8, 28)\n",
            " datetime.date(2020, 8, 29) datetime.date(2020, 8, 30)\n",
            " datetime.date(2020, 8, 31) datetime.date(2020, 9, 1)\n",
            " datetime.date(2020, 9, 2) datetime.date(2020, 9, 3)\n",
            " datetime.date(2020, 9, 4) datetime.date(2020, 9, 5)\n",
            " datetime.date(2020, 9, 6) datetime.date(2020, 9, 7)\n",
            " datetime.date(2020, 9, 8) datetime.date(2020, 9, 9)\n",
            " datetime.date(2020, 9, 10) datetime.date(2020, 9, 11)\n",
            " datetime.date(2020, 9, 12) datetime.date(2020, 9, 13)\n",
            " datetime.date(2020, 9, 14) datetime.date(2020, 9, 15)\n",
            " datetime.date(2020, 9, 16) datetime.date(2020, 9, 17)\n",
            " datetime.date(2020, 9, 18) datetime.date(2020, 9, 19)\n",
            " datetime.date(2020, 9, 20) datetime.date(2020, 9, 21)\n",
            " datetime.date(2020, 9, 22) datetime.date(2020, 9, 23)\n",
            " datetime.date(2020, 9, 24) datetime.date(2020, 9, 25)\n",
            " datetime.date(2020, 9, 26) datetime.date(2020, 9, 27)\n",
            " datetime.date(2020, 9, 28) datetime.date(2020, 9, 29)\n",
            " datetime.date(2020, 9, 30) datetime.date(2020, 10, 1)\n",
            " datetime.date(2020, 10, 2) datetime.date(2020, 10, 3)\n",
            " datetime.date(2020, 10, 4) datetime.date(2020, 10, 5)\n",
            " datetime.date(2020, 10, 6) datetime.date(2020, 10, 7)\n",
            " datetime.date(2020, 10, 8) datetime.date(2020, 10, 9)\n",
            " datetime.date(2020, 10, 10) datetime.date(2020, 10, 11)\n",
            " datetime.date(2020, 10, 12) datetime.date(2020, 10, 13)\n",
            " datetime.date(2020, 10, 14) datetime.date(2020, 10, 15)\n",
            " datetime.date(2020, 10, 16) datetime.date(2020, 10, 17)\n",
            " datetime.date(2020, 10, 18) datetime.date(2020, 10, 19)\n",
            " datetime.date(2020, 10, 20) datetime.date(2020, 10, 21)\n",
            " datetime.date(2020, 10, 22) datetime.date(2020, 10, 23)\n",
            " datetime.date(2020, 10, 24) datetime.date(2020, 10, 25)\n",
            " datetime.date(2020, 10, 26) datetime.date(2020, 10, 27)\n",
            " datetime.date(2020, 10, 28) datetime.date(2020, 10, 29)\n",
            " datetime.date(2020, 10, 30) datetime.date(2020, 10, 31)\n",
            " datetime.date(2020, 11, 1) datetime.date(2020, 11, 2)\n",
            " datetime.date(2020, 11, 3) datetime.date(2020, 11, 4)\n",
            " datetime.date(2020, 11, 5) datetime.date(2020, 11, 6)\n",
            " datetime.date(2020, 11, 7) datetime.date(2020, 11, 8)\n",
            " datetime.date(2020, 11, 9) datetime.date(2020, 11, 10)\n",
            " datetime.date(2020, 11, 11) datetime.date(2020, 11, 12)\n",
            " datetime.date(2020, 11, 13) datetime.date(2020, 11, 14)\n",
            " datetime.date(2020, 11, 15) datetime.date(2020, 11, 16)\n",
            " datetime.date(2020, 11, 17) datetime.date(2020, 11, 18)\n",
            " datetime.date(2020, 11, 19) datetime.date(2020, 11, 20)\n",
            " datetime.date(2020, 11, 21) datetime.date(2020, 11, 22)\n",
            " datetime.date(2020, 11, 23) datetime.date(2020, 11, 24)\n",
            " datetime.date(2020, 11, 25) datetime.date(2020, 11, 26)\n",
            " datetime.date(2020, 11, 27) datetime.date(2020, 11, 28)\n",
            " datetime.date(2020, 11, 29) datetime.date(2020, 11, 30)\n",
            " datetime.date(2020, 12, 1) datetime.date(2020, 12, 2)\n",
            " datetime.date(2020, 12, 3) datetime.date(2020, 12, 4)\n",
            " datetime.date(2020, 12, 5) datetime.date(2020, 12, 6)\n",
            " datetime.date(2020, 12, 7) datetime.date(2020, 12, 8)\n",
            " datetime.date(2020, 12, 9) datetime.date(2020, 12, 10)\n",
            " datetime.date(2020, 12, 11) datetime.date(2020, 12, 12)\n",
            " datetime.date(2020, 12, 13) datetime.date(2020, 12, 14)\n",
            " datetime.date(2020, 12, 15) datetime.date(2020, 12, 16)\n",
            " datetime.date(2020, 12, 17) datetime.date(2020, 12, 18)\n",
            " datetime.date(2020, 12, 19) datetime.date(2020, 12, 20)\n",
            " datetime.date(2020, 12, 21) datetime.date(2020, 12, 22)\n",
            " datetime.date(2020, 12, 23) datetime.date(2020, 12, 24)\n",
            " datetime.date(2020, 12, 25) datetime.date(2020, 12, 26)\n",
            " datetime.date(2020, 12, 27) datetime.date(2020, 12, 28)\n",
            " datetime.date(2020, 12, 29) datetime.date(2020, 12, 30)\n",
            " datetime.date(2020, 12, 31) datetime.date(2021, 1, 1)\n",
            " datetime.date(2021, 1, 2) datetime.date(2021, 1, 3)\n",
            " datetime.date(2021, 1, 4) datetime.date(2021, 1, 5)\n",
            " datetime.date(2021, 1, 6) datetime.date(2021, 1, 7)\n",
            " datetime.date(2021, 1, 8) datetime.date(2021, 1, 9)\n",
            " datetime.date(2021, 1, 10) datetime.date(2021, 1, 11)\n",
            " datetime.date(2021, 1, 12) datetime.date(2021, 1, 13)\n",
            " datetime.date(2021, 1, 14) datetime.date(2021, 1, 15)\n",
            " datetime.date(2021, 1, 16) datetime.date(2021, 1, 17)\n",
            " datetime.date(2021, 1, 18) datetime.date(2021, 1, 19)\n",
            " datetime.date(2021, 1, 20) datetime.date(2021, 1, 21)\n",
            " datetime.date(2021, 1, 22) datetime.date(2021, 1, 23)\n",
            " datetime.date(2021, 1, 24) datetime.date(2021, 1, 25)\n",
            " datetime.date(2021, 1, 26) datetime.date(2021, 1, 27)\n",
            " datetime.date(2021, 1, 28) datetime.date(2021, 1, 29)\n",
            " datetime.date(2021, 1, 30) datetime.date(2021, 1, 31)\n",
            " datetime.date(2021, 2, 1) datetime.date(2021, 2, 2)\n",
            " datetime.date(2021, 2, 3) datetime.date(2021, 2, 4)\n",
            " datetime.date(2021, 2, 5) datetime.date(2021, 2, 6)\n",
            " datetime.date(2021, 2, 7) datetime.date(2021, 2, 8)\n",
            " datetime.date(2021, 2, 9) datetime.date(2021, 2, 10)\n",
            " datetime.date(2021, 2, 11) datetime.date(2021, 2, 12)\n",
            " datetime.date(2021, 2, 13) datetime.date(2021, 2, 14)\n",
            " datetime.date(2021, 2, 15) datetime.date(2021, 2, 16)\n",
            " datetime.date(2021, 2, 17) datetime.date(2021, 2, 18)\n",
            " datetime.date(2021, 2, 19) datetime.date(2021, 2, 20)\n",
            " datetime.date(2021, 2, 21) datetime.date(2021, 2, 22)\n",
            " datetime.date(2021, 2, 23) datetime.date(2021, 2, 24)\n",
            " datetime.date(2021, 2, 25) datetime.date(2021, 2, 26)\n",
            " datetime.date(2021, 2, 27) datetime.date(2021, 2, 28)\n",
            " datetime.date(2021, 3, 1) datetime.date(2021, 3, 2)\n",
            " datetime.date(2021, 3, 3) datetime.date(2021, 3, 4)\n",
            " datetime.date(2021, 3, 5) datetime.date(2021, 3, 6)\n",
            " datetime.date(2021, 3, 7) datetime.date(2021, 3, 8)\n",
            " datetime.date(2021, 3, 9) datetime.date(2021, 3, 10)\n",
            " datetime.date(2021, 3, 11) datetime.date(2021, 3, 12)\n",
            " datetime.date(2021, 3, 13) datetime.date(2021, 3, 14)\n",
            " datetime.date(2021, 3, 15) datetime.date(2021, 3, 16)\n",
            " datetime.date(2021, 3, 17) datetime.date(2021, 3, 18)\n",
            " datetime.date(2021, 3, 19) datetime.date(2021, 3, 20)\n",
            " datetime.date(2021, 3, 21) datetime.date(2021, 3, 22)\n",
            " datetime.date(2021, 3, 23) datetime.date(2021, 3, 24)\n",
            " datetime.date(2021, 3, 25) datetime.date(2021, 3, 26)\n",
            " datetime.date(2021, 3, 27) datetime.date(2021, 3, 28)\n",
            " datetime.date(2021, 3, 29) datetime.date(2021, 3, 30)\n",
            " datetime.date(2021, 3, 31) datetime.date(2021, 4, 1)\n",
            " datetime.date(2021, 4, 2) datetime.date(2021, 4, 3)\n",
            " datetime.date(2021, 4, 4) datetime.date(2021, 4, 5)\n",
            " datetime.date(2021, 4, 6) datetime.date(2021, 4, 7)\n",
            " datetime.date(2021, 4, 8) datetime.date(2021, 4, 9)\n",
            " datetime.date(2021, 4, 10) datetime.date(2021, 4, 11)\n",
            " datetime.date(2021, 4, 12) datetime.date(2021, 4, 13)\n",
            " datetime.date(2021, 4, 14) datetime.date(2021, 4, 15)\n",
            " datetime.date(2021, 4, 16) datetime.date(2021, 4, 17)\n",
            " datetime.date(2021, 4, 18) datetime.date(2021, 4, 19)\n",
            " datetime.date(2021, 4, 20) datetime.date(2021, 4, 21)\n",
            " datetime.date(2021, 4, 22) datetime.date(2021, 4, 23)\n",
            " datetime.date(2021, 4, 24) datetime.date(2021, 4, 25)\n",
            " datetime.date(2021, 4, 26) datetime.date(2021, 4, 27)\n",
            " datetime.date(2021, 4, 28) datetime.date(2021, 4, 29)\n",
            " datetime.date(2021, 4, 30) datetime.date(2021, 5, 1)\n",
            " datetime.date(2021, 5, 2) datetime.date(2021, 5, 3)\n",
            " datetime.date(2021, 5, 4) datetime.date(2021, 5, 5)\n",
            " datetime.date(2021, 5, 6) datetime.date(2021, 5, 7)\n",
            " datetime.date(2021, 5, 8) datetime.date(2021, 5, 9)\n",
            " datetime.date(2021, 5, 10) datetime.date(2021, 5, 11)\n",
            " datetime.date(2021, 5, 12) datetime.date(2021, 5, 13)\n",
            " datetime.date(2021, 5, 14) datetime.date(2021, 5, 15)\n",
            " datetime.date(2021, 5, 16) datetime.date(2021, 5, 17)\n",
            " datetime.date(2021, 5, 18) datetime.date(2021, 5, 19)\n",
            " datetime.date(2021, 5, 20) datetime.date(2021, 5, 21)\n",
            " datetime.date(2021, 5, 22) datetime.date(2021, 5, 23)\n",
            " datetime.date(2021, 5, 24) datetime.date(2021, 5, 25)\n",
            " datetime.date(2021, 5, 26) datetime.date(2021, 5, 27)\n",
            " datetime.date(2021, 5, 28) datetime.date(2021, 5, 29)\n",
            " datetime.date(2021, 5, 30) datetime.date(2021, 5, 31)\n",
            " datetime.date(2021, 6, 1) datetime.date(2021, 6, 2)\n",
            " datetime.date(2021, 6, 3) datetime.date(2021, 6, 4)\n",
            " datetime.date(2021, 6, 5) datetime.date(2021, 6, 6)\n",
            " datetime.date(2021, 6, 7) datetime.date(2021, 6, 8)\n",
            " datetime.date(2021, 6, 9) datetime.date(2021, 6, 10)\n",
            " datetime.date(2021, 6, 11) datetime.date(2021, 6, 12)\n",
            " datetime.date(2021, 6, 13) datetime.date(2021, 6, 14)\n",
            " datetime.date(2021, 6, 15) datetime.date(2021, 6, 16)\n",
            " datetime.date(2021, 6, 17) datetime.date(2021, 6, 18)\n",
            " datetime.date(2021, 6, 19) datetime.date(2021, 6, 20)\n",
            " datetime.date(2021, 6, 21) datetime.date(2021, 6, 22)\n",
            " datetime.date(2021, 6, 23) datetime.date(2021, 6, 24)\n",
            " datetime.date(2021, 6, 25) datetime.date(2021, 6, 26)\n",
            " datetime.date(2021, 6, 27) datetime.date(2021, 6, 28)\n",
            " datetime.date(2021, 6, 29) datetime.date(2021, 6, 30)\n",
            " datetime.date(2021, 7, 1) datetime.date(2021, 7, 2)\n",
            " datetime.date(2021, 7, 3) datetime.date(2021, 7, 4)\n",
            " datetime.date(2021, 7, 5) datetime.date(2021, 7, 6)\n",
            " datetime.date(2021, 7, 7) datetime.date(2021, 7, 8)\n",
            " datetime.date(2021, 7, 9) datetime.date(2021, 7, 10)\n",
            " datetime.date(2021, 7, 11) datetime.date(2021, 7, 12)\n",
            " datetime.date(2021, 7, 13) datetime.date(2021, 7, 14)\n",
            " datetime.date(2021, 7, 15) datetime.date(2021, 7, 16)\n",
            " datetime.date(2021, 7, 17) datetime.date(2021, 7, 18)\n",
            " datetime.date(2021, 7, 19) datetime.date(2021, 7, 20)]\n",
            "\n",
            "No missing dates in the sequence.\n"
          ]
        }
      ]
    },
    {
      "cell_type": "code",
      "source": [
        "# Fill NaN values in 'new_cases' with 0\n",
        "df_cleaned['new_deaths'] = df_cleaned['new_deaths'].fillna(0)"
      ],
      "metadata": {
        "id": "Rh2l2_5BiAIX"
      },
      "execution_count": 256,
      "outputs": []
    },
    {
      "cell_type": "code",
      "source": [
        "missing_values = df_cleaned.isnull().sum()\n",
        "print(missing_values[missing_values > 0])"
      ],
      "metadata": {
        "colab": {
          "base_uri": "https://localhost:8080/"
        },
        "id": "y8TPWXQvJHgr",
        "outputId": "da159611-4ec2-45c0-9fe1-0721c1c17f1d"
      },
      "execution_count": 257,
      "outputs": [
        {
          "output_type": "stream",
          "name": "stdout",
          "text": [
            "reproduction_rate             11801\n",
            "icu_patients                  84246\n",
            "hosp_patients                 82022\n",
            "new_tests                     48804\n",
            "positive_rate                 44585\n",
            "tests_per_case                45159\n",
            "tests_units                   39677\n",
            "people_vaccinated             79629\n",
            "people_fully_vaccinated       82342\n",
            "new_vaccinations              81588\n",
            "stringency_index               9157\n",
            "population_density             2006\n",
            "median_age                     4259\n",
            "aged_65_older                  5291\n",
            "aged_70_older                  4761\n",
            "gdp_per_capita                 4040\n",
            "extreme_poverty               33371\n",
            "cardiovasc_death_rate          3546\n",
            "diabetes_prevalence            2028\n",
            "female_smokers                23508\n",
            "male_smokers                  24507\n",
            "handwashing_facilities        48971\n",
            "hospital_beds_per_thousand    11590\n",
            "life_expectancy                 494\n",
            "human_development_index        3052\n",
            "excess_mortality              91356\n",
            "dtype: int64\n"
          ]
        }
      ]
    },
    {
      "cell_type": "code",
      "source": [
        "# Group by 'location'\n",
        "grouped = df_cleaned.groupby('location')\n",
        "\n",
        "# Function to fill NaN values in 'reproduction_rate' with the average of first and last valid values\n",
        "def fill_reproduction_rate(group):\n",
        "    first_value_index = group['reproduction_rate'].first_valid_index()\n",
        "    last_value_index = group['reproduction_rate'].last_valid_index()\n",
        "\n",
        "    if first_value_index is not None and last_value_index is not None:\n",
        "        first_value = group.loc[first_value_index, 'reproduction_rate']\n",
        "        last_value = group.loc[last_value_index, 'reproduction_rate']\n",
        "        if not pd.isna(first_value) and not pd.isna(last_value):\n",
        "            average_value = (first_value + last_value) / 2\n",
        "            group['reproduction_rate'] = group['reproduction_rate'].fillna(average_value)\n",
        "\n",
        "    return group\n",
        "\n",
        "# Apply the function to each group\n",
        "df_cleaned = grouped.apply(fill_reproduction_rate).reset_index(drop=True)\n",
        "\n",
        "# Now calculate the average reproduction_rate for each location\n",
        "location_avg = df_cleaned.groupby('location')['reproduction_rate'].transform('mean')\n",
        "\n",
        "# Fill remaining NaNs with the location-specific average, unless the average is 0\n",
        "df_cleaned['reproduction_rate'] = df_cleaned.apply(\n",
        "    lambda row: row['reproduction_rate'] if not pd.isna(row['reproduction_rate']) else (location_avg[row.name] if location_avg[row.name] != 0 else row['reproduction_rate']),\n",
        "    axis=1\n",
        ")"
      ],
      "metadata": {
        "id": "QPlEW4PmURgn"
      },
      "execution_count": 258,
      "outputs": []
    },
    {
      "cell_type": "code",
      "source": [
        "# # Finally, fill any remaining NaN values with 'No defined'\n",
        "# df_cleaned['reproduction_rate'] = df_cleaned['reproduction_rate'].fillna('No defined')"
      ],
      "metadata": {
        "id": "w2rh7Wz2Zz8v"
      },
      "execution_count": 178,
      "outputs": []
    },
    {
      "cell_type": "code",
      "source": [
        "missing_values = df_cleaned.isnull().sum()\n",
        "print(missing_values[missing_values > 0])"
      ],
      "metadata": {
        "colab": {
          "base_uri": "https://localhost:8080/"
        },
        "id": "gnlbIqvIVfEz",
        "outputId": "74235814-8954-404e-a795-673144709653"
      },
      "execution_count": 259,
      "outputs": [
        {
          "output_type": "stream",
          "name": "stdout",
          "text": [
            "reproduction_rate              2338\n",
            "icu_patients                  84246\n",
            "hosp_patients                 82022\n",
            "new_tests                     48804\n",
            "positive_rate                 44585\n",
            "tests_per_case                45159\n",
            "tests_units                   39677\n",
            "people_vaccinated             79629\n",
            "people_fully_vaccinated       82342\n",
            "new_vaccinations              81588\n",
            "stringency_index               9157\n",
            "population_density             2006\n",
            "median_age                     4259\n",
            "aged_65_older                  5291\n",
            "aged_70_older                  4761\n",
            "gdp_per_capita                 4040\n",
            "extreme_poverty               33371\n",
            "cardiovasc_death_rate          3546\n",
            "diabetes_prevalence            2028\n",
            "female_smokers                23508\n",
            "male_smokers                  24507\n",
            "handwashing_facilities        48971\n",
            "hospital_beds_per_thousand    11590\n",
            "life_expectancy                 494\n",
            "human_development_index        3052\n",
            "excess_mortality              91356\n",
            "dtype: int64\n"
          ]
        }
      ]
    },
    {
      "cell_type": "code",
      "source": [
        "# Filter locations with missing values in 'life_expectancy'\n",
        "locations_with_missing_life_expectancy = df_cleaned[df_cleaned['life_expectancy'].isna()]['location'].unique()\n",
        "\n",
        "# Print the locations with missing life expectancy\n",
        "print(\"Locations with missing life expectancy:\")\n",
        "print(locations_with_missing_life_expectancy)\n"
      ],
      "metadata": {
        "colab": {
          "base_uri": "https://localhost:8080/"
        },
        "id": "NdY5pcBvausZ",
        "outputId": "d2a50ca4-9359-4217-adc3-caa3a862b3f9"
      },
      "execution_count": 260,
      "outputs": [
        {
          "output_type": "stream",
          "name": "stdout",
          "text": [
            "Locations with missing life expectancy:\n",
            "['Kosovo']\n"
          ]
        }
      ]
    },
    {
      "cell_type": "code",
      "source": [
        "# Filter the DataFrame for entries where the location is 'Kosovo'\n",
        "kosovo_data = df_cleaned[df_cleaned['location'] == 'Kosovo']\n",
        "\n",
        "# Print unique values of life_expectancy for Kosovo\n",
        "unique_life_expectancy_kosovo = kosovo_data['life_expectancy'].unique()\n",
        "print(\"Unique values of life expectancy for Kosovo:\")\n",
        "print(unique_life_expectancy_kosovo)"
      ],
      "metadata": {
        "colab": {
          "base_uri": "https://localhost:8080/"
        },
        "id": "nlwqqZbxlYcP",
        "outputId": "30c068bd-c8de-41ab-e751-38c87eebb7d6"
      },
      "execution_count": 261,
      "outputs": [
        {
          "output_type": "stream",
          "name": "stdout",
          "text": [
            "Unique values of life expectancy for Kosovo:\n",
            "[nan]\n"
          ]
        }
      ]
    },
    {
      "cell_type": "markdown",
      "source": [
        "To fill Nan values for Kosovo i use info from https://tradingeconomics.com/kosovo/life-expectancy-at-birth-total-years-wb-data.html"
      ],
      "metadata": {
        "id": "LtGZIi-OluKs"
      }
    },
    {
      "cell_type": "code",
      "source": [
        "# Replace NaN values of life_expectancy with 76.57 in the entire DataFrame\n",
        "df_cleaned['life_expectancy'].fillna(76.57, inplace=True)\n"
      ],
      "metadata": {
        "id": "BBLXyPf7l0Ro"
      },
      "execution_count": 262,
      "outputs": []
    },
    {
      "cell_type": "code",
      "source": [
        "missing_values = df_cleaned.isnull().sum()\n",
        "print(missing_values[missing_values > 0])"
      ],
      "metadata": {
        "colab": {
          "base_uri": "https://localhost:8080/"
        },
        "id": "YbkF39bHmAav",
        "outputId": "93a14e86-ffbb-4c17-df20-4769dcbec64f"
      },
      "execution_count": 263,
      "outputs": [
        {
          "output_type": "stream",
          "name": "stdout",
          "text": [
            "reproduction_rate              2338\n",
            "icu_patients                  84246\n",
            "hosp_patients                 82022\n",
            "new_tests                     48804\n",
            "positive_rate                 44585\n",
            "tests_per_case                45159\n",
            "tests_units                   39677\n",
            "people_vaccinated             79629\n",
            "people_fully_vaccinated       82342\n",
            "new_vaccinations              81588\n",
            "stringency_index               9157\n",
            "population_density             2006\n",
            "median_age                     4259\n",
            "aged_65_older                  5291\n",
            "aged_70_older                  4761\n",
            "gdp_per_capita                 4040\n",
            "extreme_poverty               33371\n",
            "cardiovasc_death_rate          3546\n",
            "diabetes_prevalence            2028\n",
            "female_smokers                23508\n",
            "male_smokers                  24507\n",
            "handwashing_facilities        48971\n",
            "hospital_beds_per_thousand    11590\n",
            "human_development_index        3052\n",
            "excess_mortality              91356\n",
            "dtype: int64\n"
          ]
        }
      ]
    },
    {
      "cell_type": "code",
      "source": [
        "print(df_cleaned.head())"
      ],
      "metadata": {
        "colab": {
          "base_uri": "https://localhost:8080/"
        },
        "id": "Y2VP3vrGmZhB",
        "outputId": "5078e833-ff81-4e33-b717-d68b12f1cbc3"
      },
      "execution_count": 264,
      "outputs": [
        {
          "output_type": "stream",
          "name": "stdout",
          "text": [
            "  iso_code continent     location       date  new_cases  new_deaths  \\\n",
            "0      AFG      Asia  Afghanistan 2020-02-24        1.0         0.0   \n",
            "1      AFG      Asia  Afghanistan 2020-02-25        0.0         0.0   \n",
            "2      AFG      Asia  Afghanistan 2020-02-26        0.0         0.0   \n",
            "3      AFG      Asia  Afghanistan 2020-02-27        0.0         0.0   \n",
            "4      AFG      Asia  Afghanistan 2020-02-28        0.0         0.0   \n",
            "\n",
            "   reproduction_rate  icu_patients  hosp_patients  new_tests  ...  \\\n",
            "0              1.175           NaN            NaN        NaN  ...   \n",
            "1              1.175           NaN            NaN        NaN  ...   \n",
            "2              1.175           NaN            NaN        NaN  ...   \n",
            "3              1.175           NaN            NaN        NaN  ...   \n",
            "4              1.175           NaN            NaN        NaN  ...   \n",
            "\n",
            "   extreme_poverty  cardiovasc_death_rate diabetes_prevalence  female_smokers  \\\n",
            "0              NaN                597.029                9.59             NaN   \n",
            "1              NaN                597.029                9.59             NaN   \n",
            "2              NaN                597.029                9.59             NaN   \n",
            "3              NaN                597.029                9.59             NaN   \n",
            "4              NaN                597.029                9.59             NaN   \n",
            "\n",
            "   male_smokers  handwashing_facilities  hospital_beds_per_thousand  \\\n",
            "0           NaN                  37.746                         0.5   \n",
            "1           NaN                  37.746                         0.5   \n",
            "2           NaN                  37.746                         0.5   \n",
            "3           NaN                  37.746                         0.5   \n",
            "4           NaN                  37.746                         0.5   \n",
            "\n",
            "   life_expectancy  human_development_index  excess_mortality  \n",
            "0            64.83                    0.511               NaN  \n",
            "1            64.83                    0.511               NaN  \n",
            "2            64.83                    0.511               NaN  \n",
            "3            64.83                    0.511               NaN  \n",
            "4            64.83                    0.511               NaN  \n",
            "\n",
            "[5 rows x 33 columns]\n"
          ]
        }
      ]
    },
    {
      "cell_type": "code",
      "source": [
        "# Filter human_development_index\n",
        "locations_with_human_development_index = df_cleaned[df_cleaned['human_development_index'].isna()]['location'].unique()\n",
        "\n",
        "# Print the locations with missing life expectancy\n",
        "print(\"Locations with missing human_development_index:\")\n",
        "print(locations_with_human_development_index)"
      ],
      "metadata": {
        "colab": {
          "base_uri": "https://localhost:8080/"
        },
        "id": "BjL662OCpW_q",
        "outputId": "73849c81-ec81-4575-f1e5-4f232d85f66c"
      },
      "execution_count": 265,
      "outputs": [
        {
          "output_type": "stream",
          "name": "stdout",
          "text": [
            "Locations with missing human_development_index:\n",
            "['Kosovo' 'Monaco' 'San Marino' 'Somalia' 'Taiwan' 'Vatican']\n"
          ]
        }
      ]
    },
    {
      "cell_type": "markdown",
      "source": [
        "Fill this empty cells using https://hdr.undp.org/data-center/country-insights#/ranks"
      ],
      "metadata": {
        "id": "9I6kFkyYrgVq"
      }
    },
    {
      "cell_type": "code",
      "source": [
        "# Dictionary containing values to fill for each country\n",
        "fill_values = {\n",
        "    'Kosovo': 0.787,\n",
        "    'Monaco': 0.956,\n",
        "    'San Marino': 0.961,\n",
        "    'Somalia': 0.380,\n",
        "    'Taiwan': 0.926,\n",
        "    'Vatican': 0.000\n",
        "}\n",
        "\n",
        "# Fill empty values in 'human_development_index' column based on the dictionary\n",
        "for country, value in fill_values.items():\n",
        "    df_cleaned.loc[df_cleaned['location'] == country, 'human_development_index'] = df_cleaned.loc[df_cleaned['location'] == country, 'human_development_index'].fillna(value)\n",
        "\n",
        "# Print the DataFrame to verify changes\n",
        "print(df_cleaned[df_cleaned['location'].isin(fill_values.keys())])\n"
      ],
      "metadata": {
        "colab": {
          "base_uri": "https://localhost:8080/"
        },
        "id": "GARQmLkJrmNS",
        "outputId": "05707b97-ceaf-4114-a890-806a52980e0e"
      },
      "execution_count": 266,
      "outputs": [
        {
          "output_type": "stream",
          "name": "stdout",
          "text": [
            "       iso_code continent location       date  new_cases  new_deaths  \\\n",
            "44973  OWID_KOS    Europe   Kosovo 2020-03-14        2.0         0.0   \n",
            "44974  OWID_KOS    Europe   Kosovo 2020-03-15        3.0         0.0   \n",
            "44975  OWID_KOS    Europe   Kosovo 2020-03-16        8.0         0.0   \n",
            "44976  OWID_KOS    Europe   Kosovo 2020-03-17        3.0         0.0   \n",
            "44977  OWID_KOS    Europe   Kosovo 2020-03-18        3.0         0.0   \n",
            "...         ...       ...      ...        ...        ...         ...   \n",
            "92476       VAT    Europe  Vatican 2021-07-16        0.0         0.0   \n",
            "92477       VAT    Europe  Vatican 2021-07-17        0.0         0.0   \n",
            "92478       VAT    Europe  Vatican 2021-07-18        0.0         0.0   \n",
            "92479       VAT    Europe  Vatican 2021-07-19        0.0         0.0   \n",
            "92480       VAT    Europe  Vatican 2021-07-20        0.0         0.0   \n",
            "\n",
            "       reproduction_rate  icu_patients  hosp_patients  new_tests  ...  \\\n",
            "44973                0.9           NaN            NaN        NaN  ...   \n",
            "44974                0.9           NaN            NaN        NaN  ...   \n",
            "44975                0.9           NaN            NaN        NaN  ...   \n",
            "44976                0.9           NaN            NaN        NaN  ...   \n",
            "44977                0.9           NaN            NaN        NaN  ...   \n",
            "...                  ...           ...            ...        ...  ...   \n",
            "92476                NaN           NaN            NaN        NaN  ...   \n",
            "92477                NaN           NaN            NaN        NaN  ...   \n",
            "92478                NaN           NaN            NaN        NaN  ...   \n",
            "92479                NaN           NaN            NaN        NaN  ...   \n",
            "92480                NaN           NaN            NaN        NaN  ...   \n",
            "\n",
            "       extreme_poverty  cardiovasc_death_rate diabetes_prevalence  \\\n",
            "44973              0.6                    NaN                 NaN   \n",
            "44974              0.6                    NaN                 NaN   \n",
            "44975              0.6                    NaN                 NaN   \n",
            "44976              0.6                    NaN                 NaN   \n",
            "44977              0.6                    NaN                 NaN   \n",
            "...                ...                    ...                 ...   \n",
            "92476              NaN                    NaN                 NaN   \n",
            "92477              NaN                    NaN                 NaN   \n",
            "92478              NaN                    NaN                 NaN   \n",
            "92479              NaN                    NaN                 NaN   \n",
            "92480              NaN                    NaN                 NaN   \n",
            "\n",
            "       female_smokers  male_smokers  handwashing_facilities  \\\n",
            "44973             NaN           NaN                     NaN   \n",
            "44974             NaN           NaN                     NaN   \n",
            "44975             NaN           NaN                     NaN   \n",
            "44976             NaN           NaN                     NaN   \n",
            "44977             NaN           NaN                     NaN   \n",
            "...               ...           ...                     ...   \n",
            "92476             NaN           NaN                     NaN   \n",
            "92477             NaN           NaN                     NaN   \n",
            "92478             NaN           NaN                     NaN   \n",
            "92479             NaN           NaN                     NaN   \n",
            "92480             NaN           NaN                     NaN   \n",
            "\n",
            "       hospital_beds_per_thousand  life_expectancy  human_development_index  \\\n",
            "44973                         NaN            76.57                    0.787   \n",
            "44974                         NaN            76.57                    0.787   \n",
            "44975                         NaN            76.57                    0.787   \n",
            "44976                         NaN            76.57                    0.787   \n",
            "44977                         NaN            76.57                    0.787   \n",
            "...                           ...              ...                      ...   \n",
            "92476                         NaN            75.12                    0.000   \n",
            "92477                         NaN            75.12                    0.000   \n",
            "92478                         NaN            75.12                    0.000   \n",
            "92479                         NaN            75.12                    0.000   \n",
            "92480                         NaN            75.12                    0.000   \n",
            "\n",
            "       excess_mortality  \n",
            "44973               NaN  \n",
            "44974               NaN  \n",
            "44975               NaN  \n",
            "44976               NaN  \n",
            "44977               NaN  \n",
            "...                 ...  \n",
            "92476               NaN  \n",
            "92477               NaN  \n",
            "92478               NaN  \n",
            "92479               NaN  \n",
            "92480               NaN  \n",
            "\n",
            "[3052 rows x 33 columns]\n"
          ]
        }
      ]
    },
    {
      "cell_type": "code",
      "source": [
        "missing_values = df_cleaned.isnull().sum()\n",
        "print(missing_values[missing_values > 0])"
      ],
      "metadata": {
        "colab": {
          "base_uri": "https://localhost:8080/"
        },
        "id": "1kfjrOvzsls2",
        "outputId": "d6c0ae0b-7184-423a-a0f2-932d1992733c"
      },
      "execution_count": 267,
      "outputs": [
        {
          "output_type": "stream",
          "name": "stdout",
          "text": [
            "reproduction_rate              2338\n",
            "icu_patients                  84246\n",
            "hosp_patients                 82022\n",
            "new_tests                     48804\n",
            "positive_rate                 44585\n",
            "tests_per_case                45159\n",
            "tests_units                   39677\n",
            "people_vaccinated             79629\n",
            "people_fully_vaccinated       82342\n",
            "new_vaccinations              81588\n",
            "stringency_index               9157\n",
            "population_density             2006\n",
            "median_age                     4259\n",
            "aged_65_older                  5291\n",
            "aged_70_older                  4761\n",
            "gdp_per_capita                 4040\n",
            "extreme_poverty               33371\n",
            "cardiovasc_death_rate          3546\n",
            "diabetes_prevalence            2028\n",
            "female_smokers                23508\n",
            "male_smokers                  24507\n",
            "handwashing_facilities        48971\n",
            "hospital_beds_per_thousand    11590\n",
            "excess_mortality              91356\n",
            "dtype: int64\n"
          ]
        }
      ]
    },
    {
      "cell_type": "code",
      "source": [
        "# Print all unique values for the 'location' column\n",
        "unique_locations = df_cleaned['location'].unique()\n",
        "print(unique_locations)"
      ],
      "metadata": {
        "colab": {
          "base_uri": "https://localhost:8080/"
        },
        "id": "VNqhw5lsur8o",
        "outputId": "bead848a-faad-45d2-a089-2c127af4621f"
      },
      "execution_count": 268,
      "outputs": [
        {
          "output_type": "stream",
          "name": "stdout",
          "text": [
            "['Afghanistan' 'Albania' 'Algeria' 'Andorra' 'Angola'\n",
            " 'Antigua and Barbuda' 'Argentina' 'Armenia' 'Australia' 'Austria'\n",
            " 'Azerbaijan' 'Bahamas' 'Bahrain' 'Bangladesh' 'Barbados' 'Belarus'\n",
            " 'Belgium' 'Belize' 'Benin' 'Bhutan' 'Bolivia' 'Bosnia and Herzegovina'\n",
            " 'Botswana' 'Brazil' 'Brunei' 'Bulgaria' 'Burkina Faso' 'Burundi'\n",
            " 'Cambodia' 'Cameroon' 'Canada' 'Cape Verde' 'Central African Republic'\n",
            " 'Chad' 'Chile' 'China' 'Colombia' 'Comoros' 'Congo' 'Costa Rica'\n",
            " \"Cote d'Ivoire\" 'Croatia' 'Cuba' 'Cyprus' 'Czechia'\n",
            " 'Democratic Republic of Congo' 'Denmark' 'Djibouti' 'Dominica'\n",
            " 'Dominican Republic' 'Ecuador' 'Egypt' 'El Salvador' 'Equatorial Guinea'\n",
            " 'Eritrea' 'Estonia' 'Eswatini' 'Ethiopia' 'Fiji' 'Finland' 'France'\n",
            " 'Gabon' 'Gambia' 'Georgia' 'Germany' 'Ghana' 'Greece' 'Grenada'\n",
            " 'Guatemala' 'Guinea' 'Guinea-Bissau' 'Guyana' 'Haiti' 'Honduras'\n",
            " 'Hong Kong' 'Hungary' 'Iceland' 'India' 'Indonesia' 'Iran' 'Iraq'\n",
            " 'Ireland' 'Israel' 'Italy' 'Jamaica' 'Japan' 'Jordan' 'Kazakhstan'\n",
            " 'Kenya' 'Kiribati' 'Kosovo' 'Kuwait' 'Kyrgyzstan' 'Laos' 'Latvia'\n",
            " 'Lebanon' 'Lesotho' 'Liberia' 'Libya' 'Liechtenstein' 'Lithuania'\n",
            " 'Luxembourg' 'Madagascar' 'Malawi' 'Malaysia' 'Maldives' 'Mali' 'Malta'\n",
            " 'Marshall Islands' 'Mauritania' 'Mauritius' 'Mexico'\n",
            " 'Micronesia (country)' 'Moldova' 'Monaco' 'Mongolia' 'Montenegro'\n",
            " 'Morocco' 'Mozambique' 'Myanmar' 'Namibia' 'Nepal' 'Netherlands'\n",
            " 'New Zealand' 'Nicaragua' 'Niger' 'Nigeria' 'North Macedonia' 'Norway'\n",
            " 'Oman' 'Pakistan' 'Palestine' 'Panama' 'Papua New Guinea' 'Paraguay'\n",
            " 'Peru' 'Philippines' 'Poland' 'Portugal' 'Qatar' 'Romania' 'Russia'\n",
            " 'Rwanda' 'Saint Kitts and Nevis' 'Saint Lucia'\n",
            " 'Saint Vincent and the Grenadines' 'Samoa' 'San Marino'\n",
            " 'Sao Tome and Principe' 'Saudi Arabia' 'Senegal' 'Serbia' 'Seychelles'\n",
            " 'Sierra Leone' 'Singapore' 'Slovakia' 'Slovenia' 'Solomon Islands'\n",
            " 'Somalia' 'South Africa' 'South Korea' 'South Sudan' 'Spain' 'Sri Lanka'\n",
            " 'Sudan' 'Suriname' 'Sweden' 'Switzerland' 'Syria' 'Taiwan' 'Tajikistan'\n",
            " 'Tanzania' 'Thailand' 'Timor' 'Togo' 'Trinidad and Tobago' 'Tunisia'\n",
            " 'Turkey' 'Uganda' 'Ukraine' 'United Arab Emirates' 'United Kingdom'\n",
            " 'United States' 'Uruguay' 'Uzbekistan' 'Vanuatu' 'Vatican' 'Venezuela'\n",
            " 'Vietnam' 'Yemen' 'Zambia' 'Zimbabwe']\n"
          ]
        }
      ]
    },
    {
      "cell_type": "code",
      "source": [
        "!pip install countryinfo"
      ],
      "metadata": {
        "colab": {
          "base_uri": "https://localhost:8080/"
        },
        "id": "1EWXSF73vTj-",
        "outputId": "87aac463-0d76-4d10-eaee-c1f1e6511482"
      },
      "execution_count": 269,
      "outputs": [
        {
          "output_type": "stream",
          "name": "stdout",
          "text": [
            "Requirement already satisfied: countryinfo in /usr/local/lib/python3.10/dist-packages (0.1.2)\n"
          ]
        }
      ]
    },
    {
      "cell_type": "code",
      "source": [
        "from countryinfo import CountryInfo\n",
        "\n",
        "# List of countries\n",
        "countries = ['Afghanistan', 'Albania', 'Algeria', 'Andorra', 'Angola', 'Antigua and Barbuda', 'Argentina', 'Armenia', 'Australia', 'Austria', 'Azerbaijan', 'Bahamas', 'Bahrain', 'Bangladesh', 'Barbados', 'Belarus', 'Belgium', 'Belize', 'Benin', 'Bhutan', 'Bolivia', 'Bosnia and Herzegovina', 'Botswana', 'Brazil', 'Brunei', 'Bulgaria', 'Burkina Faso', 'Burundi', 'Cambodia', 'Cameroon', 'Canada', 'Cape Verde', 'Central African Republic', 'Chad', 'Chile', 'China', 'Colombia', 'Comoros', 'Congo', 'Costa Rica', \"Cote d'Ivoire\", 'Croatia', 'Cuba', 'Cyprus', 'Czechia', 'Democratic Republic of Congo', 'Denmark', 'Djibouti', 'Dominica', 'Dominican Republic', 'Ecuador', 'Egypt', 'El Salvador', 'Equatorial Guinea', 'Eritrea', 'Estonia', 'Eswatini', 'Ethiopia', 'Fiji', 'Finland', 'France', 'Gabon', 'Gambia', 'Georgia', 'Germany', 'Ghana', 'Greece', 'Grenada', 'Guatemala', 'Guinea', 'Guinea-Bissau', 'Guyana', 'Haiti', 'Honduras', 'Hong Kong', 'Hungary', 'Iceland', 'India', 'Indonesia', 'Iran', 'Iraq', 'Ireland', 'Israel', 'Italy', 'Jamaica', 'Japan', 'Jordan', 'Kazakhstan', 'Kenya', 'Kiribati', 'Kosovo', 'Kuwait', 'Kyrgyzstan', 'Laos', 'Latvia', 'Lebanon', 'Lesotho', 'Liberia', 'Libya', 'Liechtenstein', 'Lithuania', 'Luxembourg', 'Madagascar', 'Malawi', 'Malaysia', 'Maldives', 'Mali', 'Malta', 'Marshall Islands', 'Mauritania', 'Mauritius', 'Mexico', 'Micronesia (country)', 'Moldova', 'Monaco', 'Mongolia', 'Montenegro', 'Morocco', 'Mozambique', 'Myanmar', 'Namibia', 'Nepal', 'Netherlands', 'New Zealand', 'Nicaragua', 'Niger', 'Nigeria', 'North Macedonia', 'Norway', 'Oman', 'Pakistan', 'Palestine', 'Panama', 'Papua New Guinea', 'Paraguay', 'Peru', 'Philippines', 'Poland', 'Portugal', 'Qatar', 'Romania', 'Russia', 'Rwanda', 'Saint Kitts and Nevis', 'Saint Lucia', 'Saint Vincent and the Grenadines', 'Samoa', 'San Marino', 'Sao Tome and Principe', 'Saudi Arabia', 'Senegal', 'Serbia', 'Seychelles', 'Sierra Leone', 'Singapore', 'Slovakia', 'Slovenia', 'Solomon Islands', 'Somalia', 'South Africa', 'South Korea', 'South Sudan', 'Spain', 'Sri Lanka', 'Sudan', 'Suriname', 'Sweden', 'Switzerland', 'Syria', 'Taiwan', 'Tajikistan', 'Tanzania', 'Thailand', 'Timor', 'Togo', 'Trinidad and Tobago', 'Tunisia', 'Turkey', 'Uganda', 'Ukraine', 'United Arab Emirates', 'United Kingdom', 'United States', 'Uruguay', 'Uzbekistan', 'Vanuatu', 'Vatican', 'Venezuela', 'Vietnam', 'Yemen', 'Zambia', 'Zimbabwe']\n",
        "\n",
        "# Fetch land area data for each country\n",
        "land_areas = {}\n",
        "for country in countries:\n",
        "    try:\n",
        "        info = CountryInfo(country)\n",
        "        land_area = info.area()\n",
        "        if land_area:\n",
        "            land_areas[country] = land_area\n",
        "        else:\n",
        "            print(f\"No land area information available for {country}\")\n",
        "    except KeyError:\n",
        "        print(f\"No land area information available for {country}\")\n",
        "\n",
        "# Create a new column 'land_area' based on the dictionary\n",
        "df_cleaned['land_area'] = df_cleaned['location'].map(land_areas)\n"
      ],
      "metadata": {
        "colab": {
          "base_uri": "https://localhost:8080/"
        },
        "id": "p3FFH71tvbqV",
        "outputId": "43bc1b55-4c80-41d4-fd46-03314e842216"
      },
      "execution_count": 270,
      "outputs": [
        {
          "output_type": "stream",
          "name": "stdout",
          "text": [
            "No land area information available for Andorra\n",
            "No land area information available for Bahamas\n",
            "No land area information available for Congo\n",
            "No land area information available for Cote d'Ivoire\n",
            "No land area information available for Czechia\n",
            "No land area information available for Democratic Republic of Congo\n",
            "No land area information available for Eswatini\n",
            "No land area information available for Gambia\n",
            "No land area information available for Kosovo\n",
            "No land area information available for Micronesia (country)\n",
            "No land area information available for Montenegro\n",
            "No land area information available for Myanmar\n",
            "No land area information available for North Macedonia\n",
            "No land area information available for Palestine\n",
            "No land area information available for Sao Tome and Principe\n",
            "No land area information available for Timor\n",
            "No land area information available for Vatican\n"
          ]
        }
      ]
    },
    {
      "cell_type": "code",
      "source": [
        "df_cleaned.head()"
      ],
      "metadata": {
        "colab": {
          "base_uri": "https://localhost:8080/",
          "height": 342
        },
        "id": "Z16_SOlK0CcO",
        "outputId": "284cf4a1-1975-44f4-8ea2-fd5784c5c637"
      },
      "execution_count": 271,
      "outputs": [
        {
          "output_type": "execute_result",
          "data": {
            "text/plain": [
              "  iso_code continent     location       date  new_cases  new_deaths  \\\n",
              "0      AFG      Asia  Afghanistan 2020-02-24        1.0         0.0   \n",
              "1      AFG      Asia  Afghanistan 2020-02-25        0.0         0.0   \n",
              "2      AFG      Asia  Afghanistan 2020-02-26        0.0         0.0   \n",
              "3      AFG      Asia  Afghanistan 2020-02-27        0.0         0.0   \n",
              "4      AFG      Asia  Afghanistan 2020-02-28        0.0         0.0   \n",
              "\n",
              "   reproduction_rate  icu_patients  hosp_patients  new_tests  ...  \\\n",
              "0              1.175           NaN            NaN        NaN  ...   \n",
              "1              1.175           NaN            NaN        NaN  ...   \n",
              "2              1.175           NaN            NaN        NaN  ...   \n",
              "3              1.175           NaN            NaN        NaN  ...   \n",
              "4              1.175           NaN            NaN        NaN  ...   \n",
              "\n",
              "   cardiovasc_death_rate  diabetes_prevalence female_smokers  male_smokers  \\\n",
              "0                597.029                 9.59            NaN           NaN   \n",
              "1                597.029                 9.59            NaN           NaN   \n",
              "2                597.029                 9.59            NaN           NaN   \n",
              "3                597.029                 9.59            NaN           NaN   \n",
              "4                597.029                 9.59            NaN           NaN   \n",
              "\n",
              "   handwashing_facilities  hospital_beds_per_thousand  life_expectancy  \\\n",
              "0                  37.746                         0.5            64.83   \n",
              "1                  37.746                         0.5            64.83   \n",
              "2                  37.746                         0.5            64.83   \n",
              "3                  37.746                         0.5            64.83   \n",
              "4                  37.746                         0.5            64.83   \n",
              "\n",
              "   human_development_index  excess_mortality  land_area  \n",
              "0                    0.511               NaN   652230.0  \n",
              "1                    0.511               NaN   652230.0  \n",
              "2                    0.511               NaN   652230.0  \n",
              "3                    0.511               NaN   652230.0  \n",
              "4                    0.511               NaN   652230.0  \n",
              "\n",
              "[5 rows x 34 columns]"
            ],
            "text/html": [
              "\n",
              "  <div id=\"df-c1a7cef1-6be7-43d1-a6a4-a30ad6a7d11f\" class=\"colab-df-container\">\n",
              "    <div>\n",
              "<style scoped>\n",
              "    .dataframe tbody tr th:only-of-type {\n",
              "        vertical-align: middle;\n",
              "    }\n",
              "\n",
              "    .dataframe tbody tr th {\n",
              "        vertical-align: top;\n",
              "    }\n",
              "\n",
              "    .dataframe thead th {\n",
              "        text-align: right;\n",
              "    }\n",
              "</style>\n",
              "<table border=\"1\" class=\"dataframe\">\n",
              "  <thead>\n",
              "    <tr style=\"text-align: right;\">\n",
              "      <th></th>\n",
              "      <th>iso_code</th>\n",
              "      <th>continent</th>\n",
              "      <th>location</th>\n",
              "      <th>date</th>\n",
              "      <th>new_cases</th>\n",
              "      <th>new_deaths</th>\n",
              "      <th>reproduction_rate</th>\n",
              "      <th>icu_patients</th>\n",
              "      <th>hosp_patients</th>\n",
              "      <th>new_tests</th>\n",
              "      <th>...</th>\n",
              "      <th>cardiovasc_death_rate</th>\n",
              "      <th>diabetes_prevalence</th>\n",
              "      <th>female_smokers</th>\n",
              "      <th>male_smokers</th>\n",
              "      <th>handwashing_facilities</th>\n",
              "      <th>hospital_beds_per_thousand</th>\n",
              "      <th>life_expectancy</th>\n",
              "      <th>human_development_index</th>\n",
              "      <th>excess_mortality</th>\n",
              "      <th>land_area</th>\n",
              "    </tr>\n",
              "  </thead>\n",
              "  <tbody>\n",
              "    <tr>\n",
              "      <th>0</th>\n",
              "      <td>AFG</td>\n",
              "      <td>Asia</td>\n",
              "      <td>Afghanistan</td>\n",
              "      <td>2020-02-24</td>\n",
              "      <td>1.0</td>\n",
              "      <td>0.0</td>\n",
              "      <td>1.175</td>\n",
              "      <td>NaN</td>\n",
              "      <td>NaN</td>\n",
              "      <td>NaN</td>\n",
              "      <td>...</td>\n",
              "      <td>597.029</td>\n",
              "      <td>9.59</td>\n",
              "      <td>NaN</td>\n",
              "      <td>NaN</td>\n",
              "      <td>37.746</td>\n",
              "      <td>0.5</td>\n",
              "      <td>64.83</td>\n",
              "      <td>0.511</td>\n",
              "      <td>NaN</td>\n",
              "      <td>652230.0</td>\n",
              "    </tr>\n",
              "    <tr>\n",
              "      <th>1</th>\n",
              "      <td>AFG</td>\n",
              "      <td>Asia</td>\n",
              "      <td>Afghanistan</td>\n",
              "      <td>2020-02-25</td>\n",
              "      <td>0.0</td>\n",
              "      <td>0.0</td>\n",
              "      <td>1.175</td>\n",
              "      <td>NaN</td>\n",
              "      <td>NaN</td>\n",
              "      <td>NaN</td>\n",
              "      <td>...</td>\n",
              "      <td>597.029</td>\n",
              "      <td>9.59</td>\n",
              "      <td>NaN</td>\n",
              "      <td>NaN</td>\n",
              "      <td>37.746</td>\n",
              "      <td>0.5</td>\n",
              "      <td>64.83</td>\n",
              "      <td>0.511</td>\n",
              "      <td>NaN</td>\n",
              "      <td>652230.0</td>\n",
              "    </tr>\n",
              "    <tr>\n",
              "      <th>2</th>\n",
              "      <td>AFG</td>\n",
              "      <td>Asia</td>\n",
              "      <td>Afghanistan</td>\n",
              "      <td>2020-02-26</td>\n",
              "      <td>0.0</td>\n",
              "      <td>0.0</td>\n",
              "      <td>1.175</td>\n",
              "      <td>NaN</td>\n",
              "      <td>NaN</td>\n",
              "      <td>NaN</td>\n",
              "      <td>...</td>\n",
              "      <td>597.029</td>\n",
              "      <td>9.59</td>\n",
              "      <td>NaN</td>\n",
              "      <td>NaN</td>\n",
              "      <td>37.746</td>\n",
              "      <td>0.5</td>\n",
              "      <td>64.83</td>\n",
              "      <td>0.511</td>\n",
              "      <td>NaN</td>\n",
              "      <td>652230.0</td>\n",
              "    </tr>\n",
              "    <tr>\n",
              "      <th>3</th>\n",
              "      <td>AFG</td>\n",
              "      <td>Asia</td>\n",
              "      <td>Afghanistan</td>\n",
              "      <td>2020-02-27</td>\n",
              "      <td>0.0</td>\n",
              "      <td>0.0</td>\n",
              "      <td>1.175</td>\n",
              "      <td>NaN</td>\n",
              "      <td>NaN</td>\n",
              "      <td>NaN</td>\n",
              "      <td>...</td>\n",
              "      <td>597.029</td>\n",
              "      <td>9.59</td>\n",
              "      <td>NaN</td>\n",
              "      <td>NaN</td>\n",
              "      <td>37.746</td>\n",
              "      <td>0.5</td>\n",
              "      <td>64.83</td>\n",
              "      <td>0.511</td>\n",
              "      <td>NaN</td>\n",
              "      <td>652230.0</td>\n",
              "    </tr>\n",
              "    <tr>\n",
              "      <th>4</th>\n",
              "      <td>AFG</td>\n",
              "      <td>Asia</td>\n",
              "      <td>Afghanistan</td>\n",
              "      <td>2020-02-28</td>\n",
              "      <td>0.0</td>\n",
              "      <td>0.0</td>\n",
              "      <td>1.175</td>\n",
              "      <td>NaN</td>\n",
              "      <td>NaN</td>\n",
              "      <td>NaN</td>\n",
              "      <td>...</td>\n",
              "      <td>597.029</td>\n",
              "      <td>9.59</td>\n",
              "      <td>NaN</td>\n",
              "      <td>NaN</td>\n",
              "      <td>37.746</td>\n",
              "      <td>0.5</td>\n",
              "      <td>64.83</td>\n",
              "      <td>0.511</td>\n",
              "      <td>NaN</td>\n",
              "      <td>652230.0</td>\n",
              "    </tr>\n",
              "  </tbody>\n",
              "</table>\n",
              "<p>5 rows × 34 columns</p>\n",
              "</div>\n",
              "    <div class=\"colab-df-buttons\">\n",
              "\n",
              "  <div class=\"colab-df-container\">\n",
              "    <button class=\"colab-df-convert\" onclick=\"convertToInteractive('df-c1a7cef1-6be7-43d1-a6a4-a30ad6a7d11f')\"\n",
              "            title=\"Convert this dataframe to an interactive table.\"\n",
              "            style=\"display:none;\">\n",
              "\n",
              "  <svg xmlns=\"http://www.w3.org/2000/svg\" height=\"24px\" viewBox=\"0 -960 960 960\">\n",
              "    <path d=\"M120-120v-720h720v720H120Zm60-500h600v-160H180v160Zm220 220h160v-160H400v160Zm0 220h160v-160H400v160ZM180-400h160v-160H180v160Zm440 0h160v-160H620v160ZM180-180h160v-160H180v160Zm440 0h160v-160H620v160Z\"/>\n",
              "  </svg>\n",
              "    </button>\n",
              "\n",
              "  <style>\n",
              "    .colab-df-container {\n",
              "      display:flex;\n",
              "      gap: 12px;\n",
              "    }\n",
              "\n",
              "    .colab-df-convert {\n",
              "      background-color: #E8F0FE;\n",
              "      border: none;\n",
              "      border-radius: 50%;\n",
              "      cursor: pointer;\n",
              "      display: none;\n",
              "      fill: #1967D2;\n",
              "      height: 32px;\n",
              "      padding: 0 0 0 0;\n",
              "      width: 32px;\n",
              "    }\n",
              "\n",
              "    .colab-df-convert:hover {\n",
              "      background-color: #E2EBFA;\n",
              "      box-shadow: 0px 1px 2px rgba(60, 64, 67, 0.3), 0px 1px 3px 1px rgba(60, 64, 67, 0.15);\n",
              "      fill: #174EA6;\n",
              "    }\n",
              "\n",
              "    .colab-df-buttons div {\n",
              "      margin-bottom: 4px;\n",
              "    }\n",
              "\n",
              "    [theme=dark] .colab-df-convert {\n",
              "      background-color: #3B4455;\n",
              "      fill: #D2E3FC;\n",
              "    }\n",
              "\n",
              "    [theme=dark] .colab-df-convert:hover {\n",
              "      background-color: #434B5C;\n",
              "      box-shadow: 0px 1px 3px 1px rgba(0, 0, 0, 0.15);\n",
              "      filter: drop-shadow(0px 1px 2px rgba(0, 0, 0, 0.3));\n",
              "      fill: #FFFFFF;\n",
              "    }\n",
              "  </style>\n",
              "\n",
              "    <script>\n",
              "      const buttonEl =\n",
              "        document.querySelector('#df-c1a7cef1-6be7-43d1-a6a4-a30ad6a7d11f button.colab-df-convert');\n",
              "      buttonEl.style.display =\n",
              "        google.colab.kernel.accessAllowed ? 'block' : 'none';\n",
              "\n",
              "      async function convertToInteractive(key) {\n",
              "        const element = document.querySelector('#df-c1a7cef1-6be7-43d1-a6a4-a30ad6a7d11f');\n",
              "        const dataTable =\n",
              "          await google.colab.kernel.invokeFunction('convertToInteractive',\n",
              "                                                    [key], {});\n",
              "        if (!dataTable) return;\n",
              "\n",
              "        const docLinkHtml = 'Like what you see? Visit the ' +\n",
              "          '<a target=\"_blank\" href=https://colab.research.google.com/notebooks/data_table.ipynb>data table notebook</a>'\n",
              "          + ' to learn more about interactive tables.';\n",
              "        element.innerHTML = '';\n",
              "        dataTable['output_type'] = 'display_data';\n",
              "        await google.colab.output.renderOutput(dataTable, element);\n",
              "        const docLink = document.createElement('div');\n",
              "        docLink.innerHTML = docLinkHtml;\n",
              "        element.appendChild(docLink);\n",
              "      }\n",
              "    </script>\n",
              "  </div>\n",
              "\n",
              "\n",
              "<div id=\"df-4bba281f-4e71-4be7-994e-cc03f4e7ddf0\">\n",
              "  <button class=\"colab-df-quickchart\" onclick=\"quickchart('df-4bba281f-4e71-4be7-994e-cc03f4e7ddf0')\"\n",
              "            title=\"Suggest charts\"\n",
              "            style=\"display:none;\">\n",
              "\n",
              "<svg xmlns=\"http://www.w3.org/2000/svg\" height=\"24px\"viewBox=\"0 0 24 24\"\n",
              "     width=\"24px\">\n",
              "    <g>\n",
              "        <path d=\"M19 3H5c-1.1 0-2 .9-2 2v14c0 1.1.9 2 2 2h14c1.1 0 2-.9 2-2V5c0-1.1-.9-2-2-2zM9 17H7v-7h2v7zm4 0h-2V7h2v10zm4 0h-2v-4h2v4z\"/>\n",
              "    </g>\n",
              "</svg>\n",
              "  </button>\n",
              "\n",
              "<style>\n",
              "  .colab-df-quickchart {\n",
              "      --bg-color: #E8F0FE;\n",
              "      --fill-color: #1967D2;\n",
              "      --hover-bg-color: #E2EBFA;\n",
              "      --hover-fill-color: #174EA6;\n",
              "      --disabled-fill-color: #AAA;\n",
              "      --disabled-bg-color: #DDD;\n",
              "  }\n",
              "\n",
              "  [theme=dark] .colab-df-quickchart {\n",
              "      --bg-color: #3B4455;\n",
              "      --fill-color: #D2E3FC;\n",
              "      --hover-bg-color: #434B5C;\n",
              "      --hover-fill-color: #FFFFFF;\n",
              "      --disabled-bg-color: #3B4455;\n",
              "      --disabled-fill-color: #666;\n",
              "  }\n",
              "\n",
              "  .colab-df-quickchart {\n",
              "    background-color: var(--bg-color);\n",
              "    border: none;\n",
              "    border-radius: 50%;\n",
              "    cursor: pointer;\n",
              "    display: none;\n",
              "    fill: var(--fill-color);\n",
              "    height: 32px;\n",
              "    padding: 0;\n",
              "    width: 32px;\n",
              "  }\n",
              "\n",
              "  .colab-df-quickchart:hover {\n",
              "    background-color: var(--hover-bg-color);\n",
              "    box-shadow: 0 1px 2px rgba(60, 64, 67, 0.3), 0 1px 3px 1px rgba(60, 64, 67, 0.15);\n",
              "    fill: var(--button-hover-fill-color);\n",
              "  }\n",
              "\n",
              "  .colab-df-quickchart-complete:disabled,\n",
              "  .colab-df-quickchart-complete:disabled:hover {\n",
              "    background-color: var(--disabled-bg-color);\n",
              "    fill: var(--disabled-fill-color);\n",
              "    box-shadow: none;\n",
              "  }\n",
              "\n",
              "  .colab-df-spinner {\n",
              "    border: 2px solid var(--fill-color);\n",
              "    border-color: transparent;\n",
              "    border-bottom-color: var(--fill-color);\n",
              "    animation:\n",
              "      spin 1s steps(1) infinite;\n",
              "  }\n",
              "\n",
              "  @keyframes spin {\n",
              "    0% {\n",
              "      border-color: transparent;\n",
              "      border-bottom-color: var(--fill-color);\n",
              "      border-left-color: var(--fill-color);\n",
              "    }\n",
              "    20% {\n",
              "      border-color: transparent;\n",
              "      border-left-color: var(--fill-color);\n",
              "      border-top-color: var(--fill-color);\n",
              "    }\n",
              "    30% {\n",
              "      border-color: transparent;\n",
              "      border-left-color: var(--fill-color);\n",
              "      border-top-color: var(--fill-color);\n",
              "      border-right-color: var(--fill-color);\n",
              "    }\n",
              "    40% {\n",
              "      border-color: transparent;\n",
              "      border-right-color: var(--fill-color);\n",
              "      border-top-color: var(--fill-color);\n",
              "    }\n",
              "    60% {\n",
              "      border-color: transparent;\n",
              "      border-right-color: var(--fill-color);\n",
              "    }\n",
              "    80% {\n",
              "      border-color: transparent;\n",
              "      border-right-color: var(--fill-color);\n",
              "      border-bottom-color: var(--fill-color);\n",
              "    }\n",
              "    90% {\n",
              "      border-color: transparent;\n",
              "      border-bottom-color: var(--fill-color);\n",
              "    }\n",
              "  }\n",
              "</style>\n",
              "\n",
              "  <script>\n",
              "    async function quickchart(key) {\n",
              "      const quickchartButtonEl =\n",
              "        document.querySelector('#' + key + ' button');\n",
              "      quickchartButtonEl.disabled = true;  // To prevent multiple clicks.\n",
              "      quickchartButtonEl.classList.add('colab-df-spinner');\n",
              "      try {\n",
              "        const charts = await google.colab.kernel.invokeFunction(\n",
              "            'suggestCharts', [key], {});\n",
              "      } catch (error) {\n",
              "        console.error('Error during call to suggestCharts:', error);\n",
              "      }\n",
              "      quickchartButtonEl.classList.remove('colab-df-spinner');\n",
              "      quickchartButtonEl.classList.add('colab-df-quickchart-complete');\n",
              "    }\n",
              "    (() => {\n",
              "      let quickchartButtonEl =\n",
              "        document.querySelector('#df-4bba281f-4e71-4be7-994e-cc03f4e7ddf0 button');\n",
              "      quickchartButtonEl.style.display =\n",
              "        google.colab.kernel.accessAllowed ? 'block' : 'none';\n",
              "    })();\n",
              "  </script>\n",
              "</div>\n",
              "\n",
              "    </div>\n",
              "  </div>\n"
            ],
            "application/vnd.google.colaboratory.intrinsic+json": {
              "type": "dataframe",
              "variable_name": "df_cleaned"
            }
          },
          "metadata": {},
          "execution_count": 271
        }
      ]
    },
    {
      "cell_type": "code",
      "source": [
        "# Define a dictionary with the land area values for the countries\n",
        "land_area_values = {\n",
        "    'Andorra': 482,\n",
        "    'Bahamas': 13877,\n",
        "    'Congo': 2345000,\n",
        "    \"Cote d'Ivoire\": 322462,\n",
        "    'Czechia': 78867,\n",
        "    'Democratic Republic of Congo': 2345000,\n",
        "    'Eswatini': 17364,\n",
        "    'Gambia': 11300,\n",
        "    'Kosovo': 10887,\n",
        "    'Micronesia (country)': 701.9,\n",
        "    'Montenegro': 13812,\n",
        "    'Myanmar': 676578,\n",
        "    'North Macedonia': 25713,\n",
        "    'Palestine': 6025,\n",
        "    'Sao Tome and Principe': 1001,\n",
        "    'Timor': 30777,\n",
        "    'Vatican': 0.44\n",
        "}\n",
        "\n",
        "# Update the land_area column in df_cleaned with the values from the dictionary\n",
        "for country, area in land_area_values.items():\n",
        "    df_cleaned.loc[df_cleaned['location'] == country, 'land_area'] = area"
      ],
      "metadata": {
        "id": "9FYYchgH_AiC"
      },
      "execution_count": 272,
      "outputs": []
    },
    {
      "cell_type": "code",
      "source": [
        "missing_values = df_cleaned.isnull().sum()\n",
        "print(missing_values[missing_values > 0])"
      ],
      "metadata": {
        "colab": {
          "base_uri": "https://localhost:8080/"
        },
        "id": "yEvyPmUk_G1D",
        "outputId": "3dced9f5-0653-496c-a246-3299e4add14e"
      },
      "execution_count": 273,
      "outputs": [
        {
          "output_type": "stream",
          "name": "stdout",
          "text": [
            "reproduction_rate              2338\n",
            "icu_patients                  84246\n",
            "hosp_patients                 82022\n",
            "new_tests                     48804\n",
            "positive_rate                 44585\n",
            "tests_per_case                45159\n",
            "tests_units                   39677\n",
            "people_vaccinated             79629\n",
            "people_fully_vaccinated       82342\n",
            "new_vaccinations              81588\n",
            "stringency_index               9157\n",
            "population_density             2006\n",
            "median_age                     4259\n",
            "aged_65_older                  5291\n",
            "aged_70_older                  4761\n",
            "gdp_per_capita                 4040\n",
            "extreme_poverty               33371\n",
            "cardiovasc_death_rate          3546\n",
            "diabetes_prevalence            2028\n",
            "female_smokers                23508\n",
            "male_smokers                  24507\n",
            "handwashing_facilities        48971\n",
            "hospital_beds_per_thousand    11590\n",
            "excess_mortality              91356\n",
            "dtype: int64\n"
          ]
        }
      ]
    },
    {
      "cell_type": "code",
      "source": [
        "# Filter population_density\n",
        "locations_with_population_density = df_cleaned[df_cleaned['population_density'].isna()]['location'].unique()\n",
        "\n",
        "# Print the locations with missing population_density\n",
        "print(\"Locations with missing population_density:\")\n",
        "print(locations_with_population_density)"
      ],
      "metadata": {
        "colab": {
          "base_uri": "https://localhost:8080/"
        },
        "id": "Ssss2A3o_kNG",
        "outputId": "452cdb59-e9d2-440b-bbab-8876282cce43"
      },
      "execution_count": 274,
      "outputs": [
        {
          "output_type": "stream",
          "name": "stdout",
          "text": [
            "Locations with missing population_density:\n",
            "['South Sudan' 'Syria' 'Taiwan' 'Vatican']\n"
          ]
        }
      ]
    },
    {
      "cell_type": "code",
      "source": [
        "# List of countries\n",
        "countries = ['South Sudan', 'Syria', 'Taiwan', 'Vatican']\n",
        "\n",
        "# Calculate population density for each country\n",
        "for country in countries:\n",
        "    # Filter DataFrame for the specific country\n",
        "    country_data = df_cleaned[df_cleaned['location'] == country]\n",
        "\n",
        "    # Extract population and land area values\n",
        "    population = country_data['population'].iloc[0]  # Assuming population is unique per country\n",
        "    land_area = country_data['land_area'].iloc[0]  # Assuming land area is unique per country\n",
        "\n",
        "    # Calculate population density and update the DataFrame\n",
        "    population_density = population / land_area\n",
        "    df_cleaned.loc[df_cleaned['location'] == country, 'population_density'] = population_density"
      ],
      "metadata": {
        "id": "RE8tU_W3Aa3B"
      },
      "execution_count": 275,
      "outputs": []
    },
    {
      "cell_type": "code",
      "source": [
        "missing_values = df_cleaned.isnull().sum()\n",
        "print(missing_values[missing_values > 0])"
      ],
      "metadata": {
        "colab": {
          "base_uri": "https://localhost:8080/"
        },
        "id": "sLr5PsuFAcja",
        "outputId": "d6466396-c610-42ef-a219-62a6fb5974d0"
      },
      "execution_count": 276,
      "outputs": [
        {
          "output_type": "stream",
          "name": "stdout",
          "text": [
            "reproduction_rate              2338\n",
            "icu_patients                  84246\n",
            "hosp_patients                 82022\n",
            "new_tests                     48804\n",
            "positive_rate                 44585\n",
            "tests_per_case                45159\n",
            "tests_units                   39677\n",
            "people_vaccinated             79629\n",
            "people_fully_vaccinated       82342\n",
            "new_vaccinations              81588\n",
            "stringency_index               9157\n",
            "median_age                     4259\n",
            "aged_65_older                  5291\n",
            "aged_70_older                  4761\n",
            "gdp_per_capita                 4040\n",
            "extreme_poverty               33371\n",
            "cardiovasc_death_rate          3546\n",
            "diabetes_prevalence            2028\n",
            "female_smokers                23508\n",
            "male_smokers                  24507\n",
            "handwashing_facilities        48971\n",
            "hospital_beds_per_thousand    11590\n",
            "excess_mortality              91356\n",
            "dtype: int64\n"
          ]
        }
      ]
    },
    {
      "cell_type": "markdown",
      "source": [
        "The stringency index is a metric used to quantify the strictness of government policies and interventions in response to the COVID-19 pandemic. It measures the extent to which governments implement various containment and closure policies, such as school closures, workplace closures, and travel bans.\n",
        "\n",
        "The stringency index is typically calculated based on a variety of indicators, including but not limited to:\n",
        "\n",
        "School closures\n",
        "Workplace closures\n",
        "Cancelation of public events\n",
        "Restrictions on gatherings\n",
        "Stay-at-home requirements\n",
        "Restrictions on internal movement\n",
        "International travel controls\n",
        "Public transport closures\n",
        "Public information campaigns\n",
        "Testing policy\n",
        "Each indicator is assigned a score, and the overall stringency index is calculated as a composite score based on the weighted sum of these indicators.\n",
        "\n",
        "The stringency index provides a comparative measure of how governments around the world are responding to the pandemic and can be used to assess the effectiveness and rigor of their policy measures."
      ],
      "metadata": {
        "id": "V5O3fsUSBxNR"
      }
    },
    {
      "cell_type": "markdown",
      "source": [
        "I have found a fresh data https://github.com/owid/covid-19-data/tree/master/public/data"
      ],
      "metadata": {
        "id": "i9GbchOvGzbh"
      }
    },
    {
      "cell_type": "code",
      "source": [
        "df_fresh = pd.read_csv('/content/owid-covid-data.csv')\n",
        "df_fresh.info()"
      ],
      "metadata": {
        "colab": {
          "base_uri": "https://localhost:8080/"
        },
        "id": "RiCzVmyNG5Su",
        "outputId": "4bb9a2ee-4db5-4031-e1f6-faf21f990285"
      },
      "execution_count": 277,
      "outputs": [
        {
          "output_type": "stream",
          "name": "stdout",
          "text": [
            "<class 'pandas.core.frame.DataFrame'>\n",
            "RangeIndex: 399377 entries, 0 to 399376\n",
            "Data columns (total 67 columns):\n",
            " #   Column                                      Non-Null Count   Dtype  \n",
            "---  ------                                      --------------   -----  \n",
            " 0   iso_code                                    399377 non-null  object \n",
            " 1   continent                                   380241 non-null  object \n",
            " 2   location                                    399377 non-null  object \n",
            " 3   date                                        399377 non-null  object \n",
            " 4   total_cases                                 360296 non-null  float64\n",
            " 5   new_cases                                   388138 non-null  float64\n",
            " 6   new_cases_smoothed                          386908 non-null  float64\n",
            " 7   total_deaths                                337785 non-null  float64\n",
            " 8   new_deaths                                  388495 non-null  float64\n",
            " 9   new_deaths_smoothed                         387265 non-null  float64\n",
            " 10  total_cases_per_million                     360296 non-null  float64\n",
            " 11  new_cases_per_million                       388138 non-null  float64\n",
            " 12  new_cases_smoothed_per_million              386908 non-null  float64\n",
            " 13  total_deaths_per_million                    337785 non-null  float64\n",
            " 14  new_deaths_per_million                      388495 non-null  float64\n",
            " 15  new_deaths_smoothed_per_million             387265 non-null  float64\n",
            " 16  reproduction_rate                           184817 non-null  float64\n",
            " 17  icu_patients                                38860 non-null   float64\n",
            " 18  icu_patients_per_million                    38860 non-null   float64\n",
            " 19  hosp_patients                               40400 non-null   float64\n",
            " 20  hosp_patients_per_million                   40400 non-null   float64\n",
            " 21  weekly_icu_admissions                       10821 non-null   float64\n",
            " 22  weekly_icu_admissions_per_million           10821 non-null   float64\n",
            " 23  weekly_hosp_admissions                      24326 non-null   float64\n",
            " 24  weekly_hosp_admissions_per_million          24326 non-null   float64\n",
            " 25  total_tests                                 79387 non-null   float64\n",
            " 26  new_tests                                   75403 non-null   float64\n",
            " 27  total_tests_per_thousand                    79387 non-null   float64\n",
            " 28  new_tests_per_thousand                      75403 non-null   float64\n",
            " 29  new_tests_smoothed                          103965 non-null  float64\n",
            " 30  new_tests_smoothed_per_thousand             103965 non-null  float64\n",
            " 31  positive_rate                               95927 non-null   float64\n",
            " 32  tests_per_case                              94348 non-null   float64\n",
            " 33  tests_units                                 106788 non-null  object \n",
            " 34  total_vaccinations                          84252 non-null   float64\n",
            " 35  people_vaccinated                           80047 non-null   float64\n",
            " 36  people_fully_vaccinated                     76958 non-null   float64\n",
            " 37  total_boosters                              52466 non-null   float64\n",
            " 38  new_vaccinations                            69897 non-null   float64\n",
            " 39  new_vaccinations_smoothed                   193517 non-null  float64\n",
            " 40  total_vaccinations_per_hundred              84252 non-null   float64\n",
            " 41  people_vaccinated_per_hundred               80047 non-null   float64\n",
            " 42  people_fully_vaccinated_per_hundred         76958 non-null   float64\n",
            " 43  total_boosters_per_hundred                  52466 non-null   float64\n",
            " 44  new_vaccinations_smoothed_per_million       193517 non-null  float64\n",
            " 45  new_people_vaccinated_smoothed              190860 non-null  float64\n",
            " 46  new_people_vaccinated_smoothed_per_hundred  190860 non-null  float64\n",
            " 47  stringency_index                            197292 non-null  float64\n",
            " 48  population_density                          339741 non-null  float64\n",
            " 49  median_age                                  315762 non-null  float64\n",
            " 50  aged_65_older                               304915 non-null  float64\n",
            " 51  aged_70_older                               312596 non-null  float64\n",
            " 52  gdp_per_capita                              309664 non-null  float64\n",
            " 53  extreme_poverty                             199623 non-null  float64\n",
            " 54  cardiovasc_death_rate                       310238 non-null  float64\n",
            " 55  diabetes_prevalence                         326282 non-null  float64\n",
            " 56  female_smokers                              232906 non-null  float64\n",
            " 57  male_smokers                                229740 non-null  float64\n",
            " 58  handwashing_facilities                      152023 non-null  float64\n",
            " 59  hospital_beds_per_thousand                  274064 non-null  float64\n",
            " 60  life_expectancy                             368001 non-null  float64\n",
            " 61  human_development_index                     300954 non-null  float64\n",
            " 62  population                                  399377 non-null  float64\n",
            " 63  excess_mortality_cumulative_absolute        13276 non-null   float64\n",
            " 64  excess_mortality_cumulative                 13276 non-null   float64\n",
            " 65  excess_mortality                            13276 non-null   float64\n",
            " 66  excess_mortality_cumulative_per_million     13276 non-null   float64\n",
            "dtypes: float64(62), object(5)\n",
            "memory usage: 204.1+ MB\n"
          ]
        }
      ]
    },
    {
      "cell_type": "code",
      "source": [
        "# Convert 'date' column in both dataframes to datetime data type\n",
        "df_cleaned['date'] = pd.to_datetime(df_cleaned['date'])\n",
        "df_fresh['date'] = pd.to_datetime(df_fresh['date'])\n",
        "\n",
        "# Merge df_cleaned with df_fresh to fill missing values in 'stringency_index'\n",
        "df_merged = pd.merge(df_cleaned, df_fresh[['date', 'location', 'stringency_index']],\n",
        "                     on=['date', 'location'], how='left', suffixes=('_cleaned', '_fresh'))\n",
        "\n",
        "# Fill missing values in 'stringency_index_cleaned' with values from 'stringency_index_fresh'\n",
        "df_merged['stringency_index_cleaned'].fillna(df_merged['stringency_index_fresh'], inplace=True)\n",
        "\n",
        "# Drop the temporary 'stringency_index_fresh' column\n",
        "df_merged.drop(columns=['stringency_index_fresh'], inplace=True)\n",
        "\n",
        "# Now, df_merged contains the updated 'stringency_index' values\n",
        "# You can assign it back to df_cleaned if needed\n",
        "df_cleaned = df_merged"
      ],
      "metadata": {
        "id": "aLCQr98HLPF0"
      },
      "execution_count": 278,
      "outputs": []
    },
    {
      "cell_type": "code",
      "source": [
        "missing_values = df_cleaned.isnull().sum()\n",
        "print(missing_values[missing_values > 0])"
      ],
      "metadata": {
        "colab": {
          "base_uri": "https://localhost:8080/"
        },
        "id": "JZkKiOIYLbtt",
        "outputId": "e89295b4-fa44-4352-8a95-d127e0d9bd1d"
      },
      "execution_count": 279,
      "outputs": [
        {
          "output_type": "stream",
          "name": "stdout",
          "text": [
            "reproduction_rate              2338\n",
            "icu_patients                  84246\n",
            "hosp_patients                 82022\n",
            "new_tests                     48804\n",
            "positive_rate                 44585\n",
            "tests_per_case                45159\n",
            "tests_units                   39677\n",
            "people_vaccinated             79629\n",
            "people_fully_vaccinated       82342\n",
            "new_vaccinations              81588\n",
            "stringency_index_cleaned       7551\n",
            "median_age                     4259\n",
            "aged_65_older                  5291\n",
            "aged_70_older                  4761\n",
            "gdp_per_capita                 4040\n",
            "extreme_poverty               33371\n",
            "cardiovasc_death_rate          3546\n",
            "diabetes_prevalence            2028\n",
            "female_smokers                23508\n",
            "male_smokers                  24507\n",
            "handwashing_facilities        48971\n",
            "hospital_beds_per_thousand    11590\n",
            "excess_mortality              91356\n",
            "dtype: int64\n"
          ]
        }
      ]
    },
    {
      "cell_type": "code",
      "source": [
        "# List of columns to fill missing values\n",
        "columns_to_fill = ['icu_patients', 'hosp_patients', 'new_tests', 'positive_rate', 'tests_per_case',\n",
        "                   'tests_units', 'people_vaccinated', 'people_fully_vaccinated', 'new_vaccinations',\n",
        "                   'median_age', 'aged_65_older', 'aged_70_older',\n",
        "                   'gdp_per_capita', 'extreme_poverty', 'cardiovasc_death_rate', 'diabetes_prevalence',\n",
        "                   'female_smokers', 'male_smokers', 'handwashing_facilities', 'hospital_beds_per_thousand',\n",
        "                   'excess_mortality']\n",
        "\n",
        "# Merge df_cleaned with df_fresh to fill missing values in specified columns\n",
        "for column in columns_to_fill:\n",
        "    df_merged = pd.merge(df_cleaned, df_fresh[['date', 'location', column]],\n",
        "                         on=['date', 'location'], how='left', suffixes=('_cleaned', '_fresh'))\n",
        "\n",
        "    # Fill missing values in 'column_cleaned' with values from 'column_fresh'\n",
        "    df_merged[f'{column}_cleaned'].fillna(df_merged[f'{column}_fresh'], inplace=True)\n",
        "\n",
        "    # Drop the temporary 'column_fresh' column\n",
        "    df_merged.drop(columns=[f'{column}_fresh'], inplace=True)\n",
        "\n",
        "# Now, df_merged contains the updated values for specified columns\n",
        "# You can assign it back to df_cleaned if needed\n",
        "df_cleaned = df_merged\n"
      ],
      "metadata": {
        "id": "giXaS3EKLxDa"
      },
      "execution_count": 280,
      "outputs": []
    },
    {
      "cell_type": "code",
      "source": [
        "missing_values = df_cleaned.isnull().sum()\n",
        "print(missing_values[missing_values > 0])"
      ],
      "metadata": {
        "colab": {
          "base_uri": "https://localhost:8080/"
        },
        "id": "AmRp3MXXL5ZF",
        "outputId": "95f852ed-2ef4-44e9-ef12-aa6c5d102d09"
      },
      "execution_count": 281,
      "outputs": [
        {
          "output_type": "stream",
          "name": "stdout",
          "text": [
            "reproduction_rate              2338\n",
            "icu_patients                  84246\n",
            "hosp_patients                 82022\n",
            "new_tests                     48804\n",
            "positive_rate                 44585\n",
            "tests_per_case                45159\n",
            "tests_units                   39677\n",
            "people_vaccinated             79629\n",
            "people_fully_vaccinated       82342\n",
            "new_vaccinations              81588\n",
            "stringency_index_cleaned       7551\n",
            "median_age                     4259\n",
            "aged_65_older                  5291\n",
            "aged_70_older                  4761\n",
            "gdp_per_capita                 4040\n",
            "extreme_poverty               33371\n",
            "cardiovasc_death_rate          3546\n",
            "diabetes_prevalence            2028\n",
            "female_smokers                23508\n",
            "male_smokers                  24507\n",
            "handwashing_facilities        48971\n",
            "hospital_beds_per_thousand    11590\n",
            "excess_mortality_cleaned      90396\n",
            "dtype: int64\n"
          ]
        }
      ]
    },
    {
      "cell_type": "code",
      "source": [
        "# Filter stringency_index\n",
        "locations_with_stringency_index = df_cleaned[df_cleaned['stringency_index_cleaned'].isna()]['location'].unique()\n",
        "\n",
        "# Print the locations with missing stringency_index\n",
        "print(\"Locations with missing stringency_index:\")\n",
        "print(locations_with_stringency_index)"
      ],
      "metadata": {
        "colab": {
          "base_uri": "https://localhost:8080/"
        },
        "id": "Lz0JdtYvMjDB",
        "outputId": "6655c76e-6078-429f-f4ee-f386977f5567"
      },
      "execution_count": 282,
      "outputs": [
        {
          "output_type": "stream",
          "name": "stdout",
          "text": [
            "Locations with missing stringency_index:\n",
            "['Antigua and Barbuda' 'Armenia' 'Comoros' 'Equatorial Guinea' 'Eritrea'\n",
            " 'Grenada' 'Guinea-Bissau' 'Maldives' 'Marshall Islands'\n",
            " 'Micronesia (country)' 'Montenegro' 'North Macedonia'\n",
            " 'Saint Kitts and Nevis' 'Saint Lucia' 'Saint Vincent and the Grenadines'\n",
            " 'Samoa' 'Sao Tome and Principe' 'Vatican']\n"
          ]
        }
      ]
    },
    {
      "cell_type": "code",
      "source": [
        "# # Fill empty cells in 'stringency_index_cleaned' column with 'No info'\n",
        "# df_cleaned['stringency_index_cleaned'].fillna('No info', inplace=True)"
      ],
      "metadata": {
        "id": "HkNB7k1qQVwM"
      },
      "execution_count": 201,
      "outputs": []
    },
    {
      "cell_type": "code",
      "source": [
        "missing_values = df_cleaned.isnull().sum()\n",
        "print(missing_values[missing_values > 0])"
      ],
      "metadata": {
        "colab": {
          "base_uri": "https://localhost:8080/"
        },
        "id": "BpFTIRNAQm6v",
        "outputId": "fac917c1-226a-4da0-b5df-a0e61eba9bdb"
      },
      "execution_count": 283,
      "outputs": [
        {
          "output_type": "stream",
          "name": "stdout",
          "text": [
            "reproduction_rate              2338\n",
            "icu_patients                  84246\n",
            "hosp_patients                 82022\n",
            "new_tests                     48804\n",
            "positive_rate                 44585\n",
            "tests_per_case                45159\n",
            "tests_units                   39677\n",
            "people_vaccinated             79629\n",
            "people_fully_vaccinated       82342\n",
            "new_vaccinations              81588\n",
            "stringency_index_cleaned       7551\n",
            "median_age                     4259\n",
            "aged_65_older                  5291\n",
            "aged_70_older                  4761\n",
            "gdp_per_capita                 4040\n",
            "extreme_poverty               33371\n",
            "cardiovasc_death_rate          3546\n",
            "diabetes_prevalence            2028\n",
            "female_smokers                23508\n",
            "male_smokers                  24507\n",
            "handwashing_facilities        48971\n",
            "hospital_beds_per_thousand    11590\n",
            "excess_mortality_cleaned      90396\n",
            "dtype: int64\n"
          ]
        }
      ]
    },
    {
      "cell_type": "code",
      "source": [
        "# Filter median_age\n",
        "locations_with_median_age = df_cleaned[df_cleaned['median_age'].isna()]['location'].unique()\n",
        "\n",
        "# Print the locations with missing median_age\n",
        "print(\"Locations with missing median_age:\")\n",
        "print(locations_with_median_age)"
      ],
      "metadata": {
        "colab": {
          "base_uri": "https://localhost:8080/"
        },
        "id": "O1wtCnpJQsdS",
        "outputId": "84093d2a-b1b6-4d3a-f7ca-5cb85c2fdb8b"
      },
      "execution_count": 284,
      "outputs": [
        {
          "output_type": "stream",
          "name": "stdout",
          "text": [
            "Locations with missing median_age:\n",
            "['Andorra' 'Dominica' 'Kosovo' 'Liechtenstein' 'Marshall Islands' 'Monaco'\n",
            " 'Saint Kitts and Nevis' 'San Marino' 'Vatican']\n"
          ]
        }
      ]
    },
    {
      "cell_type": "markdown",
      "source": [
        "Age database from https://population.un.org/wpp/Download/Standard/MostUsed/"
      ],
      "metadata": {
        "id": "4u8fvhZdnOS5"
      }
    },
    {
      "cell_type": "code",
      "source": [
        "df_age = pd.read_excel('/content/WPP2022_GEN_F01_DEMOGRAPHIC_INDICATORS_COMPACT_REV1.xlsx')\n",
        "df_age.info()"
      ],
      "metadata": {
        "colab": {
          "base_uri": "https://localhost:8080/"
        },
        "id": "n6lzcHWgbGC2",
        "outputId": "3c252578-3764-4ae3-c530-f39760ee7d3a"
      },
      "execution_count": 285,
      "outputs": [
        {
          "output_type": "stream",
          "name": "stdout",
          "text": [
            "<class 'pandas.core.frame.DataFrame'>\n",
            "RangeIndex: 20596 entries, 0 to 20595\n",
            "Data columns (total 65 columns):\n",
            " #   Column                                                                                          Non-Null Count  Dtype  \n",
            "---  ------                                                                                          --------------  -----  \n",
            " 0   Index                                                                                           20596 non-null  int64  \n",
            " 1   Variant                                                                                         20596 non-null  object \n",
            " 2   Region, subregion, country or area *                                                            20596 non-null  object \n",
            " 3   Notes                                                                                           5475 non-null   object \n",
            " 4   Location code                                                                                   20596 non-null  int64  \n",
            " 5   ISO3 Alpha-code                                                                                 17064 non-null  object \n",
            " 6   ISO2 Alpha-code                                                                                 16992 non-null  object \n",
            " 7   SDMX code**                                                                                     20304 non-null  float64\n",
            " 8   Type                                                                                            20596 non-null  object \n",
            " 9   Parent code                                                                                     20596 non-null  int64  \n",
            " 10  Year                                                                                            20592 non-null  float64\n",
            " 11  Total Population, as of 1 January (thousands)                                                   20596 non-null  object \n",
            " 12  Total Population, as of 1 July (thousands)                                                      20596 non-null  object \n",
            " 13  Male Population, as of 1 July (thousands)                                                       20596 non-null  object \n",
            " 14  Female Population, as of 1 July (thousands)                                                     20596 non-null  object \n",
            " 15  Population Density, as of 1 July (persons per square km)                                        20596 non-null  object \n",
            " 16  Population Sex Ratio, as of 1 July (males per 100 females)                                      20596 non-null  object \n",
            " 17  Median Age, as of 1 July (years)                                                                20596 non-null  object \n",
            " 18  Natural Change, Births minus Deaths (thousands)                                                 20596 non-null  object \n",
            " 19  Rate of Natural Change (per 1,000 population)                                                   20596 non-null  object \n",
            " 20  Population Change (thousands)                                                                   20596 non-null  object \n",
            " 21  Population Growth Rate (percentage)                                                             20596 non-null  object \n",
            " 22  Population Annual Doubling Time (years)                                                         20596 non-null  object \n",
            " 23  Births (thousands)                                                                              20596 non-null  object \n",
            " 24  Births by women aged 15 to 19 (thousands)                                                       20596 non-null  object \n",
            " 25  Crude Birth Rate (births per 1,000 population)                                                  20596 non-null  object \n",
            " 26  Total Fertility Rate (live births per woman)                                                    20596 non-null  object \n",
            " 27  Net Reproduction Rate (surviving daughters per woman)                                           20596 non-null  object \n",
            " 28  Mean Age Childbearing (years)                                                                   20596 non-null  object \n",
            " 29  Sex Ratio at Birth (males per 100 female births)                                                20596 non-null  object \n",
            " 30  Total Deaths (thousands)                                                                        20596 non-null  object \n",
            " 31  Male Deaths (thousands)                                                                         20596 non-null  object \n",
            " 32  Female Deaths (thousands)                                                                       20596 non-null  object \n",
            " 33  Crude Death Rate (deaths per 1,000 population)                                                  20596 non-null  object \n",
            " 34  Life Expectancy at Birth, both sexes (years)                                                    20596 non-null  object \n",
            " 35  Male Life Expectancy at Birth (years)                                                           20596 non-null  object \n",
            " 36  Female Life Expectancy at Birth (years)                                                         20596 non-null  object \n",
            " 37  Life Expectancy at Age 15, both sexes (years)                                                   20596 non-null  object \n",
            " 38  Male Life Expectancy at Age 15 (years)                                                          20596 non-null  object \n",
            " 39  Female Life Expectancy at Age 15 (years)                                                        20596 non-null  object \n",
            " 40  Life Expectancy at Age 65, both sexes (years)                                                   20596 non-null  object \n",
            " 41  Male Life Expectancy at Age 65 (years)                                                          20596 non-null  object \n",
            " 42  Female Life Expectancy at Age 65 (years)                                                        20596 non-null  object \n",
            " 43  Life Expectancy at Age 80, both sexes (years)                                                   20596 non-null  object \n",
            " 44  Male Life Expectancy at Age 80 (years)                                                          20596 non-null  object \n",
            " 45  Female Life Expectancy at Age 80 (years)                                                        20596 non-null  object \n",
            " 46  Infant Deaths, under age 1 (thousands)                                                          20596 non-null  object \n",
            " 47  Infant Mortality Rate (infant deaths per 1,000 live births)                                     20596 non-null  object \n",
            " 48  Live Births Surviving to Age 1 (thousands)                                                      20596 non-null  object \n",
            " 49  Under-Five Deaths, under age 5 (thousands)                                                      20596 non-null  object \n",
            " 50  Under-Five Mortality (deaths under age 5 per 1,000 live births)                                 20596 non-null  object \n",
            " 51  Mortality before Age 40, both sexes (deaths under age 40 per 1,000 live births)                 20596 non-null  object \n",
            " 52  Male Mortality before Age 40 (deaths under age 40 per 1,000 male live births)                   20596 non-null  object \n",
            " 53  Female Mortality before Age 40 (deaths under age 40 per 1,000 female live births)               20596 non-null  object \n",
            " 54  Mortality before Age 60, both sexes (deaths under age 60 per 1,000 live births)                 20596 non-null  object \n",
            " 55  Male Mortality before Age 60 (deaths under age 60 per 1,000 male live births)                   20596 non-null  object \n",
            " 56  Female Mortality before Age 60 (deaths under age 60 per 1,000 female live births)               20596 non-null  object \n",
            " 57  Mortality between Age 15 and 50, both sexes (deaths under age 50 per 1,000 alive at age 15)     20596 non-null  object \n",
            " 58  Male Mortality between Age 15 and 50 (deaths under age 50 per 1,000 males alive at age 15)      20596 non-null  object \n",
            " 59  Female Mortality between Age 15 and 50 (deaths under age 50 per 1,000 females alive at age 15)  20596 non-null  object \n",
            " 60  Mortality between Age 15 and 60, both sexes (deaths under age 60 per 1,000 alive at age 15)     20596 non-null  object \n",
            " 61  Male Mortality between Age 15 and 60 (deaths under age 60 per 1,000 males alive at age 15)      20596 non-null  object \n",
            " 62  Female Mortality between Age 15 and 60 (deaths under age 60 per 1,000 females alive at age 15)  20596 non-null  object \n",
            " 63  Net Number of Migrants (thousands)                                                              20596 non-null  object \n",
            " 64  Net Migration Rate (per 1,000 population)                                                       20596 non-null  object \n",
            "dtypes: float64(2), int64(3), object(60)\n",
            "memory usage: 10.2+ MB\n"
          ]
        }
      ]
    },
    {
      "cell_type": "code",
      "source": [
        "df_age.columns"
      ],
      "metadata": {
        "colab": {
          "base_uri": "https://localhost:8080/"
        },
        "id": "crmFzG9Vfc-h",
        "outputId": "58e15d8f-3298-448f-ba26-e78e871d74bb"
      },
      "execution_count": 286,
      "outputs": [
        {
          "output_type": "execute_result",
          "data": {
            "text/plain": [
              "Index(['Index', 'Variant', 'Region, subregion, country or area *', 'Notes',\n",
              "       'Location code', 'ISO3 Alpha-code', 'ISO2 Alpha-code', 'SDMX code**',\n",
              "       'Type', 'Parent code', 'Year',\n",
              "       'Total Population, as of 1 January (thousands)',\n",
              "       'Total Population, as of 1 July (thousands)',\n",
              "       'Male Population, as of 1 July (thousands)',\n",
              "       'Female Population, as of 1 July (thousands)',\n",
              "       'Population Density, as of 1 July (persons per square km)',\n",
              "       'Population Sex Ratio, as of 1 July (males per 100 females)',\n",
              "       'Median Age, as of 1 July (years)',\n",
              "       'Natural Change, Births minus Deaths (thousands)',\n",
              "       'Rate of Natural Change (per 1,000 population)',\n",
              "       'Population Change (thousands)', 'Population Growth Rate (percentage)',\n",
              "       'Population Annual Doubling Time (years)', 'Births (thousands)',\n",
              "       'Births by women aged 15 to 19 (thousands)',\n",
              "       'Crude Birth Rate (births per 1,000 population)',\n",
              "       'Total Fertility Rate (live births per woman)',\n",
              "       'Net Reproduction Rate (surviving daughters per woman)',\n",
              "       'Mean Age Childbearing (years)',\n",
              "       'Sex Ratio at Birth (males per 100 female births)',\n",
              "       'Total Deaths (thousands)', 'Male Deaths (thousands)',\n",
              "       'Female Deaths (thousands)',\n",
              "       'Crude Death Rate (deaths per 1,000 population)',\n",
              "       'Life Expectancy at Birth, both sexes (years)',\n",
              "       'Male Life Expectancy at Birth (years)',\n",
              "       'Female Life Expectancy at Birth (years)',\n",
              "       'Life Expectancy at Age 15, both sexes (years)',\n",
              "       'Male Life Expectancy at Age 15 (years)',\n",
              "       'Female Life Expectancy at Age 15 (years)',\n",
              "       'Life Expectancy at Age 65, both sexes (years)',\n",
              "       'Male Life Expectancy at Age 65 (years)',\n",
              "       'Female Life Expectancy at Age 65 (years)',\n",
              "       'Life Expectancy at Age 80, both sexes (years)',\n",
              "       'Male Life Expectancy at Age 80 (years)',\n",
              "       'Female Life Expectancy at Age 80 (years)',\n",
              "       'Infant Deaths, under age 1 (thousands)',\n",
              "       'Infant Mortality Rate (infant deaths per 1,000 live births)',\n",
              "       'Live Births Surviving to Age 1 (thousands)',\n",
              "       'Under-Five Deaths, under age 5 (thousands)',\n",
              "       'Under-Five Mortality (deaths under age 5 per 1,000 live births)',\n",
              "       'Mortality before Age 40, both sexes (deaths under age 40 per 1,000 live births)',\n",
              "       'Male Mortality before Age 40 (deaths under age 40 per 1,000 male live births)',\n",
              "       'Female Mortality before Age 40 (deaths under age 40 per 1,000 female live births)',\n",
              "       'Mortality before Age 60, both sexes (deaths under age 60 per 1,000 live births)',\n",
              "       'Male Mortality before Age 60 (deaths under age 60 per 1,000 male live births)',\n",
              "       'Female Mortality before Age 60 (deaths under age 60 per 1,000 female live births)',\n",
              "       'Mortality between Age 15 and 50, both sexes (deaths under age 50 per 1,000 alive at age 15)',\n",
              "       'Male Mortality between Age 15 and 50 (deaths under age 50 per 1,000 males alive at age 15)',\n",
              "       'Female Mortality between Age 15 and 50 (deaths under age 50 per 1,000 females alive at age 15)',\n",
              "       'Mortality between Age 15 and 60, both sexes (deaths under age 60 per 1,000 alive at age 15)',\n",
              "       'Male Mortality between Age 15 and 60 (deaths under age 60 per 1,000 males alive at age 15)',\n",
              "       'Female Mortality between Age 15 and 60 (deaths under age 60 per 1,000 females alive at age 15)',\n",
              "       'Net Number of Migrants (thousands)',\n",
              "       'Net Migration Rate (per 1,000 population)'],\n",
              "      dtype='object')"
            ]
          },
          "metadata": {},
          "execution_count": 286
        }
      ]
    },
    {
      "cell_type": "code",
      "source": [
        "# Rename columns for consistency\n",
        "df_age = df_age.rename(columns={\n",
        "    'Median Age, as of 1 July (years)': 'median_age',\n",
        "    'Region, subregion, country or area *': 'location'\n",
        "})\n",
        "\n",
        "# Convert 'Year' in df_age to datetime format and extract the year\n",
        "df_age['year'] = pd.to_datetime(df_age['Year'], format='%Y').dt.year\n",
        "\n",
        "# Convert 'date' columns to datetime format and extract the year\n",
        "df_cleaned['year'] = pd.to_datetime(df_cleaned['date'], format='%Y-%m-%d').dt.year\n",
        "\n",
        "# Merge df_cleaned with df_age on 'location' and 'year'\n",
        "df_merged = pd.merge(df_cleaned, df_age[['location', 'median_age', 'year']],\n",
        "                     on=['location', 'year'],\n",
        "                     how='left', suffixes=('', '_age'))\n",
        "\n",
        "# Fill missing values in 'stringency_index_cleaned' with values from 'stringency_index_fresh'\n",
        "df_merged['median_age'].fillna(df_merged['median_age_age'], inplace=True)\n",
        "\n",
        "# Drop the temporary columns\n",
        "df_merged = df_merged.drop(columns=['median_age_age'])\n",
        "\n",
        "df_cleaned = df_merged\n",
        "\n",
        "# Print the updated DataFrame to verify the changes\n",
        "missing_values = df_cleaned.isnull().sum()\n",
        "print(missing_values[missing_values > 0])\n"
      ],
      "metadata": {
        "colab": {
          "base_uri": "https://localhost:8080/"
        },
        "id": "iA9zahtFeQVv",
        "outputId": "061ed695-fc69-497a-eadc-8c115fd28d54"
      },
      "execution_count": 287,
      "outputs": [
        {
          "output_type": "stream",
          "name": "stdout",
          "text": [
            "reproduction_rate              2338\n",
            "icu_patients                  84246\n",
            "hosp_patients                 82022\n",
            "new_tests                     48804\n",
            "positive_rate                 44585\n",
            "tests_per_case                45159\n",
            "tests_units                   39677\n",
            "people_vaccinated             79629\n",
            "people_fully_vaccinated       82342\n",
            "new_vaccinations              81588\n",
            "stringency_index_cleaned       7551\n",
            "median_age                      996\n",
            "aged_65_older                  5291\n",
            "aged_70_older                  4761\n",
            "gdp_per_capita                 4040\n",
            "extreme_poverty               33371\n",
            "cardiovasc_death_rate          3546\n",
            "diabetes_prevalence            2028\n",
            "female_smokers                23508\n",
            "male_smokers                  24507\n",
            "handwashing_facilities        48971\n",
            "hospital_beds_per_thousand    11590\n",
            "excess_mortality_cleaned      90396\n",
            "dtype: int64\n"
          ]
        }
      ]
    },
    {
      "cell_type": "code",
      "source": [
        "# Filter median_age\n",
        "locations_with_median_age = df_cleaned[df_cleaned['median_age'].isna()]['location'].unique()\n",
        "\n",
        "# Print the locations with missing median_age\n",
        "print(\"Locations with missing median_age:\")\n",
        "print(locations_with_median_age)"
      ],
      "metadata": {
        "colab": {
          "base_uri": "https://localhost:8080/"
        },
        "id": "VI41t6bsmLfo",
        "outputId": "acbb7bc5-0d0a-41b7-e634-5e454af9fbc5"
      },
      "execution_count": 288,
      "outputs": [
        {
          "output_type": "stream",
          "name": "stdout",
          "text": [
            "Locations with missing median_age:\n",
            "['Kosovo' 'Vatican']\n"
          ]
        }
      ]
    },
    {
      "cell_type": "code",
      "source": [
        "# Assign median age values for Kosovo and Vatican in 2020 and 2021\n",
        "df_cleaned.loc[(df_cleaned['location'] == 'Kosovo') & (df_cleaned['year'] == 2020), 'median_age'] = 31.92\n",
        "df_cleaned.loc[(df_cleaned['location'] == 'Vatican') & (df_cleaned['year'] == 2020), 'median_age'] = 57.7\n",
        "df_cleaned.loc[(df_cleaned['location'] == 'Kosovo') & (df_cleaned['year'] == 2021), 'median_age'] = 32.18\n",
        "df_cleaned.loc[(df_cleaned['location'] == 'Vatican') & (df_cleaned['year'] == 2021), 'median_age'] = 57.7\n"
      ],
      "metadata": {
        "id": "qC4f8F0bpU-K"
      },
      "execution_count": 289,
      "outputs": []
    },
    {
      "cell_type": "code",
      "source": [
        "# Print the updated DataFrame to verify the changes\n",
        "missing_values = df_cleaned.isnull().sum()\n",
        "print(missing_values[missing_values > 0])"
      ],
      "metadata": {
        "colab": {
          "base_uri": "https://localhost:8080/"
        },
        "id": "Ym0LYishpYKk",
        "outputId": "67e8380a-4478-4643-b8a1-6988225ae2ef"
      },
      "execution_count": 290,
      "outputs": [
        {
          "output_type": "stream",
          "name": "stdout",
          "text": [
            "reproduction_rate              2338\n",
            "icu_patients                  84246\n",
            "hosp_patients                 82022\n",
            "new_tests                     48804\n",
            "positive_rate                 44585\n",
            "tests_per_case                45159\n",
            "tests_units                   39677\n",
            "people_vaccinated             79629\n",
            "people_fully_vaccinated       82342\n",
            "new_vaccinations              81588\n",
            "stringency_index_cleaned       7551\n",
            "aged_65_older                  5291\n",
            "aged_70_older                  4761\n",
            "gdp_per_capita                 4040\n",
            "extreme_poverty               33371\n",
            "cardiovasc_death_rate          3546\n",
            "diabetes_prevalence            2028\n",
            "female_smokers                23508\n",
            "male_smokers                  24507\n",
            "handwashing_facilities        48971\n",
            "hospital_beds_per_thousand    11590\n",
            "excess_mortality_cleaned      90396\n",
            "dtype: int64\n"
          ]
        }
      ]
    },
    {
      "cell_type": "code",
      "source": [
        "# Drop rows where location is 'Vatican'\n",
        "df_cleaned = df_cleaned[df_cleaned['location'] != 'Vatican']"
      ],
      "metadata": {
        "id": "jc56et-f6lfA"
      },
      "execution_count": 291,
      "outputs": []
    },
    {
      "cell_type": "code",
      "source": [
        "# Convert 'Year' in df_age to datetime format and extract the year\n",
        "df_age['year'] = pd.to_datetime(df_age['Year'], format='%Y').dt.year\n",
        "\n",
        "# Convert 'date' columns to datetime format and extract the year\n",
        "df_cleaned.loc[:, 'year'] = pd.to_datetime(df_cleaned['date'], format='%Y-%m-%d').dt.year\n",
        "\n",
        "# Rename columns for consistency\n",
        "df_age = df_age.rename(columns={\n",
        "    'Life Expectancy at Age 65, both sexes (years)': 'aged_65_older',\n",
        "    'Life Expectancy at Age 80, both sexes (years)': 'aged_70_older'\n",
        "})\n",
        "\n",
        "columns_to_fill = ['aged_65_older', 'aged_70_older']\n",
        "\n",
        "# Merge df_cleaned with df_fresh to fill missing values in specified columns\n",
        "for column in columns_to_fill:\n",
        "    df_merged = pd.merge(df_cleaned, df_age[['year', 'location', column]],\n",
        "                         on=['year', 'location'], how='left', suffixes=('', '_age'))\n",
        "\n",
        "    # Fill missing values in 'column' with values from 'column_age'\n",
        "    df_merged[f'{column}'].fillna(df_merged[f'{column}_age'], inplace=True)\n",
        "\n",
        "    # Drop the temporary 'column_age' column\n",
        "    df_merged.drop(columns=[f'{column}_age'], inplace=True)\n",
        "\n",
        "df_cleaned = df_merged\n",
        "\n",
        "# Print the updated DataFrame to verify the changes\n",
        "missing_values = df_cleaned.isnull().sum()\n",
        "print(missing_values[missing_values > 0])\n"
      ],
      "metadata": {
        "colab": {
          "base_uri": "https://localhost:8080/"
        },
        "id": "9DZmkp3-5WGR",
        "outputId": "c984c1e0-0c04-4647-dc97-aa768eacf878"
      },
      "execution_count": 292,
      "outputs": [
        {
          "output_type": "stream",
          "name": "stdout",
          "text": [
            "reproduction_rate              1836\n",
            "icu_patients                  83744\n",
            "hosp_patients                 81520\n",
            "new_tests                     48302\n",
            "positive_rate                 44083\n",
            "tests_per_case                44657\n",
            "tests_units                   39175\n",
            "people_vaccinated             79127\n",
            "people_fully_vaccinated       81840\n",
            "new_vaccinations              81086\n",
            "stringency_index_cleaned       7049\n",
            "aged_65_older                  4789\n",
            "aged_70_older                   494\n",
            "gdp_per_capita                 3538\n",
            "extreme_poverty               32869\n",
            "cardiovasc_death_rate          3044\n",
            "diabetes_prevalence            1526\n",
            "female_smokers                23006\n",
            "male_smokers                  24005\n",
            "handwashing_facilities        48469\n",
            "hospital_beds_per_thousand    11088\n",
            "excess_mortality_cleaned      89894\n",
            "dtype: int64\n"
          ]
        }
      ]
    },
    {
      "cell_type": "code",
      "source": [
        "# Filter aged_65_older\n",
        "locations_with_aged_65_older = df_cleaned[df_cleaned['aged_65_older'].isna()]['location'].unique()\n",
        "\n",
        "# Print the locations with missing aged_65_older\n",
        "print(\"Locations with missing aged_65_older:\")\n",
        "print(locations_with_aged_65_older)"
      ],
      "metadata": {
        "colab": {
          "base_uri": "https://localhost:8080/"
        },
        "id": "ndYnCpWowcVn",
        "outputId": "90859720-7786-4c35-91d6-4cc04a587438"
      },
      "execution_count": 293,
      "outputs": [
        {
          "output_type": "stream",
          "name": "stdout",
          "text": [
            "Locations with missing aged_65_older:\n",
            "['Andorra' 'Dominica' 'Kosovo' 'Liechtenstein' 'Marshall Islands' 'Monaco'\n",
            " 'Saint Kitts and Nevis' 'San Marino' 'Syria' 'Taiwan']\n"
          ]
        }
      ]
    },
    {
      "cell_type": "code",
      "source": [
        "df_merged = pd.merge(df_cleaned, df_age[['year', 'location', 'aged_65_older']],\n",
        "                     on=['year', 'location'], how='left', suffixes=('', '_age'))\n",
        "\n",
        "# Fill missing values in 'aged_65_older' with values from 'aged_65_older_age'\n",
        "df_merged['aged_65_older'].fillna(df_merged['aged_65_older_age'], inplace=True)\n",
        "\n",
        "# Drop the temporary 'aged_65_older_age' column\n",
        "df_merged.drop(columns=['aged_65_older_age'], inplace=True)\n",
        "\n",
        "df_cleaned = df_merged\n",
        "\n",
        "# Print the updated DataFrame to verify the changes\n",
        "missing_values = df_cleaned.isnull().sum()\n",
        "print(missing_values[missing_values > 0])\n"
      ],
      "metadata": {
        "colab": {
          "base_uri": "https://localhost:8080/"
        },
        "id": "5kmMGyy_6KEC",
        "outputId": "59d3f7ab-9750-4867-ab4b-1b2633894352"
      },
      "execution_count": 294,
      "outputs": [
        {
          "output_type": "stream",
          "name": "stdout",
          "text": [
            "reproduction_rate              1836\n",
            "icu_patients                  83744\n",
            "hosp_patients                 81520\n",
            "new_tests                     48302\n",
            "positive_rate                 44083\n",
            "tests_per_case                44657\n",
            "tests_units                   39175\n",
            "people_vaccinated             79127\n",
            "people_fully_vaccinated       81840\n",
            "new_vaccinations              81086\n",
            "stringency_index_cleaned       7049\n",
            "aged_65_older                  1526\n",
            "aged_70_older                   494\n",
            "gdp_per_capita                 3538\n",
            "extreme_poverty               32869\n",
            "cardiovasc_death_rate          3044\n",
            "diabetes_prevalence            1526\n",
            "female_smokers                23006\n",
            "male_smokers                  24005\n",
            "handwashing_facilities        48469\n",
            "hospital_beds_per_thousand    11088\n",
            "excess_mortality_cleaned      89894\n",
            "dtype: int64\n"
          ]
        }
      ]
    },
    {
      "cell_type": "code",
      "source": [
        "# Filter aged_65_older\n",
        "locations_with_aged_65_older = df_cleaned[df_cleaned['aged_65_older'].isna()]['location'].unique()\n",
        "\n",
        "# Print the locations with missing aged_65_older\n",
        "print(\"Locations with missing aged_65_older:\")\n",
        "print(locations_with_aged_65_older)"
      ],
      "metadata": {
        "colab": {
          "base_uri": "https://localhost:8080/"
        },
        "id": "NKaAthVx685j",
        "outputId": "f660f24c-022d-444a-fe13-3bc33e9e48e2"
      },
      "execution_count": 295,
      "outputs": [
        {
          "output_type": "stream",
          "name": "stdout",
          "text": [
            "Locations with missing aged_65_older:\n",
            "['Kosovo' 'Syria' 'Taiwan']\n"
          ]
        }
      ]
    },
    {
      "cell_type": "code",
      "source": [
        "# Filter aged_70_older\n",
        "locations_with_aged_70_older = df_cleaned[df_cleaned['aged_70_older'].isna()]['location'].unique()\n",
        "\n",
        "# Print the locations with missing aged_70_older\n",
        "print(\"Locations with missing aged_70_older:\")\n",
        "print(locations_with_aged_70_older)"
      ],
      "metadata": {
        "colab": {
          "base_uri": "https://localhost:8080/"
        },
        "id": "oS-EKh6owmQo",
        "outputId": "61967594-2135-48e0-c32c-d0e043e1524d"
      },
      "execution_count": 296,
      "outputs": [
        {
          "output_type": "stream",
          "name": "stdout",
          "text": [
            "Locations with missing aged_70_older:\n",
            "['Kosovo']\n"
          ]
        }
      ]
    },
    {
      "cell_type": "code",
      "source": [
        "# Define the values to fill for each location and year\n",
        "fill_values = {\n",
        "    2020: {'Kosovo': 8.8, 'Syria': 14.769, 'Taiwan': 20.332},\n",
        "    2021: {'Kosovo': 9.08, 'Syria': 14.482, 'Taiwan': 20.369}\n",
        "}\n",
        "\n",
        "# Iterate over the years and locations to fill the values\n",
        "for year, locations in fill_values.items():\n",
        "    for location, value in locations.items():\n",
        "        mask = (df_cleaned['year'] == year) & (df_cleaned['location'] == location) & (df_cleaned['aged_65_older'].isna())\n",
        "        df_cleaned.loc[mask, 'aged_65_older'] = value"
      ],
      "metadata": {
        "id": "FOSUL8NsPo3P"
      },
      "execution_count": 297,
      "outputs": []
    },
    {
      "cell_type": "code",
      "source": [
        "# Filter aged_65_older\n",
        "locations_with_aged_65_older = df_cleaned[df_cleaned['aged_65_older'].isna()]['location'].unique()\n",
        "\n",
        "# Print the locations with missing aged_65_older\n",
        "print(\"Locations with missing aged_65_older:\")\n",
        "print(locations_with_aged_65_older)"
      ],
      "metadata": {
        "colab": {
          "base_uri": "https://localhost:8080/"
        },
        "id": "gSL9QANJPsM7",
        "outputId": "9596bed8-96f8-4418-f234-987c89c029aa"
      },
      "execution_count": 298,
      "outputs": [
        {
          "output_type": "stream",
          "name": "stdout",
          "text": [
            "Locations with missing aged_65_older:\n",
            "[]\n"
          ]
        }
      ]
    },
    {
      "cell_type": "code",
      "source": [
        "# Define the values to fill for each location and year\n",
        "fill_values = {\n",
        "    2020: {'Kosovo': 2.8},\n",
        "    2021: {'Kosovo': 3.08}\n",
        "}\n",
        "\n",
        "# Iterate over the years and locations to fill the values\n",
        "for year, locations in fill_values.items():\n",
        "    for location, value in locations.items():\n",
        "        mask = (df_cleaned['year'] == year) & (df_cleaned['location'] == location) & (df_cleaned['aged_70_older'].isna())\n",
        "        df_cleaned.loc[mask, 'aged_70_older'] = value"
      ],
      "metadata": {
        "id": "FYi8y0ZmPumh"
      },
      "execution_count": 299,
      "outputs": []
    },
    {
      "cell_type": "code",
      "source": [
        "# Print the updated DataFrame to verify the changes\n",
        "missing_values = df_cleaned.isnull().sum()\n",
        "print(missing_values[missing_values > 0])"
      ],
      "metadata": {
        "colab": {
          "base_uri": "https://localhost:8080/"
        },
        "id": "R8ADueeyQj6Y",
        "outputId": "522feda7-f619-499a-b436-66657a3a15d5"
      },
      "execution_count": 300,
      "outputs": [
        {
          "output_type": "stream",
          "name": "stdout",
          "text": [
            "reproduction_rate              1836\n",
            "icu_patients                  83744\n",
            "hosp_patients                 81520\n",
            "new_tests                     48302\n",
            "positive_rate                 44083\n",
            "tests_per_case                44657\n",
            "tests_units                   39175\n",
            "people_vaccinated             79127\n",
            "people_fully_vaccinated       81840\n",
            "new_vaccinations              81086\n",
            "stringency_index_cleaned       7049\n",
            "gdp_per_capita                 3538\n",
            "extreme_poverty               32869\n",
            "cardiovasc_death_rate          3044\n",
            "diabetes_prevalence            1526\n",
            "female_smokers                23006\n",
            "male_smokers                  24005\n",
            "handwashing_facilities        48469\n",
            "hospital_beds_per_thousand    11088\n",
            "excess_mortality_cleaned      89894\n",
            "dtype: int64\n"
          ]
        }
      ]
    },
    {
      "cell_type": "code",
      "source": [
        "# Filter aged_70_older\n",
        "locations_with_gdp_per_capita = df_cleaned[df_cleaned['gdp_per_capita'].isna()]['location'].unique()\n",
        "\n",
        "# Print the locations with missing gdp_per_capita\n",
        "print(\"Locations with missing gdp_per_capitar:\")\n",
        "print(locations_with_gdp_per_capita)"
      ],
      "metadata": {
        "colab": {
          "base_uri": "https://localhost:8080/"
        },
        "id": "J6matouTRPhB",
        "outputId": "08a0bead-3b2e-46f7-de4e-e1c0fb678e19"
      },
      "execution_count": 301,
      "outputs": [
        {
          "output_type": "stream",
          "name": "stdout",
          "text": [
            "Locations with missing gdp_per_capitar:\n",
            "['Andorra' 'Cuba' 'Liechtenstein' 'Monaco' 'Somalia' 'Syria' 'Taiwan']\n"
          ]
        }
      ]
    },
    {
      "cell_type": "code",
      "source": [
        "df_gdp_2020 = pd.read_csv('/content/GDP per capita (current US$)_2020.csv')\n",
        "df_gdp_2021 = pd.read_csv('/content/GDP per capita (current US$)_2021.csv')\n",
        "print(df_gdp_2020.head())"
      ],
      "metadata": {
        "colab": {
          "base_uri": "https://localhost:8080/"
        },
        "id": "-x4s8CbtkXwh",
        "outputId": "0d9ead76-2b8f-48b6-d8db-d96655ca9745"
      },
      "execution_count": 302,
      "outputs": [
        {
          "output_type": "stream",
          "name": "stdout",
          "text": [
            "          Economy  Year Economy Code  GDP per capita (current US$)\n",
            "0     Afghanistan  2020          AFG                       512.055\n",
            "1         Albania  2020          ALB                      5343.038\n",
            "2         Algeria  2020          DZA                      3354.153\n",
            "3  American Samoa  2020          ASM                     15609.777\n",
            "4         Andorra  2020          AND                     37207.239\n"
          ]
        }
      ]
    },
    {
      "cell_type": "code",
      "source": [
        "print(df_gdp_2021.head())"
      ],
      "metadata": {
        "colab": {
          "base_uri": "https://localhost:8080/"
        },
        "id": "zb6LWgj9tfOG",
        "outputId": "e6f1e471-13ab-44ea-f948-33fe07657b28"
      },
      "execution_count": 303,
      "outputs": [
        {
          "output_type": "stream",
          "name": "stdout",
          "text": [
            "          Economy  Year Economy Code  GDP per capita (current US$)\n",
            "0     Afghanistan  2021          AFG                       355.778\n",
            "1         Albania  2021          ALB                      6377.203\n",
            "2         Algeria  2021          DZA                      3700.315\n",
            "3  American Samoa  2021          ASM                     16653.714\n",
            "4         Andorra  2021          AND                     42072.319\n"
          ]
        }
      ]
    },
    {
      "cell_type": "code",
      "source": [
        "print(df_gdp_2020.columns)"
      ],
      "metadata": {
        "colab": {
          "base_uri": "https://localhost:8080/"
        },
        "id": "NmfzySmExCHY",
        "outputId": "59669c1e-9c55-40dd-e56c-69461213d616"
      },
      "execution_count": 304,
      "outputs": [
        {
          "output_type": "stream",
          "name": "stdout",
          "text": [
            "Index(['Economy', 'Year', 'Economy Code', 'GDP per capita (current US$)'], dtype='object')\n"
          ]
        }
      ]
    },
    {
      "cell_type": "code",
      "source": [
        "# Convert 'Year' in df_gdp_2021 to datetime format and extract the year\n",
        "df_gdp_2021['year'] = pd.to_datetime(df_gdp_2021['Year'], format='%Y').dt.year\n",
        "\n",
        "# Rename columns for consistency\n",
        "df_gdp_2021 = df_gdp_2021.rename(columns={\n",
        "    'GDP per capita (current US$)': 'gdp_per_capita',\n",
        "    'Economy Code': 'iso_code'\n",
        "})\n",
        "\n",
        "# Merge df_cleaned with df_gdp_2021 to update GDP per capita for 2021\n",
        "df_merged_2021 = pd.merge(df_cleaned, df_gdp_2021[['iso_code', 'year', 'gdp_per_capita']],\n",
        "                          on=['iso_code', 'year'], how='left', suffixes=('', '_2021'))\n",
        "\n",
        "# Replace values in 'gdp_per_capita' column of df_cleaned with values from df_merged_2021\n",
        "df_cleaned['gdp_per_capita'] = df_merged_2021['gdp_per_capita_2021'].combine_first(df_cleaned['gdp_per_capita'])\n",
        "df_merged_2021['gdp_per_capita'].fillna(df_merged_2021['gdp_per_capita_2021'], inplace=True)\n",
        "\n",
        "# Drop temporary columns\n",
        "df_merged_2021.drop(columns=['gdp_per_capita_2021'], inplace=True)\n",
        "\n",
        "# Assign back to df_cleaned\n",
        "df_cleaned = df_merged_2021"
      ],
      "metadata": {
        "id": "StRi4u9a7k_O"
      },
      "execution_count": 305,
      "outputs": []
    },
    {
      "cell_type": "code",
      "source": [
        "# Convert 'Year' in df_gdp_2020 to datetime format and extract the year\n",
        "df_gdp_2020['year'] = pd.to_datetime(df_gdp_2020['Year'], format='%Y').dt.year\n",
        "\n",
        "# Rename columns for consistency\n",
        "df_gdp_2020 = df_gdp_2020.rename(columns={\n",
        "    'GDP per capita (current US$)': 'gdp_per_capita',\n",
        "    'Economy Code': 'iso_code'\n",
        "})\n",
        "\n",
        "# Merge df_cleaned with df_gdp_2021 to update GDP per capita for 2021\n",
        "df_merged_2020 = pd.merge(df_cleaned, df_gdp_2020[['iso_code', 'year', 'gdp_per_capita']],\n",
        "                          on=['iso_code', 'year'], how='left', suffixes=('', '_2020'))\n",
        "\n",
        "# Replace values in 'gdp_per_capita' column of df_cleaned with values from df_merged_2020\n",
        "df_cleaned['gdp_per_capita'] = df_merged_2020['gdp_per_capita_2020'].combine_first(df_cleaned['gdp_per_capita'])\n",
        "df_merged_2020['gdp_per_capita'].fillna(df_merged_2020['gdp_per_capita_2020'], inplace=True)\n",
        "\n",
        "# Drop temporary columns\n",
        "df_merged_2020.drop(columns=['gdp_per_capita_2020'], inplace=True)\n",
        "\n",
        "# Assign back to df_cleaned\n",
        "df_cleaned = df_merged_2020"
      ],
      "metadata": {
        "id": "O1ec0RxO749V"
      },
      "execution_count": 306,
      "outputs": []
    },
    {
      "cell_type": "code",
      "source": [
        "# Print the updated DataFrame to verify the changes\n",
        "missing_values = df_cleaned.isnull().sum()\n",
        "print(missing_values[missing_values > 0])"
      ],
      "metadata": {
        "colab": {
          "base_uri": "https://localhost:8080/"
        },
        "id": "UrsoSxXL1Iz6",
        "outputId": "bca9d006-574a-49ea-a8ca-8558a765345c"
      },
      "execution_count": 307,
      "outputs": [
        {
          "output_type": "stream",
          "name": "stdout",
          "text": [
            "reproduction_rate              1836\n",
            "icu_patients                  83744\n",
            "hosp_patients                 81520\n",
            "new_tests                     48302\n",
            "positive_rate                 44083\n",
            "tests_per_case                44657\n",
            "tests_units                   39175\n",
            "people_vaccinated             79127\n",
            "people_fully_vaccinated       81840\n",
            "new_vaccinations              81086\n",
            "stringency_index_cleaned       7049\n",
            "gdp_per_capita                  747\n",
            "extreme_poverty               32869\n",
            "cardiovasc_death_rate          3044\n",
            "diabetes_prevalence            1526\n",
            "female_smokers                23006\n",
            "male_smokers                  24005\n",
            "handwashing_facilities        48469\n",
            "hospital_beds_per_thousand    11088\n",
            "excess_mortality_cleaned      89894\n",
            "dtype: int64\n"
          ]
        }
      ]
    },
    {
      "cell_type": "code",
      "source": [
        "# Filter gdp_per_capita\n",
        "locations_with_gdp_per_capita = df_cleaned[df_cleaned['gdp_per_capita'].isna()]['location'].unique()\n",
        "\n",
        "# Print the locations with missing gdp_per_capita\n",
        "print(\"Locations with missing gdp_per_capitar:\")\n",
        "print(locations_with_gdp_per_capita)"
      ],
      "metadata": {
        "colab": {
          "base_uri": "https://localhost:8080/"
        },
        "id": "OqKfDcs91OUO",
        "outputId": "5958b732-ecef-4b54-f8b1-c6e1e632b458"
      },
      "execution_count": 308,
      "outputs": [
        {
          "output_type": "stream",
          "name": "stdout",
          "text": [
            "Locations with missing gdp_per_capitar:\n",
            "['Cuba' 'Taiwan']\n"
          ]
        }
      ]
    },
    {
      "cell_type": "code",
      "source": [
        "# Define the missing values\n",
        "missing_gdp_values = {\n",
        "    ('Cuba', 2020): 9499.57,\n",
        "    ('Taiwan', 2020): 28707,\n",
        "    ('Cuba', 2021): 48436.38,\n",
        "    ('Taiwan', 2021): 33176\n",
        "}\n",
        "\n",
        "# Iterate over the missing values and update the DataFrame\n",
        "for (country, year), gdp_value in missing_gdp_values.items():\n",
        "    df_cleaned.loc[(df_cleaned['location'] == country) & (df_cleaned['year'] == year), 'gdp_per_capita'] = gdp_value"
      ],
      "metadata": {
        "id": "f7-Q4g81-iKp"
      },
      "execution_count": 309,
      "outputs": []
    },
    {
      "cell_type": "code",
      "source": [
        "# Print the updated DataFrame to verify the changes\n",
        "missing_values = df_cleaned.isnull().sum()\n",
        "print(missing_values[missing_values > 0])"
      ],
      "metadata": {
        "colab": {
          "base_uri": "https://localhost:8080/"
        },
        "id": "4lfixOtr-mGz",
        "outputId": "cb35f63d-ac16-4255-ede7-86384772fc5e"
      },
      "execution_count": 310,
      "outputs": [
        {
          "output_type": "stream",
          "name": "stdout",
          "text": [
            "reproduction_rate              1836\n",
            "icu_patients                  83744\n",
            "hosp_patients                 81520\n",
            "new_tests                     48302\n",
            "positive_rate                 44083\n",
            "tests_per_case                44657\n",
            "tests_units                   39175\n",
            "people_vaccinated             79127\n",
            "people_fully_vaccinated       81840\n",
            "new_vaccinations              81086\n",
            "stringency_index_cleaned       7049\n",
            "extreme_poverty               32869\n",
            "cardiovasc_death_rate          3044\n",
            "diabetes_prevalence            1526\n",
            "female_smokers                23006\n",
            "male_smokers                  24005\n",
            "handwashing_facilities        48469\n",
            "hospital_beds_per_thousand    11088\n",
            "excess_mortality_cleaned      89894\n",
            "dtype: int64\n"
          ]
        }
      ]
    },
    {
      "cell_type": "code",
      "source": [
        "# Filter gdp_per_capita\n",
        "locations_with_cardiovasc_death_rate = df_cleaned[df_cleaned['cardiovasc_death_rate'].isna()]['location'].unique()\n",
        "\n",
        "# Print the locations with missing cardiovasc_death_rate\n",
        "print(\"Locations with missing cardiovasc_death_rate:\")\n",
        "print(locations_with_cardiovasc_death_rate)"
      ],
      "metadata": {
        "colab": {
          "base_uri": "https://localhost:8080/"
        },
        "id": "JjKsOs-P_JVm",
        "outputId": "661c774e-5475-4a21-9a05-d51fc31707ad"
      },
      "execution_count": 311,
      "outputs": [
        {
          "output_type": "stream",
          "name": "stdout",
          "text": [
            "Locations with missing cardiovasc_death_rate:\n",
            "['Hong Kong' 'Kosovo' 'Liechtenstein' 'Monaco' 'Saint Kitts and Nevis'\n",
            " 'San Marino']\n"
          ]
        }
      ]
    },
    {
      "cell_type": "markdown",
      "source": [
        "https://www.jacc.org/doi/10.1016/j.jacc.2022.11.005"
      ],
      "metadata": {
        "id": "kmZ8Dfl40wlr"
      }
    },
    {
      "cell_type": "code",
      "source": [
        "# Calculate the total number of cells\n",
        "total_cells = df_cleaned.size\n",
        "\n",
        "# Calculate the number of empty cells\n",
        "empty_cells = df_cleaned.isnull().sum().sum()\n",
        "\n",
        "# Calculate the number of filled cells\n",
        "filled_cells = total_cells - empty_cells\n",
        "\n",
        "# Calculate the percentage of empty and filled cells\n",
        "percent_empty = (empty_cells / total_cells) * 100\n",
        "percent_filled = (filled_cells / total_cells) * 100\n",
        "\n",
        "print(f\"Total cells: {total_cells}\")\n",
        "print(f\"Filled cells: {filled_cells} ({percent_filled:.2f}%)\")\n",
        "print(f\"Empty cells: {empty_cells} ({percent_empty:.2f}%)\")"
      ],
      "metadata": {
        "colab": {
          "base_uri": "https://localhost:8080/"
        },
        "id": "pR2ekoGWFlnt",
        "outputId": "a619c739-b359-4730-c5e0-f1fa3ba90eba"
      },
      "execution_count": 312,
      "outputs": [
        {
          "output_type": "stream",
          "name": "stdout",
          "text": [
            "Total cells: 3306205\n",
            "Filled cells: 2479885 (75.01%)\n",
            "Empty cells: 826320 (24.99%)\n"
          ]
        }
      ]
    },
    {
      "cell_type": "code",
      "source": [
        "# Identify columns without any missing values\n",
        "columns_without_missing_values = df_cleaned.columns[df_cleaned.notna().all()]\n",
        "\n",
        "# Print the columns without missing values\n",
        "print(\"Columns without missing values:\")\n",
        "for column in columns_without_missing_values:\n",
        "    print(column)\n"
      ],
      "metadata": {
        "colab": {
          "base_uri": "https://localhost:8080/"
        },
        "id": "vTbpfZXsF-aY",
        "outputId": "0b2039fd-ec04-4796-d6f3-45711a485eaa"
      },
      "execution_count": 313,
      "outputs": [
        {
          "output_type": "stream",
          "name": "stdout",
          "text": [
            "Columns without missing values:\n",
            "iso_code\n",
            "continent\n",
            "location\n",
            "date\n",
            "new_cases\n",
            "new_deaths\n",
            "population\n",
            "population_density\n",
            "median_age\n",
            "aged_65_older\n",
            "aged_70_older\n",
            "gdp_per_capita\n",
            "life_expectancy\n",
            "human_development_index\n",
            "land_area\n",
            "year\n"
          ]
        }
      ]
    },
    {
      "cell_type": "code",
      "source": [
        "# Define the columns to include in the new DataFrame\n",
        "columns_to_include = [\n",
        "    'continent', 'location', 'date', 'new_cases', 'new_deaths', 'reproduction_rate', 'population',\n",
        "    'population_density', 'median_age', 'gdp_per_capita', 'life_expectancy',\n",
        "    'human_development_index', 'land_area', 'stringency_index_cleaned', 'year'\n",
        "]\n",
        "\n",
        "# Create the new DataFrame with the specified columns\n",
        "df_corona_case = df_cleaned[columns_to_include]\n",
        "\n",
        "df_corona_case.info()\n"
      ],
      "metadata": {
        "colab": {
          "base_uri": "https://localhost:8080/"
        },
        "id": "rbm-k6RvLHap",
        "outputId": "0c8ab4f4-ddb0-42cd-b758-9a2271d57776"
      },
      "execution_count": 335,
      "outputs": [
        {
          "output_type": "stream",
          "name": "stdout",
          "text": [
            "<class 'pandas.core.frame.DataFrame'>\n",
            "RangeIndex: 94463 entries, 0 to 94462\n",
            "Data columns (total 15 columns):\n",
            " #   Column                    Non-Null Count  Dtype         \n",
            "---  ------                    --------------  -----         \n",
            " 0   continent                 94463 non-null  object        \n",
            " 1   location                  94463 non-null  object        \n",
            " 2   date                      94463 non-null  datetime64[ns]\n",
            " 3   new_cases                 94463 non-null  float64       \n",
            " 4   new_deaths                94463 non-null  float64       \n",
            " 5   reproduction_rate         92627 non-null  float64       \n",
            " 6   population                94463 non-null  float64       \n",
            " 7   population_density        94463 non-null  float64       \n",
            " 8   median_age                94463 non-null  float64       \n",
            " 9   gdp_per_capita            94463 non-null  float64       \n",
            " 10  life_expectancy           94463 non-null  float64       \n",
            " 11  human_development_index   94463 non-null  float64       \n",
            " 12  land_area                 94463 non-null  float64       \n",
            " 13  stringency_index_cleaned  87414 non-null  float64       \n",
            " 14  year                      94463 non-null  int32         \n",
            "dtypes: datetime64[ns](1), float64(11), int32(1), object(2)\n",
            "memory usage: 10.5+ MB\n"
          ]
        }
      ]
    },
    {
      "cell_type": "code",
      "source": [
        "# Drop all rows with any missing values\n",
        "df_corona_case = df_corona_case.dropna()\n",
        "df_corona_case.info()"
      ],
      "metadata": {
        "colab": {
          "base_uri": "https://localhost:8080/"
        },
        "id": "OZcpVSrSeS4r",
        "outputId": "5a5d1f18-7159-4f88-a605-207f7576282e"
      },
      "execution_count": 336,
      "outputs": [
        {
          "output_type": "stream",
          "name": "stdout",
          "text": [
            "<class 'pandas.core.frame.DataFrame'>\n",
            "Index: 86270 entries, 0 to 94462\n",
            "Data columns (total 15 columns):\n",
            " #   Column                    Non-Null Count  Dtype         \n",
            "---  ------                    --------------  -----         \n",
            " 0   continent                 86270 non-null  object        \n",
            " 1   location                  86270 non-null  object        \n",
            " 2   date                      86270 non-null  datetime64[ns]\n",
            " 3   new_cases                 86270 non-null  float64       \n",
            " 4   new_deaths                86270 non-null  float64       \n",
            " 5   reproduction_rate         86270 non-null  float64       \n",
            " 6   population                86270 non-null  float64       \n",
            " 7   population_density        86270 non-null  float64       \n",
            " 8   median_age                86270 non-null  float64       \n",
            " 9   gdp_per_capita            86270 non-null  float64       \n",
            " 10  life_expectancy           86270 non-null  float64       \n",
            " 11  human_development_index   86270 non-null  float64       \n",
            " 12  land_area                 86270 non-null  float64       \n",
            " 13  stringency_index_cleaned  86270 non-null  float64       \n",
            " 14  year                      86270 non-null  int32         \n",
            "dtypes: datetime64[ns](1), float64(11), int32(1), object(2)\n",
            "memory usage: 10.2+ MB\n"
          ]
        }
      ]
    },
    {
      "cell_type": "code",
      "source": [
        "# Define the columns to include in the new DataFrame\n",
        "columns_to_include = [\n",
        "    'iso_code', 'continent', 'location', 'year', 'population', 'population_density',\n",
        "    'median_age', 'aged_65_older', 'aged_70_older', 'gdp_per_capita', 'life_expectancy',\n",
        "    'human_development_index', 'land_area',\n",
        "    'cardiovasc_death_rate', 'diabetes_prevalence', 'female_smokers', 'male_smokers',\n",
        "    'hospital_beds_per_thousand'\n",
        "]\n",
        "\n",
        "# Create the new DataFrame with the specified columns\n",
        "df_countries = df_cleaned[columns_to_include]\n",
        "\n",
        "df_countries.info()\n"
      ],
      "metadata": {
        "colab": {
          "base_uri": "https://localhost:8080/"
        },
        "id": "IZWM60ltLSYh",
        "outputId": "81d7002d-9daf-4ae5-b836-bba809278748"
      },
      "execution_count": 337,
      "outputs": [
        {
          "output_type": "stream",
          "name": "stdout",
          "text": [
            "<class 'pandas.core.frame.DataFrame'>\n",
            "RangeIndex: 94463 entries, 0 to 94462\n",
            "Data columns (total 18 columns):\n",
            " #   Column                      Non-Null Count  Dtype  \n",
            "---  ------                      --------------  -----  \n",
            " 0   iso_code                    94463 non-null  object \n",
            " 1   continent                   94463 non-null  object \n",
            " 2   location                    94463 non-null  object \n",
            " 3   year                        94463 non-null  int32  \n",
            " 4   population                  94463 non-null  float64\n",
            " 5   population_density          94463 non-null  float64\n",
            " 6   median_age                  94463 non-null  float64\n",
            " 7   aged_65_older               94463 non-null  float64\n",
            " 8   aged_70_older               94463 non-null  float64\n",
            " 9   gdp_per_capita              94463 non-null  float64\n",
            " 10  life_expectancy             94463 non-null  float64\n",
            " 11  human_development_index     94463 non-null  float64\n",
            " 12  land_area                   94463 non-null  float64\n",
            " 13  cardiovasc_death_rate       91419 non-null  float64\n",
            " 14  diabetes_prevalence         92937 non-null  float64\n",
            " 15  female_smokers              71457 non-null  float64\n",
            " 16  male_smokers                70458 non-null  float64\n",
            " 17  hospital_beds_per_thousand  83375 non-null  float64\n",
            "dtypes: float64(14), int32(1), object(3)\n",
            "memory usage: 12.6+ MB\n"
          ]
        }
      ]
    },
    {
      "cell_type": "code",
      "source": [
        "# Drop all rows with any missing values\n",
        "df_countries = df_countries.dropna()\n",
        "df_countries.info()"
      ],
      "metadata": {
        "colab": {
          "base_uri": "https://localhost:8080/"
        },
        "id": "LX_ec3vBNfL4",
        "outputId": "2bae1177-6e4f-447d-d00b-fa9512ff9f30"
      },
      "execution_count": 338,
      "outputs": [
        {
          "output_type": "stream",
          "name": "stdout",
          "text": [
            "<class 'pandas.core.frame.DataFrame'>\n",
            "Index: 65059 entries, 513 to 94462\n",
            "Data columns (total 18 columns):\n",
            " #   Column                      Non-Null Count  Dtype  \n",
            "---  ------                      --------------  -----  \n",
            " 0   iso_code                    65059 non-null  object \n",
            " 1   continent                   65059 non-null  object \n",
            " 2   location                    65059 non-null  object \n",
            " 3   year                        65059 non-null  int32  \n",
            " 4   population                  65059 non-null  float64\n",
            " 5   population_density          65059 non-null  float64\n",
            " 6   median_age                  65059 non-null  float64\n",
            " 7   aged_65_older               65059 non-null  float64\n",
            " 8   aged_70_older               65059 non-null  float64\n",
            " 9   gdp_per_capita              65059 non-null  float64\n",
            " 10  life_expectancy             65059 non-null  float64\n",
            " 11  human_development_index     65059 non-null  float64\n",
            " 12  land_area                   65059 non-null  float64\n",
            " 13  cardiovasc_death_rate       65059 non-null  float64\n",
            " 14  diabetes_prevalence         65059 non-null  float64\n",
            " 15  female_smokers              65059 non-null  float64\n",
            " 16  male_smokers                65059 non-null  float64\n",
            " 17  hospital_beds_per_thousand  65059 non-null  float64\n",
            "dtypes: float64(14), int32(1), object(3)\n",
            "memory usage: 9.2+ MB\n"
          ]
        }
      ]
    },
    {
      "cell_type": "code",
      "source": [
        "# Drop duplicate rows\n",
        "df_countries = df_countries.drop_duplicates()"
      ],
      "metadata": {
        "id": "banE9nfydJxH"
      },
      "execution_count": 339,
      "outputs": []
    },
    {
      "cell_type": "code",
      "source": [
        "df_countries.info()"
      ],
      "metadata": {
        "colab": {
          "base_uri": "https://localhost:8080/"
        },
        "id": "fTLEOkBEdMK1",
        "outputId": "1d016b9f-d24a-4731-e489-54091862fbc5"
      },
      "execution_count": 340,
      "outputs": [
        {
          "output_type": "stream",
          "name": "stdout",
          "text": [
            "<class 'pandas.core.frame.DataFrame'>\n",
            "Index: 257 entries, 513 to 94262\n",
            "Data columns (total 18 columns):\n",
            " #   Column                      Non-Null Count  Dtype  \n",
            "---  ------                      --------------  -----  \n",
            " 0   iso_code                    257 non-null    object \n",
            " 1   continent                   257 non-null    object \n",
            " 2   location                    257 non-null    object \n",
            " 3   year                        257 non-null    int32  \n",
            " 4   population                  257 non-null    float64\n",
            " 5   population_density          257 non-null    float64\n",
            " 6   median_age                  257 non-null    float64\n",
            " 7   aged_65_older               257 non-null    float64\n",
            " 8   aged_70_older               257 non-null    float64\n",
            " 9   gdp_per_capita              257 non-null    float64\n",
            " 10  life_expectancy             257 non-null    float64\n",
            " 11  human_development_index     257 non-null    float64\n",
            " 12  land_area                   257 non-null    float64\n",
            " 13  cardiovasc_death_rate       257 non-null    float64\n",
            " 14  diabetes_prevalence         257 non-null    float64\n",
            " 15  female_smokers              257 non-null    float64\n",
            " 16  male_smokers                257 non-null    float64\n",
            " 17  hospital_beds_per_thousand  257 non-null    float64\n",
            "dtypes: float64(14), int32(1), object(3)\n",
            "memory usage: 37.1+ KB\n"
          ]
        }
      ]
    },
    {
      "cell_type": "code",
      "source": [
        "print(df_countries.head(10))"
      ],
      "metadata": {
        "colab": {
          "base_uri": "https://localhost:8080/"
        },
        "id": "IiuQsoMkdO2p",
        "outputId": "0321745a-9846-45ee-e588-25f1f9348986"
      },
      "execution_count": 341,
      "outputs": [
        {
          "output_type": "stream",
          "name": "stdout",
          "text": [
            "     iso_code      continent   location  year  population  population_density  \\\n",
            "513       ALB         Europe    Albania  2020   2877800.0             104.871   \n",
            "811       ALB         Europe    Albania  2021   2877800.0             104.871   \n",
            "1012      DZA         Africa    Algeria  2020  43851043.0              17.348   \n",
            "1323      DZA         Africa    Algeria  2021  43851043.0              17.348   \n",
            "3013      ARG  South America  Argentina  2020  45195777.0              16.177   \n",
            "3317      ARG  South America  Argentina  2021  45195777.0              16.177   \n",
            "3518      ARM           Asia    Armenia  2020   2963234.0             102.931   \n",
            "3824      ARM           Asia    Armenia  2021   2963234.0             102.931   \n",
            "4025      AUS        Oceania  Australia  2020  25499881.0               3.202   \n",
            "4366      AUS        Oceania  Australia  2021  25499881.0               3.202   \n",
            "\n",
            "      median_age  aged_65_older  aged_70_older  gdp_per_capita  \\\n",
            "513         38.0         13.188          8.643       11803.431   \n",
            "811         38.0         13.188          8.643       11803.431   \n",
            "1012        29.1          6.211          3.857       13913.839   \n",
            "1323        29.1          6.211          3.857       13913.839   \n",
            "3013        31.9         11.198          7.441       18933.907   \n",
            "3317        31.9         11.198          7.441       18933.907   \n",
            "3518        35.7         11.232          7.571        8787.580   \n",
            "3824        35.7         11.232          7.571        8787.580   \n",
            "4025        37.9         15.504         10.129       44648.710   \n",
            "4366        37.9         15.504         10.129       44648.710   \n",
            "\n",
            "      life_expectancy  human_development_index  land_area  \\\n",
            "513             78.57                    0.795    28748.0   \n",
            "811             78.57                    0.795    28748.0   \n",
            "1012            76.88                    0.748  2381741.0   \n",
            "1323            76.88                    0.748  2381741.0   \n",
            "3013            76.67                    0.845  2780400.0   \n",
            "3317            76.67                    0.845  2780400.0   \n",
            "3518            75.09                    0.776    29743.0   \n",
            "3824            75.09                    0.776    29743.0   \n",
            "4025            83.44                    0.944  7692024.0   \n",
            "4366            83.44                    0.944  7692024.0   \n",
            "\n",
            "      cardiovasc_death_rate  diabetes_prevalence  female_smokers  \\\n",
            "513                 304.195                10.08             7.1   \n",
            "811                 304.195                10.08             7.1   \n",
            "1012                278.364                 6.73             0.7   \n",
            "1323                278.364                 6.73             0.7   \n",
            "3013                191.032                 5.50            16.2   \n",
            "3317                191.032                 5.50            16.2   \n",
            "3518                341.010                 7.11             1.5   \n",
            "3824                341.010                 7.11             1.5   \n",
            "4025                107.791                 5.07            13.0   \n",
            "4366                107.791                 5.07            13.0   \n",
            "\n",
            "      male_smokers  hospital_beds_per_thousand  \n",
            "513           51.2                        2.89  \n",
            "811           51.2                        2.89  \n",
            "1012          30.4                        1.90  \n",
            "1323          30.4                        1.90  \n",
            "3013          27.7                        5.00  \n",
            "3317          27.7                        5.00  \n",
            "3518          52.1                        4.20  \n",
            "3824          52.1                        4.20  \n",
            "4025          16.5                        3.84  \n",
            "4366          16.5                        3.84  \n"
          ]
        }
      ]
    },
    {
      "cell_type": "code",
      "source": [
        "# Save df_countries to Excel\n",
        "df_countries.to_excel('df_countries.xlsx', index=False)\n",
        "\n",
        "# Save df_corona_case to Excel\n",
        "df_corona_case.to_excel('df_corona_case.xlsx', index=False)\n",
        "\n",
        "# Print confirmation\n",
        "print(\"DataFrames saved as Excel files.\")"
      ],
      "metadata": {
        "colab": {
          "base_uri": "https://localhost:8080/"
        },
        "id": "OXr5ppKsOAQq",
        "outputId": "c8ed8617-b424-4262-cbf9-ff208c9ea762"
      },
      "execution_count": 342,
      "outputs": [
        {
          "output_type": "stream",
          "name": "stdout",
          "text": [
            "DataFrames saved as Excel files.\n"
          ]
        }
      ]
    }
  ]
}