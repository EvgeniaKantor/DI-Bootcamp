{
  "nbformat": 4,
  "nbformat_minor": 0,
  "metadata": {
    "colab": {
      "provenance": [],
      "authorship_tag": "ABX9TyN0sRUFnj5pnj8D7zVyE1hH",
      "include_colab_link": true
    },
    "kernelspec": {
      "name": "python3",
      "display_name": "Python 3"
    },
    "language_info": {
      "name": "python"
    }
  },
  "cells": [
    {
      "cell_type": "markdown",
      "metadata": {
        "id": "view-in-github",
        "colab_type": "text"
      },
      "source": [
        "<a href=\"https://colab.research.google.com/github/EvgeniaKantor/DI-Bootcamp/blob/main/Week1/Day3/Timed_Challenge__2.ipynb\" target=\"_parent\"><img src=\"https://colab.research.google.com/assets/colab-badge.svg\" alt=\"Open In Colab\"/></a>"
      ]
    },
    {
      "cell_type": "code",
      "execution_count": 2,
      "metadata": {
        "colab": {
          "base_uri": "https://localhost:8080/"
        },
        "id": "ET4-ZMtbyEMP",
        "outputId": "2c18baf3-42b6-42f8-c870-349c073e8720"
      },
      "outputs": [
        {
          "output_type": "stream",
          "name": "stdout",
          "text": [
            "Enter the Number: 5\n",
            "5 is not a perfect number.\n"
          ]
        }
      ],
      "source": [
        "x = int(input('Enter the Number: '))\n",
        "divisors_sum = 0\n",
        "\n",
        "# Find the divisors of x\n",
        "for i in range(1, x):\n",
        "    if x % i == 0:\n",
        "        divisors_sum += i\n",
        "\n",
        "# Check if the sum of divisors equals the original number\n",
        "if divisors_sum == x:\n",
        "    print(f\"{x} is a perfect number.\")\n",
        "else:\n",
        "    print(f\"{x} is not a perfect number.\")\n"
      ]
    },
    {
      "cell_type": "code",
      "source": [
        "x = int(input('Enter the Number: '))\n",
        "\n",
        "# Find divisors using filter\n",
        "divisors = list(filter(lambda i: x % i == 0, range(1, x)))\n",
        "\n",
        "# Sum the divisors\n",
        "divisors_sum = sum(divisors)\n",
        "\n",
        "# Check if the sum of divisors equals the original number\n",
        "if divisors_sum == x:\n",
        "    print(f\"{x} is a perfect number.\")\n",
        "else:\n",
        "    print(f\"{x} is not a perfect number.\")"
      ],
      "metadata": {
        "colab": {
          "base_uri": "https://localhost:8080/"
        },
        "id": "E12eh7nq2FNX",
        "outputId": "984cbd9d-8048-43bf-b58e-bd67a117e15c"
      },
      "execution_count": 4,
      "outputs": [
        {
          "output_type": "stream",
          "name": "stdout",
          "text": [
            "Enter the Number: 5\n",
            "5 is not a perfect number.\n"
          ]
        }
      ]
    }
  ]
}