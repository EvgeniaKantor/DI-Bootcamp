{
  "nbformat": 4,
  "nbformat_minor": 0,
  "metadata": {
    "colab": {
      "provenance": [],
      "authorship_tag": "ABX9TyP+feURzhowHNPP3bykF+aL",
      "include_colab_link": true
    },
    "kernelspec": {
      "name": "python3",
      "display_name": "Python 3"
    },
    "language_info": {
      "name": "python"
    }
  },
  "cells": [
    {
      "cell_type": "markdown",
      "metadata": {
        "id": "view-in-github",
        "colab_type": "text"
      },
      "source": [
        "<a href=\"https://colab.research.google.com/github/EvgeniaKantor/DI-Bootcamp/blob/main/Week1/Day3/Exercises_XP_Gold.ipynb\" target=\"_parent\"><img src=\"https://colab.research.google.com/assets/colab-badge.svg\" alt=\"Open In Colab\"/></a>"
      ]
    },
    {
      "cell_type": "markdown",
      "source": [
        "# Exercise 1: Birthday Look-Up\n",
        "\n",
        "Create a variable called birthdays. Its value should be a dictionary.\n",
        "Initialize this variable with birthdays of 5 people of your choice. For each entry in the dictionary, the key should be the person’s name, and the value should be their birthday. Tip : Use the format “YYYY/MM/DD”.\n",
        "Print a welcome message for the user. Then tell them: “You can look up the birthdays of the people in the list!”“\n",
        "Ask the user to give you a person’s name and store the answer in a variable.\n",
        "Get the birthday of the name provided by the user.\n",
        "Print out the birthday with a nicely-formatted message.\n"
      ],
      "metadata": {
        "id": "9P8MUZmvWLrv"
      }
    },
    {
      "cell_type": "code",
      "source": [
        "birthdays = {'Joy': '01/01/1980', 'Tom': '02/02/1970', 'Ana': '03/03/1990', 'Mike': '04/04/2010', 'Jill': '05/05/1960'}\n",
        "print('You can look up the birthdays of the people in the list!')\n",
        "print(birthdays.keys())"
      ],
      "metadata": {
        "colab": {
          "base_uri": "https://localhost:8080/"
        },
        "id": "XCni1v0DTca4",
        "outputId": "e094b335-85f3-4abc-f1c9-d773dc32e66d"
      },
      "execution_count": 7,
      "outputs": [
        {
          "output_type": "stream",
          "name": "stdout",
          "text": [
            "You can look up the birthdays of the people in the list!\n",
            "dict_keys(['Joy', 'Tom', 'Ana', 'Mike', 'Jill'])\n"
          ]
        }
      ]
    },
    {
      "cell_type": "code",
      "source": [
        "chose_name = input(\"What the name do you chose? \")\n",
        "print(f\"Thank you for choosing {chose_name}, the birsday is {birthdays[chose_name]}\")"
      ],
      "metadata": {
        "colab": {
          "base_uri": "https://localhost:8080/"
        },
        "id": "nL3uX80oVIzX",
        "outputId": "f7c3ad2a-19ed-44bc-8c1c-df0a5560da12"
      },
      "execution_count": 9,
      "outputs": [
        {
          "output_type": "stream",
          "name": "stdout",
          "text": [
            "What the name do you chose? Joy\n",
            "Thank you for choosing Joy, the birsday is 01/01/1980\n"
          ]
        }
      ]
    },
    {
      "cell_type": "markdown",
      "source": [
        "# Exercise 2: Birthdays Advanced\n",
        "\n",
        "Instructions\n",
        "Before asking the user to input a person’s name print out all of the names in the dictionary.\n",
        "If the person that the user types is not found in the dictionary, print an error message (“Sorry, we don’t have the birthday information for <person’s name>”)"
      ],
      "metadata": {
        "id": "l7mkhPVrWWbp"
      }
    },
    {
      "cell_type": "code",
      "source": [
        "chose_name = input(\"What the name do you chose? \")\n",
        "\n",
        "if chose_name in birthdays:\n",
        "   print(f\"Thank you for choosing {chose_name}, the birsday is {birthdays[chose_name]}\")\n",
        "else:\n",
        "   print(f\"Sorry, we don't have the birthday information for {chose_name}\")"
      ],
      "metadata": {
        "colab": {
          "base_uri": "https://localhost:8080/"
        },
        "id": "gMzZRM24WK6X",
        "outputId": "817b4dc7-b754-42ca-ad93-729687947653"
      },
      "execution_count": 11,
      "outputs": [
        {
          "output_type": "stream",
          "name": "stdout",
          "text": [
            "What the name do you chose? Zhenya\n",
            "Sorry, we don't have the birthday information for Zhenya\n"
          ]
        }
      ]
    },
    {
      "cell_type": "markdown",
      "source": [
        "# Exercise 3: Add Your Own Birthday\n",
        "\n",
        "Add this new code: before asking the user to input a person’s name to look up, ask the user to add a new birthday:\n",
        "Ask the user for a person’s name – store it in a variable.\n",
        "Ask the user for this person’s birthday (in the format “YYYY/MM/DD”) - store it in a variable.\n",
        "Now add this new data into your dictionary.\n",
        "Make sure that if the user types any name that exists in the dictionary – including the name that he entered himself – the corresponding birthday is found and displayed."
      ],
      "metadata": {
        "id": "RRBz5RpmhOl0"
      }
    },
    {
      "cell_type": "code",
      "source": [
        "chose_name = input(\"Write a new name? \")\n",
        "age = input(\"Write the person's age? \")\n",
        "birthdays[chose_name] = age\n",
        "print(birthdays)"
      ],
      "metadata": {
        "colab": {
          "base_uri": "https://localhost:8080/"
        },
        "id": "1rCp93MqhYx4",
        "outputId": "783ab570-8ccd-490e-9b9f-cc6476a8a2d7"
      },
      "execution_count": 12,
      "outputs": [
        {
          "output_type": "stream",
          "name": "stdout",
          "text": [
            "Write a new name? Zhenya\n",
            "Write the person's age? 08/08/1980\n",
            "{'Joy': '01/01/1980', 'Tom': '02/02/1970', 'Ana': '03/03/1990', 'Mike': '04/04/2010', 'Jill': '05/05/1960', 'Zhenya': '08/08/1980'}\n"
          ]
        }
      ]
    },
    {
      "cell_type": "markdown",
      "source": [
        "# Exercise 4: Fruit Shop\n",
        "\n",
        "Instructions\n",
        "items = {\n",
        "    \"banana\": 4,\n",
        "    \"apple\": 2,\n",
        "    \"orange\": 1.5,\n",
        "    \"pear\": 3\n",
        "}\n",
        "\n",
        "Using the dictionary above, each key-value pair represents an item and its price - print all the items and their prices in a sentence.\n",
        "Using the dictionary below, each value are dictionaries containing both the price and the amount of items in stock -\n",
        "write some code to calculate how much it would cost to buy everything in stock.\n",
        "\n",
        "items = {\n",
        "    \"banana\": {\"price\": 4 , \"stock\":10},\n",
        "    \"apple\": {\"price\": 2, \"stock\":5},\n",
        "    \"orange\": {\"price\": 1.5 , \"stock\":24},\n",
        "    \"pear\": {\"price\": 3 , \"stock\":1}\n",
        "}"
      ],
      "metadata": {
        "id": "Liu1Fh85krcV"
      }
    },
    {
      "cell_type": "code",
      "source": [
        "items = { \"banana\": 4, \"apple\": 2, \"orange\": 1.5, \"pear\": 3 }\n",
        "for k, v in items.items():\n",
        "    print(k, v)"
      ],
      "metadata": {
        "colab": {
          "base_uri": "https://localhost:8080/"
        },
        "id": "icxVI14ykvg0",
        "outputId": "3641de70-f43e-4661-f592-2ecb3e0b8e0c"
      },
      "execution_count": 13,
      "outputs": [
        {
          "output_type": "stream",
          "name": "stdout",
          "text": [
            "banana 4\n",
            "apple 2\n",
            "orange 1.5\n",
            "pear 3\n"
          ]
        }
      ]
    },
    {
      "cell_type": "code",
      "source": [
        "items = { \"banana\": {\"price\": 4 , \"stock\":10}, \"apple\": {\"price\": 2, \"stock\":5}, \"orange\": {\"price\": 1.5 , \"stock\":24}, \"pear\": {\"price\": 3 , \"stock\":1} }\n",
        "total_cost = 0\n",
        "\n",
        "for item, details in items.items():\n",
        "    total_cost += details[\"price\"] * details[\"stock\"]\n",
        "\n",
        "print(f\"The total cost to buy everything in stock is ${total_cost:.2f}\")"
      ],
      "metadata": {
        "colab": {
          "base_uri": "https://localhost:8080/"
        },
        "id": "znnErEy_lGUv",
        "outputId": "a5e5bd82-12d0-4405-bfae-8800b0e9a6fc"
      },
      "execution_count": 17,
      "outputs": [
        {
          "output_type": "stream",
          "name": "stdout",
          "text": [
            "The total cost to buy everything in stock is $89.00\n"
          ]
        }
      ]
    }
  ]
}