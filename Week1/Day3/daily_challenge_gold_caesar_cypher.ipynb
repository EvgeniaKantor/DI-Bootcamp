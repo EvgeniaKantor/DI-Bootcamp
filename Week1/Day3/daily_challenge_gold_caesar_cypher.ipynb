{
  "nbformat": 4,
  "nbformat_minor": 0,
  "metadata": {
    "colab": {
      "provenance": [],
      "authorship_tag": "ABX9TyOzoNavMZ1h1hqwmZav3AGX",
      "include_colab_link": true
    },
    "kernelspec": {
      "name": "python3",
      "display_name": "Python 3"
    },
    "language_info": {
      "name": "python"
    }
  },
  "cells": [
    {
      "cell_type": "markdown",
      "metadata": {
        "id": "view-in-github",
        "colab_type": "text"
      },
      "source": [
        "<a href=\"https://colab.research.google.com/github/EvgeniaKantor/DI-Bootcamp/blob/main/daily_challenge_gold_caesar_cypher.ipynb\" target=\"_parent\"><img src=\"https://colab.research.google.com/assets/colab-badge.svg\" alt=\"Open In Colab\"/></a>"
      ]
    },
    {
      "cell_type": "code",
      "execution_count": null,
      "metadata": {
        "colab": {
          "base_uri": "https://localhost:8080/"
        },
        "id": "1t87Ivm4msXz",
        "outputId": "6a87e414-1a33-472d-e8b8-8d6aa3c7da5e"
      },
      "outputs": [
        {
          "output_type": "stream",
          "name": "stdout",
          "text": [
            "Would you like to encrypt (e) or decrypt (d) your message? Enter: e or d: e\n",
            "Enter your message to encrypt: A book\n",
            "Encrypted message: D#errn\n"
          ]
        }
      ],
      "source": [
        "# Ask the user for encryption or decryption\n",
        "s = input('Would you like to encrypt (e) or decrypt (d) your message? Enter: e or d: ').lower()\n",
        "\n",
        "# Initialize the resulting message\n",
        "cypher_t = \"\"\n",
        "\n",
        "# Perform the desired operation\n",
        "if s == 'e':\n",
        "    t = input('Enter your message to encrypt: ')\n",
        "    for letter in t:\n",
        "        cypher_t += chr(ord(letter) + 3)  # Shift characters by 3\n",
        "    print(\"Encrypted message:\", cypher_t)\n",
        "\n",
        "elif s == 'd':\n",
        "    t = input('Enter your message to decrypt: ')\n",
        "    for letter in t:\n",
        "        cypher_t += chr(ord(letter) - 3)  # Shift characters back by 3\n",
        "    print(\"Decrypted message:\", cypher_t)\n",
        "\n",
        "else:\n",
        "    print(\"Invalid option. Please enter 'e' for encrypt or 'd' for decrypt.\")\n"
      ]
    },
    {
      "cell_type": "code",
      "source": [
        "# Caesar Cipher Program with Comprehension\n",
        "def caesar_cipher():\n",
        "    # Ask the user for encryption or decryption\n",
        "    choice = input('Would you like to encrypt (e) or decrypt (d) your message? Enter: e or d: ').lower()\n",
        "    if choice not in ['e', 'd']:\n",
        "        print(\"Invalid choice! Please enter 'e' for encrypt or 'd' for decrypt.\")\n",
        "        return\n",
        "\n",
        "    # Ask the user for the message\n",
        "    text = input(\"Enter your message: \")\n",
        "\n",
        "    # Ask the user for the shift value\n",
        "    shift = int(input(\"Enter the shift value (positive integer): \"))\n",
        "\n",
        "    # Normalize the shift to stay within the range of the alphabet\n",
        "    shift = shift % 26\n",
        "    if choice == 'd':\n",
        "        shift = -shift\n",
        "\n",
        "    # Use a comprehension to encrypt/decrypt the message\n",
        "    result = ''.join(\n",
        "        chr((ord(char) - ord('a') + shift) % 26 + ord('a')) if char.islower() else\n",
        "        chr((ord(char) - ord('A') + shift) % 26 + ord('A')) if char.isupper() else\n",
        "        char\n",
        "        for char in text\n",
        "    )\n",
        "\n",
        "    # Output the result\n",
        "    action = \"Encrypted\" if choice == 'e' else \"Decrypted\"\n",
        "    print(f\"{action} message:\", result)\n",
        "\n",
        "# Run the program\n",
        "caesar_cipher()"
      ],
      "metadata": {
        "colab": {
          "base_uri": "https://localhost:8080/"
        },
        "id": "B_Dkov-Ttznw",
        "outputId": "4207a472-9300-4424-8cdc-2b52e72c2f54"
      },
      "execution_count": null,
      "outputs": [
        {
          "output_type": "stream",
          "name": "stdout",
          "text": [
            "Would you like to encrypt (e) or decrypt (d) your message? Enter: e or d: e\n",
            "Enter your message: A book\n",
            "Enter the shift value (positive integer): 3\n",
            "Encrypted message: D errn\n"
          ]
        }
      ]
    }
  ]
}
