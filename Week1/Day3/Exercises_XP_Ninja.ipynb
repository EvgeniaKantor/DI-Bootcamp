{
  "nbformat": 4,
  "nbformat_minor": 0,
  "metadata": {
    "colab": {
      "provenance": [],
      "authorship_tag": "ABX9TyO4nEyhzjj25Tf48yX+sZXV",
      "include_colab_link": true
    },
    "kernelspec": {
      "name": "python3",
      "display_name": "Python 3"
    },
    "language_info": {
      "name": "python"
    }
  },
  "cells": [
    {
      "cell_type": "markdown",
      "metadata": {
        "id": "view-in-github",
        "colab_type": "text"
      },
      "source": [
        "<a href=\"https://colab.research.google.com/github/EvgeniaKantor/DI-Bootcamp/blob/main/Week1/Day3/Exercises_XP_Ninja.ipynb\" target=\"_parent\"><img src=\"https://colab.research.google.com/assets/colab-badge.svg\" alt=\"Open In Colab\"/></a>"
      ]
    },
    {
      "cell_type": "markdown",
      "source": [
        "# Exercise 1 : Cars"
      ],
      "metadata": {
        "id": "yW2rIp5SbE8D"
      }
    },
    {
      "cell_type": "code",
      "execution_count": 7,
      "metadata": {
        "colab": {
          "base_uri": "https://localhost:8080/"
        },
        "id": "us51-fELYv9a",
        "outputId": "381d24e9-1468-44f3-f5f3-d17f5e3b249f"
      },
      "outputs": [
        {
          "output_type": "stream",
          "name": "stdout",
          "text": [
            "['Volkswagen', 'Toyota', 'Ford Motor', 'Honda', 'Chevrolet']\n"
          ]
        }
      ],
      "source": [
        "models = (\"Volkswagen\", \"Toyota\", \"Ford Motor\", \"Honda\", \"Chevrolet\")\n",
        "\n",
        "model_list = []\n",
        "for mpdel in models:\n",
        "   model_list.append(mpdel)\n",
        "print(model_list)"
      ]
    },
    {
      "cell_type": "code",
      "source": [
        "#Print out a message saying how many manufacturers/companies are in the list\n",
        "print(\"There are \" + str(len(model_list)) + \" manufacturers in the list\")"
      ],
      "metadata": {
        "colab": {
          "base_uri": "https://localhost:8080/"
        },
        "id": "Ylcn1XGBZ82u",
        "outputId": "b89e3dee-713b-47ee-c929-dbb3f28e21a2"
      },
      "execution_count": 8,
      "outputs": [
        {
          "output_type": "stream",
          "name": "stdout",
          "text": [
            "There are 5 manufacturers in the list\n"
          ]
        }
      ]
    },
    {
      "cell_type": "code",
      "source": [
        "#Print the list of manufacturers in reverse/descending order (Z-A)\n",
        "model_list.sort(reverse=True)\n",
        "print(model_list)"
      ],
      "metadata": {
        "colab": {
          "base_uri": "https://localhost:8080/"
        },
        "id": "uscMXHDaaFoU",
        "outputId": "6879fb19-685e-4ffd-940f-a97715cec4c5"
      },
      "execution_count": 10,
      "outputs": [
        {
          "output_type": "stream",
          "name": "stdout",
          "text": [
            "['Volkswagen', 'Toyota', 'Honda', 'Ford Motor', 'Chevrolet']\n"
          ]
        }
      ]
    },
    {
      "cell_type": "code",
      "source": [
        "#Find out how many manufacturers’ names have the letter ‘o’ in them\n",
        "count = 0\n",
        "for model in model_list:\n",
        "    if 'o' in model:\n",
        "        count += 1\n",
        "print(count)"
      ],
      "metadata": {
        "colab": {
          "base_uri": "https://localhost:8080/"
        },
        "id": "BPvumUyCaq1A",
        "outputId": "de17b25c-c273-4579-959e-23082d0e6db3"
      },
      "execution_count": 12,
      "outputs": [
        {
          "output_type": "stream",
          "name": "stdout",
          "text": [
            "5\n"
          ]
        }
      ]
    },
    {
      "cell_type": "code",
      "source": [
        "# Count how many manufacturer names contain the letter 'o'\n",
        "count = sum(1 for model in model_list if 'o' in model.lower())\n",
        "\n",
        "print(f\"Number of manufacturers with 'o' in their name: {count}\")"
      ],
      "metadata": {
        "colab": {
          "base_uri": "https://localhost:8080/"
        },
        "id": "hk94NmJPbX-U",
        "outputId": "d4a75393-dff8-411b-eb42-629060ea0355"
      },
      "execution_count": 15,
      "outputs": [
        {
          "output_type": "stream",
          "name": "stdout",
          "text": [
            "Number of manufacturers with 'o' in their name: 5\n"
          ]
        }
      ]
    },
    {
      "cell_type": "code",
      "source": [
        "#Find out how many manufacturers’ names do not have the letter ‘i’ in them.\n",
        "count = 0\n",
        "for model in model_list:\n",
        "    if 'i' not in model:\n",
        "        count += 1\n",
        "print(count)"
      ],
      "metadata": {
        "colab": {
          "base_uri": "https://localhost:8080/"
        },
        "id": "hpwudI0QbImX",
        "outputId": "d728246e-f7dc-4a8a-9467-7425f4ec526c"
      },
      "execution_count": 13,
      "outputs": [
        {
          "output_type": "stream",
          "name": "stdout",
          "text": [
            "5\n"
          ]
        }
      ]
    },
    {
      "cell_type": "code",
      "source": [
        "# Count how many manufacturer names contain the letter 'o'\n",
        "count = sum(1 for model in model_list if 'i' not in model.lower())\n",
        "\n",
        "print(f\"Number of manufacturers without 'i' in their name: {count}\")"
      ],
      "metadata": {
        "colab": {
          "base_uri": "https://localhost:8080/"
        },
        "id": "_UNwZcsPpsks",
        "outputId": "8cec9352-aa0c-44ee-965e-52c34f1e3e9f"
      },
      "execution_count": 16,
      "outputs": [
        {
          "output_type": "stream",
          "name": "stdout",
          "text": [
            "Number of manufacturers without 'i' in their name: 5\n"
          ]
        }
      ]
    },
    {
      "cell_type": "markdown",
      "source": [
        "There are a few duplicates in this list:[\"Honda\",\"Volkswagen\", \"Toyota\", \"Ford Motor\", \"Honda\", \"Chevrolet\", \"Toyota\"]\n",
        "\n",
        "1) Remove these programmatically. (Hint: you can use set to help you).\n",
        "\n",
        "2) Print out the companies without duplicates, in a comma-separated string with no line-breaks (eg. “Acura, Alfa Romeo, Aston Martin, …”), also print out a message saying how many companies are now in the list."
      ],
      "metadata": {
        "id": "cEBvmOWZrc6r"
      }
    },
    {
      "cell_type": "code",
      "source": [
        "car_list = [\"Honda\",\"Volkswagen\", \"Toyota\", \"Ford Motor\", \"Honda\", \"Chevrolet\", \"Toyota\"]"
      ],
      "metadata": {
        "id": "-h9XjoWnrH2a"
      },
      "execution_count": 20,
      "outputs": []
    },
    {
      "cell_type": "code",
      "source": [
        "print(list(set(car_list)))"
      ],
      "metadata": {
        "colab": {
          "base_uri": "https://localhost:8080/"
        },
        "id": "G_0MWB2BrLUK",
        "outputId": "51431dfc-68e8-4bf5-a7a2-eefedd2e0942"
      },
      "execution_count": 22,
      "outputs": [
        {
          "output_type": "stream",
          "name": "stdout",
          "text": [
            "['Volkswagen', 'Honda', 'Ford Motor', 'Chevrolet', 'Toyota']\n"
          ]
        }
      ]
    },
    {
      "cell_type": "code",
      "source": [
        "# Sort the list in ascending order\n",
        "car_list.sort()\n",
        "\n",
        "# Join the list into a comma-separated string\n",
        "comma_separated_string = \", \".join(car_list)\n",
        "\n",
        "# Print the comma-separated string\n",
        "print(comma_separated_string)\n",
        "\n",
        "# Print the number of unique companies\n",
        "print(f\"There are now {len(car_list)} companies in the list.\")"
      ],
      "metadata": {
        "colab": {
          "base_uri": "https://localhost:8080/"
        },
        "id": "OGymRnFlsA1q",
        "outputId": "cf56f9bf-cdc1-4236-e659-cd2f7fb6dd6b"
      },
      "execution_count": 23,
      "outputs": [
        {
          "output_type": "stream",
          "name": "stdout",
          "text": [
            "Chevrolet, Ford Motor, Honda, Honda, Toyota, Toyota, Volkswagen\n",
            "There are now 7 companies in the list.\n"
          ]
        }
      ]
    },
    {
      "cell_type": "markdown",
      "source": [
        "Bonus: Print out the list of manufacturers in ascending order (A-Z), but reverse the letters of each manufacturer’s name."
      ],
      "metadata": {
        "id": "GlsJin5Pq-5v"
      }
    },
    {
      "cell_type": "code",
      "source": [
        "# Sort the list in ascending order\n",
        "sorted_model_list = sorted(model_list)\n",
        "\n",
        "# Reverse the letters of each manufacturer's name\n",
        "reversed_names = [name[::-1] for name in sorted_model_list]\n",
        "\n",
        "# Print the reversed names\n",
        "for name in reversed_names:\n",
        "    print(name)"
      ],
      "metadata": {
        "colab": {
          "base_uri": "https://localhost:8080/"
        },
        "id": "UBgMBHt-qvDa",
        "outputId": "0f7f1173-9fb5-4f6b-8728-7c153e736edb"
      },
      "execution_count": 18,
      "outputs": [
        {
          "output_type": "stream",
          "name": "stdout",
          "text": [
            "telorvehC\n",
            "rotoM droF\n",
            "adnoH\n",
            "atoyoT\n",
            "negawskloV\n"
          ]
        }
      ]
    }
  ]
}