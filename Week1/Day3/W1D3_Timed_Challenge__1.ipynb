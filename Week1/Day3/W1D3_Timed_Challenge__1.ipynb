{
  "nbformat": 4,
  "nbformat_minor": 0,
  "metadata": {
    "colab": {
      "provenance": [],
      "authorship_tag": "ABX9TyN8N5uUhMM65AYNvAyAmKsQ",
      "include_colab_link": true
    },
    "kernelspec": {
      "name": "python3",
      "display_name": "Python 3"
    },
    "language_info": {
      "name": "python"
    }
  },
  "cells": [
    {
      "cell_type": "markdown",
      "metadata": {
        "id": "view-in-github",
        "colab_type": "text"
      },
      "source": [
        "<a href=\"https://colab.research.google.com/github/EvgeniaKantor/DI-Bootcamp/blob/main/W1D3_Timed_Challenge__1.ipynb\" target=\"_parent\"><img src=\"https://colab.research.google.com/assets/colab-badge.svg\" alt=\"Open In Colab\"/></a>"
      ]
    },
    {
      "cell_type": "markdown",
      "source": [
        "Reverse The Sentence\n",
        "\n",
        "Write a program to reverse the sentence wordwise.\n",
        "\n",
        "Input:\n",
        "\n",
        "You have entered a wrong domain\n",
        "\n",
        "Output:\n",
        "\n",
        "domain wrong a entered have You"
      ],
      "metadata": {
        "id": "B-mbyvFjs_zi"
      }
    },
    {
      "cell_type": "code",
      "source": [
        "your_input = \"You have entered a wrong domain\"\n",
        "my_list = []\n",
        "\n",
        "# Split the sentence into words and add them to the list\n",
        "for word in your_input.split():\n",
        "    my_list.append(word)\n",
        "\n",
        "# Reverse the list of words\n",
        "reversed_list = my_list[::-1]\n",
        "\n",
        "# Join the reversed list of words back into a sentence\n",
        "reversed_sentence = ' '.join(reversed_list)\n",
        "\n",
        "print(reversed_sentence)\n"
      ],
      "metadata": {
        "colab": {
          "base_uri": "https://localhost:8080/"
        },
        "id": "mluKyvl9s8Vw",
        "outputId": "29c006ab-73a6-4c72-c17f-010225606bd2"
      },
      "execution_count": 1,
      "outputs": [
        {
          "output_type": "stream",
          "name": "stdout",
          "text": [
            "domain wrong a entered have You\n"
          ]
        }
      ]
    },
    {
      "cell_type": "markdown",
      "source": [
        "**v2**"
      ],
      "metadata": {
        "id": "ccxyu5p6tUYd"
      }
    },
    {
      "cell_type": "code",
      "execution_count": 2,
      "metadata": {
        "colab": {
          "base_uri": "https://localhost:8080/"
        },
        "id": "IAgk_ndjs5Jo",
        "outputId": "3f379a2c-35cd-42c5-ac3d-7e637726d387"
      },
      "outputs": [
        {
          "output_type": "stream",
          "name": "stdout",
          "text": [
            "domain wrong a entered have You\n"
          ]
        }
      ],
      "source": [
        "your_input = \"You have entered a wrong domain\"\n",
        "\n",
        "# Split the sentence into words, reverse the list, and join it back into a sentence\n",
        "reversed_sentence = ' '.join(your_input.split()[::-1])\n",
        "\n",
        "print(reversed_sentence)"
      ]
    }
  ]
}
