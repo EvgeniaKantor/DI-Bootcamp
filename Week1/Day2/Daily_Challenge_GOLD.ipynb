{
  "nbformat": 4,
  "nbformat_minor": 0,
  "metadata": {
    "colab": {
      "provenance": [],
      "authorship_tag": "ABX9TyM5LwWtuyaNePEsFKVEIuAG",
      "include_colab_link": true
    },
    "kernelspec": {
      "name": "python3",
      "display_name": "Python 3"
    },
    "language_info": {
      "name": "python"
    }
  },
  "cells": [
    {
      "cell_type": "markdown",
      "metadata": {
        "id": "view-in-github",
        "colab_type": "text"
      },
      "source": [
        "<a href=\"https://colab.research.google.com/github/EvgeniaKantor/DI-Bootcamp/blob/main/Week1/Day2/Daily_Challenge_GOLD.ipynb\" target=\"_parent\"><img src=\"https://colab.research.google.com/assets/colab-badge.svg\" alt=\"Open In Colab\"/></a>"
      ]
    },
    {
      "cell_type": "markdown",
      "source": [
        "Instructions\n",
        "Ask the user for their birthdate (specify the format, for example: DD/MM/YYYY).\n",
        "Display a little cake as seen below:\n",
        "\n",
        "       ___iiiii___\n",
        "      |:H:a:p:p:y:|\n",
        "    __|___________|__\n",
        "   |^^^^^^^^^^^^^^^^^|\n",
        "   \n",
        "   |:B:i:r:t:h:d:a:y:|\n",
        "   |                 |\n",
        "   ~~~~~~~~~~~~~~~~~~~\n",
        "\n",
        "\n",
        "The number of candles on the cake should be the last number of the users age, if they are 53, then add 3 candles.\n",
        "\n",
        "Bonus : If they were born on a leap year, display two cakes !"
      ],
      "metadata": {
        "id": "Y4muqE7YeHL9"
      }
    },
    {
      "cell_type": "code",
      "source": [
        "from datetime import datetime"
      ],
      "metadata": {
        "id": "Ai_7fC4Khi2Y"
      },
      "execution_count": 2,
      "outputs": []
    },
    {
      "cell_type": "code",
      "execution_count": 8,
      "metadata": {
        "colab": {
          "base_uri": "https://localhost:8080/"
        },
        "id": "i-VrVzeBeD3m",
        "outputId": "4d6b983c-0999-450c-b01a-7aade1a37114"
      },
      "outputs": [
        {
          "name": "stdout",
          "output_type": "stream",
          "text": [
            "Enter your birthdate (DD/MM/YYYY): 08/11/1984\n"
          ]
        }
      ],
      "source": [
        "# Ask the user for their birthdate\n",
        "birthdate_str = input(\"Enter your birthdate (DD/MM/YYYY): \")\n",
        "\n",
        "# Convert the birthdate string to a datetime object\n",
        "birthdate = datetime.strptime(birthdate_str, \"%d/%m/%Y\")\n",
        "current_date = datetime.now()\n",
        "\n",
        "# Calculate the user's age\n",
        "age = current_date.year - birthdate.year - ((current_date.month, current_date.day) < (birthdate.month, birthdate.day))\n",
        "age_str = str(age)\n",
        "candles = int(age_str[-1])\n",
        "\n",
        "def print_cake(candles):\n",
        "  cake = (f\"\"\"\n",
        "                 {'i' * candles}\n",
        "                |:H:a:p:p:y:|\n",
        "              __|___________|__\n",
        "             |^^^^^^^^^^^^^^^^^|\n",
        "             |:B:i:r:t:h:d:a:y:|\n",
        "             |                 |\n",
        "             ~~~~~~~~~~~~~~~~~~~\n",
        "    \"\"\")\n",
        "  print(cake)"
      ]
    },
    {
      "cell_type": "code",
      "source": [
        "if birthdate.year % 4 == 0 and (birthdate.year % 100 != 0 or birthdate.year % 400 == 0):\n",
        "    print(\"You were born in a leap year! Here's two cakes for you:\")\n",
        "    print_cake(candles)\n",
        "    print()\n",
        "    print_cake(candles)\n",
        "else:\n",
        "  print(\"Your cake was eaten\")"
      ],
      "metadata": {
        "colab": {
          "base_uri": "https://localhost:8080/"
        },
        "id": "YGmJgM84kCQl",
        "outputId": "734db026-8421-4e1c-abbf-63ba775876c9"
      },
      "execution_count": 10,
      "outputs": [
        {
          "output_type": "stream",
          "name": "stdout",
          "text": [
            "You were born in a leap year! Here's two cakes for you:\n",
            "\n",
            "                 iiiiiiiii\n",
            "                |:H:a:p:p:y:|\n",
            "              __|___________|__\n",
            "             |^^^^^^^^^^^^^^^^^|\n",
            "             |:B:i:r:t:h:d:a:y:|\n",
            "             |                 |\n",
            "             ~~~~~~~~~~~~~~~~~~~\n",
            "    \n",
            "\n",
            "\n",
            "                 iiiiiiiii\n",
            "                |:H:a:p:p:y:|\n",
            "              __|___________|__\n",
            "             |^^^^^^^^^^^^^^^^^|\n",
            "             |:B:i:r:t:h:d:a:y:|\n",
            "             |                 |\n",
            "             ~~~~~~~~~~~~~~~~~~~\n",
            "    \n"
          ]
        }
      ]
    }
  ]
}