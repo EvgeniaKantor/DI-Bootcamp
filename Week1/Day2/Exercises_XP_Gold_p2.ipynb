{
  "nbformat": 4,
  "nbformat_minor": 0,
  "metadata": {
    "colab": {
      "provenance": [],
      "authorship_tag": "ABX9TyMq7TDSgh/JqWWvhD/nd9J7",
      "include_colab_link": true
    },
    "kernelspec": {
      "name": "python3",
      "display_name": "Python 3"
    },
    "language_info": {
      "name": "python"
    }
  },
  "cells": [
    {
      "cell_type": "markdown",
      "metadata": {
        "id": "view-in-github",
        "colab_type": "text"
      },
      "source": [
        "<a href=\"https://colab.research.google.com/github/EvgeniaKantor/DI-Bootcamp/blob/main/Week1/Day2/Exercises_XP_Gold_p2.ipynb\" target=\"_parent\"><img src=\"https://colab.research.google.com/assets/colab-badge.svg\" alt=\"Open In Colab\"/></a>"
      ]
    },
    {
      "cell_type": "markdown",
      "source": [
        "**Exercise** 6: Words And Letters\n",
        "Instructions\n",
        "Ask a user for 7 words, store them in a list named words.\n",
        "Ask the user for a single character, store it in a variable called letter.\n",
        "Loop through the words list and print the index of the first appearence of the letter variable in each word of the list.\n",
        "If the letter doesn’t exist in one of the words, print a friendly message with the word and the letter."
      ],
      "metadata": {
        "id": "4IA094HOAYm4"
      }
    },
    {
      "cell_type": "code",
      "execution_count": 5,
      "metadata": {
        "colab": {
          "base_uri": "https://localhost:8080/"
        },
        "id": "_onRCTFUATVe",
        "outputId": "b9befca7-277c-487a-887c-da10fe013ffc"
      },
      "outputs": [
        {
          "output_type": "stream",
          "name": "stdout",
          "text": [
            "Wrire a word 1: cat\n",
            "Wrire a word 2: ar\n",
            "Wrire a word 3: me\n",
            "Wrire a word 4: she\n",
            "Wrire a word 5: it\n",
            "Wrire a word 6: home\n",
            "Wrire a word 7: you\n",
            "Write one letter: e\n",
            "The letter 'e' does not exist in the word 'cat'.\n",
            "The letter 'e' does not exist in the word 'ar'.\n",
            "The letter 'e' first appears in the word 'me' at index 1.\n",
            "The letter 'e' first appears in the word 'she' at index 2.\n",
            "The letter 'e' does not exist in the word 'it'.\n",
            "The letter 'e' first appears in the word 'home' at index 3.\n",
            "The letter 'e' does not exist in the word 'you'.\n"
          ]
        }
      ],
      "source": [
        "words = []\n",
        "for i in range(7):\n",
        "  word = input(f\"Wrire a word {i+1}: \")\n",
        "  words.append(word)\n",
        "\n",
        "letter = input(\"Write one letter: \")\n",
        "\n",
        "for word in words:\n",
        "  if letter in word:\n",
        "    index = word.index(letter)\n",
        "    print(f\"The letter '{letter}' first appears in the word '{word}' at index {index}.\")\n",
        "  else:\n",
        "    print(f\"The letter '{letter}' does not exist in the word '{word}'.\")"
      ]
    },
    {
      "cell_type": "markdown",
      "source": [
        "**Exercise** 7: Min, Max, Sum\n",
        "Instructions\n",
        "Create a list of numbers from one to one million and then use min() and max() to make sure your list actually starts at one and ends at one million. Use the sum() function to see how quickly Python can add a million numbers."
      ],
      "metadata": {
        "id": "kiPo5O2GHA4M"
      }
    },
    {
      "cell_type": "code",
      "source": [
        "my_list = list(range(1, 1000001))\n",
        "print(min(my_list))\n",
        "print(max(my_list))\n",
        "print(sum(my_list))"
      ],
      "metadata": {
        "colab": {
          "base_uri": "https://localhost:8080/"
        },
        "id": "-dG-yOGzG_4W",
        "outputId": "39594521-b22d-4d0d-a8cf-786cdcb47c67"
      },
      "execution_count": 6,
      "outputs": [
        {
          "output_type": "stream",
          "name": "stdout",
          "text": [
            "1\n",
            "1000000\n",
            "500000500000\n"
          ]
        }
      ]
    },
    {
      "cell_type": "markdown",
      "source": [
        "**Exercise** 8 : List And Tuple\n",
        "Instructions\n",
        "Write a program which accepts a sequence of comma-separated numbers. Generate a list and a tuple which contain every number.\n",
        "Suppose the following input is supplied to the program: 34,67,55,33,12,98"
      ],
      "metadata": {
        "id": "YFqUy5rbH84L"
      }
    },
    {
      "cell_type": "code",
      "source": [
        "my_input = input(\"Write a sequence of comma-separated numbers: \")\n",
        "my_list = my_input.split(\",\")\n",
        "my_tuple = tuple(my_list)\n",
        "print(my_list)\n",
        "print(my_tuple)"
      ],
      "metadata": {
        "colab": {
          "base_uri": "https://localhost:8080/"
        },
        "id": "xW8cGKnmIBx0",
        "outputId": "c86ffb37-ca51-448d-bfdb-8600440c8b00"
      },
      "execution_count": 7,
      "outputs": [
        {
          "output_type": "stream",
          "name": "stdout",
          "text": [
            "Write a sequence of comma-separated numbers: 34,67,55,33,12,98\n",
            "['34', '67', '55', '33', '12', '98']\n",
            "('34', '67', '55', '33', '12', '98')\n"
          ]
        }
      ]
    },
    {
      "cell_type": "markdown",
      "source": [
        "**Exercise** 9 : Random Number\n",
        "Instructions\n",
        "Ask the user to input a number from 1 to 9 (including).\n",
        "Get a random number between 1 and 9. Hint: random module.\n",
        "If the user guesses the correct number print a message that says Winner.\n",
        "If the user guesses the wrong number print a message that says better luck next time.\n",
        "Bonus: use a loop that allows the user to keep guessing until they want to quit.\n",
        "Bonus 2: on exiting the loop tally up and display total games won and lost."
      ],
      "metadata": {
        "id": "CGfi--eoI236"
      }
    },
    {
      "cell_type": "code",
      "source": [
        "import random\n",
        "\n",
        "wins = 0\n",
        "losses = 0\n",
        "\n",
        "while True:\n",
        "    user_input = input(\"Enter a number between 1 and 9 (or type 'quit' to exit): \")\n",
        "\n",
        "    if user_input.lower() == 'quit':\n",
        "        break\n",
        "\n",
        "    try:\n",
        "        user_number = int(user_input)\n",
        "        if user_number < 1 or user_number > 9:\n",
        "            print(\"Please enter a number between 1 and 9.\")\n",
        "            continue\n",
        "    except ValueError:\n",
        "        print(\"Invalid input. Please enter a valid number between 1 and 9.\")\n",
        "        continue\n",
        "\n",
        "    # Generate a random number between 1 and 9\n",
        "    random_number = random.randint(1, 9)\n",
        "\n",
        "    # Compare the user's number to the random number\n",
        "    if user_number == random_number:\n",
        "        print(\"Winner!\")\n",
        "        wins += 1\n",
        "    else:\n",
        "        print(f\"Better luck next time. The correct number was {random_number}.\")\n",
        "        losses += 1\n",
        "\n",
        "# Display total games won and lost\n",
        "print(f\"Total games won: {wins}\")\n",
        "print(f\"Total games lost: {losses}\")\n"
      ],
      "metadata": {
        "colab": {
          "base_uri": "https://localhost:8080/"
        },
        "id": "qovDpaX0I6ir",
        "outputId": "3f57e735-90e1-4eda-f74d-117358055341"
      },
      "execution_count": 9,
      "outputs": [
        {
          "output_type": "stream",
          "name": "stdout",
          "text": [
            "Enter a number between 1 and 9 (or type 'quit' to exit): 1\n",
            "Better luck next time. The correct number was 8.\n",
            "Enter a number between 1 and 9 (or type 'quit' to exit): 5\n",
            "Better luck next time. The correct number was 7.\n",
            "Enter a number between 1 and 9 (or type 'quit' to exit): 7\n",
            "Better luck next time. The correct number was 1.\n",
            "Enter a number between 1 and 9 (or type 'quit' to exit): 1\n",
            "Better luck next time. The correct number was 9.\n",
            "Enter a number between 1 and 9 (or type 'quit' to exit): 6\n",
            "Better luck next time. The correct number was 2.\n",
            "Enter a number between 1 and 9 (or type 'quit' to exit): 4\n",
            "Better luck next time. The correct number was 7.\n",
            "Enter a number between 1 and 9 (or type 'quit' to exit): 5\n",
            "Better luck next time. The correct number was 7.\n",
            "Enter a number between 1 and 9 (or type 'quit' to exit): quit\n",
            "Total games won: 0\n",
            "Total games lost: 7\n"
          ]
        }
      ]
    }
  ]
}