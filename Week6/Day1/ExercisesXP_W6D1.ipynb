{
  "nbformat": 4,
  "nbformat_minor": 0,
  "metadata": {
    "colab": {
      "provenance": [],
      "authorship_tag": "ABX9TyOEw/bLz6NrwFEXfo+FuVXA",
      "include_colab_link": true
    },
    "kernelspec": {
      "name": "python3",
      "display_name": "Python 3"
    },
    "language_info": {
      "name": "python"
    }
  },
  "cells": [
    {
      "cell_type": "markdown",
      "metadata": {
        "id": "view-in-github",
        "colab_type": "text"
      },
      "source": [
        "<a href=\"https://colab.research.google.com/github/EvgeniaKantor/DI-Bootcamp/blob/main/ExercisesXP_W6D1.ipynb\" target=\"_parent\"><img src=\"https://colab.research.google.com/assets/colab-badge.svg\" alt=\"Open In Colab\"/></a>"
      ]
    },
    {
      "cell_type": "code",
      "source": [
        "import numpy as np"
      ],
      "metadata": {
        "id": "QDXhwpw9MipA"
      },
      "execution_count": 49,
      "outputs": []
    },
    {
      "cell_type": "code",
      "source": [
        "#Exercise1 Create a 1D NumPy array containing numbers from 0 to 9.\n",
        "array_1d = np.arange(10)\n",
        "print(array_1d)"
      ],
      "metadata": {
        "colab": {
          "base_uri": "https://localhost:8080/"
        },
        "id": "rljjCYKNMydV",
        "outputId": "6739c532-6525-4410-d90b-125c2120f333"
      },
      "execution_count": 52,
      "outputs": [
        {
          "output_type": "stream",
          "name": "stdout",
          "text": [
            "[0 1 2 3 4 5 6 7 8 9]\n"
          ]
        }
      ]
    },
    {
      "cell_type": "code",
      "source": [
        "#Exercise2 Convert a list [3.14, 2.17, 0, 1, 2] into a NumPy array and convert its data type to integer.\n",
        "list_data = [3.14, 2.17, 0, 1, 2]\n",
        "array_ex2 = np.array(list_data).astype(int)\n",
        "array_ex2"
      ],
      "metadata": {
        "colab": {
          "base_uri": "https://localhost:8080/"
        },
        "id": "9KV9urboN2Cj",
        "outputId": "ceaf9da1-e931-4f79-a054-04ef8e7b813e"
      },
      "execution_count": 57,
      "outputs": [
        {
          "output_type": "execute_result",
          "data": {
            "text/plain": [
              "array([3, 2, 0, 1, 2])"
            ]
          },
          "metadata": {},
          "execution_count": 57
        }
      ]
    },
    {
      "cell_type": "code",
      "source": [
        "#Exercise2 Convert a list [3.14, 2.17, 0, 1, 2] into a NumPy array and convert its data type to integer.\n",
        "list_data = [3.14, 2.17, 0, 1, 2]\n",
        "array_ex2 = np.array(list_data, dtype = int)\n",
        "array_ex2"
      ],
      "metadata": {
        "colab": {
          "base_uri": "https://localhost:8080/"
        },
        "id": "CL8pG17BOt2z",
        "outputId": "10bcbe0c-7251-4592-dc38-a4368c051206"
      },
      "execution_count": 58,
      "outputs": [
        {
          "output_type": "execute_result",
          "data": {
            "text/plain": [
              "array([3, 2, 0, 1, 2])"
            ]
          },
          "metadata": {},
          "execution_count": 58
        }
      ]
    },
    {
      "cell_type": "code",
      "source": [
        "#Exercise3 Create a 3x3 NumPy array with values ranging from 1 to 9.\n",
        "array_ex3 = np.arange(1, 10)\n",
        "reshaped_array_ex3 = array_ex3.reshape(3,3)\n",
        "reshaped_array_ex3"
      ],
      "metadata": {
        "colab": {
          "base_uri": "https://localhost:8080/"
        },
        "id": "SJDcV0BpPNIZ",
        "outputId": "dbeec875-ddbd-407c-8f6d-ce1d33a283b7"
      },
      "execution_count": 62,
      "outputs": [
        {
          "output_type": "execute_result",
          "data": {
            "text/plain": [
              "array([[1, 2, 3],\n",
              "       [4, 5, 6],\n",
              "       [7, 8, 9]])"
            ]
          },
          "metadata": {},
          "execution_count": 62
        }
      ]
    },
    {
      "cell_type": "code",
      "source": [
        "#Exercise3 Create a 3x3 NumPy array with values ranging from 1 to 9.\n",
        "array_ex3 = np.arange(1,10).reshape(3,3)\n",
        "array_ex3"
      ],
      "metadata": {
        "colab": {
          "base_uri": "https://localhost:8080/"
        },
        "id": "jAyuqzzQQJOk",
        "outputId": "d1f3cabf-fca9-4072-aa4d-65215661576f"
      },
      "execution_count": 63,
      "outputs": [
        {
          "output_type": "execute_result",
          "data": {
            "text/plain": [
              "array([[1, 2, 3],\n",
              "       [4, 5, 6],\n",
              "       [7, 8, 9]])"
            ]
          },
          "metadata": {},
          "execution_count": 63
        }
      ]
    },
    {
      "cell_type": "code",
      "source": [
        "#Exercise4 Create a 2D NumPy array of shape (4, 5) filled with random numbers.\n",
        "array_ex4 = np.random.rand(4, 5)\n",
        "array_ex4"
      ],
      "metadata": {
        "colab": {
          "base_uri": "https://localhost:8080/"
        },
        "id": "oysNjNHHQSm8",
        "outputId": "446c8e88-ccd8-4cee-bfff-6223722130f6"
      },
      "execution_count": 65,
      "outputs": [
        {
          "output_type": "execute_result",
          "data": {
            "text/plain": [
              "array([[0.67603745, 0.31464375, 0.24305273, 0.09816461, 0.97393877],\n",
              "       [0.35087457, 0.53835716, 0.58660818, 0.35547982, 0.07486414],\n",
              "       [0.87211842, 0.59909349, 0.43182905, 0.80235424, 0.55607392],\n",
              "       [0.25513747, 0.96471714, 0.87773657, 0.63745812, 0.97676997]])"
            ]
          },
          "metadata": {},
          "execution_count": 65
        }
      ]
    },
    {
      "cell_type": "code",
      "source": [
        "#Exercise5 Select the second row from a given 2D NumPy array.\n",
        "array_ex5 = np.random.randint(0, 100, size=(4, 5))\n",
        "array_ex5"
      ],
      "metadata": {
        "colab": {
          "base_uri": "https://localhost:8080/"
        },
        "id": "-vjkn0NURtjy",
        "outputId": "18337263-76f6-4b5a-9f6b-12eddaabb000"
      },
      "execution_count": 70,
      "outputs": [
        {
          "output_type": "execute_result",
          "data": {
            "text/plain": [
              "array([[ 3, 52, 72, 67, 34],\n",
              "       [16, 59, 69, 18, 56],\n",
              "       [ 6, 57, 76, 82,  5],\n",
              "       [21, 71, 41,  5, 23]])"
            ]
          },
          "metadata": {},
          "execution_count": 70
        }
      ]
    },
    {
      "cell_type": "code",
      "source": [
        "print(array_ex5[1])"
      ],
      "metadata": {
        "colab": {
          "base_uri": "https://localhost:8080/"
        },
        "id": "KlqD_qp_SqLW",
        "outputId": "fc6228f3-ca55-4491-e234-198e85f0fe3d"
      },
      "execution_count": 72,
      "outputs": [
        {
          "output_type": "stream",
          "name": "stdout",
          "text": [
            "[16 59 69 18 56]\n"
          ]
        }
      ]
    },
    {
      "cell_type": "code",
      "source": [
        "#Exercise6 Reverse the order of elements in a given 1D NumPy array (first element becomes last).\n",
        "array_ex6 = np.array([0, 1, 2, 3, 4, 5, 6, 7, 8, 9])\n",
        "reversed_array = array_ex6[::-1]\n",
        "reversed_array"
      ],
      "metadata": {
        "colab": {
          "base_uri": "https://localhost:8080/"
        },
        "id": "oIcvlUIoTDoL",
        "outputId": "f2a319ab-e136-42d5-bad5-40c071e45d70"
      },
      "execution_count": 73,
      "outputs": [
        {
          "output_type": "execute_result",
          "data": {
            "text/plain": [
              "array([9, 8, 7, 6, 5, 4, 3, 2, 1, 0])"
            ]
          },
          "metadata": {},
          "execution_count": 73
        }
      ]
    },
    {
      "cell_type": "code",
      "source": [
        "#Exercise6 Reverse the order of elements in a given 1D NumPy array (first element becomes last).\n",
        "array_ex6 = np.arange(10)\n",
        "reversed_array = array_ex6[::-1]\n",
        "reversed_array"
      ],
      "metadata": {
        "colab": {
          "base_uri": "https://localhost:8080/"
        },
        "id": "_1fNZ8PnUGlo",
        "outputId": "7c2a92cd-0781-4d88-a716-0e8bcdf0880e"
      },
      "execution_count": 74,
      "outputs": [
        {
          "output_type": "execute_result",
          "data": {
            "text/plain": [
              "array([9, 8, 7, 6, 5, 4, 3, 2, 1, 0])"
            ]
          },
          "metadata": {},
          "execution_count": 74
        }
      ]
    },
    {
      "cell_type": "code",
      "source": [
        "#Exercise7 Create a 4x4 identity matrix using NumPy.\n",
        "identity_matrix = np.identity(4)\n",
        "identity_matrix"
      ],
      "metadata": {
        "colab": {
          "base_uri": "https://localhost:8080/"
        },
        "id": "u6-uxwQbUaX0",
        "outputId": "b0eb0ce7-9523-47bb-a742-d797008a6666"
      },
      "execution_count": 75,
      "outputs": [
        {
          "output_type": "execute_result",
          "data": {
            "text/plain": [
              "array([[1., 0., 0., 0.],\n",
              "       [0., 1., 0., 0.],\n",
              "       [0., 0., 1., 0.],\n",
              "       [0., 0., 0., 1.]])"
            ]
          },
          "metadata": {},
          "execution_count": 75
        }
      ]
    },
    {
      "cell_type": "code",
      "source": [
        "#Exercise7 Create a 4x4 identity matrix using NumPy.\n",
        "identity_matrix = np.eye(4)\n",
        "identity_matrix"
      ],
      "metadata": {
        "colab": {
          "base_uri": "https://localhost:8080/"
        },
        "id": "7QZFBvhWV42b",
        "outputId": "e65de392-6c70-4c18-c236-e7701e1b2d9d"
      },
      "execution_count": 76,
      "outputs": [
        {
          "output_type": "execute_result",
          "data": {
            "text/plain": [
              "array([[1., 0., 0., 0.],\n",
              "       [0., 1., 0., 0.],\n",
              "       [0., 0., 1., 0.],\n",
              "       [0., 0., 0., 1.]])"
            ]
          },
          "metadata": {},
          "execution_count": 76
        }
      ]
    },
    {
      "cell_type": "code",
      "source": [
        "#Exercise8 Find the sum and average of a given 1D array.\n",
        "array_ex8 = np.arange(10)\n",
        "print('The sum:', np.sum(array_ex8))\n",
        "print('The average:', np.mean(array_ex8))"
      ],
      "metadata": {
        "colab": {
          "base_uri": "https://localhost:8080/"
        },
        "id": "EUD8-ZV_V9X-",
        "outputId": "ef58867c-cc1c-4723-f83e-be214dfd436e"
      },
      "execution_count": 79,
      "outputs": [
        {
          "output_type": "stream",
          "name": "stdout",
          "text": [
            "The sum: 45\n",
            "The average: 4.5\n"
          ]
        }
      ]
    },
    {
      "cell_type": "code",
      "source": [
        "#Exercise9 Create a NumPy array with elements from 1 to 20; then reshape it into a 4x5 matrix.\n",
        "array_ex9 = np.arange(1, 21).reshape(4, 5)\n",
        "array_ex9"
      ],
      "metadata": {
        "colab": {
          "base_uri": "https://localhost:8080/"
        },
        "id": "At2qkz5xXDz-",
        "outputId": "1d73ec4d-28e1-47ce-be3e-c34a43be28ad"
      },
      "execution_count": 81,
      "outputs": [
        {
          "output_type": "execute_result",
          "data": {
            "text/plain": [
              "array([[ 1,  2,  3,  4,  5],\n",
              "       [ 6,  7,  8,  9, 10],\n",
              "       [11, 12, 13, 14, 15],\n",
              "       [16, 17, 18, 19, 20]])"
            ]
          },
          "metadata": {},
          "execution_count": 81
        }
      ]
    },
    {
      "cell_type": "code",
      "source": [
        "#Exercise10 Extract all odd numbers from a given NumPy array.\n",
        "array_ex10 = np.arange(1, 10)\n",
        "odd_numbers = array_ex10[array_ex10 % 2 != 0]\n",
        "odd_numbers"
      ],
      "metadata": {
        "colab": {
          "base_uri": "https://localhost:8080/"
        },
        "id": "oE45mj9oXfmD",
        "outputId": "9635b52e-45c0-43da-c8bb-6d69476b8234"
      },
      "execution_count": 84,
      "outputs": [
        {
          "output_type": "execute_result",
          "data": {
            "text/plain": [
              "array([1, 3, 5, 7, 9])"
            ]
          },
          "metadata": {},
          "execution_count": 84
        }
      ]
    }
  ]
}
