{
  "nbformat": 4,
  "nbformat_minor": 0,
  "metadata": {
    "colab": {
      "provenance": [],
      "authorship_tag": "ABX9TyMfEFbNZVCr8pJZlIwJwgvx",
      "include_colab_link": true
    },
    "kernelspec": {
      "name": "python3",
      "display_name": "Python 3"
    },
    "language_info": {
      "name": "python"
    }
  },
  "cells": [
    {
      "cell_type": "markdown",
      "metadata": {
        "id": "view-in-github",
        "colab_type": "text"
      },
      "source": [
        "<a href=\"https://colab.research.google.com/github/EvgeniaKantor/DI-Bootcamp/blob/main/Exercises_XP_W9D2.ipynb\" target=\"_parent\"><img src=\"https://colab.research.google.com/assets/colab-badge.svg\" alt=\"Open In Colab\"/></a>"
      ]
    },
    {
      "cell_type": "code",
      "source": [
        "from google.colab import files\n",
        "uploaded = files.upload()\n",
        "!mkdir ~/.kaggle\n",
        "!cp kaggle.json ~/.kaggle/\n",
        "!chmod 600 ~/.kaggle/kaggle.json\n",
        "!kaggle datasets download -d mashlyn/online-retail-ii-uci"
      ],
      "metadata": {
        "colab": {
          "base_uri": "https://localhost:8080/",
          "height": 176
        },
        "id": "VTQaLX1XpjZa",
        "outputId": "58432f2c-a480-4253-ed1b-4b096e5fd5c1"
      },
      "execution_count": 2,
      "outputs": [
        {
          "output_type": "display_data",
          "data": {
            "text/plain": [
              "<IPython.core.display.HTML object>"
            ],
            "text/html": [
              "\n",
              "     <input type=\"file\" id=\"files-53a01887-a6b6-4b94-b47a-c9acd363436e\" name=\"files[]\" multiple disabled\n",
              "        style=\"border:none\" />\n",
              "     <output id=\"result-53a01887-a6b6-4b94-b47a-c9acd363436e\">\n",
              "      Upload widget is only available when the cell has been executed in the\n",
              "      current browser session. Please rerun this cell to enable.\n",
              "      </output>\n",
              "      <script>// Copyright 2017 Google LLC\n",
              "//\n",
              "// Licensed under the Apache License, Version 2.0 (the \"License\");\n",
              "// you may not use this file except in compliance with the License.\n",
              "// You may obtain a copy of the License at\n",
              "//\n",
              "//      http://www.apache.org/licenses/LICENSE-2.0\n",
              "//\n",
              "// Unless required by applicable law or agreed to in writing, software\n",
              "// distributed under the License is distributed on an \"AS IS\" BASIS,\n",
              "// WITHOUT WARRANTIES OR CONDITIONS OF ANY KIND, either express or implied.\n",
              "// See the License for the specific language governing permissions and\n",
              "// limitations under the License.\n",
              "\n",
              "/**\n",
              " * @fileoverview Helpers for google.colab Python module.\n",
              " */\n",
              "(function(scope) {\n",
              "function span(text, styleAttributes = {}) {\n",
              "  const element = document.createElement('span');\n",
              "  element.textContent = text;\n",
              "  for (const key of Object.keys(styleAttributes)) {\n",
              "    element.style[key] = styleAttributes[key];\n",
              "  }\n",
              "  return element;\n",
              "}\n",
              "\n",
              "// Max number of bytes which will be uploaded at a time.\n",
              "const MAX_PAYLOAD_SIZE = 100 * 1024;\n",
              "\n",
              "function _uploadFiles(inputId, outputId) {\n",
              "  const steps = uploadFilesStep(inputId, outputId);\n",
              "  const outputElement = document.getElementById(outputId);\n",
              "  // Cache steps on the outputElement to make it available for the next call\n",
              "  // to uploadFilesContinue from Python.\n",
              "  outputElement.steps = steps;\n",
              "\n",
              "  return _uploadFilesContinue(outputId);\n",
              "}\n",
              "\n",
              "// This is roughly an async generator (not supported in the browser yet),\n",
              "// where there are multiple asynchronous steps and the Python side is going\n",
              "// to poll for completion of each step.\n",
              "// This uses a Promise to block the python side on completion of each step,\n",
              "// then passes the result of the previous step as the input to the next step.\n",
              "function _uploadFilesContinue(outputId) {\n",
              "  const outputElement = document.getElementById(outputId);\n",
              "  const steps = outputElement.steps;\n",
              "\n",
              "  const next = steps.next(outputElement.lastPromiseValue);\n",
              "  return Promise.resolve(next.value.promise).then((value) => {\n",
              "    // Cache the last promise value to make it available to the next\n",
              "    // step of the generator.\n",
              "    outputElement.lastPromiseValue = value;\n",
              "    return next.value.response;\n",
              "  });\n",
              "}\n",
              "\n",
              "/**\n",
              " * Generator function which is called between each async step of the upload\n",
              " * process.\n",
              " * @param {string} inputId Element ID of the input file picker element.\n",
              " * @param {string} outputId Element ID of the output display.\n",
              " * @return {!Iterable<!Object>} Iterable of next steps.\n",
              " */\n",
              "function* uploadFilesStep(inputId, outputId) {\n",
              "  const inputElement = document.getElementById(inputId);\n",
              "  inputElement.disabled = false;\n",
              "\n",
              "  const outputElement = document.getElementById(outputId);\n",
              "  outputElement.innerHTML = '';\n",
              "\n",
              "  const pickedPromise = new Promise((resolve) => {\n",
              "    inputElement.addEventListener('change', (e) => {\n",
              "      resolve(e.target.files);\n",
              "    });\n",
              "  });\n",
              "\n",
              "  const cancel = document.createElement('button');\n",
              "  inputElement.parentElement.appendChild(cancel);\n",
              "  cancel.textContent = 'Cancel upload';\n",
              "  const cancelPromise = new Promise((resolve) => {\n",
              "    cancel.onclick = () => {\n",
              "      resolve(null);\n",
              "    };\n",
              "  });\n",
              "\n",
              "  // Wait for the user to pick the files.\n",
              "  const files = yield {\n",
              "    promise: Promise.race([pickedPromise, cancelPromise]),\n",
              "    response: {\n",
              "      action: 'starting',\n",
              "    }\n",
              "  };\n",
              "\n",
              "  cancel.remove();\n",
              "\n",
              "  // Disable the input element since further picks are not allowed.\n",
              "  inputElement.disabled = true;\n",
              "\n",
              "  if (!files) {\n",
              "    return {\n",
              "      response: {\n",
              "        action: 'complete',\n",
              "      }\n",
              "    };\n",
              "  }\n",
              "\n",
              "  for (const file of files) {\n",
              "    const li = document.createElement('li');\n",
              "    li.append(span(file.name, {fontWeight: 'bold'}));\n",
              "    li.append(span(\n",
              "        `(${file.type || 'n/a'}) - ${file.size} bytes, ` +\n",
              "        `last modified: ${\n",
              "            file.lastModifiedDate ? file.lastModifiedDate.toLocaleDateString() :\n",
              "                                    'n/a'} - `));\n",
              "    const percent = span('0% done');\n",
              "    li.appendChild(percent);\n",
              "\n",
              "    outputElement.appendChild(li);\n",
              "\n",
              "    const fileDataPromise = new Promise((resolve) => {\n",
              "      const reader = new FileReader();\n",
              "      reader.onload = (e) => {\n",
              "        resolve(e.target.result);\n",
              "      };\n",
              "      reader.readAsArrayBuffer(file);\n",
              "    });\n",
              "    // Wait for the data to be ready.\n",
              "    let fileData = yield {\n",
              "      promise: fileDataPromise,\n",
              "      response: {\n",
              "        action: 'continue',\n",
              "      }\n",
              "    };\n",
              "\n",
              "    // Use a chunked sending to avoid message size limits. See b/62115660.\n",
              "    let position = 0;\n",
              "    do {\n",
              "      const length = Math.min(fileData.byteLength - position, MAX_PAYLOAD_SIZE);\n",
              "      const chunk = new Uint8Array(fileData, position, length);\n",
              "      position += length;\n",
              "\n",
              "      const base64 = btoa(String.fromCharCode.apply(null, chunk));\n",
              "      yield {\n",
              "        response: {\n",
              "          action: 'append',\n",
              "          file: file.name,\n",
              "          data: base64,\n",
              "        },\n",
              "      };\n",
              "\n",
              "      let percentDone = fileData.byteLength === 0 ?\n",
              "          100 :\n",
              "          Math.round((position / fileData.byteLength) * 100);\n",
              "      percent.textContent = `${percentDone}% done`;\n",
              "\n",
              "    } while (position < fileData.byteLength);\n",
              "  }\n",
              "\n",
              "  // All done.\n",
              "  yield {\n",
              "    response: {\n",
              "      action: 'complete',\n",
              "    }\n",
              "  };\n",
              "}\n",
              "\n",
              "scope.google = scope.google || {};\n",
              "scope.google.colab = scope.google.colab || {};\n",
              "scope.google.colab._files = {\n",
              "  _uploadFiles,\n",
              "  _uploadFilesContinue,\n",
              "};\n",
              "})(self);\n",
              "</script> "
            ]
          },
          "metadata": {}
        },
        {
          "output_type": "stream",
          "name": "stdout",
          "text": [
            "Saving kaggle.json to kaggle.json\n",
            "Warning: Looks like you're using an outdated API Version, please consider updating (server 1.6.14 / client 1.6.12)\n",
            "Dataset URL: https://www.kaggle.com/datasets/mashlyn/online-retail-ii-uci\n",
            "License(s): CC0-1.0\n",
            "Downloading online-retail-ii-uci.zip to /content\n",
            " 34% 5.00M/14.5M [00:00<00:00, 38.5MB/s]\n",
            "100% 14.5M/14.5M [00:00<00:00, 85.3MB/s]\n"
          ]
        }
      ]
    },
    {
      "cell_type": "code",
      "source": [
        "# Gemini model\n",
        "!pip install -q -U google-generativeai"
      ],
      "metadata": {
        "id": "d73Sl6jhOR0q",
        "colab": {
          "base_uri": "https://localhost:8080/"
        },
        "outputId": "5d597423-ab40-4896-f87c-c7bfdb8eabd4"
      },
      "execution_count": 3,
      "outputs": [
        {
          "output_type": "stream",
          "name": "stdout",
          "text": [
            "\u001b[2K     \u001b[90m━━━━━━━━━━━━━━━━━━━━━━━━━━━━━━━━━━━━━━━━\u001b[0m \u001b[32m150.7/150.7 kB\u001b[0m \u001b[31m2.6 MB/s\u001b[0m eta \u001b[36m0:00:00\u001b[0m\n",
            "\u001b[2K     \u001b[90m━━━━━━━━━━━━━━━━━━━━━━━━━━━━━━━━━━━━━━━━\u001b[0m \u001b[32m679.1/679.1 kB\u001b[0m \u001b[31m17.3 MB/s\u001b[0m eta \u001b[36m0:00:00\u001b[0m\n",
            "\u001b[?25h"
          ]
        }
      ]
    },
    {
      "cell_type": "code",
      "source": [
        "import pathlib\n",
        "import textwrap\n",
        "import google.generativeai as genai\n",
        "\n",
        "from IPython.display import display\n",
        "from IPython.display import Markdown\n",
        "\n",
        "\n",
        "def to_markdown(text):\n",
        "  text = text.replace('•', '  *')\n",
        "  return Markdown(textwrap.indent(text, '> ', predicate=lambda _: True))"
      ],
      "metadata": {
        "id": "8SO0tm4HOg2h"
      },
      "execution_count": 4,
      "outputs": []
    },
    {
      "cell_type": "code",
      "source": [
        "# Used to securely store your API key\n",
        "from google.colab import userdata"
      ],
      "metadata": {
        "id": "AqoUp_8YPUpa"
      },
      "execution_count": 5,
      "outputs": []
    },
    {
      "cell_type": "code",
      "source": [
        "!unzip online-retail-ii-uci.zip"
      ],
      "metadata": {
        "colab": {
          "base_uri": "https://localhost:8080/"
        },
        "id": "w_rYTUNHrWZi",
        "outputId": "4ca57b9d-fd06-43ed-8782-c8b05c7dbb5b"
      },
      "execution_count": 6,
      "outputs": [
        {
          "output_type": "stream",
          "name": "stdout",
          "text": [
            "Archive:  online-retail-ii-uci.zip\n",
            "  inflating: online_retail_II.csv    \n"
          ]
        }
      ]
    },
    {
      "cell_type": "code",
      "source": [
        "!pip install anthropic"
      ],
      "metadata": {
        "colab": {
          "base_uri": "https://localhost:8080/"
        },
        "id": "65EpP5K5F4h0",
        "outputId": "56ec6be1-9976-4848-9152-651c4bae6e87"
      },
      "execution_count": 7,
      "outputs": [
        {
          "output_type": "stream",
          "name": "stdout",
          "text": [
            "Collecting anthropic\n",
            "  Downloading anthropic-0.26.0-py3-none-any.whl (877 kB)\n",
            "\u001b[2K     \u001b[90m━━━━━━━━━━━━━━━━━━━━━━━━━━━━━━━━━━━━━━━━\u001b[0m \u001b[32m877.7/877.7 kB\u001b[0m \u001b[31m3.5 MB/s\u001b[0m eta \u001b[36m0:00:00\u001b[0m\n",
            "\u001b[?25hRequirement already satisfied: anyio<5,>=3.5.0 in /usr/local/lib/python3.10/dist-packages (from anthropic) (3.7.1)\n",
            "Requirement already satisfied: distro<2,>=1.7.0 in /usr/lib/python3/dist-packages (from anthropic) (1.7.0)\n",
            "Collecting httpx<1,>=0.23.0 (from anthropic)\n",
            "  Downloading httpx-0.27.0-py3-none-any.whl (75 kB)\n",
            "\u001b[2K     \u001b[90m━━━━━━━━━━━━━━━━━━━━━━━━━━━━━━━━━━━━━━━━\u001b[0m \u001b[32m75.6/75.6 kB\u001b[0m \u001b[31m9.0 MB/s\u001b[0m eta \u001b[36m0:00:00\u001b[0m\n",
            "\u001b[?25hRequirement already satisfied: pydantic<3,>=1.9.0 in /usr/local/lib/python3.10/dist-packages (from anthropic) (2.7.1)\n",
            "Requirement already satisfied: sniffio in /usr/local/lib/python3.10/dist-packages (from anthropic) (1.3.1)\n",
            "Requirement already satisfied: tokenizers>=0.13.0 in /usr/local/lib/python3.10/dist-packages (from anthropic) (0.19.1)\n",
            "Requirement already satisfied: typing-extensions<5,>=4.7 in /usr/local/lib/python3.10/dist-packages (from anthropic) (4.11.0)\n",
            "Requirement already satisfied: idna>=2.8 in /usr/local/lib/python3.10/dist-packages (from anyio<5,>=3.5.0->anthropic) (3.7)\n",
            "Requirement already satisfied: exceptiongroup in /usr/local/lib/python3.10/dist-packages (from anyio<5,>=3.5.0->anthropic) (1.2.1)\n",
            "Requirement already satisfied: certifi in /usr/local/lib/python3.10/dist-packages (from httpx<1,>=0.23.0->anthropic) (2024.2.2)\n",
            "Collecting httpcore==1.* (from httpx<1,>=0.23.0->anthropic)\n",
            "  Downloading httpcore-1.0.5-py3-none-any.whl (77 kB)\n",
            "\u001b[2K     \u001b[90m━━━━━━━━━━━━━━━━━━━━━━━━━━━━━━━━━━━━━━━━\u001b[0m \u001b[32m77.9/77.9 kB\u001b[0m \u001b[31m9.9 MB/s\u001b[0m eta \u001b[36m0:00:00\u001b[0m\n",
            "\u001b[?25hCollecting h11<0.15,>=0.13 (from httpcore==1.*->httpx<1,>=0.23.0->anthropic)\n",
            "  Downloading h11-0.14.0-py3-none-any.whl (58 kB)\n",
            "\u001b[2K     \u001b[90m━━━━━━━━━━━━━━━━━━━━━━━━━━━━━━━━━━━━━━━━\u001b[0m \u001b[32m58.3/58.3 kB\u001b[0m \u001b[31m9.8 MB/s\u001b[0m eta \u001b[36m0:00:00\u001b[0m\n",
            "\u001b[?25hRequirement already satisfied: annotated-types>=0.4.0 in /usr/local/lib/python3.10/dist-packages (from pydantic<3,>=1.9.0->anthropic) (0.6.0)\n",
            "Requirement already satisfied: pydantic-core==2.18.2 in /usr/local/lib/python3.10/dist-packages (from pydantic<3,>=1.9.0->anthropic) (2.18.2)\n",
            "Requirement already satisfied: huggingface-hub<1.0,>=0.16.4 in /usr/local/lib/python3.10/dist-packages (from tokenizers>=0.13.0->anthropic) (0.20.3)\n",
            "Requirement already satisfied: filelock in /usr/local/lib/python3.10/dist-packages (from huggingface-hub<1.0,>=0.16.4->tokenizers>=0.13.0->anthropic) (3.14.0)\n",
            "Requirement already satisfied: fsspec>=2023.5.0 in /usr/local/lib/python3.10/dist-packages (from huggingface-hub<1.0,>=0.16.4->tokenizers>=0.13.0->anthropic) (2023.6.0)\n",
            "Requirement already satisfied: requests in /usr/local/lib/python3.10/dist-packages (from huggingface-hub<1.0,>=0.16.4->tokenizers>=0.13.0->anthropic) (2.31.0)\n",
            "Requirement already satisfied: tqdm>=4.42.1 in /usr/local/lib/python3.10/dist-packages (from huggingface-hub<1.0,>=0.16.4->tokenizers>=0.13.0->anthropic) (4.66.4)\n",
            "Requirement already satisfied: pyyaml>=5.1 in /usr/local/lib/python3.10/dist-packages (from huggingface-hub<1.0,>=0.16.4->tokenizers>=0.13.0->anthropic) (6.0.1)\n",
            "Requirement already satisfied: packaging>=20.9 in /usr/local/lib/python3.10/dist-packages (from huggingface-hub<1.0,>=0.16.4->tokenizers>=0.13.0->anthropic) (24.0)\n",
            "Requirement already satisfied: charset-normalizer<4,>=2 in /usr/local/lib/python3.10/dist-packages (from requests->huggingface-hub<1.0,>=0.16.4->tokenizers>=0.13.0->anthropic) (3.3.2)\n",
            "Requirement already satisfied: urllib3<3,>=1.21.1 in /usr/local/lib/python3.10/dist-packages (from requests->huggingface-hub<1.0,>=0.16.4->tokenizers>=0.13.0->anthropic) (2.0.7)\n",
            "Installing collected packages: h11, httpcore, httpx, anthropic\n",
            "Successfully installed anthropic-0.26.0 h11-0.14.0 httpcore-1.0.5 httpx-0.27.0\n"
          ]
        }
      ]
    },
    {
      "cell_type": "code",
      "source": [
        "!pip install openai"
      ],
      "metadata": {
        "colab": {
          "base_uri": "https://localhost:8080/"
        },
        "id": "uOhMFTifxwGk",
        "outputId": "cf93039e-1657-476f-f646-e752cf673aea"
      },
      "execution_count": 8,
      "outputs": [
        {
          "output_type": "stream",
          "name": "stdout",
          "text": [
            "Collecting openai\n",
            "  Downloading openai-1.30.1-py3-none-any.whl (320 kB)\n",
            "\u001b[?25l     \u001b[90m━━━━━━━━━━━━━━━━━━━━━━━━━━━━━━━━━━━━━━━━\u001b[0m \u001b[32m0.0/320.6 kB\u001b[0m \u001b[31m?\u001b[0m eta \u001b[36m-:--:--\u001b[0m\r\u001b[2K     \u001b[91m━━━━━\u001b[0m\u001b[90m╺\u001b[0m\u001b[90m━━━━━━━━━━━━━━━━━━━━━━━━━━━━━━━━━━\u001b[0m \u001b[32m41.0/320.6 kB\u001b[0m \u001b[31m1.1 MB/s\u001b[0m eta \u001b[36m0:00:01\u001b[0m\r\u001b[2K     \u001b[91m━━━━━━━━━━━━━━━━━━━━━━━━━━━━━━━━━━\u001b[0m\u001b[90m╺\u001b[0m\u001b[90m━━━━━\u001b[0m \u001b[32m276.5/320.6 kB\u001b[0m \u001b[31m3.8 MB/s\u001b[0m eta \u001b[36m0:00:01\u001b[0m\r\u001b[2K     \u001b[90m━━━━━━━━━━━━━━━━━━━━━━━━━━━━━━━━━━━━━━━━\u001b[0m \u001b[32m320.6/320.6 kB\u001b[0m \u001b[31m3.6 MB/s\u001b[0m eta \u001b[36m0:00:00\u001b[0m\n",
            "\u001b[?25hRequirement already satisfied: anyio<5,>=3.5.0 in /usr/local/lib/python3.10/dist-packages (from openai) (3.7.1)\n",
            "Requirement already satisfied: distro<2,>=1.7.0 in /usr/lib/python3/dist-packages (from openai) (1.7.0)\n",
            "Requirement already satisfied: httpx<1,>=0.23.0 in /usr/local/lib/python3.10/dist-packages (from openai) (0.27.0)\n",
            "Requirement already satisfied: pydantic<3,>=1.9.0 in /usr/local/lib/python3.10/dist-packages (from openai) (2.7.1)\n",
            "Requirement already satisfied: sniffio in /usr/local/lib/python3.10/dist-packages (from openai) (1.3.1)\n",
            "Requirement already satisfied: tqdm>4 in /usr/local/lib/python3.10/dist-packages (from openai) (4.66.4)\n",
            "Requirement already satisfied: typing-extensions<5,>=4.7 in /usr/local/lib/python3.10/dist-packages (from openai) (4.11.0)\n",
            "Requirement already satisfied: idna>=2.8 in /usr/local/lib/python3.10/dist-packages (from anyio<5,>=3.5.0->openai) (3.7)\n",
            "Requirement already satisfied: exceptiongroup in /usr/local/lib/python3.10/dist-packages (from anyio<5,>=3.5.0->openai) (1.2.1)\n",
            "Requirement already satisfied: certifi in /usr/local/lib/python3.10/dist-packages (from httpx<1,>=0.23.0->openai) (2024.2.2)\n",
            "Requirement already satisfied: httpcore==1.* in /usr/local/lib/python3.10/dist-packages (from httpx<1,>=0.23.0->openai) (1.0.5)\n",
            "Requirement already satisfied: h11<0.15,>=0.13 in /usr/local/lib/python3.10/dist-packages (from httpcore==1.*->httpx<1,>=0.23.0->openai) (0.14.0)\n",
            "Requirement already satisfied: annotated-types>=0.4.0 in /usr/local/lib/python3.10/dist-packages (from pydantic<3,>=1.9.0->openai) (0.6.0)\n",
            "Requirement already satisfied: pydantic-core==2.18.2 in /usr/local/lib/python3.10/dist-packages (from pydantic<3,>=1.9.0->openai) (2.18.2)\n",
            "Installing collected packages: openai\n",
            "Successfully installed openai-1.30.1\n"
          ]
        }
      ]
    },
    {
      "cell_type": "code",
      "source": [
        "import pandas as pd\n",
        "import openai\n",
        "from openai import OpenAI\n",
        "import os\n",
        "# import anthropic\n",
        "import google.generativeai as genai"
      ],
      "metadata": {
        "id": "9g2oZ4UTrdYy"
      },
      "execution_count": 9,
      "outputs": []
    },
    {
      "cell_type": "markdown",
      "source": [
        "## Cleane the data"
      ],
      "metadata": {
        "id": "CVcpl5j2WxlB"
      }
    },
    {
      "cell_type": "code",
      "source": [
        "data = pd.read_csv('online_retail_II.csv')"
      ],
      "metadata": {
        "id": "U5AoLT__rg-x"
      },
      "execution_count": 10,
      "outputs": []
    },
    {
      "cell_type": "code",
      "source": [
        "data.info()"
      ],
      "metadata": {
        "colab": {
          "base_uri": "https://localhost:8080/"
        },
        "id": "E1JyMbDFrv9X",
        "outputId": "a236557c-b668-446a-8461-c17f73fd6506"
      },
      "execution_count": 11,
      "outputs": [
        {
          "output_type": "stream",
          "name": "stdout",
          "text": [
            "<class 'pandas.core.frame.DataFrame'>\n",
            "RangeIndex: 1067371 entries, 0 to 1067370\n",
            "Data columns (total 8 columns):\n",
            " #   Column       Non-Null Count    Dtype  \n",
            "---  ------       --------------    -----  \n",
            " 0   Invoice      1067371 non-null  object \n",
            " 1   StockCode    1067371 non-null  object \n",
            " 2   Description  1062989 non-null  object \n",
            " 3   Quantity     1067371 non-null  int64  \n",
            " 4   InvoiceDate  1067371 non-null  object \n",
            " 5   Price        1067371 non-null  float64\n",
            " 6   Customer ID  824364 non-null   float64\n",
            " 7   Country      1067371 non-null  object \n",
            "dtypes: float64(2), int64(1), object(5)\n",
            "memory usage: 65.1+ MB\n"
          ]
        }
      ]
    },
    {
      "cell_type": "code",
      "source": [
        "data.head()"
      ],
      "metadata": {
        "colab": {
          "base_uri": "https://localhost:8080/",
          "height": 206
        },
        "id": "XL__Px_br1ND",
        "outputId": "1a03bd45-8136-40ab-bd82-594c52108744"
      },
      "execution_count": 12,
      "outputs": [
        {
          "output_type": "execute_result",
          "data": {
            "text/plain": [
              "  Invoice StockCode                          Description  Quantity  \\\n",
              "0  489434     85048  15CM CHRISTMAS GLASS BALL 20 LIGHTS        12   \n",
              "1  489434    79323P                   PINK CHERRY LIGHTS        12   \n",
              "2  489434    79323W                  WHITE CHERRY LIGHTS        12   \n",
              "3  489434     22041         RECORD FRAME 7\" SINGLE SIZE         48   \n",
              "4  489434     21232       STRAWBERRY CERAMIC TRINKET BOX        24   \n",
              "\n",
              "           InvoiceDate  Price  Customer ID         Country  \n",
              "0  2009-12-01 07:45:00   6.95      13085.0  United Kingdom  \n",
              "1  2009-12-01 07:45:00   6.75      13085.0  United Kingdom  \n",
              "2  2009-12-01 07:45:00   6.75      13085.0  United Kingdom  \n",
              "3  2009-12-01 07:45:00   2.10      13085.0  United Kingdom  \n",
              "4  2009-12-01 07:45:00   1.25      13085.0  United Kingdom  "
            ],
            "text/html": [
              "\n",
              "  <div id=\"df-3f2b62e6-7713-4eb9-8a20-82605255307f\" class=\"colab-df-container\">\n",
              "    <div>\n",
              "<style scoped>\n",
              "    .dataframe tbody tr th:only-of-type {\n",
              "        vertical-align: middle;\n",
              "    }\n",
              "\n",
              "    .dataframe tbody tr th {\n",
              "        vertical-align: top;\n",
              "    }\n",
              "\n",
              "    .dataframe thead th {\n",
              "        text-align: right;\n",
              "    }\n",
              "</style>\n",
              "<table border=\"1\" class=\"dataframe\">\n",
              "  <thead>\n",
              "    <tr style=\"text-align: right;\">\n",
              "      <th></th>\n",
              "      <th>Invoice</th>\n",
              "      <th>StockCode</th>\n",
              "      <th>Description</th>\n",
              "      <th>Quantity</th>\n",
              "      <th>InvoiceDate</th>\n",
              "      <th>Price</th>\n",
              "      <th>Customer ID</th>\n",
              "      <th>Country</th>\n",
              "    </tr>\n",
              "  </thead>\n",
              "  <tbody>\n",
              "    <tr>\n",
              "      <th>0</th>\n",
              "      <td>489434</td>\n",
              "      <td>85048</td>\n",
              "      <td>15CM CHRISTMAS GLASS BALL 20 LIGHTS</td>\n",
              "      <td>12</td>\n",
              "      <td>2009-12-01 07:45:00</td>\n",
              "      <td>6.95</td>\n",
              "      <td>13085.0</td>\n",
              "      <td>United Kingdom</td>\n",
              "    </tr>\n",
              "    <tr>\n",
              "      <th>1</th>\n",
              "      <td>489434</td>\n",
              "      <td>79323P</td>\n",
              "      <td>PINK CHERRY LIGHTS</td>\n",
              "      <td>12</td>\n",
              "      <td>2009-12-01 07:45:00</td>\n",
              "      <td>6.75</td>\n",
              "      <td>13085.0</td>\n",
              "      <td>United Kingdom</td>\n",
              "    </tr>\n",
              "    <tr>\n",
              "      <th>2</th>\n",
              "      <td>489434</td>\n",
              "      <td>79323W</td>\n",
              "      <td>WHITE CHERRY LIGHTS</td>\n",
              "      <td>12</td>\n",
              "      <td>2009-12-01 07:45:00</td>\n",
              "      <td>6.75</td>\n",
              "      <td>13085.0</td>\n",
              "      <td>United Kingdom</td>\n",
              "    </tr>\n",
              "    <tr>\n",
              "      <th>3</th>\n",
              "      <td>489434</td>\n",
              "      <td>22041</td>\n",
              "      <td>RECORD FRAME 7\" SINGLE SIZE</td>\n",
              "      <td>48</td>\n",
              "      <td>2009-12-01 07:45:00</td>\n",
              "      <td>2.10</td>\n",
              "      <td>13085.0</td>\n",
              "      <td>United Kingdom</td>\n",
              "    </tr>\n",
              "    <tr>\n",
              "      <th>4</th>\n",
              "      <td>489434</td>\n",
              "      <td>21232</td>\n",
              "      <td>STRAWBERRY CERAMIC TRINKET BOX</td>\n",
              "      <td>24</td>\n",
              "      <td>2009-12-01 07:45:00</td>\n",
              "      <td>1.25</td>\n",
              "      <td>13085.0</td>\n",
              "      <td>United Kingdom</td>\n",
              "    </tr>\n",
              "  </tbody>\n",
              "</table>\n",
              "</div>\n",
              "    <div class=\"colab-df-buttons\">\n",
              "\n",
              "  <div class=\"colab-df-container\">\n",
              "    <button class=\"colab-df-convert\" onclick=\"convertToInteractive('df-3f2b62e6-7713-4eb9-8a20-82605255307f')\"\n",
              "            title=\"Convert this dataframe to an interactive table.\"\n",
              "            style=\"display:none;\">\n",
              "\n",
              "  <svg xmlns=\"http://www.w3.org/2000/svg\" height=\"24px\" viewBox=\"0 -960 960 960\">\n",
              "    <path d=\"M120-120v-720h720v720H120Zm60-500h600v-160H180v160Zm220 220h160v-160H400v160Zm0 220h160v-160H400v160ZM180-400h160v-160H180v160Zm440 0h160v-160H620v160ZM180-180h160v-160H180v160Zm440 0h160v-160H620v160Z\"/>\n",
              "  </svg>\n",
              "    </button>\n",
              "\n",
              "  <style>\n",
              "    .colab-df-container {\n",
              "      display:flex;\n",
              "      gap: 12px;\n",
              "    }\n",
              "\n",
              "    .colab-df-convert {\n",
              "      background-color: #E8F0FE;\n",
              "      border: none;\n",
              "      border-radius: 50%;\n",
              "      cursor: pointer;\n",
              "      display: none;\n",
              "      fill: #1967D2;\n",
              "      height: 32px;\n",
              "      padding: 0 0 0 0;\n",
              "      width: 32px;\n",
              "    }\n",
              "\n",
              "    .colab-df-convert:hover {\n",
              "      background-color: #E2EBFA;\n",
              "      box-shadow: 0px 1px 2px rgba(60, 64, 67, 0.3), 0px 1px 3px 1px rgba(60, 64, 67, 0.15);\n",
              "      fill: #174EA6;\n",
              "    }\n",
              "\n",
              "    .colab-df-buttons div {\n",
              "      margin-bottom: 4px;\n",
              "    }\n",
              "\n",
              "    [theme=dark] .colab-df-convert {\n",
              "      background-color: #3B4455;\n",
              "      fill: #D2E3FC;\n",
              "    }\n",
              "\n",
              "    [theme=dark] .colab-df-convert:hover {\n",
              "      background-color: #434B5C;\n",
              "      box-shadow: 0px 1px 3px 1px rgba(0, 0, 0, 0.15);\n",
              "      filter: drop-shadow(0px 1px 2px rgba(0, 0, 0, 0.3));\n",
              "      fill: #FFFFFF;\n",
              "    }\n",
              "  </style>\n",
              "\n",
              "    <script>\n",
              "      const buttonEl =\n",
              "        document.querySelector('#df-3f2b62e6-7713-4eb9-8a20-82605255307f button.colab-df-convert');\n",
              "      buttonEl.style.display =\n",
              "        google.colab.kernel.accessAllowed ? 'block' : 'none';\n",
              "\n",
              "      async function convertToInteractive(key) {\n",
              "        const element = document.querySelector('#df-3f2b62e6-7713-4eb9-8a20-82605255307f');\n",
              "        const dataTable =\n",
              "          await google.colab.kernel.invokeFunction('convertToInteractive',\n",
              "                                                    [key], {});\n",
              "        if (!dataTable) return;\n",
              "\n",
              "        const docLinkHtml = 'Like what you see? Visit the ' +\n",
              "          '<a target=\"_blank\" href=https://colab.research.google.com/notebooks/data_table.ipynb>data table notebook</a>'\n",
              "          + ' to learn more about interactive tables.';\n",
              "        element.innerHTML = '';\n",
              "        dataTable['output_type'] = 'display_data';\n",
              "        await google.colab.output.renderOutput(dataTable, element);\n",
              "        const docLink = document.createElement('div');\n",
              "        docLink.innerHTML = docLinkHtml;\n",
              "        element.appendChild(docLink);\n",
              "      }\n",
              "    </script>\n",
              "  </div>\n",
              "\n",
              "\n",
              "<div id=\"df-3a93d280-6946-4df4-9295-dcbedd88e4d2\">\n",
              "  <button class=\"colab-df-quickchart\" onclick=\"quickchart('df-3a93d280-6946-4df4-9295-dcbedd88e4d2')\"\n",
              "            title=\"Suggest charts\"\n",
              "            style=\"display:none;\">\n",
              "\n",
              "<svg xmlns=\"http://www.w3.org/2000/svg\" height=\"24px\"viewBox=\"0 0 24 24\"\n",
              "     width=\"24px\">\n",
              "    <g>\n",
              "        <path d=\"M19 3H5c-1.1 0-2 .9-2 2v14c0 1.1.9 2 2 2h14c1.1 0 2-.9 2-2V5c0-1.1-.9-2-2-2zM9 17H7v-7h2v7zm4 0h-2V7h2v10zm4 0h-2v-4h2v4z\"/>\n",
              "    </g>\n",
              "</svg>\n",
              "  </button>\n",
              "\n",
              "<style>\n",
              "  .colab-df-quickchart {\n",
              "      --bg-color: #E8F0FE;\n",
              "      --fill-color: #1967D2;\n",
              "      --hover-bg-color: #E2EBFA;\n",
              "      --hover-fill-color: #174EA6;\n",
              "      --disabled-fill-color: #AAA;\n",
              "      --disabled-bg-color: #DDD;\n",
              "  }\n",
              "\n",
              "  [theme=dark] .colab-df-quickchart {\n",
              "      --bg-color: #3B4455;\n",
              "      --fill-color: #D2E3FC;\n",
              "      --hover-bg-color: #434B5C;\n",
              "      --hover-fill-color: #FFFFFF;\n",
              "      --disabled-bg-color: #3B4455;\n",
              "      --disabled-fill-color: #666;\n",
              "  }\n",
              "\n",
              "  .colab-df-quickchart {\n",
              "    background-color: var(--bg-color);\n",
              "    border: none;\n",
              "    border-radius: 50%;\n",
              "    cursor: pointer;\n",
              "    display: none;\n",
              "    fill: var(--fill-color);\n",
              "    height: 32px;\n",
              "    padding: 0;\n",
              "    width: 32px;\n",
              "  }\n",
              "\n",
              "  .colab-df-quickchart:hover {\n",
              "    background-color: var(--hover-bg-color);\n",
              "    box-shadow: 0 1px 2px rgba(60, 64, 67, 0.3), 0 1px 3px 1px rgba(60, 64, 67, 0.15);\n",
              "    fill: var(--button-hover-fill-color);\n",
              "  }\n",
              "\n",
              "  .colab-df-quickchart-complete:disabled,\n",
              "  .colab-df-quickchart-complete:disabled:hover {\n",
              "    background-color: var(--disabled-bg-color);\n",
              "    fill: var(--disabled-fill-color);\n",
              "    box-shadow: none;\n",
              "  }\n",
              "\n",
              "  .colab-df-spinner {\n",
              "    border: 2px solid var(--fill-color);\n",
              "    border-color: transparent;\n",
              "    border-bottom-color: var(--fill-color);\n",
              "    animation:\n",
              "      spin 1s steps(1) infinite;\n",
              "  }\n",
              "\n",
              "  @keyframes spin {\n",
              "    0% {\n",
              "      border-color: transparent;\n",
              "      border-bottom-color: var(--fill-color);\n",
              "      border-left-color: var(--fill-color);\n",
              "    }\n",
              "    20% {\n",
              "      border-color: transparent;\n",
              "      border-left-color: var(--fill-color);\n",
              "      border-top-color: var(--fill-color);\n",
              "    }\n",
              "    30% {\n",
              "      border-color: transparent;\n",
              "      border-left-color: var(--fill-color);\n",
              "      border-top-color: var(--fill-color);\n",
              "      border-right-color: var(--fill-color);\n",
              "    }\n",
              "    40% {\n",
              "      border-color: transparent;\n",
              "      border-right-color: var(--fill-color);\n",
              "      border-top-color: var(--fill-color);\n",
              "    }\n",
              "    60% {\n",
              "      border-color: transparent;\n",
              "      border-right-color: var(--fill-color);\n",
              "    }\n",
              "    80% {\n",
              "      border-color: transparent;\n",
              "      border-right-color: var(--fill-color);\n",
              "      border-bottom-color: var(--fill-color);\n",
              "    }\n",
              "    90% {\n",
              "      border-color: transparent;\n",
              "      border-bottom-color: var(--fill-color);\n",
              "    }\n",
              "  }\n",
              "</style>\n",
              "\n",
              "  <script>\n",
              "    async function quickchart(key) {\n",
              "      const quickchartButtonEl =\n",
              "        document.querySelector('#' + key + ' button');\n",
              "      quickchartButtonEl.disabled = true;  // To prevent multiple clicks.\n",
              "      quickchartButtonEl.classList.add('colab-df-spinner');\n",
              "      try {\n",
              "        const charts = await google.colab.kernel.invokeFunction(\n",
              "            'suggestCharts', [key], {});\n",
              "      } catch (error) {\n",
              "        console.error('Error during call to suggestCharts:', error);\n",
              "      }\n",
              "      quickchartButtonEl.classList.remove('colab-df-spinner');\n",
              "      quickchartButtonEl.classList.add('colab-df-quickchart-complete');\n",
              "    }\n",
              "    (() => {\n",
              "      let quickchartButtonEl =\n",
              "        document.querySelector('#df-3a93d280-6946-4df4-9295-dcbedd88e4d2 button');\n",
              "      quickchartButtonEl.style.display =\n",
              "        google.colab.kernel.accessAllowed ? 'block' : 'none';\n",
              "    })();\n",
              "  </script>\n",
              "</div>\n",
              "\n",
              "    </div>\n",
              "  </div>\n"
            ],
            "application/vnd.google.colaboratory.intrinsic+json": {
              "type": "dataframe",
              "variable_name": "data"
            }
          },
          "metadata": {},
          "execution_count": 12
        }
      ]
    },
    {
      "cell_type": "code",
      "source": [
        "# Convert 'InvoiceDate' to datetime format\n",
        "data['InvoiceDate'] = pd.to_datetime(data['InvoiceDate'])"
      ],
      "metadata": {
        "id": "NXi5aaG7r_L9"
      },
      "execution_count": 13,
      "outputs": []
    },
    {
      "cell_type": "code",
      "source": [
        "# Deleeating duplicated rows\n",
        "data.drop_duplicates(inplace=True)\n",
        "print(data.duplicated().sum())"
      ],
      "metadata": {
        "colab": {
          "base_uri": "https://localhost:8080/"
        },
        "id": "2clExLkpsmvn",
        "outputId": "c485e094-e557-46e7-a6da-f56cadb5d46c"
      },
      "execution_count": 14,
      "outputs": [
        {
          "output_type": "stream",
          "name": "stdout",
          "text": [
            "0\n"
          ]
        }
      ]
    },
    {
      "cell_type": "code",
      "source": [
        "data.isnull().sum()"
      ],
      "metadata": {
        "colab": {
          "base_uri": "https://localhost:8080/"
        },
        "id": "sSNMZT0U9rne",
        "outputId": "fba4ce48-5889-45bc-f09e-4b2d7731f8c4"
      },
      "execution_count": 15,
      "outputs": [
        {
          "output_type": "execute_result",
          "data": {
            "text/plain": [
              "Invoice             0\n",
              "StockCode           0\n",
              "Description      4275\n",
              "Quantity            0\n",
              "InvoiceDate         0\n",
              "Price               0\n",
              "Customer ID    235151\n",
              "Country             0\n",
              "dtype: int64"
            ]
          },
          "metadata": {},
          "execution_count": 15
        }
      ]
    },
    {
      "cell_type": "code",
      "source": [
        "data = data.dropna(subset=['Customer ID'])\n",
        "data['Customer ID'] = data['Customer ID'].astype(int)"
      ],
      "metadata": {
        "colab": {
          "base_uri": "https://localhost:8080/"
        },
        "id": "ATpJRjOg95pl",
        "outputId": "639d9986-1e6d-48f1-a504-ad359281e008"
      },
      "execution_count": 16,
      "outputs": [
        {
          "output_type": "stream",
          "name": "stderr",
          "text": [
            "<ipython-input-16-b7e1fe2327bc>:2: SettingWithCopyWarning: \n",
            "A value is trying to be set on a copy of a slice from a DataFrame.\n",
            "Try using .loc[row_indexer,col_indexer] = value instead\n",
            "\n",
            "See the caveats in the documentation: https://pandas.pydata.org/pandas-docs/stable/user_guide/indexing.html#returning-a-view-versus-a-copy\n",
            "  data['Customer ID'] = data['Customer ID'].astype(int)\n"
          ]
        }
      ]
    },
    {
      "cell_type": "code",
      "source": [
        "# Calculate Recency, Frequency, and Monetary values for RFM analysis\n",
        "# Creates a timestamp for the current date and time\n",
        "now = pd.Timestamp('now')\n",
        "\n",
        "# Group by 'Customer ID' and aggregate RFM metrics\n",
        "rfm = data.groupby('Customer ID').agg({\n",
        "    'InvoiceDate': lambda x: (now - x.max()).days,  # Recency: days since last purchase\n",
        "    'Invoice': 'count',  # Frequency: number of transactions\n",
        "    'Price': lambda x: (x * data.loc[x.index, 'Quantity']).sum()  # Monetary: total money spent\n",
        "    })\n"
      ],
      "metadata": {
        "id": "iVIED-G05GkY"
      },
      "execution_count": 26,
      "outputs": []
    },
    {
      "cell_type": "code",
      "source": [
        "# Rename columns for clarity\n",
        "rfm.rename(columns={\n",
        "    'InvoiceDate': 'Recency',\n",
        "    'Invoice': 'Frequency',\n",
        "    'Price': 'Monetary'\n",
        "}, inplace=True)\n",
        "\n",
        "# Define function for scoring and apply it to each RFM metric\n",
        "def assign_score(x):\n",
        "    return pd.qcut(x.rank(method='first'), q=4, labels=[4, 3, 2, 1])\n",
        "\n",
        "rfm['RecencyScore'] = assign_score(rfm['Recency'])\n",
        "rfm['FrequencyScore'] = assign_score(rfm['Frequency'])\n",
        "rfm['MonetaryScore'] = assign_score(rfm['Monetary'])\n",
        "\n",
        "# Calculate the final RFM score\n",
        "rfm['RFMScore'] = rfm['RecencyScore'].astype(str) + rfm['FrequencyScore'].astype(str) + rfm['MonetaryScore'].astype(str)\n",
        "\n",
        "# Display the first few rows of the RFM dataframe with scores\n",
        "print(rfm.head())"
      ],
      "metadata": {
        "colab": {
          "base_uri": "https://localhost:8080/"
        },
        "id": "JXQ0o4FWNmgf",
        "outputId": "bcdba6e5-1b0e-46a3-9d96-194319ed1c35"
      },
      "execution_count": 27,
      "outputs": [
        {
          "output_type": "stream",
          "name": "stdout",
          "text": [
            "             Recency  Frequency  Monetary RecencyScore FrequencyScore  \\\n",
            "Customer ID                                                             \n",
            "12346           4869         47    -51.74            2              3   \n",
            "12347           4546        222   4921.53            4              1   \n",
            "12348           4619         51   2019.40            3              3   \n",
            "12349           4562        180   4404.54            4              1   \n",
            "12350           4854         17    334.40            2              4   \n",
            "\n",
            "            MonetaryScore RFMScore  \n",
            "Customer ID                         \n",
            "12346                   4      234  \n",
            "12347                   1      411  \n",
            "12348                   2      332  \n",
            "12349                   1      411  \n",
            "12350                   3      243  \n"
          ]
        }
      ]
    },
    {
      "cell_type": "code",
      "source": [
        "# Define segmentation function\n",
        "def segment_customer(df):\n",
        "    if df['RFMScore'] == '444':\n",
        "        return 'Top Customers'\n",
        "    elif df['RFMScore'][0] == '4':\n",
        "        return 'New Customers'\n",
        "    elif df['RFMScore'][1] == '4':\n",
        "        return 'Frequent Customers'\n",
        "    elif df['RFMScore'][2] == '4':\n",
        "        return 'High-Spending Customers'\n",
        "    else:\n",
        "        return 'Others'\n",
        "\n",
        "# Apply segmentation\n",
        "rfm['Segment'] = rfm.apply(segment_customer, axis=1)\n",
        "\n",
        "# Display the first few rows of the segmented RFM dataframe\n",
        "print(rfm.head())"
      ],
      "metadata": {
        "colab": {
          "base_uri": "https://localhost:8080/"
        },
        "id": "rHdtkUVIUIzT",
        "outputId": "c634a583-4809-4c8a-a41d-67ac7503b217"
      },
      "execution_count": 28,
      "outputs": [
        {
          "output_type": "stream",
          "name": "stdout",
          "text": [
            "             Recency  Frequency  Monetary RecencyScore FrequencyScore  \\\n",
            "Customer ID                                                             \n",
            "12346           4869         47    -51.74            2              3   \n",
            "12347           4546        222   4921.53            4              1   \n",
            "12348           4619         51   2019.40            3              3   \n",
            "12349           4562        180   4404.54            4              1   \n",
            "12350           4854         17    334.40            2              4   \n",
            "\n",
            "            MonetaryScore RFMScore                  Segment  \n",
            "Customer ID                                                  \n",
            "12346                   4      234  High-Spending Customers  \n",
            "12347                   1      411            New Customers  \n",
            "12348                   2      332                   Others  \n",
            "12349                   1      411            New Customers  \n",
            "12350                   3      243       Frequent Customers  \n"
          ]
        }
      ]
    },
    {
      "cell_type": "markdown",
      "source": [
        "## Use GEMINI"
      ],
      "metadata": {
        "id": "vNXq87t-XNzV"
      }
    },
    {
      "cell_type": "code",
      "source": [
        "# Or use `os.getenv('GOOGLE_API_KEY')` to fetch an environment variable.\n",
        "GOOGLE_API_KEY=userdata.get('gemini_key')\n",
        "\n",
        "genai.configure(api_key=GOOGLE_API_KEY)\n",
        "\n",
        "\n",
        "import os\n",
        "os.environ['GOOGLE_API_KEY'] = GOOGLE_API_KEY\n"
      ],
      "metadata": {
        "id": "L_P9NQPVO7sc"
      },
      "execution_count": 37,
      "outputs": []
    },
    {
      "cell_type": "code",
      "source": [
        "model = genai.GenerativeModel('gemini-pro')\n",
        "# Testing Gemini model\n",
        "\n",
        "response = model.generate_content(\"From the dataset uploaded in my notebook (online_retail_II.csv) what are the columns title\")\n"
      ],
      "metadata": {
        "id": "IVTHyFZCGr1N"
      },
      "execution_count": 38,
      "outputs": []
    },
    {
      "cell_type": "code",
      "source": [
        "to_markdown(response.text)"
      ],
      "metadata": {
        "colab": {
          "base_uri": "https://localhost:8080/",
          "height": 62
        },
        "id": "vkkU3ag2Puza",
        "outputId": "27c75465-ca54-4373-d181-37da9436484a"
      },
      "execution_count": 21,
      "outputs": [
        {
          "output_type": "execute_result",
          "data": {
            "text/plain": [
              "<IPython.core.display.Markdown object>"
            ],
            "text/markdown": "> ```\n> ['InvoiceNo', 'StockCode', 'Description', 'Quantity', 'InvoiceDate', 'UnitPrice', 'CustomerID', 'Country']\n> ```"
          },
          "metadata": {},
          "execution_count": 21
        }
      ]
    },
    {
      "cell_type": "code",
      "source": [
        "response = model.generate_content(\"Calculate RFM (Recency, Frequency, Monetary) scores for each customer in {data} using the 'InvoiceDate', 'Quantity', and 'Price' columns\")\n",
        "to_markdown(response.text)"
      ],
      "metadata": {
        "colab": {
          "base_uri": "https://localhost:8080/",
          "height": 409
        },
        "id": "c56LKjiPPySF",
        "outputId": "53e4d07f-0c0a-4d89-f795-bc0498043d2e"
      },
      "execution_count": 41,
      "outputs": [
        {
          "output_type": "execute_result",
          "data": {
            "text/plain": [
              "<IPython.core.display.Markdown object>"
            ],
            "text/markdown": "> ```\n> import pandas as pd\n> \n> # Read the data \n> df = pd.read_csv('data.csv')\n> \n> # Calculate Recency\n> df['Recency'] = (df['InvoiceDate'].max() - df['InvoiceDate']).dt.days\n> \n> # Calculate Frequency\n> df['Frequency'] = df.groupby('CustomerID')['InvoiceDate'].transform('count')\n> \n> # Calculate Monetary Value\n> df['MonetaryValue'] = df['Quantity'] * df['Price']\n> \n> # Calculate RFM Scores\n> df['RFM_Score'] = (df['Recency'].rank(pct=True) * 10) + \\\n>                     (df['Frequency'].rank(pct=True) * 10) + \\\n>                     (df['MonetaryValue'].rank(pct=True) * 10)\n> \n> # Display the results\n> print(df[['CustomerID', 'Recency', 'Frequency', 'MonetaryValue', 'RFM_Score']])\n> ```"
          },
          "metadata": {},
          "execution_count": 41
        }
      ]
    },
    {
      "cell_type": "code",
      "source": [
        "response = model.generate_content(f\"Segment customers into groups like ‘High-Value’, ‘Loyal’, or ‘New’ knowing the following data {rfm.head().to_string()}\")\n",
        "\n",
        "to_markdown(response.text)"
      ],
      "metadata": {
        "colab": {
          "base_uri": "https://localhost:8080/",
          "height": 156
        },
        "id": "4yn-nxgLX7gm",
        "outputId": "c159da5d-6288-45c0-e73b-7ddc78dcacb6"
      },
      "execution_count": 42,
      "outputs": [
        {
          "output_type": "execute_result",
          "data": {
            "text/plain": [
              "<IPython.core.display.Markdown object>"
            ],
            "text/markdown": "> - **High-Value Customers**: Customers with high monetary scores, indicating significant spending.\n> \n> - **Loyal Customers**: Customers with high frequency scores, indicating frequent purchases.\n> \n> - **New Customers**: Customers with low recency scores, indicating recent acquisition.\n> \n> - **Frequent Customers**: Customers with high frequency scores, indicating frequent purchases, but may not be high-value.\n> \n> - **Others**: Customers who do not fit into any specific segment based on the given criteria."
          },
          "metadata": {},
          "execution_count": 42
        }
      ]
    },
    {
      "cell_type": "markdown",
      "source": [
        "## Chat GPT"
      ],
      "metadata": {
        "id": "j7kxeoABYsbd"
      }
    },
    {
      "cell_type": "markdown",
      "source": [
        "As of my knowledge cutoff date in October 2023, several versions of ChatGPT models have been developed by OpenAI, each with varying sizes and capabilities. These models are part of the broader GPT (Generative Pre-trained Transformer) family. Here is an overview of some key versions:\n",
        "\n",
        "### GPT-3\n",
        "- **GPT-3 Models:**\n",
        "  - **GPT-3 Base / Davinci**\n",
        "    - The largest and most capable model.\n",
        "    - Suitable for highly complex tasks, deep text analysis, sophisticated conversational agents, and creative text generation.\n",
        "  - **GPT-3 Ada, Babbage, Curie**\n",
        "    - Smaller, more specialized variants with progressively fewer parameters.\n",
        "    - Ada is the fastest, while Curie is more powerful but slower than Ada and Babbage.\n",
        "\n",
        "### GPT-4\n",
        "- **GPT-4**\n",
        "  - Expected improvements over GPT-3.\n",
        "  - Enhanced performance in natural language understanding and generation.\n",
        "  - Integration of more context and better handling of nuanced language.\n",
        "\n",
        "### GPT-3.5 (Codex)\n",
        "- **Codex (part of GPT-3.5)**\n",
        "  - Specialized for code understanding and generation.\n",
        "  - Powers tools like GitHub Copilot.\n",
        "\n",
        "### GPT-2\n",
        "- **GPT-2 Models:**\n",
        "  - **GPT-2 Small**\n",
        "    - Contains fewer parameters and offers faster performance with lower computational requirements.\n",
        "    - Suitable for simple text generation, basic dialogue systems, and lightweight applications.\n",
        "  - **GPT-2 Medium, Large, and XL**\n",
        "    - Progressively larger models with more parameters, offering better understanding and generation capabilities.\n",
        "    - Suitable for more complex text analysis and applications requiring more nuanced language handling.\n",
        "\n",
        "### GPT-1\n",
        "- **GPT-1**\n",
        "  - The original model that introduced the Transformer architecture for pre-trained language models.\n",
        "  - Less capable compared to its successors but still useful for understanding the fundamental capabilities of GPT models in text generation and basic NLP tasks.\n",
        "\n",
        "### Specialized Models\n",
        "- **Codex** (Part of GPT-3.5 series)\n",
        "  - Tailored for understanding and generating programming code.\n",
        "  - Powers applications like GitHub Copilot, aiding in software development by interpreting, generating, and completing code.\n",
        "\n",
        "### Summary\n",
        "- For general text-based analysis and natural language tasks, GPT-3 (Davinci) or GPT-4 models are highly recommended due to their advanced capabilities\n",
        "\n"
      ],
      "metadata": {
        "id": "URc4WVZ4Yh0m"
      }
    },
    {
      "cell_type": "code",
      "source": [
        "df_string = data.head(10).to_string(index=False)"
      ],
      "metadata": {
        "id": "D5AFFHycZM1_"
      },
      "execution_count": 45,
      "outputs": []
    },
    {
      "cell_type": "code",
      "source": [
        "import openai\n",
        "import os\n",
        "\n",
        "# Retrieve your API key from userdata or any other source\n",
        "OPENAI_API_KEY = userdata.get('OPENAI_API_KEY')\n",
        "\n",
        "# Set the API key in the environment\n",
        "os.environ['OPENAI_API_KEY'] = OPENAI_API_KEY\n",
        "\n",
        "# Initialize the OpenAI client\n",
        "client = Client()\n"
      ],
      "metadata": {
        "id": "CaZ1RTrjenGF"
      },
      "execution_count": 58,
      "outputs": []
    },
    {
      "cell_type": "code",
      "source": [
        "def get_rfm_guidance(data):\n",
        "    df_string = data.head().to_string()  # Convert a small part of dataframe to string for context\n",
        "\n",
        "    # Request RFM calculation guidance from OpenAI\n",
        "    response = client.chat.completions.create(\n",
        "        model=\"gpt-3.5-turbo\",\n",
        "        messages=[\n",
        "            {\"role\": \"system\", \"content\": \"You are a data analyst.\"},\n",
        "            {\"role\": \"user\", \"content\": f\"Calculate RFM (Recency, Frequency, Monetary) scores for each customer in this dataset using the 'InvoiceDate', 'Quantity', and 'Price' columns in my notebook (online_retail_II.csv). Here is a sample of the data:\\n{df_string}\"}\n",
        "        ]\n",
        "    )\n",
        "\n",
        "    return response.choices[0].message\n",
        "\n",
        "guidance = get_rfm_guidance(data)\n",
        "guidance"
      ],
      "metadata": {
        "colab": {
          "base_uri": "https://localhost:8080/"
        },
        "id": "e1J4Mz7Heqa_",
        "outputId": "719ef08b-0e6e-45d0-f1db-4e16e20c9afb"
      },
      "execution_count": 64,
      "outputs": [
        {
          "output_type": "execute_result",
          "data": {
            "text/plain": [
              "ChatCompletionMessage(content=\"To calculate RFM scores for each customer in the dataset, we first need to determine recency, frequency, and monetary values for each customer based on their purchase history. Recency represents how recently a customer made a purchase, frequency represents how often a customer makes purchases, and monetary represents how much a customer spends.\\n\\nHere is the Python code that calculates RFM scores for each customer using the given dataset:\\n\\n```python\\nimport pandas as pd\\n\\n# Load the data\\ndata = pd.read_csv('online_retail_II.csv')\\n\\n# Make sure the 'InvoiceDate' column is in datetime format\\ndata['InvoiceDate'] = pd.to_datetime(data['InvoiceDate'])\\n\\n# Calculate 'Recency', which is the number of days since the last purchase for each customer\\ndata['Recency'] = (data['InvoiceDate'].max() - data['InvoiceDate']).dt.days\\n\\n# Calculate 'Frequency', which is the total number of purchases made by each customer\\nfrequency = data.groupby('Customer ID')['Invoice'].nunique().reset_index()\\nfrequency.columns = ['Customer ID', 'Frequency']\\n\\n# Calculate 'Monetary', which is the total amount spent by each customer\\ndata['TotalPrice'] = data['Quantity'] * data['Price']\\nmonetary = data.groupby('Customer ID')['TotalPrice'].sum().reset_index()\\nmonetary.columns = ['Customer ID', 'Monetary']\\n\\n# Merge the Recency, Frequency, and Monetary data with the original dataset\\nrfm_data = data.groupby('Customer ID').agg(Recency=('Recency', 'min')).merge(frequency, on='Customer ID').merge(monetary, on='Customer ID')\\n\\n# Calculate RFM scores\\nrfm_data['R Score'] = pd.qcut(rfm_data['Recency'], q=4, labels=False)\\nrfm_data['F Score'] = pd.qcut(rfm_data['Frequency'], q=4, labels=False)\\nrfm_data['M Score'] = pd.qcut(rfm_data['Monetary'], q=4, labels=False)\\n\\n# Sum the RFM scores to get the RFM total score\\nrfm_data['RFM Score'] = rfm_data['R Score'] + rfm_data['F Score'] + rfm_data['M Score']\\n\\n# Display the RFM scores for each customer\\nprint(rfm_data)\\n```\\n\\nThis code snippet reads the dataset, processes the data to calculate recency, frequency, and monetary values for each customer, calculates RFM scores, and assigns RFM total scores by summing the individual scores. Finally, it displays the RFM scores for each customer in the dataset.\", role='assistant', function_call=None, tool_calls=None)"
            ]
          },
          "metadata": {},
          "execution_count": 64
        }
      ]
    },
    {
      "cell_type": "code",
      "source": [
        "def get_rfm_guidance(data):\n",
        "    df_string = data.head().to_string()  # Convert a small part of dataframe to string for context\n",
        "\n",
        "    # Request RFM calculation guidance from OpenAI\n",
        "    response = client.chat.completions.create(\n",
        "        model=\"gpt-3.5-turbo\",\n",
        "        messages=[\n",
        "            {\"role\": \"system\", \"content\": \"You are a data analyst.\"},\n",
        "            {\"role\": \"user\", \"content\": f\"Segment customers into groups like ‘High-Value’, ‘Loyal’, or ‘New’ knowing the data {df_string}\"}\n",
        "        ]\n",
        "    )\n",
        "\n",
        "    return response.choices[0].message\n",
        "\n",
        "guidance = get_rfm_guidance(data)\n",
        "guidance"
      ],
      "metadata": {
        "colab": {
          "base_uri": "https://localhost:8080/"
        },
        "id": "0VJ1GEh0gPgi",
        "outputId": "0ba8248a-4b8f-4e1b-9fa3-662eef915bfa"
      },
      "execution_count": 65,
      "outputs": [
        {
          "output_type": "execute_result",
          "data": {
            "text/plain": [
              "ChatCompletionMessage(content=\"To segment customers into groups like 'High-Value', 'Loyal', or 'New', we can follow these steps using the provided data:\\n\\n1. **Calculate RFM Metrics**:\\n    - Recency: How recently a customer has made a purchase (based on the latest InvoiceDate).\\n    - Frequency: How often a customer makes a purchase (based on the number of unique invoices).\\n    - Monetary: How much money a customer spends with the company (based on total Price).\\n\\n2. **Assign Segment Criteria**:\\n    - High-Value Customers: Customers who have high RFM scores, indicating recent purchases, frequent buying, and high spending.\\n    - Loyal Customers: Customers who have high Frequency and Recency scores, indicating they are loyal and active.\\n    - New Customers: Customers with low Frequency but high Recency, they may need nurturing to become loyal.\\n\\n3. **Segment Customers**:\\n    - We can use RFM scores to segment customers into the defined groups.\\n    - We can also consider additional factors like the total Quantity purchased and the number of unique products purchased.\\n\\nWould you like to see the implementation of these steps using Python or have any specific requirements for the segmentation?\", role='assistant', function_call=None, tool_calls=None)"
            ]
          },
          "metadata": {},
          "execution_count": 65
        }
      ]
    },
    {
      "cell_type": "markdown",
      "source": [
        "## Exercise 2"
      ],
      "metadata": {
        "id": "So75_4UXaOsZ"
      }
    },
    {
      "cell_type": "markdown",
      "source": [
        "Using ChatGPT for such tasks would be more relevant for text-based anonymization. For structured data like Customer ID and Country, hashing is more efficient and straightforward.\n",
        "\n",
        "Check for Re-Identification Risks: Ensure that the anonymized data cannot be easily reversed or linked back to individuals."
      ],
      "metadata": {
        "id": "Z9o7hct-cv_7"
      }
    },
    {
      "cell_type": "code",
      "source": [
        "def get_rfm_guidance(data):\n",
        "    df_string = data.head().to_string()  # Convert a small part of dataframe to string for context\n",
        "\n",
        "    # Request RFM calculation guidance from OpenAI\n",
        "    response = client.chat.completions.create(\n",
        "        model=\"gpt-3.5-turbo\",\n",
        "        messages=[\n",
        "            {\"role\": \"system\", \"content\": \"You are a data analyst.\"},\n",
        "            {\"role\": \"user\", \"content\": f\"Generate anonymized data for these personal identifiers in the dataframe {df_string} or use a hashing function\"}\n",
        "        ]\n",
        "    )\n",
        "\n",
        "    return response.choices[0].message\n",
        "\n",
        "guidance = get_rfm_guidance(data)\n",
        "guidance"
      ],
      "metadata": {
        "colab": {
          "base_uri": "https://localhost:8080/"
        },
        "id": "06CLBK11gY3B",
        "outputId": "87828369-3917-4bb8-e6f8-34784325f978"
      },
      "execution_count": 66,
      "outputs": [
        {
          "output_type": "execute_result",
          "data": {
            "text/plain": [
              "ChatCompletionMessage(content='To anonymize the personal identifier Customer ID in the dataframe, we can use a hashing function like SHA-256 to transform the original IDs into anonymized hashed values. Here\\'s an example code snippet using Python and the Pandas library to generate anonymized data for the given dataframe:\\n\\n```python\\nimport pandas as pd\\nimport hashlib\\n\\n# Sample data\\ndata = {\\n    \\'Invoice\\': [489434, 489434, 489434, 489434, 489434],\\n    \\'StockCode\\': [85048, 79323P, 79323W, 22041, 21232],\\n    \\'Description\\': [\\'15CM CHRISTMAS GLASS BALL 20 LIGHTS\\', \\'PINK CHERRY LIGHTS\\', \\'WHITE CHERRY LIGHTS\\', \\'RECORD FRAME 7\" SINGLE SIZE\\', \\'STRAWBERRY CERAMIC TRINKET BOX\\'],\\n    \\'Quantity\\': [12, 12, 12, 48, 24],\\n    \\'InvoiceDate\\': [\\'2009-12-01 07:45:00\\', \\'2009-12-01 07:45:00\\', \\'2009-12-01 07:45:00\\', \\'2009-12-01 07:45:00\\', \\'2009-12-01 07:45:00\\'],\\n    \\'Price\\': [6.95, 6.75, 6.75, 2.10, 1.25],\\n    \\'Customer ID\\': [13085, 13085, 13085, 13085, 13085],\\n    \\'Country\\': [\\'United Kingdom\\', \\'United Kingdom\\', \\'United Kingdom\\', \\'United Kingdom\\', \\'United Kingdom\\']\\n}\\n\\ndf = pd.DataFrame(data)\\n\\n# Anonymize Customer ID using SHA-256 hashing\\ndf[\\'Customer ID\\'] = df[\\'Customer ID\\'].astype(str).apply(lambda x: hashlib.sha256(x.encode(\\'utf-8\\')).hexdigest())\\n\\nprint(df)\\n```\\n\\nIn this code snippet, we import the necessary libraries, define the sample data in a dictionary, create a Pandas DataFrame from the data, and then anonymize the \\'Customer ID\\' column using the SHA-256 hashing function. The original Customer IDs are transformed into hashed values to anonymize the personal identifiers.', role='assistant', function_call=None, tool_calls=None)"
            ]
          },
          "metadata": {},
          "execution_count": 66
        }
      ]
    },
    {
      "cell_type": "code",
      "source": [
        "import hashlib\n",
        "\n",
        "# Function to hash personal data\n",
        "def hash_data(value):\n",
        "    return hashlib.sha256(value.encode()).hexdigest()\n",
        "\n",
        "# Apply the hashing function to 'Customer ID' and 'Country'\n",
        "data['Customer ID'] = data['Customer ID'].apply(lambda x: hash_data(str(x)) if not pd.isnull(x) else x)\n",
        "data['Country'] = data['Country'].apply(lambda x: hash_data(str(x)))\n",
        "\n",
        "# Display the first few rows of the anonymized dataset\n",
        "print(data.head())"
      ],
      "metadata": {
        "colab": {
          "base_uri": "https://localhost:8080/"
        },
        "id": "1y02BwCXd3JW",
        "outputId": "16c77ec8-a293-4875-b03e-0a492ce13e47"
      },
      "execution_count": 67,
      "outputs": [
        {
          "output_type": "stream",
          "name": "stdout",
          "text": [
            "  Invoice StockCode                          Description  Quantity  \\\n",
            "0  489434     85048  15CM CHRISTMAS GLASS BALL 20 LIGHTS        12   \n",
            "1  489434    79323P                   PINK CHERRY LIGHTS        12   \n",
            "2  489434    79323W                  WHITE CHERRY LIGHTS        12   \n",
            "3  489434     22041         RECORD FRAME 7\" SINGLE SIZE         48   \n",
            "4  489434     21232       STRAWBERRY CERAMIC TRINKET BOX        24   \n",
            "\n",
            "          InvoiceDate  Price  \\\n",
            "0 2009-12-01 07:45:00   6.95   \n",
            "1 2009-12-01 07:45:00   6.75   \n",
            "2 2009-12-01 07:45:00   6.75   \n",
            "3 2009-12-01 07:45:00   2.10   \n",
            "4 2009-12-01 07:45:00   1.25   \n",
            "\n",
            "                                         Customer ID  \\\n",
            "0  0e399ff37c2c973d9036a0262f6e5919f8ac2c81905ceb...   \n",
            "1  0e399ff37c2c973d9036a0262f6e5919f8ac2c81905ceb...   \n",
            "2  0e399ff37c2c973d9036a0262f6e5919f8ac2c81905ceb...   \n",
            "3  0e399ff37c2c973d9036a0262f6e5919f8ac2c81905ceb...   \n",
            "4  0e399ff37c2c973d9036a0262f6e5919f8ac2c81905ceb...   \n",
            "\n",
            "                                             Country  \n",
            "0  8d23a6e37e0a6431a8f1b43a91026dcff51170a89a6512...  \n",
            "1  8d23a6e37e0a6431a8f1b43a91026dcff51170a89a6512...  \n",
            "2  8d23a6e37e0a6431a8f1b43a91026dcff51170a89a6512...  \n",
            "3  8d23a6e37e0a6431a8f1b43a91026dcff51170a89a6512...  \n",
            "4  8d23a6e37e0a6431a8f1b43a91026dcff51170a89a6512...  \n"
          ]
        }
      ]
    },
    {
      "cell_type": "markdown",
      "source": [
        "## Exercise 3"
      ],
      "metadata": {
        "id": "th5jS10Mh3BN"
      }
    },
    {
      "cell_type": "code",
      "source": [
        "# Create a new column for total sales\n",
        "data['TotalPrice'] = data['Quantity'] * data['Price']\n",
        "\n",
        "# Aggregate the data on a monthly basis\n",
        "monthly_data = data.resample('M', on='InvoiceDate').agg({'TotalPrice': 'sum', 'Quantity': 'sum'}).reset_index()\n",
        "\n",
        "# Display the aggregated data\n",
        "print(monthly_data.head())"
      ],
      "metadata": {
        "colab": {
          "base_uri": "https://localhost:8080/"
        },
        "id": "p4h1O5BUh2S6",
        "outputId": "0e79fdbd-fd27-4e27-ad9b-ed4419213adb"
      },
      "execution_count": 68,
      "outputs": [
        {
          "output_type": "stream",
          "name": "stdout",
          "text": [
            "  InvoiceDate  TotalPrice  Quantity\n",
            "0  2009-12-31  660125.100    388795\n",
            "1  2010-01-31  530436.512    366302\n",
            "2  2010-02-28  487596.426    365418\n",
            "3  2010-03-31  633419.311    497681\n",
            "4  2010-04-30  558007.832    344152\n"
          ]
        }
      ]
    },
    {
      "cell_type": "code",
      "source": [
        "def get_insights_from_chatgpt(data, query):\n",
        "    # Convert a small part of dataframe to string for context\n",
        "    df_string = data.head().to_string()\n",
        "\n",
        "    # Request insight from OpenAI\n",
        "    response = client.chat.completions.create(\n",
        "        model=\"gpt-3.5-turbo\",\n",
        "        messages=[\n",
        "            {\"role\": \"system\", \"content\": \"You are a data analyst.\"},\n",
        "            {\"role\": \"user\", \"content\": f\"Given this dataset:\\n{df_string}\\n\\n{query}\"}\n",
        "        ]\n",
        "    )\n",
        "\n",
        "    return response.choices[0].message\n",
        "\n",
        "# List of queries for analysis\n",
        "queries = [\n",
        "    \"What are the overall sales trends over the months?\",\n",
        "    \"Which months show the highest and lowest sales?\",\n",
        "    \"Is there any seasonality in the sales data?\",\n",
        "    \"What are the average monthly sales and quantities sold?\"\n",
        "]\n",
        "\n",
        "# Get insights for each query\n",
        "for query in queries:\n",
        "    insights = get_insights_from_chatgpt(data, query)\n",
        "    print(f\"Query: {query}\\nInsight: {insights}\\n\")\n"
      ],
      "metadata": {
        "colab": {
          "base_uri": "https://localhost:8080/"
        },
        "id": "ZN9wrlVxh9Z6",
        "outputId": "9f389dc7-2374-4925-dc98-1abc542ca2ed"
      },
      "execution_count": 70,
      "outputs": [
        {
          "output_type": "stream",
          "name": "stdout",
          "text": [
            "Query: What are the overall sales trends over the months?\n",
            "Insight: ChatCompletionMessage(content='To analyze the overall sales trends over the months, we can follow these steps:\\n\\n1. Extract the month and year from the \\'InvoiceDate\\' column.\\n2. Group the data by month and calculate the total sales (TotalPrice) for each month.\\n3. Visualize the sales trends using a line plot.\\n\\nHere is the Python code to achieve this:\\n\\n```python\\nimport pandas as pd\\nimport matplotlib.pyplot as plt\\n\\n# Load the dataset\\ndata = {\\n    \\'Invoice\\': [489434, 489434, 489434, 489434, 489434],\\n    \\'StockCode\\': [85048, 79323P, 79323W, 22041, 21232],\\n    \\'Description\\': [\\'15CM CHRISTMAS GLASS BALL 20 LIGHTS\\', \\'PINK CHERRY LIGHTS\\', \\'WHITE CHERRY LIGHTS\\',\\n                    \\'RECORD FRAME 7\" SINGLE SIZE\\', \\'STRAWBERRY CERAMIC TRINKET BOX\\'],\\n    \\'Quantity\\': [12, 12, 12, 48, 24],\\n    \\'InvoiceDate\\': [\\'2009-12-01 07:45:00\\', \\'2009-12-01 07:45:00\\', \\'2009-12-01 07:45:00\\', \\n                    \\'2009-12-01 07:45:00\\', \\'2009-12-01 07:45:00\\'],\\n    \\'Price\\': [6.95, 6.75, 6.75, 2.10, 1.25],\\n    \\'CustomerID\\': [\\'0e399ff37c2c973d9036a0262f6e5919f8ac2c81905cebf47e9462ef917ed4de\\', \\n                   \\'0e399ff37c2c973d9036a0262f6e5919f8ac2c81905cebf47e9462ef917ed4de\\',\\n                   \\'0e399ff37c2c973d9036a0262f6e5919f8ac2c81905cebf47e9462ef917ed4de\\',\\n                   \\'0e399ff37c2c973d9036a0262f6e5919f8ac2c81905cebf47e9462ef917ed4de\\',\\n                   \\'0e399ff37c2c973d9036a0262f6e5919f8ac2c81905cebf47e9462ef917ed4de\\'],\\n    \\'Country\\': [\\'83.4\\', \\'81.0\\', \\'81.0\\', \\'100.8\\', \\'30.0\\']\\n}\\n\\ndf = pd.DataFrame(data)\\ndf[\\'InvoiceDate\\'] = pd.to_datetime(df[\\'InvoiceDate\\'])\\ndf[\\'YearMonth\\'] = df[\\'InvoiceDate\\'].dt.to_period(\\'M\\')\\n\\n# Calculate total sales for each month\\nmonthly_sales = df.groupby(\\'YearMonth\\')[\\'TotalPrice\\'].sum()\\n\\n# Plot the sales trends\\nplt.figure(figsize=(10, 6))\\nplt.plot(monthly_sales.index.astype(str), monthly_sales.values, marker=\\'o\\', color=\\'b\\')\\nplt.xlabel(\\'Month\\')\\nplt.ylabel(\\'Total Sales\\')\\nplt.title(\\'Overall Sales Trends Over Months\\')\\nplt.xticks(rotation=45)\\nplt.grid(True)\\nplt.show()\\n```\\n\\nThis code will create a line plot showing the overall sales trends over the months. You can interpret the plot to understand how sales have been changing over time.', role='assistant', function_call=None, tool_calls=None)\n",
            "\n",
            "Query: Which months show the highest and lowest sales?\n",
            "Insight: ChatCompletionMessage(content='To determine the months with the highest and lowest sales, we need to aggregate the TotalPrice column by month and then find the months with the maximum and minimum total sales.\\n\\nHere is the approach to achieve this:\\n\\n1. Extract the month from the InvoiceDate column.\\n2. Group the data by month and calculate the total sales for each month.\\n3. Find the month with the maximum total sales and the month with the minimum total sales.\\n\\nHere is a code snippet in Python using pandas to accomplish this:\\n\\n```python\\nimport pandas as pd\\n\\n# Assuming the dataset is stored in a DataFrame named \\'df\\'\\n# Convert \\'InvoiceDate\\' column to datetime format\\ndf[\\'InvoiceDate\\'] = pd.to_datetime(df[\\'InvoiceDate\\'])\\n\\n# Extract the month from \\'InvoiceDate\\'\\ndf[\\'Month\\'] = df[\\'InvoiceDate\\'].dt.month\\n\\n# Group by month and calculate total sales\\nmonthly_sales = df.groupby(\\'Month\\')[\\'TotalPrice\\'].sum().reset_index()\\n\\n# Find the month with the highest total sales\\nmax_sales_month = monthly_sales.loc[monthly_sales[\\'TotalPrice\\'].idxmax()][\\'Month\\']\\n\\n# Find the month with the lowest total sales\\nmin_sales_month = monthly_sales.loc[monthly_sales[\\'TotalPrice\\'].idxmin()][\\'Month\\']\\n\\nprint(f\"The month with the highest sales is: {max_sales_month}\")\\nprint(f\"The month with the lowest sales is: {min_sales_month}\")\\n```\\n\\nAfter running this code, you will get the months with the highest and lowest sales based on the TotalPrice column in the dataset.', role='assistant', function_call=None, tool_calls=None)\n",
            "\n",
            "Query: Is there any seasonality in the sales data?\n",
            "Insight: ChatCompletionMessage(content='To determine if there is any seasonality in the sales data, you can analyze the sales trends over time. One common approach is to aggregate the sales data by month or quarter and then plot the total sales for each period over a longer time frame, such as a year or multiple years.\\n\\nHere are the steps you can follow to analyze the seasonality in the sales data:\\n\\n1. **Aggregate Data by Time Period**: Sum the TotalPrice column for each month or quarter to get the total sales for that period.\\n\\n2. **Plot Sales Trend**: Create a line plot or bar plot showing the total sales for each month or quarter over time. This will help you visualize any repeating patterns or trends in the data.\\n\\n3. **Seasonal Decomposition**: Perform seasonal decomposition using techniques like seasonal decomposition of time series (STL) to separate the data into trend, seasonal, and residual components. This can help you identify the seasonal patterns more clearly.\\n\\n4. **Statistical Analysis**: You can also use statistical methods like autocorrelation analysis to detect any lagged relationships in the data that might indicate seasonality.\\n\\nBy following these steps and analyzing the sales data in a systematic manner, you should be able to determine if there is any seasonality present in the dataset.', role='assistant', function_call=None, tool_calls=None)\n",
            "\n",
            "Query: What are the average monthly sales and quantities sold?\n",
            "Insight: ChatCompletionMessage(content='To calculate the average monthly sales and quantities sold, we first need to aggregate the data at a monthly level. We can then calculate the average total sales and average quantities sold per month.\\n\\nHere is the step-by-step process to calculate the average monthly sales and quantities sold:\\n\\n1. Extract the month and year from the `InvoiceDate` column to group the data by month.\\n2. Aggregate the `TotalPrice` and `Quantity` columns to calculate the total sales and quantities sold per month.\\n3. Calculate the average total sales and average quantities sold per month.\\n\\nLet\\'s process this step by step using Python: \\n\\n```python\\nimport pandas as pd\\n\\n# Load the dataset\\ndata = {\\n    \\'Invoice\\': [489434, 489434, 489434, 489434, 489434],\\n    \\'StockCode\\': [85048, 79323P, 79323W, 22041, 21232],\\n    \\'Description\\': [\\'15CM CHRISTMAS GLASS BALL 20 LIGHTS\\', \\'PINK CHERRY LIGHTS\\', \\'WHITE CHERRY LIGHTS\\', \\'RECORD FRAME 7\" SINGLE SIZE\\', \\'STRAWBERRY CERAMIC TRINKET BOX\\'],\\n    \\'Quantity\\': [12, 12, 12, 48, 24],\\n    \\'InvoiceDate\\': [\\'2009-12-01 07:45:00\\', \\'2009-12-01 07:45:00\\', \\'2009-12-01 07:45:00\\', \\'2009-12-01 07:45:00\\', \\'2009-12-01 07:45:00\\'],\\n    \\'Price\\': [6.95, 6.75, 6.75, 2.10, 1.25],\\n    \\'Customer ID\\': [\\'0e399ff37c2c973d9036a0262f6e5919f8ac2c81905cebf47e9462ef917ed4de\\', \\'0e399ff37c2c973d9036a0262f6e5919f8ac2c81905cebf47e9462ef917ed4de\\', \\'0e399ff37c2c973d9036a0262f6e5919f8ac2c81905cebf47e9462ef917ed4de\\', \\'0e399ff37c2c973d9036a0262f6e5919f8ac2c81905cebf47e9462ef917ed4de\\', \\'0e399ff37c2c973d9036a0262f6e5919f8ac2c81905cebf47e9462ef917ed4de\\'],\\n    \\'Country\\': [\\'United Kingdom\\', \\'United Kingdom\\', \\'United Kingdom\\', \\'United Kingdom\\', \\'United Kingdom\\'],\\n    \\'TotalPrice\\': [83.4, 81.0, 81.0, 100.8, 30.0]\\n}\\n\\ndf = pd.DataFrame(data)\\n\\n# Convert InvoiceDate to datetime format\\ndf[\\'InvoiceDate\\'] = pd.to_datetime(df[\\'InvoiceDate\\'])\\n\\n# Extract month and year from the InvoiceDate\\ndf[\\'YearMonth\\'] = df[\\'InvoiceDate\\'].dt.to_period(\\'M\\')\\n\\n# Group by YearMonth and calculate average total sales and quantities sold\\nmonthly_stats = df.groupby(\\'YearMonth\\').agg({\\'TotalPrice\\': \\'mean\\', \\'Quantity\\': \\'mean\\'}).reset_index()\\n\\nprint(monthly_stats)\\n```\\n\\nAfter running the above code, you will get a dataframe containing the average total sales and average quantities sold per month.\\n\\nThis code assumes that you have imported pandas and have the dataset stored in a pandas DataFrame. You can adjust the code based on the structure of your dataset.', role='assistant', function_call=None, tool_calls=None)\n",
            "\n"
          ]
        }
      ]
    },
    {
      "cell_type": "code",
      "source": [
        "# Sample Data for Context\n",
        "df_string = data.head().to_string()\n",
        "\n",
        "# Queries and Insights\n",
        "queries = [\n",
        "    \"What are the overall sales trends over the months?\",\n",
        "    \"Which months show the highest and lowest sales?\",\n",
        "    \"Is there any seasonality in the sales data?\",\n",
        "    \"What are the average monthly sales and quantities sold?\"\n",
        "]\n",
        "\n",
        "# Fetch insights for each query\n",
        "for query in queries:\n",
        "    insights = get_insights_from_chatgpt(data, query)\n",
        "    print(f\"Query: {query}\\nInsight: {insights}\\n\")\n"
      ],
      "metadata": {
        "colab": {
          "base_uri": "https://localhost:8080/"
        },
        "id": "Kl6sMtrijgsU",
        "outputId": "c52ce959-276e-4f4d-aa3e-79fae3bff8b4"
      },
      "execution_count": 71,
      "outputs": [
        {
          "output_type": "stream",
          "name": "stdout",
          "text": [
            "Query: What are the overall sales trends over the months?\n",
            "Insight: ChatCompletionMessage(content='To analyze the overall sales trends over the months, we can aggregate the TotalPrice column by month. Here\\'s a step-by-step guide on how to do this using Python and pandas:\\n\\n1. First, import the necessary libraries:\\n```python\\nimport pandas as pd\\nimport matplotlib.pyplot as plt\\n```\\n\\n2. Next, read the dataset and ensure the \"InvoiceDate\" column is in datetime format:\\n```python\\ndata = pd.read_csv(\\'your_dataset.csv\\')\\ndata[\\'InvoiceDate\\'] = pd.to_datetime(data[\\'InvoiceDate\\'])\\n```\\n\\n3. Create a new column for extracting the month from the \"InvoiceDate\":\\n```python\\ndata[\\'InvoiceMonth\\'] = data[\\'InvoiceDate\\'].dt.to_period(\\'M\\')\\n```\\n\\n4. Group the data by \"InvoiceMonth\" and calculate the total sales for each month:\\n```python\\nmonthly_sales = data.groupby(\\'InvoiceMonth\\')[\\'TotalPrice\\'].sum()\\n```\\n\\n5. Plot the monthly sales trends using a line plot:\\n```python\\nplt.figure(figsize=(12, 6))\\nmonthly_sales.plot(marker=\\'o\\')\\nplt.title(\\'Monthly Sales Trends\\')\\nplt.xlabel(\\'Month\\')\\nplt.ylabel(\\'Total Sales\\')\\nplt.grid()\\nplt.show()\\n```\\n\\nThis code will generate a line plot showing the overall sales trends over the months based on the TotalPrice column in the dataset.', role='assistant', function_call=None, tool_calls=None)\n",
            "\n",
            "Query: Which months show the highest and lowest sales?\n",
            "Insight: ChatCompletionMessage(content='To determine the months with the highest and lowest sales, we need to aggregate the total sales for each month. We can extract the month from the \\'InvoiceDate\\' column and calculate the total sales for each month.\\n\\nHere is the step-by-step approach to solve this:\\n1. Convert the \\'InvoiceDate\\' column to a datetime format and extract the month from it.\\n2. Calculate the total sales (TotalPrice) for each month.\\n3. Identify the month(s) with the highest and lowest total sales.\\n\\nLet\\'s start by implementing these steps in Python using pandas:\\n\\n```python\\nimport pandas as pd\\n\\n# Sample dataset\\ndata = {\\n    \\'Invoice\\': [\\'489434\\', \\'489434\\', \\'489434\\', \\'489434\\', \\'489434\\'],\\n    \\'StockCode\\': [\\'85048\\', \\'79323P\\', \\'79323W\\', \\'22041\\', \\'21232\\'],\\n    \\'Description\\': [\\'15CM CHRISTMAS GLASS BALL 20 LIGHTS\\', \\'PINK CHERRY LIGHTS\\', \\'WHITE CHERRY LIGHTS\\', \\'RECORD FRAME 7\" SINGLE SIZE\\', \\'STRAWBERRY CERAMIC TRINKET BOX\\'],\\n    \\'Quantity\\': [12, 12, 12, 48, 24],\\n    \\'InvoiceDate\\': [\\'2009-12-01 07:45:00\\', \\'2009-12-01 07:45:00\\', \\'2009-12-01 07:45:00\\', \\'2009-12-01 07:45:00\\', \\'2009-12-01 07:45:00\\'],\\n    \\'Price\\': [6.95, 6.75, 6.75, 2.10, 1.25],\\n    \\'Customer ID\\': [\\'0e399ff37c2c973d9036a0262f6e5919f8ac2c81905cebf47e9462ef917ed4de\\', \\'0e399ff37c2c973d9036a0262f6e5919f8ac2c81905cebf47e9462ef917ed4de\\', \\'0e399ff37c2c973d9036a0262f6e5919f8ac2c81905cebf47e9462ef917ed4de\\', \\'0e399ff37c2c973d9036a0262f6e5919f8ac2c81905cebf47e9462ef917ed4de\\', \\'0e399ff37c2c973d9036a0262f6e5919f8ac2c81905cebf47e9462ef917ed4de\\'],\\n    \\'Country\\': [\\'83.4\\', \\'81.0\\', \\'81.0\\', \\'100.8\\', \\'30.0\\']\\n}\\n\\ndf = pd.DataFrame(data)\\n\\n# Convert \\'InvoiceDate\\' to datetime\\ndf[\\'InvoiceDate\\'] = pd.to_datetime(df[\\'InvoiceDate\\'])\\n\\n# Extract month from \\'InvoiceDate\\'\\ndf[\\'Month\\'] = df[\\'InvoiceDate\\'].dt.month\\n\\n# Calculate total sales for each month\\nmonthly_sales = df.groupby(\\'Month\\')[\\'TotalPrice\\'].sum()\\n\\n# Find the month with the highest total sales\\nmonth_highest_sales = monthly_sales.idxmax()\\n\\n# Find the month with the lowest total sales\\nmonth_lowest_sales = monthly_sales.idxmin()\\n\\n# Output the results\\nprint(\"Month with the highest sales:\", month_highest_sales)\\nprint(\"Month with the lowest sales:\", month_lowest_sales)\\n```\\n\\nThis code snippet will output the months with the highest and lowest sales based on the given dataset. Ensure that the column names in your actual dataset match the ones used in this code.', role='assistant', function_call=None, tool_calls=None)\n",
            "\n",
            "Query: Is there any seasonality in the sales data?\n",
            "Insight: ChatCompletionMessage(content='To determine if there is any seasonality in the sales data, we can analyze the trends of sales over time. One common approach is to aggregate the sales data by month or quarter and then plot the sales totals over time to visualize any recurring patterns. \\n\\nHere are the steps we can take to analyze seasonality in the sales data:\\n\\n1. Aggregate the sales data by month or quarter: We can group the data by the relevant time period (month or quarter) and calculate the total sales for each period.\\n\\n2. Plot the aggregated sales data over time: Create a line chart or bar chart to visualize the trend in sales over the specified time period.\\n\\n3. Analyze the trends: Look for any recurring patterns, such as spikes or dips in sales during certain months or quarters. These patterns can indicate seasonality in the sales data.\\n\\n4. Statistical analysis: We can also use time series analysis techniques to quantitatively measure seasonality in the sales data, such as autocorrelation analysis or seasonal decomposition analysis.\\n\\nBy following these steps and analyzing the aggregated sales data, we can determine if there is any seasonality in the sales data of the dataset provided.', role='assistant', function_call=None, tool_calls=None)\n",
            "\n",
            "Query: What are the average monthly sales and quantities sold?\n",
            "Insight: ChatCompletionMessage(content='To calculate the average monthly sales and quantities sold, you will first need to group the data by month, and then find the average total sales and quantities sold per month. Here is a step-by-step guide on how to do this:\\n\\n1. Extract the month from the \\'InvoiceDate\\' column.\\n2. Group the data by month and calculate the total sales and total quantities sold for each month.\\n3. Find the average total sales and quantities sold per month.\\n\\nHere is the Python code that you can use to perform these calculations:\\n\\n```python\\nimport pandas as pd\\n\\n# Load the dataset\\ndata = {\\n    \\'Invoice\\': [489434, 489434, 489434, 489434, 489434],\\n    \\'StockCode\\': [85048, 79323P, 79323W, 22041, 21232],\\n    \\'Description\\': [\\'15CM CHRISTMAS GLASS BALL 20 LIGHTS\\', \\'PINK CHERRY LIGHTS\\', \\'WHITE CHERRY LIGHTS\\', \\'RECORD FRAME 7\" SINGLE SIZE\\', \\'STRAWBERRY CERAMIC TRINKET BOX\\'],\\n    \\'Quantity\\': [12, 12, 12, 48, 24],\\n    \\'InvoiceDate\\': [\\'2009-12-01 07:45:00\\', \\'2009-12-01 07:45:00\\', \\'2009-12-01 07:45:00\\', \\'2009-12-01 07:45:00\\', \\'2009-12-01 07:45:00\\'],\\n    \\'Price\\': [6.95, 6.75, 6.75, 2.10, 1.25],\\n    \\'Customer ID\\': [\\'0e399ff37c2c973d9036a0262f6e5919f8ac2c81905cebf47e9462ef917ed4de\\', \\'0e399ff37c2c973d9036a0262f6e5919f8ac2c81905cebf47e9462ef917ed4de\\', \\'0e399ff37c2c973d9036a0262f6e5919f8ac2c81905cebf47e9462ef917ed4de\\', \\'0e399ff37c2c973d9036a0262f6e5919f8ac2c81905cebf47e9462ef917ed4de\\', \\'0e399ff37c2c973d9036a0262f6e5919f8ac2c81905cebf47e9462ef917ed4de\\'],\\n    \\'Country\\': [\\'8d23a6e37e0a6431a8f1b43a91026dcff51170a89a6512ff098eaa56a4d5fb19\\', \\'8d23a6e37e0a6431a8f1b43a91026dcff51170a89a6512ff098eaa56a4d5fb19\\', \\'8d23a6e37e0a6431a8f1b43a91026dcff51170a89a6512ff098eaa56a4d5fb19\\', \\'8d23a6e37e0a6431a8f1b43a91026dcff51170a89a6512ff098eaa56a4d5fb19\\', \\'8d23a6e37e0a6431a8f1b43a91026dcff51170a89a6512ff098eaa56a4d5fb19\\'],\\n    \\'TotalPrice\\': [83.4, 81.0, 81.0, 100.8, 30.0]\\n}\\n\\ndf = pd.DataFrame(data)\\n\\n# Convert \\'InvoiceDate\\' to datetime format\\ndf[\\'InvoiceDate\\'] = pd.to_datetime(df[\\'InvoiceDate\\'])\\n\\n# Extract month from \\'InvoiceDate\\'\\ndf[\\'Month\\'] = df[\\'InvoiceDate\\'].dt.to_period(\\'M\\')\\n\\n# Group by month and calculate total sales and quantities\\nmonthly_sales = df.groupby(\\'Month\\').agg({\\'TotalPrice\\': \\'sum\\', \\'Quantity\\': \\'sum\\'})\\n\\n# Calculate average total sales and quantities sold per month\\naverage_monthly_sales = monthly_sales[\\'TotalPrice\\'].mean()\\naverage_monthly_quantities = monthly_sales[\\'Quantity\\'].mean()\\n\\nprint(\"Average Monthly Sales: $\", round(average_monthly_sales, 2))\\nprint(\"Average Monthly Quantities Sold: \", round(average_monthly_quantities, 2))\\n```\\n\\nThis code snippet will calculate the average monthly sales and quantities sold based on the provided dataset. You can adjust it as needed to work with your own dataset or in your preferred environment.', role='assistant', function_call=None, tool_calls=None)\n",
            "\n"
          ]
        }
      ]
    },
    {
      "cell_type": "code",
      "source": [
        "import matplotlib.pyplot as plt\n",
        "import seaborn as sns\n",
        "\n",
        "\n",
        "# Calculate the Simple Moving Average (SMA) for the last 3 months\n",
        "monthly_data['SMA'] = monthly_data['TotalPrice'].rolling(window=3).mean()\n",
        "\n",
        "# Plot the monthly sales data with SMA\n",
        "plt.figure(figsize=(14, 7))\n",
        "sns.lineplot(x='InvoiceDate', y='TotalPrice', data=monthly_data, label='Monthly Sales')\n",
        "sns.lineplot(x='InvoiceDate', y='SMA', data=monthly_data, label='3-Month SMA')\n",
        "plt.title('Monthly Sales and Simple Moving Average (SMA)')\n",
        "plt.xlabel('Date')\n",
        "plt.ylabel('Total Sales')\n",
        "plt.legend()\n",
        "plt.show()\n",
        "\n",
        "# Forecast sales for the next quarter (simple extrapolation of the last SMA)\n",
        "last_sma = monthly_data['SMA'].iloc[-1]\n",
        "forecasted_sales = [last_sma] * 3\n",
        "print(f\"Forecasted Sales for the Next Quarter: {forecasted_sales}\")\n"
      ],
      "metadata": {
        "colab": {
          "base_uri": "https://localhost:8080/",
          "height": 658
        },
        "id": "y2_vyJUeju48",
        "outputId": "89d76e55-b19d-4183-9e74-7ef930b31a55"
      },
      "execution_count": 73,
      "outputs": [
        {
          "output_type": "display_data",
          "data": {
            "text/plain": [
              "<Figure size 1400x700 with 1 Axes>"
            ],
            "image/png": "[encoded data removed]"
          },
          "metadata": {}
        },
        {
          "output_type": "stream",
          "name": "stdout",
          "text": [
            "Forecasted Sales for the Next Quarter: [813892.9600000001, 813892.9600000001, 813892.9600000001]\n"
          ]
        }
      ]
    },
    {
      "cell_type": "markdown",
      "source": [
        "Discussion\n",
        "\n",
        "ChatGPT-Assisted Analysis vs. Traditional Methods:\n",
        "\n",
        "Efficiency: ChatGPT can quickly summarize trends, reducing the time spent on manual data exploration.\n",
        "Interpretation: ChatGPT can provide detailed explanations and highlight trends that might be missed in a manual analysis.\n",
        "Automation: Automating queries and analyses can save significant time and ensure consistency.\n",
        "Potential of AI in Data Analysis:\n",
        "\n",
        "Accuracy: AI models can identify subtle patterns and trends, improving the accuracy of insights and predictions.\n",
        "Scalability: AI can handle large datasets efficiently, making it suitable for analyzing big data.\n",
        "Insight Generation: AI can generate actionable insights and recommendations, aiding in strategic decision-making.\n",
        "Limitations of SMA\n",
        "Lagging Indicator: SMA is a lagging indicator and may not accurately reflect recent changes in sales trends.\n",
        "Simplicity: SMA does not account for seasonality or other complex patterns, limiting its effectiveness for long-term forecasts."
      ],
      "metadata": {
        "id": "llOzM1mqkpga"
      }
    },
    {
      "cell_type": "code",
      "source": [],
      "metadata": {
        "id": "RxAWNwUDkrl5"
      },
      "execution_count": null,
      "outputs": []
    }
  ]
}