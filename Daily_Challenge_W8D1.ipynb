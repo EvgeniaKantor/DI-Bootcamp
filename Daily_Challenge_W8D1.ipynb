{
  "nbformat": 4,
  "nbformat_minor": 0,
  "metadata": {
    "colab": {
      "provenance": [],
      "authorship_tag": "ABX9TyODhNSeKVtTnMECnVgRxz0m",
      "include_colab_link": true
    },
    "kernelspec": {
      "name": "python3",
      "display_name": "Python 3"
    },
    "language_info": {
      "name": "python"
    }
  },
  "cells": [
    {
      "cell_type": "markdown",
      "metadata": {
        "id": "view-in-github",
        "colab_type": "text"
      },
      "source": [
        "<a href=\"https://colab.research.google.com/github/EvgeniaKantor/DI-Bootcamp/blob/main/Daily_Challenge_W8D1.ipynb\" target=\"_parent\"><img src=\"https://colab.research.google.com/assets/colab-badge.svg\" alt=\"Open In Colab\"/></a>"
      ]
    },
    {
      "cell_type": "code",
      "execution_count": 1,
      "metadata": {
        "colab": {
          "base_uri": "https://localhost:8080/",
          "height": 158
        },
        "id": "cNhFiZJklFWV",
        "outputId": "8443ed87-b520-492b-c0e7-4fa49dae9401"
      },
      "outputs": [
        {
          "output_type": "display_data",
          "data": {
            "text/plain": [
              "<IPython.core.display.HTML object>"
            ],
            "text/html": [
              "\n",
              "     <input type=\"file\" id=\"files-d274402b-e4eb-45a2-97ad-02a5a29d5aa0\" name=\"files[]\" multiple disabled\n",
              "        style=\"border:none\" />\n",
              "     <output id=\"result-d274402b-e4eb-45a2-97ad-02a5a29d5aa0\">\n",
              "      Upload widget is only available when the cell has been executed in the\n",
              "      current browser session. Please rerun this cell to enable.\n",
              "      </output>\n",
              "      <script>// Copyright 2017 Google LLC\n",
              "//\n",
              "// Licensed under the Apache License, Version 2.0 (the \"License\");\n",
              "// you may not use this file except in compliance with the License.\n",
              "// You may obtain a copy of the License at\n",
              "//\n",
              "//      http://www.apache.org/licenses/LICENSE-2.0\n",
              "//\n",
              "// Unless required by applicable law or agreed to in writing, software\n",
              "// distributed under the License is distributed on an \"AS IS\" BASIS,\n",
              "// WITHOUT WARRANTIES OR CONDITIONS OF ANY KIND, either express or implied.\n",
              "// See the License for the specific language governing permissions and\n",
              "// limitations under the License.\n",
              "\n",
              "/**\n",
              " * @fileoverview Helpers for google.colab Python module.\n",
              " */\n",
              "(function(scope) {\n",
              "function span(text, styleAttributes = {}) {\n",
              "  const element = document.createElement('span');\n",
              "  element.textContent = text;\n",
              "  for (const key of Object.keys(styleAttributes)) {\n",
              "    element.style[key] = styleAttributes[key];\n",
              "  }\n",
              "  return element;\n",
              "}\n",
              "\n",
              "// Max number of bytes which will be uploaded at a time.\n",
              "const MAX_PAYLOAD_SIZE = 100 * 1024;\n",
              "\n",
              "function _uploadFiles(inputId, outputId) {\n",
              "  const steps = uploadFilesStep(inputId, outputId);\n",
              "  const outputElement = document.getElementById(outputId);\n",
              "  // Cache steps on the outputElement to make it available for the next call\n",
              "  // to uploadFilesContinue from Python.\n",
              "  outputElement.steps = steps;\n",
              "\n",
              "  return _uploadFilesContinue(outputId);\n",
              "}\n",
              "\n",
              "// This is roughly an async generator (not supported in the browser yet),\n",
              "// where there are multiple asynchronous steps and the Python side is going\n",
              "// to poll for completion of each step.\n",
              "// This uses a Promise to block the python side on completion of each step,\n",
              "// then passes the result of the previous step as the input to the next step.\n",
              "function _uploadFilesContinue(outputId) {\n",
              "  const outputElement = document.getElementById(outputId);\n",
              "  const steps = outputElement.steps;\n",
              "\n",
              "  const next = steps.next(outputElement.lastPromiseValue);\n",
              "  return Promise.resolve(next.value.promise).then((value) => {\n",
              "    // Cache the last promise value to make it available to the next\n",
              "    // step of the generator.\n",
              "    outputElement.lastPromiseValue = value;\n",
              "    return next.value.response;\n",
              "  });\n",
              "}\n",
              "\n",
              "/**\n",
              " * Generator function which is called between each async step of the upload\n",
              " * process.\n",
              " * @param {string} inputId Element ID of the input file picker element.\n",
              " * @param {string} outputId Element ID of the output display.\n",
              " * @return {!Iterable<!Object>} Iterable of next steps.\n",
              " */\n",
              "function* uploadFilesStep(inputId, outputId) {\n",
              "  const inputElement = document.getElementById(inputId);\n",
              "  inputElement.disabled = false;\n",
              "\n",
              "  const outputElement = document.getElementById(outputId);\n",
              "  outputElement.innerHTML = '';\n",
              "\n",
              "  const pickedPromise = new Promise((resolve) => {\n",
              "    inputElement.addEventListener('change', (e) => {\n",
              "      resolve(e.target.files);\n",
              "    });\n",
              "  });\n",
              "\n",
              "  const cancel = document.createElement('button');\n",
              "  inputElement.parentElement.appendChild(cancel);\n",
              "  cancel.textContent = 'Cancel upload';\n",
              "  const cancelPromise = new Promise((resolve) => {\n",
              "    cancel.onclick = () => {\n",
              "      resolve(null);\n",
              "    };\n",
              "  });\n",
              "\n",
              "  // Wait for the user to pick the files.\n",
              "  const files = yield {\n",
              "    promise: Promise.race([pickedPromise, cancelPromise]),\n",
              "    response: {\n",
              "      action: 'starting',\n",
              "    }\n",
              "  };\n",
              "\n",
              "  cancel.remove();\n",
              "\n",
              "  // Disable the input element since further picks are not allowed.\n",
              "  inputElement.disabled = true;\n",
              "\n",
              "  if (!files) {\n",
              "    return {\n",
              "      response: {\n",
              "        action: 'complete',\n",
              "      }\n",
              "    };\n",
              "  }\n",
              "\n",
              "  for (const file of files) {\n",
              "    const li = document.createElement('li');\n",
              "    li.append(span(file.name, {fontWeight: 'bold'}));\n",
              "    li.append(span(\n",
              "        `(${file.type || 'n/a'}) - ${file.size} bytes, ` +\n",
              "        `last modified: ${\n",
              "            file.lastModifiedDate ? file.lastModifiedDate.toLocaleDateString() :\n",
              "                                    'n/a'} - `));\n",
              "    const percent = span('0% done');\n",
              "    li.appendChild(percent);\n",
              "\n",
              "    outputElement.appendChild(li);\n",
              "\n",
              "    const fileDataPromise = new Promise((resolve) => {\n",
              "      const reader = new FileReader();\n",
              "      reader.onload = (e) => {\n",
              "        resolve(e.target.result);\n",
              "      };\n",
              "      reader.readAsArrayBuffer(file);\n",
              "    });\n",
              "    // Wait for the data to be ready.\n",
              "    let fileData = yield {\n",
              "      promise: fileDataPromise,\n",
              "      response: {\n",
              "        action: 'continue',\n",
              "      }\n",
              "    };\n",
              "\n",
              "    // Use a chunked sending to avoid message size limits. See b/62115660.\n",
              "    let position = 0;\n",
              "    do {\n",
              "      const length = Math.min(fileData.byteLength - position, MAX_PAYLOAD_SIZE);\n",
              "      const chunk = new Uint8Array(fileData, position, length);\n",
              "      position += length;\n",
              "\n",
              "      const base64 = btoa(String.fromCharCode.apply(null, chunk));\n",
              "      yield {\n",
              "        response: {\n",
              "          action: 'append',\n",
              "          file: file.name,\n",
              "          data: base64,\n",
              "        },\n",
              "      };\n",
              "\n",
              "      let percentDone = fileData.byteLength === 0 ?\n",
              "          100 :\n",
              "          Math.round((position / fileData.byteLength) * 100);\n",
              "      percent.textContent = `${percentDone}% done`;\n",
              "\n",
              "    } while (position < fileData.byteLength);\n",
              "  }\n",
              "\n",
              "  // All done.\n",
              "  yield {\n",
              "    response: {\n",
              "      action: 'complete',\n",
              "    }\n",
              "  };\n",
              "}\n",
              "\n",
              "scope.google = scope.google || {};\n",
              "scope.google.colab = scope.google.colab || {};\n",
              "scope.google.colab._files = {\n",
              "  _uploadFiles,\n",
              "  _uploadFilesContinue,\n",
              "};\n",
              "})(self);\n",
              "</script> "
            ]
          },
          "metadata": {}
        },
        {
          "output_type": "stream",
          "name": "stdout",
          "text": [
            "Saving kaggle.json to kaggle.json\n",
            "Dataset URL: https://www.kaggle.com/datasets/uciml/breast-cancer-wisconsin-data\n",
            "License(s): CC-BY-NC-SA-4.0\n",
            "Downloading breast-cancer-wisconsin-data.zip to /content\n",
            "  0% 0.00/48.6k [00:00<?, ?B/s]\n",
            "100% 48.6k/48.6k [00:00<00:00, 71.2MB/s]\n"
          ]
        }
      ],
      "source": [
        "from google.colab import files\n",
        "uploaded = files.upload()\n",
        "# Make directory named kaggle and copy kaggle.json file there\n",
        "!mkdir ~/.kaggle\n",
        "!cp kaggle.json ~/.kaggle/\n",
        "\n",
        "# Change the permissions of the file\n",
        "!chmod 600 ~/.kaggle/kaggle.json\n",
        "\n",
        "!kaggle datasets download -d uciml/breast-cancer-wisconsin-data"
      ]
    },
    {
      "cell_type": "code",
      "source": [
        "!unzip breast-cancer-wisconsin-data.zip"
      ],
      "metadata": {
        "colab": {
          "base_uri": "https://localhost:8080/"
        },
        "id": "o1UnBvorlRma",
        "outputId": "e5c18737-cb3a-458a-cb70-1e2ae4f8d0f1"
      },
      "execution_count": 2,
      "outputs": [
        {
          "output_type": "stream",
          "name": "stdout",
          "text": [
            "Archive:  breast-cancer-wisconsin-data.zip\n",
            "  inflating: data.csv                \n"
          ]
        }
      ]
    },
    {
      "cell_type": "code",
      "source": [
        "import pandas as pd"
      ],
      "metadata": {
        "id": "0wSlRca6lSpC"
      },
      "execution_count": 3,
      "outputs": []
    },
    {
      "cell_type": "code",
      "source": [
        "# Read CSV file into DataFrame without creating extra indexes\n",
        "\n",
        "df = pd.read_csv('data.csv')\n",
        "print(df.head())"
      ],
      "metadata": {
        "colab": {
          "base_uri": "https://localhost:8080/"
        },
        "id": "ZljFZbBklVWQ",
        "outputId": "1dabf04e-d142-4a40-8c3f-72471f99ff9f"
      },
      "execution_count": 8,
      "outputs": [
        {
          "output_type": "stream",
          "name": "stdout",
          "text": [
            "         id diagnosis  radius_mean  texture_mean  perimeter_mean  area_mean  \\\n",
            "0    842302         M        17.99         10.38          122.80     1001.0   \n",
            "1    842517         M        20.57         17.77          132.90     1326.0   \n",
            "2  84300903         M        19.69         21.25          130.00     1203.0   \n",
            "3  84348301         M        11.42         20.38           77.58      386.1   \n",
            "4  84358402         M        20.29         14.34          135.10     1297.0   \n",
            "\n",
            "   smoothness_mean  compactness_mean  concavity_mean  concave points_mean  \\\n",
            "0          0.11840           0.27760          0.3001              0.14710   \n",
            "1          0.08474           0.07864          0.0869              0.07017   \n",
            "2          0.10960           0.15990          0.1974              0.12790   \n",
            "3          0.14250           0.28390          0.2414              0.10520   \n",
            "4          0.10030           0.13280          0.1980              0.10430   \n",
            "\n",
            "   ...  texture_worst  perimeter_worst  area_worst  smoothness_worst  \\\n",
            "0  ...          17.33           184.60      2019.0            0.1622   \n",
            "1  ...          23.41           158.80      1956.0            0.1238   \n",
            "2  ...          25.53           152.50      1709.0            0.1444   \n",
            "3  ...          26.50            98.87       567.7            0.2098   \n",
            "4  ...          16.67           152.20      1575.0            0.1374   \n",
            "\n",
            "   compactness_worst  concavity_worst  concave points_worst  symmetry_worst  \\\n",
            "0             0.6656           0.7119                0.2654          0.4601   \n",
            "1             0.1866           0.2416                0.1860          0.2750   \n",
            "2             0.4245           0.4504                0.2430          0.3613   \n",
            "3             0.8663           0.6869                0.2575          0.6638   \n",
            "4             0.2050           0.4000                0.1625          0.2364   \n",
            "\n",
            "   fractal_dimension_worst  Unnamed: 32  \n",
            "0                  0.11890          NaN  \n",
            "1                  0.08902          NaN  \n",
            "2                  0.08758          NaN  \n",
            "3                  0.17300          NaN  \n",
            "4                  0.07678          NaN  \n",
            "\n",
            "[5 rows x 33 columns]\n"
          ]
        }
      ]
    },
    {
      "cell_type": "code",
      "source": [
        "print(df.info())"
      ],
      "metadata": {
        "colab": {
          "base_uri": "https://localhost:8080/"
        },
        "id": "ZwcvpLp4l9bJ",
        "outputId": "c6b90059-557a-4674-e4c8-59ce2e77d0be"
      },
      "execution_count": 9,
      "outputs": [
        {
          "output_type": "stream",
          "name": "stdout",
          "text": [
            "<class 'pandas.core.frame.DataFrame'>\n",
            "RangeIndex: 569 entries, 0 to 568\n",
            "Data columns (total 33 columns):\n",
            " #   Column                   Non-Null Count  Dtype  \n",
            "---  ------                   --------------  -----  \n",
            " 0   id                       569 non-null    int64  \n",
            " 1   diagnosis                569 non-null    object \n",
            " 2   radius_mean              569 non-null    float64\n",
            " 3   texture_mean             569 non-null    float64\n",
            " 4   perimeter_mean           569 non-null    float64\n",
            " 5   area_mean                569 non-null    float64\n",
            " 6   smoothness_mean          569 non-null    float64\n",
            " 7   compactness_mean         569 non-null    float64\n",
            " 8   concavity_mean           569 non-null    float64\n",
            " 9   concave points_mean      569 non-null    float64\n",
            " 10  symmetry_mean            569 non-null    float64\n",
            " 11  fractal_dimension_mean   569 non-null    float64\n",
            " 12  radius_se                569 non-null    float64\n",
            " 13  texture_se               569 non-null    float64\n",
            " 14  perimeter_se             569 non-null    float64\n",
            " 15  area_se                  569 non-null    float64\n",
            " 16  smoothness_se            569 non-null    float64\n",
            " 17  compactness_se           569 non-null    float64\n",
            " 18  concavity_se             569 non-null    float64\n",
            " 19  concave points_se        569 non-null    float64\n",
            " 20  symmetry_se              569 non-null    float64\n",
            " 21  fractal_dimension_se     569 non-null    float64\n",
            " 22  radius_worst             569 non-null    float64\n",
            " 23  texture_worst            569 non-null    float64\n",
            " 24  perimeter_worst          569 non-null    float64\n",
            " 25  area_worst               569 non-null    float64\n",
            " 26  smoothness_worst         569 non-null    float64\n",
            " 27  compactness_worst        569 non-null    float64\n",
            " 28  concavity_worst          569 non-null    float64\n",
            " 29  concave points_worst     569 non-null    float64\n",
            " 30  symmetry_worst           569 non-null    float64\n",
            " 31  fractal_dimension_worst  569 non-null    float64\n",
            " 32  Unnamed: 32              0 non-null      float64\n",
            "dtypes: float64(31), int64(1), object(1)\n",
            "memory usage: 146.8+ KB\n",
            "None\n"
          ]
        }
      ]
    },
    {
      "cell_type": "code",
      "source": [
        "# Check the current columns in the DataFrame\n",
        "print(\"Current columns in the DataFrame:\")\n",
        "print(df.columns)"
      ],
      "metadata": {
        "colab": {
          "base_uri": "https://localhost:8080/"
        },
        "id": "vddPtDy5mJHg",
        "outputId": "ee026f72-cd19-4c9e-b474-84c5f6eb88e0"
      },
      "execution_count": 11,
      "outputs": [
        {
          "output_type": "stream",
          "name": "stdout",
          "text": [
            "Current columns in the DataFrame:\n",
            "Index(['id', 'diagnosis', 'radius_mean', 'texture_mean', 'perimeter_mean',\n",
            "       'area_mean', 'smoothness_mean', 'compactness_mean', 'concavity_mean',\n",
            "       'concave points_mean', 'symmetry_mean', 'fractal_dimension_mean',\n",
            "       'radius_se', 'texture_se', 'perimeter_se', 'area_se', 'smoothness_se',\n",
            "       'compactness_se', 'concavity_se', 'concave points_se', 'symmetry_se',\n",
            "       'fractal_dimension_se', 'radius_worst', 'texture_worst',\n",
            "       'perimeter_worst', 'area_worst', 'smoothness_worst',\n",
            "       'compactness_worst', 'concavity_worst', 'concave points_worst',\n",
            "       'symmetry_worst', 'fractal_dimension_worst', 'Unnamed: 32'],\n",
            "      dtype='object')\n"
          ]
        }
      ]
    },
    {
      "cell_type": "code",
      "source": [
        "# Drop column '32'\n",
        "df = df.drop(columns=['Unnamed: 32'])\n",
        "\n",
        "print(\"Number of missing values per column after dropping column 'Unnamed: 32':\")\n",
        "print(df.isnull().sum())"
      ],
      "metadata": {
        "colab": {
          "base_uri": "https://localhost:8080/"
        },
        "id": "yO7AFViql-nw",
        "outputId": "237db77b-d685-4ccb-97fb-f5c4f71dcbc0"
      },
      "execution_count": 13,
      "outputs": [
        {
          "output_type": "stream",
          "name": "stdout",
          "text": [
            "Number of missing values per column after dropping column 'Unnamed: 32':\n",
            "id                         0\n",
            "diagnosis                  0\n",
            "radius_mean                0\n",
            "texture_mean               0\n",
            "perimeter_mean             0\n",
            "area_mean                  0\n",
            "smoothness_mean            0\n",
            "compactness_mean           0\n",
            "concavity_mean             0\n",
            "concave points_mean        0\n",
            "symmetry_mean              0\n",
            "fractal_dimension_mean     0\n",
            "radius_se                  0\n",
            "texture_se                 0\n",
            "perimeter_se               0\n",
            "area_se                    0\n",
            "smoothness_se              0\n",
            "compactness_se             0\n",
            "concavity_se               0\n",
            "concave points_se          0\n",
            "symmetry_se                0\n",
            "fractal_dimension_se       0\n",
            "radius_worst               0\n",
            "texture_worst              0\n",
            "perimeter_worst            0\n",
            "area_worst                 0\n",
            "smoothness_worst           0\n",
            "compactness_worst          0\n",
            "concavity_worst            0\n",
            "concave points_worst       0\n",
            "symmetry_worst             0\n",
            "fractal_dimension_worst    0\n",
            "dtype: int64\n"
          ]
        }
      ]
    },
    {
      "cell_type": "code",
      "source": [
        "print(df.head())\n"
      ],
      "metadata": {
        "colab": {
          "base_uri": "https://localhost:8080/"
        },
        "id": "3Sm9r_CFmWPo",
        "outputId": "7d714ebc-7f54-4afd-f8d7-26d900bf7ec2"
      },
      "execution_count": 14,
      "outputs": [
        {
          "output_type": "stream",
          "name": "stdout",
          "text": [
            "         id diagnosis  radius_mean  texture_mean  perimeter_mean  area_mean  \\\n",
            "0    842302         M        17.99         10.38          122.80     1001.0   \n",
            "1    842517         M        20.57         17.77          132.90     1326.0   \n",
            "2  84300903         M        19.69         21.25          130.00     1203.0   \n",
            "3  84348301         M        11.42         20.38           77.58      386.1   \n",
            "4  84358402         M        20.29         14.34          135.10     1297.0   \n",
            "\n",
            "   smoothness_mean  compactness_mean  concavity_mean  concave points_mean  \\\n",
            "0          0.11840           0.27760          0.3001              0.14710   \n",
            "1          0.08474           0.07864          0.0869              0.07017   \n",
            "2          0.10960           0.15990          0.1974              0.12790   \n",
            "3          0.14250           0.28390          0.2414              0.10520   \n",
            "4          0.10030           0.13280          0.1980              0.10430   \n",
            "\n",
            "   ...  radius_worst  texture_worst  perimeter_worst  area_worst  \\\n",
            "0  ...         25.38          17.33           184.60      2019.0   \n",
            "1  ...         24.99          23.41           158.80      1956.0   \n",
            "2  ...         23.57          25.53           152.50      1709.0   \n",
            "3  ...         14.91          26.50            98.87       567.7   \n",
            "4  ...         22.54          16.67           152.20      1575.0   \n",
            "\n",
            "   smoothness_worst  compactness_worst  concavity_worst  concave points_worst  \\\n",
            "0            0.1622             0.6656           0.7119                0.2654   \n",
            "1            0.1238             0.1866           0.2416                0.1860   \n",
            "2            0.1444             0.4245           0.4504                0.2430   \n",
            "3            0.2098             0.8663           0.6869                0.2575   \n",
            "4            0.1374             0.2050           0.4000                0.1625   \n",
            "\n",
            "   symmetry_worst  fractal_dimension_worst  \n",
            "0          0.4601                  0.11890  \n",
            "1          0.2750                  0.08902  \n",
            "2          0.3613                  0.08758  \n",
            "3          0.6638                  0.17300  \n",
            "4          0.2364                  0.07678  \n",
            "\n",
            "[5 rows x 32 columns]\n"
          ]
        }
      ]
    },
    {
      "cell_type": "markdown",
      "source": [
        "0. ID Number: Unique identification number for each sample.\n",
        "\n",
        "1. Diagnosis: The diagnosis of breast tissues as malignant (M) or benign (B).\n",
        "\n",
        "2-11. Mean Features: Mean values of various features computed for each cell nucleus:\n",
        "\n",
        "Radius\n",
        "\n",
        "Texture\n",
        "\n",
        "Perimeter\n",
        "\n",
        "Area\n",
        "\n",
        "Smoothness\n",
        "\n",
        "Compactness\n",
        "\n",
        "Concavity\n",
        "\n",
        "Concave points\n",
        "\n",
        "Symmetry\n",
        "\n",
        "Fractal dimension\n",
        "\n",
        "12-21. Standard Error Features: Standard error values of the above features.\n",
        "\n",
        "22-31. Worst (or Largest) Features: \"Worst\" or largest values of the above features, computed as the mean of the three largest values.\n",
        "\n",
        "These features are computed from digitized images of fine needle aspirates (FNA) of breast masses and are used to predict whether the mass is malignant or benign."
      ],
      "metadata": {
        "id": "Q6Ouz3c0mbTo"
      }
    },
    {
      "cell_type": "code",
      "source": [
        "# Drop the ID column (column 0)\n",
        "df = df.drop(columns=['id'])"
      ],
      "metadata": {
        "id": "bZjh9kjpmoo1"
      },
      "execution_count": 17,
      "outputs": []
    },
    {
      "cell_type": "code",
      "source": [
        "print(df.head())"
      ],
      "metadata": {
        "colab": {
          "base_uri": "https://localhost:8080/"
        },
        "id": "qupGyN3ym-TB",
        "outputId": "c8b56ace-ef1e-4de3-c137-8fb81509131f"
      },
      "execution_count": 18,
      "outputs": [
        {
          "output_type": "stream",
          "name": "stdout",
          "text": [
            "  diagnosis  radius_mean  texture_mean  perimeter_mean  area_mean  \\\n",
            "0         M        17.99         10.38          122.80     1001.0   \n",
            "1         M        20.57         17.77          132.90     1326.0   \n",
            "2         M        19.69         21.25          130.00     1203.0   \n",
            "3         M        11.42         20.38           77.58      386.1   \n",
            "4         M        20.29         14.34          135.10     1297.0   \n",
            "\n",
            "   smoothness_mean  compactness_mean  concavity_mean  concave points_mean  \\\n",
            "0          0.11840           0.27760          0.3001              0.14710   \n",
            "1          0.08474           0.07864          0.0869              0.07017   \n",
            "2          0.10960           0.15990          0.1974              0.12790   \n",
            "3          0.14250           0.28390          0.2414              0.10520   \n",
            "4          0.10030           0.13280          0.1980              0.10430   \n",
            "\n",
            "   symmetry_mean  ...  radius_worst  texture_worst  perimeter_worst  \\\n",
            "0         0.2419  ...         25.38          17.33           184.60   \n",
            "1         0.1812  ...         24.99          23.41           158.80   \n",
            "2         0.2069  ...         23.57          25.53           152.50   \n",
            "3         0.2597  ...         14.91          26.50            98.87   \n",
            "4         0.1809  ...         22.54          16.67           152.20   \n",
            "\n",
            "   area_worst  smoothness_worst  compactness_worst  concavity_worst  \\\n",
            "0      2019.0            0.1622             0.6656           0.7119   \n",
            "1      1956.0            0.1238             0.1866           0.2416   \n",
            "2      1709.0            0.1444             0.4245           0.4504   \n",
            "3       567.7            0.2098             0.8663           0.6869   \n",
            "4      1575.0            0.1374             0.2050           0.4000   \n",
            "\n",
            "   concave points_worst  symmetry_worst  fractal_dimension_worst  \n",
            "0                0.2654          0.4601                  0.11890  \n",
            "1                0.1860          0.2750                  0.08902  \n",
            "2                0.2430          0.3613                  0.08758  \n",
            "3                0.2575          0.6638                  0.17300  \n",
            "4                0.1625          0.2364                  0.07678  \n",
            "\n",
            "[5 rows x 31 columns]\n"
          ]
        }
      ]
    },
    {
      "cell_type": "code",
      "source": [
        "from sklearn.preprocessing import LabelEncoder, MinMaxScaler\n",
        "\n",
        "# Convert 'diagnosis' column to numerical values (M = 1, B = 0)\n",
        "label_encoder = LabelEncoder()\n",
        "df['diagnosis'] = label_encoder.fit_transform(df['diagnosis'])\n",
        "\n",
        "# Convert all columns to numerical data type\n",
        "df = df.apply(pd.to_numeric, errors='coerce')\n",
        "\n",
        "# Normalize the data\n",
        "scaler = MinMaxScaler()\n",
        "df_normalized = pd.DataFrame(scaler.fit_transform(df), columns=df.columns)\n",
        "\n",
        "# Display the first few rows of the DataFrame\n",
        "print(df_normalized.head())"
      ],
      "metadata": {
        "id": "WCfLjLW2miF3"
      },
      "execution_count": null,
      "outputs": []
    },
    {
      "cell_type": "code",
      "source": [
        "import seaborn as sns\n",
        "import matplotlib.pyplot as plt\n",
        "\n",
        "# Set the style and context of the plot\n",
        "sns.set_style(\"whitegrid\")\n",
        "sns.set_context(\"notebook\", font_scale=1.2)\n",
        "\n",
        "# Create the countplot\n",
        "plt.figure(figsize=(8, 6))\n",
        "sns.countplot(data=df, x='diagnosis', hue='diagnosis', palette='magma', legend=False)\n",
        "\n",
        "# Set the labels and title\n",
        "plt.xlabel('Diagnosis (0: Benign, 1: Malignant)')\n",
        "plt.ylabel('Count')\n",
        "plt.title('Diagnosis Distribution')\n",
        "\n",
        "# Show the plot\n",
        "plt.show()\n"
      ],
      "metadata": {
        "colab": {
          "base_uri": "https://localhost:8080/",
          "height": 578
        },
        "id": "S-WK1qBBnLP8",
        "outputId": "1294c4db-96ea-46eb-d9bd-84d19b27b3cd"
      },
      "execution_count": 24,
      "outputs": [
        {
          "output_type": "display_data",
          "data": {
            "text/plain": [
              "<Figure size 800x600 with 1 Axes>"
            ],
            "image/png": "[encoded data removed]"
          },
          "metadata": {}
        }
      ]
    },
    {
      "cell_type": "code",
      "source": [
        "diagnosis_counts = df['diagnosis'].value_counts()\n",
        "print(diagnosis_counts)"
      ],
      "metadata": {
        "colab": {
          "base_uri": "https://localhost:8080/"
        },
        "id": "WiaP5sV0nf00",
        "outputId": "8a5f875b-86d8-4678-b2cb-80dcf28cde14"
      },
      "execution_count": 25,
      "outputs": [
        {
          "output_type": "stream",
          "name": "stdout",
          "text": [
            "diagnosis\n",
            "0    357\n",
            "1    212\n",
            "Name: count, dtype: int64\n"
          ]
        }
      ]
    },
    {
      "cell_type": "code",
      "source": [
        "from sklearn.model_selection import train_test_split\n",
        "\n",
        "# Define features (X) and target variable (y)\n",
        "X = df.drop(columns=['diagnosis'])  # Features\n",
        "y = df['diagnosis']  # Target variable\n",
        "\n",
        "# Split the data into training and testing sets\n",
        "X_train, X_test, y_train, y_test = train_test_split(X, y, test_size=0.2, random_state=42)\n",
        "\n",
        "# Check the shapes of the train and test sets\n",
        "print(\"X_train shape:\", X_train.shape)\n",
        "print(\"X_test shape:\", X_test.shape)\n",
        "print(\"y_train shape:\", y_train.shape)\n",
        "print(\"y_test shape:\", y_test.shape)\n"
      ],
      "metadata": {
        "colab": {
          "base_uri": "https://localhost:8080/"
        },
        "id": "9_FMHjqjnjes",
        "outputId": "b1ce8bfa-6e70-4728-f526-82fe3904ac17"
      },
      "execution_count": 27,
      "outputs": [
        {
          "output_type": "stream",
          "name": "stdout",
          "text": [
            "X_train shape: (455, 30)\n",
            "X_test shape: (114, 30)\n",
            "y_train shape: (455,)\n",
            "y_test shape: (114,)\n"
          ]
        }
      ]
    },
    {
      "cell_type": "markdown",
      "source": [
        "X_train has 455 samples and 30 features.\n",
        "X_test has 114 samples and 30 features.\n",
        "y_train has 455 target labels.\n",
        "y_test has 114 target labels."
      ],
      "metadata": {
        "id": "8_0h_upPo7HQ"
      }
    },
    {
      "cell_type": "markdown",
      "source": [
        "# Implement logistic regression and print the accuracy"
      ],
      "metadata": {
        "id": "y55pglgDrwg2"
      }
    },
    {
      "cell_type": "code",
      "source": [
        "from sklearn.preprocessing import StandardScaler\n",
        "from sklearn.linear_model import LogisticRegression\n",
        "\n",
        "# Scale the data\n",
        "scaler = StandardScaler()\n",
        "X_train_scaled = scaler.fit_transform(X_train)\n",
        "X_test_scaled = scaler.transform(X_test)\n",
        "\n",
        "# Instantiate the logistic regression model with the 'saga' solver\n",
        "model = LogisticRegression(solver='saga', max_iter=1000)\n",
        "\n",
        "# Fit the model to your scaled training data\n",
        "model.fit(X_train_scaled, y_train)\n",
        "\n",
        "# Evaluate the model on your scaled test data\n",
        "accuracy = model.score(X_test_scaled, y_test)\n",
        "print(\"Accuracy:\", accuracy)\n"
      ],
      "metadata": {
        "colab": {
          "base_uri": "https://localhost:8080/"
        },
        "id": "2mHffkrdov-I",
        "outputId": "0bbc14f2-b694-45b5-8e10-d5b81f58db9b"
      },
      "execution_count": 32,
      "outputs": [
        {
          "output_type": "stream",
          "name": "stdout",
          "text": [
            "Accuracy: 0.9736842105263158\n"
          ]
        }
      ]
    },
    {
      "cell_type": "code",
      "source": [
        "from sklearn.model_selection import GridSearchCV\n",
        "from sklearn.linear_model import LogisticRegression\n",
        "\n",
        "# define logistic regression model\n",
        "log_reg = LogisticRegression()\n",
        "\n",
        "# define hyperparameters to tune\n",
        "solvers = ['newton-cg', 'lbfgs', 'liblinear']\n",
        "penalty = ['l2']\n",
        "c_values = [100, 10, 1.0, 0.1, 0.01]\n",
        "\n",
        "# define grid search\n",
        "grid = dict(solver=solvers, penalty=penalty, C=c_values)\n",
        "cv = RepeatedStratifiedKFold(n_splits=10, n_repeats=3, random_state=1)\n",
        "grid_search = GridSearchCV(estimator=log_reg, param_grid=grid, n_jobs=-1, cv=cv, scoring='accuracy', error_score=0)\n",
        "\n",
        "# perform grid search\n",
        "grid_result = grid_search.fit(X_train, y_train)\n",
        "\n",
        "# summarize results\n",
        "print(\"Best: %f using %s\" % (grid_result.best_score_, grid_result.best_params_))\n",
        "means = grid_result.cv_results_['mean_test_score']\n",
        "stds = grid_result.cv_results_['std_test_score']\n",
        "params = grid_result.cv_results_['params']\n",
        "for mean, stdev, param in zip(means, stds, params):\n",
        "    print(\"%f (%f) with: %r\" % (mean, stdev, param))\n"
      ],
      "metadata": {
        "colab": {
          "base_uri": "https://localhost:8080/"
        },
        "id": "9pUUfKZKt-8j",
        "outputId": "dd22a553-9dff-4a7f-b605-a53d74b7c6c0"
      },
      "execution_count": 37,
      "outputs": [
        {
          "output_type": "stream",
          "name": "stdout",
          "text": [
            "Best: 0.959002 using {'C': 100, 'penalty': 'l2', 'solver': 'newton-cg'}\n",
            "0.959002 (0.030834) with: {'C': 100, 'penalty': 'l2', 'solver': 'newton-cg'}\n",
            "0.945765 (0.032050) with: {'C': 100, 'penalty': 'l2', 'solver': 'lbfgs'}\n",
            "0.956747 (0.032852) with: {'C': 100, 'penalty': 'l2', 'solver': 'liblinear'}\n",
            "0.956747 (0.029694) with: {'C': 10, 'penalty': 'l2', 'solver': 'newton-cg'}\n",
            "0.942866 (0.033355) with: {'C': 10, 'penalty': 'l2', 'solver': 'lbfgs'}\n",
            "0.954541 (0.032065) with: {'C': 10, 'penalty': 'l2', 'solver': 'liblinear'}\n",
            "0.950918 (0.033267) with: {'C': 1.0, 'penalty': 'l2', 'solver': 'newton-cg'}\n",
            "0.940612 (0.034181) with: {'C': 1.0, 'penalty': 'l2', 'solver': 'lbfgs'}\n",
            "0.950129 (0.032135) with: {'C': 1.0, 'penalty': 'l2', 'solver': 'liblinear'}\n",
            "0.942093 (0.036499) with: {'C': 0.1, 'penalty': 'l2', 'solver': 'newton-cg'}\n",
            "0.931111 (0.040441) with: {'C': 0.1, 'penalty': 'l2', 'solver': 'lbfgs'}\n",
            "0.933301 (0.036592) with: {'C': 0.1, 'penalty': 'l2', 'solver': 'liblinear'}\n",
            "0.939855 (0.037262) with: {'C': 0.01, 'penalty': 'l2', 'solver': 'newton-cg'}\n",
            "0.924525 (0.043692) with: {'C': 0.01, 'penalty': 'l2', 'solver': 'lbfgs'}\n",
            "0.923800 (0.044412) with: {'C': 0.01, 'penalty': 'l2', 'solver': 'liblinear'}\n"
          ]
        }
      ]
    },
    {
      "cell_type": "markdown",
      "source": [
        "The best accuracy achieved with logistic regression on your data is approximately 95.9%. This was achieved with the following hyperparameters: C=100, penalty='l2', and solver='newton-cg'."
      ],
      "metadata": {
        "id": "XbPWU55wu8Cs"
      }
    },
    {
      "cell_type": "markdown",
      "source": [
        "# K-Nearest Neighbors (KNN)"
      ],
      "metadata": {
        "id": "AHCy9kNXr0YV"
      }
    },
    {
      "cell_type": "code",
      "source": [
        "from sklearn.model_selection import GridSearchCV\n",
        "from sklearn.neighbors import KNeighborsClassifier\n",
        "\n",
        "# Define the model\n",
        "model = KNeighborsClassifier()\n",
        "\n",
        "# Define the hyperparameters to tune\n",
        "param_grid = {\n",
        "    'n_neighbors': range(1, 21, 2),\n",
        "    'weights': ['uniform', 'distance'],\n",
        "    'metric': ['euclidean', 'manhattan', 'minkowski']\n",
        "}\n",
        "\n",
        "# Perform grid search with cross-validation\n",
        "grid_search = GridSearchCV(estimator=model, param_grid=param_grid, cv=5, scoring='accuracy')\n",
        "grid_result = grid_search.fit(X_train, y_train)\n",
        "\n",
        "# Print the best hyperparameters and their corresponding accuracy\n",
        "print(\"Best: %f using %s\" % (grid_result.best_score_, grid_result.best_params_))"
      ],
      "metadata": {
        "colab": {
          "base_uri": "https://localhost:8080/"
        },
        "id": "xXTO4lH1rZyp",
        "outputId": "5a162538-82eb-405a-cf47-bbf244347b32"
      },
      "execution_count": 34,
      "outputs": [
        {
          "output_type": "stream",
          "name": "stdout",
          "text": [
            "Best: 0.940659 using {'metric': 'manhattan', 'n_neighbors': 7, 'weights': 'distance'}\n"
          ]
        }
      ]
    },
    {
      "cell_type": "markdown",
      "source": [
        "# Implement Random Forests and print the accuracy."
      ],
      "metadata": {
        "id": "o5tfaL_lsIOx"
      }
    },
    {
      "cell_type": "code",
      "source": [
        "from sklearn.model_selection import RepeatedStratifiedKFold\n",
        "from sklearn.model_selection import GridSearchCV\n",
        "from sklearn.ensemble import RandomForestClassifier\n",
        "\n",
        "# Define the RandomForestClassifier model\n",
        "rf_model = RandomForestClassifier()\n",
        "\n",
        "# Define the hyperparameters grid\n",
        "param_grid = {\n",
        "    'n_estimators': [10, 100, 1000],\n",
        "    'max_features': ['sqrt', 'log2']\n",
        "}\n",
        "\n",
        "# Define the grid search\n",
        "cv = RepeatedStratifiedKFold(n_splits=10, n_repeats=3, random_state=1)\n",
        "grid_search = GridSearchCV(estimator=rf_model, param_grid=param_grid, cv=cv, scoring='accuracy')\n",
        "\n",
        "# Perform the grid search\n",
        "grid_result = grid_search.fit(X_train, y_train)\n",
        "\n",
        "# Summarize the results\n",
        "print(\"Best: %f using %s\" % (grid_result.best_score_, grid_result.best_params_))\n",
        "means = grid_result.cv_results_['mean_test_score']\n",
        "stds = grid_result.cv_results_['std_test_score']\n",
        "params = grid_result.cv_results_['params']\n",
        "for mean, stdev, param in zip(means, stds, params):\n",
        "    print(\"%f (%f) with: %r\" % (mean, stdev, param))\n"
      ],
      "metadata": {
        "colab": {
          "base_uri": "https://localhost:8080/"
        },
        "id": "jHajBQu9sR8k",
        "outputId": "32cd8665-3ebe-4eb6-f94a-19a1e89bc93b"
      },
      "execution_count": 36,
      "outputs": [
        {
          "output_type": "stream",
          "name": "stdout",
          "text": [
            "Best: 0.965491 using {'max_features': 'sqrt', 'n_estimators': 1000}\n",
            "0.951626 (0.029712) with: {'max_features': 'sqrt', 'n_estimators': 10}\n",
            "0.958196 (0.029743) with: {'max_features': 'sqrt', 'n_estimators': 100}\n",
            "0.965491 (0.027808) with: {'max_features': 'sqrt', 'n_estimators': 1000}\n",
            "0.952319 (0.030199) with: {'max_features': 'log2', 'n_estimators': 10}\n",
            "0.964026 (0.030983) with: {'max_features': 'log2', 'n_estimators': 100}\n",
            "0.965491 (0.025999) with: {'max_features': 'log2', 'n_estimators': 1000}\n"
          ]
        }
      ]
    },
    {
      "cell_type": "markdown",
      "source": [
        "the best performing RandomForestClassifier model was achieved with max_features='sqrt' and n_estimators=1000, yielding an accuracy of approximately 96.55%."
      ],
      "metadata": {
        "id": "P2tkgxG0tX96"
      }
    },
    {
      "cell_type": "markdown",
      "source": [
        "# Implement Support Vector Machines (SVM) and print the accuracy."
      ],
      "metadata": {
        "id": "xScKd_slvMU0"
      }
    },
    {
      "cell_type": "code",
      "source": [
        "from sklearn.svm import SVC\n",
        "from sklearn.metrics import accuracy_score\n",
        "\n",
        "# Instantiate the Support Vector Classifier\n",
        "svm = SVC()\n",
        "\n",
        "# Fit the model to the training data\n",
        "svm.fit(X_train_scaled, y_train)\n",
        "\n",
        "# Predict on the test data\n",
        "y_pred = svm.predict(X_test_scaled)\n",
        "\n",
        "# Calculate accuracy\n",
        "accuracy = accuracy_score(y_test, y_pred)\n",
        "print(\"Accuracy:\", accuracy)\n"
      ],
      "metadata": {
        "colab": {
          "base_uri": "https://localhost:8080/"
        },
        "id": "1jb4ahHotY3E",
        "outputId": "9a1d5825-4f3b-47f1-af18-e015722932d0"
      },
      "execution_count": 38,
      "outputs": [
        {
          "output_type": "stream",
          "name": "stdout",
          "text": [
            "Accuracy: 0.9824561403508771\n"
          ]
        }
      ]
    },
    {
      "cell_type": "code",
      "source": [
        "from sklearn.svm import SVC\n",
        "from sklearn.model_selection import RepeatedStratifiedKFold, GridSearchCV\n",
        "from sklearn.metrics import accuracy_score\n",
        "\n",
        "# Define the model\n",
        "model = SVC()\n",
        "\n",
        "# Define the parameters for grid search\n",
        "kernel = ['linear', 'poly', 'rbf', 'sigmoid']\n",
        "C = [0.1, 1, 10, 100]\n",
        "gamma = ['scale', 'auto']\n",
        "param_grid = {'kernel': kernel, 'C': C, 'gamma': gamma}\n",
        "\n",
        "# Define the grid search with cross-validation\n",
        "cv = RepeatedStratifiedKFold(n_splits=10, n_repeats=3, random_state=1)\n",
        "grid_search = GridSearchCV(estimator=model, param_grid=param_grid, n_jobs=-1, cv=cv, scoring='accuracy', error_score=0)\n",
        "\n",
        "# Fit the grid search to the data\n",
        "grid_result = grid_search.fit(X_train_scaled, y_train)\n",
        "\n",
        "# Summarize the results\n",
        "print(\"Best: %f using %s\" % (grid_result.best_score_, grid_result.best_params_))\n",
        "means = grid_result.cv_results_['mean_test_score']\n",
        "stds = grid_result.cv_results_['std_test_score']\n",
        "params = grid_result.cv_results_['params']\n",
        "for mean, stdev, param in zip(means, stds, params):\n",
        "    print(\"%f (%f) with: %r\" % (mean, stdev, param))\n",
        "\n",
        "# Evaluate the best model on the test data\n",
        "best_model = grid_result.best_estimator_\n",
        "y_pred = best_model.predict(X_test_scaled)\n",
        "accuracy = accuracy_score(y_test, y_pred)\n",
        "print(\"Accuracy:\", accuracy)\n"
      ],
      "metadata": {
        "colab": {
          "base_uri": "https://localhost:8080/"
        },
        "id": "buN7lwXuvLdC",
        "outputId": "a2dd549f-4ae4-4094-af73-d53102a94182"
      },
      "execution_count": 39,
      "outputs": [
        {
          "output_type": "stream",
          "name": "stdout",
          "text": [
            "Best: 0.975781 using {'C': 0.1, 'gamma': 'scale', 'kernel': 'linear'}\n",
            "0.975781 (0.025657) with: {'C': 0.1, 'gamma': 'scale', 'kernel': 'linear'}\n",
            "0.844605 (0.030782) with: {'C': 0.1, 'gamma': 'scale', 'kernel': 'poly'}\n",
            "0.942093 (0.037043) with: {'C': 0.1, 'gamma': 'scale', 'kernel': 'rbf'}\n",
            "0.947971 (0.030839) with: {'C': 0.1, 'gamma': 'scale', 'kernel': 'sigmoid'}\n",
            "0.975781 (0.025657) with: {'C': 0.1, 'gamma': 'auto', 'kernel': 'linear'}\n",
            "0.843881 (0.029918) with: {'C': 0.1, 'gamma': 'auto', 'kernel': 'poly'}\n",
            "0.942093 (0.037043) with: {'C': 0.1, 'gamma': 'auto', 'kernel': 'rbf'}\n",
            "0.947971 (0.030839) with: {'C': 0.1, 'gamma': 'auto', 'kernel': 'sigmoid'}\n",
            "0.973639 (0.026112) with: {'C': 1, 'gamma': 'scale', 'kernel': 'linear'}\n",
            "0.903994 (0.036989) with: {'C': 1, 'gamma': 'scale', 'kernel': 'poly'}\n",
            "0.974364 (0.024036) with: {'C': 1, 'gamma': 'scale', 'kernel': 'rbf'}\n",
            "0.948760 (0.026789) with: {'C': 1, 'gamma': 'scale', 'kernel': 'sigmoid'}\n",
            "0.973639 (0.026112) with: {'C': 1, 'gamma': 'auto', 'kernel': 'linear'}\n",
            "0.902544 (0.035733) with: {'C': 1, 'gamma': 'auto', 'kernel': 'poly'}\n",
            "0.974364 (0.024036) with: {'C': 1, 'gamma': 'auto', 'kernel': 'rbf'}\n",
            "0.949485 (0.027875) with: {'C': 1, 'gamma': 'auto', 'kernel': 'sigmoid'}\n",
            "0.967069 (0.021626) with: {'C': 10, 'gamma': 'scale', 'kernel': 'linear'}\n",
            "0.953833 (0.033295) with: {'C': 10, 'gamma': 'scale', 'kernel': 'poly'}\n",
            "0.969952 (0.022253) with: {'C': 10, 'gamma': 'scale', 'kernel': 'rbf'}\n",
            "0.928180 (0.031094) with: {'C': 10, 'gamma': 'scale', 'kernel': 'sigmoid'}\n",
            "0.967069 (0.021626) with: {'C': 10, 'gamma': 'auto', 'kernel': 'linear'}\n",
            "0.954557 (0.034047) with: {'C': 10, 'gamma': 'auto', 'kernel': 'poly'}\n",
            "0.969952 (0.022253) with: {'C': 10, 'gamma': 'auto', 'kernel': 'rbf'}\n",
            "0.927440 (0.027885) with: {'C': 10, 'gamma': 'auto', 'kernel': 'sigmoid'}\n",
            "0.951707 (0.031695) with: {'C': 100, 'gamma': 'scale', 'kernel': 'linear'}\n",
            "0.964863 (0.026290) with: {'C': 100, 'gamma': 'scale', 'kernel': 'poly'}\n",
            "0.970692 (0.023482) with: {'C': 100, 'gamma': 'scale', 'kernel': 'rbf'}\n",
            "0.922303 (0.032017) with: {'C': 100, 'gamma': 'scale', 'kernel': 'sigmoid'}\n",
            "0.951707 (0.031695) with: {'C': 100, 'gamma': 'auto', 'kernel': 'linear'}\n",
            "0.964122 (0.025593) with: {'C': 100, 'gamma': 'auto', 'kernel': 'poly'}\n",
            "0.970692 (0.023482) with: {'C': 100, 'gamma': 'auto', 'kernel': 'rbf'}\n",
            "0.923736 (0.030045) with: {'C': 100, 'gamma': 'auto', 'kernel': 'sigmoid'}\n",
            "Accuracy: 0.9824561403508771\n"
          ]
        }
      ]
    },
    {
      "cell_type": "markdown",
      "source": [
        "\n",
        "It seems like the SVM with a linear kernel and C=0.1 achieved the highest accuracy of approximately 97.78%."
      ],
      "metadata": {
        "id": "5YDh4vvPv0EW"
      }
    },
    {
      "cell_type": "code",
      "source": [
        "# Make predictions on the test data\n",
        "predicted_diagnoses = svm.predict(X_test_scaled)\n",
        "\n",
        "# Create a DataFrame to compare the original diagnoses with the predicted diagnoses\n",
        "comparison_df = pd.DataFrame({'Original Diagnosis': y_test, 'Predicted Diagnosis': predicted_diagnoses})\n",
        "\n",
        "# Display the comparison DataFrame\n",
        "print(comparison_df)"
      ],
      "metadata": {
        "colab": {
          "base_uri": "https://localhost:8080/"
        },
        "id": "bMYthR55v1Gr",
        "outputId": "9099931e-c05b-4d18-e400-ffcdc4351c93"
      },
      "execution_count": 40,
      "outputs": [
        {
          "output_type": "stream",
          "name": "stdout",
          "text": [
            "     Original Diagnosis  Predicted Diagnosis\n",
            "204                   0                    0\n",
            "70                    1                    1\n",
            "131                   1                    1\n",
            "431                   0                    0\n",
            "540                   0                    0\n",
            "..                  ...                  ...\n",
            "486                   0                    0\n",
            "75                    1                    1\n",
            "249                   0                    0\n",
            "238                   0                    0\n",
            "265                   1                    1\n",
            "\n",
            "[114 rows x 2 columns]\n"
          ]
        }
      ]
    },
    {
      "cell_type": "code",
      "source": [
        "# False Positives\n",
        "false_positives = comparison_df[(comparison_df['Original Diagnosis'] == 0) & (comparison_df['Predicted Diagnosis'] == 1)]\n",
        "\n",
        "# False Negatives\n",
        "false_negatives = comparison_df[(comparison_df['Original Diagnosis'] == 1) & (comparison_df['Predicted Diagnosis'] == 0)]\n",
        "\n",
        "print(\"False Positives:\")\n",
        "print(false_positives)\n",
        "\n",
        "print(\"\\nFalse Negatives:\")\n",
        "print(false_negatives)\n"
      ],
      "metadata": {
        "colab": {
          "base_uri": "https://localhost:8080/"
        },
        "id": "x8Nd-tmCwx4Z",
        "outputId": "46bbaf9c-8a09-4dd4-a570-6b8617b90b13"
      },
      "execution_count": 41,
      "outputs": [
        {
          "output_type": "stream",
          "name": "stdout",
          "text": [
            "False Positives:\n",
            "Empty DataFrame\n",
            "Columns: [Original Diagnosis, Predicted Diagnosis]\n",
            "Index: []\n",
            "\n",
            "False Negatives:\n",
            "     Original Diagnosis  Predicted Diagnosis\n",
            "73                    1                    0\n",
            "255                   1                    0\n"
          ]
        }
      ]
    },
    {
      "cell_type": "markdown",
      "source": [
        "It seems like your model had two false negatives, where it predicted a negative diagnosis (0) while the original diagnosis was positive (1). False positives are instances where the model incorrectly predicted a positive diagnosis (1) when the original diagnosis was negative (0). However, in your case, there were no false positives"
      ],
      "metadata": {
        "id": "RWJqV5Odw-nb"
      }
    },
    {
      "cell_type": "code",
      "source": [
        "# Scale the data\n",
        "scaler = StandardScaler()\n",
        "X_train_scaled = scaler.fit_transform(X_train)\n",
        "X_test_scaled = scaler.transform(X_test)\n",
        "\n",
        "# Instantiate the Support Vector Classifier with the specified parameters\n",
        "svm = SVC(kernel='linear', C=0.1)\n",
        "\n",
        "# Fit the model to the training data\n",
        "svm.fit(X_train_scaled, y_train)\n",
        "\n",
        "# Make predictions on the test data\n",
        "predicted_diagnoses = svm.predict(X_test_scaled)\n",
        "\n",
        "# Create a DataFrame to compare the original diagnoses with the predicted diagnoses\n",
        "comparison_df = pd.DataFrame({'Original Diagnosis': y_test, 'Predicted Diagnosis': predicted_diagnoses})\n",
        "\n",
        "# Display the comparison DataFrame\n",
        "print(comparison_df)\n",
        "\n",
        "# Calculate false positives and false negatives\n",
        "false_positives = comparison_df[(comparison_df['Original Diagnosis'] == 0) & (comparison_df['Predicted Diagnosis'] == 1)]\n",
        "false_negatives = comparison_df[(comparison_df['Original Diagnosis'] == 1) & (comparison_df['Predicted Diagnosis'] == 0)]\n",
        "\n",
        "print(\"False Positives:\")\n",
        "print(false_positives)\n",
        "\n",
        "print(\"\\nFalse Negatives:\")\n",
        "print(false_negatives)\n",
        "\n"
      ],
      "metadata": {
        "colab": {
          "base_uri": "https://localhost:8080/"
        },
        "id": "qlj2UIonw_e_",
        "outputId": "4e64c723-d9c8-4135-887e-6772dba4fb7f"
      },
      "execution_count": 42,
      "outputs": [
        {
          "output_type": "stream",
          "name": "stdout",
          "text": [
            "     Original Diagnosis  Predicted Diagnosis\n",
            "204                   0                    0\n",
            "70                    1                    1\n",
            "131                   1                    1\n",
            "431                   0                    0\n",
            "540                   0                    0\n",
            "..                  ...                  ...\n",
            "486                   0                    0\n",
            "75                    1                    1\n",
            "249                   0                    0\n",
            "238                   0                    0\n",
            "265                   1                    1\n",
            "\n",
            "[114 rows x 2 columns]\n",
            "False Positives:\n",
            "Empty DataFrame\n",
            "Columns: [Original Diagnosis, Predicted Diagnosis]\n",
            "Index: []\n",
            "\n",
            "False Negatives:\n",
            "     Original Diagnosis  Predicted Diagnosis\n",
            "73                    1                    0\n",
            "255                   1                    0\n"
          ]
        }
      ]
    }
  ]
}