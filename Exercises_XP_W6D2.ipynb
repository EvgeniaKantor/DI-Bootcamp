{
  "nbformat": 4,
  "nbformat_minor": 0,
  "metadata": {
    "colab": {
      "provenance": [],
      "authorship_tag": "ABX9TyN1AtJjCGctioRR7oqgCSE4",
      "include_colab_link": true
    },
    "kernelspec": {
      "name": "python3",
      "display_name": "Python 3"
    },
    "language_info": {
      "name": "python"
    }
  },
  "cells": [
    {
      "cell_type": "markdown",
      "metadata": {
        "id": "view-in-github",
        "colab_type": "text"
      },
      "source": [
        "<a href=\"https://colab.research.google.com/github/EvgeniaKantor/DI-Bootcamp/blob/main/Exercises_XP_W6D2.ipynb\" target=\"_parent\"><img src=\"https://colab.research.google.com/assets/colab-badge.svg\" alt=\"Open In Colab\"/></a>"
      ]
    },
    {
      "cell_type": "code",
      "source": [
        "#Exercise1 Create a 3x3 matrix and perform the following operations: Calculate the determinant.\n",
        "#Find the inverse of the matrix.\n",
        "import numpy as np"
      ],
      "metadata": {
        "id": "7H1_TBUI62xb"
      },
      "execution_count": 61,
      "outputs": []
    },
    {
      "cell_type": "code",
      "source": [
        "from scipy.stats import ttest_rel"
      ],
      "metadata": {
        "id": "S3_wC_cdXTlo"
      },
      "execution_count": 64,
      "outputs": []
    },
    {
      "cell_type": "code",
      "source": [
        "import pandas as pd"
      ],
      "metadata": {
        "id": "LppdAZ2cBIpY"
      },
      "execution_count": 16,
      "outputs": []
    },
    {
      "cell_type": "code",
      "source": [
        "import matplotlib.pyplot as plt"
      ],
      "metadata": {
        "id": "JaMqCefOLH7U"
      },
      "execution_count": 41,
      "outputs": []
    },
    {
      "cell_type": "code",
      "source": [
        "from PIL import Image"
      ],
      "metadata": {
        "id": "gwl8q70qMj6z"
      },
      "execution_count": 43,
      "outputs": []
    },
    {
      "cell_type": "code",
      "source": [
        "matrix = np.arange(1, 10).reshape(3, 3)\n",
        "matrix"
      ],
      "metadata": {
        "colab": {
          "base_uri": "https://localhost:8080/"
        },
        "id": "nzILZbYw7MuG",
        "outputId": "864a86fb-61b0-4fce-b395-1118bba7036b"
      },
      "execution_count": 2,
      "outputs": [
        {
          "output_type": "execute_result",
          "data": {
            "text/plain": [
              "array([[1, 2, 3],\n",
              "       [4, 5, 6],\n",
              "       [7, 8, 9]])"
            ]
          },
          "metadata": {},
          "execution_count": 2
        }
      ]
    },
    {
      "cell_type": "code",
      "source": [
        "determinant = np.linalg.det(matrix)\n",
        "print(\"\\nDeterminant:\", determinant)"
      ],
      "metadata": {
        "colab": {
          "base_uri": "https://localhost:8080/"
        },
        "id": "o1JrL3Ih7tZG",
        "outputId": "174a0f02-f970-4532-af12-4af8dc9db0b7"
      },
      "execution_count": 3,
      "outputs": [
        {
          "output_type": "stream",
          "name": "stdout",
          "text": [
            "\n",
            "Determinant: 0.0\n"
          ]
        }
      ]
    },
    {
      "cell_type": "code",
      "source": [
        "# Check if the matrix is invertible (i.e., has a non-zero determinant)\n",
        "if determinant != 0:\n",
        "    inverse_matrix = np.linalg.inv(matrix)\n",
        "    print(\"\\nInverse Matrix:\")\n",
        "    print(inverse_matrix)\n",
        "else:\n",
        "    print(\"\\nThe matrix is not invertible (determinant is zero).\")\n"
      ],
      "metadata": {
        "colab": {
          "base_uri": "https://localhost:8080/"
        },
        "id": "GyO4juiI8CcN",
        "outputId": "03e1ec41-5065-4cec-85e6-243be1257a32"
      },
      "execution_count": 4,
      "outputs": [
        {
          "output_type": "stream",
          "name": "stdout",
          "text": [
            "\n",
            "The matrix is not invertible (determinant is zero).\n"
          ]
        }
      ]
    },
    {
      "cell_type": "code",
      "source": [
        "#Exercise2 In this exercise, you’ll calculate statistical measures for a dataset\n",
        "#Generate an array of 50 random numbers\n",
        "random_numbers = np.random.randint(0, 100, size=50)"
      ],
      "metadata": {
        "id": "9hABBRec8xHj"
      },
      "execution_count": 9,
      "outputs": []
    },
    {
      "cell_type": "code",
      "source": [
        "#Calculate the mean, median and standart deviation\n",
        "mean = np.mean(random_numbers)\n",
        "median = np.median(random_numbers)\n",
        "std_deviation = np.std(random_numbers)\n",
        "print(\"Random Numbers:\", random_numbers)\n",
        "print(\"Mean:\", mean)\n",
        "print(\"Median:\", median)\n",
        "print(\"Standard Deviation:\", std_deviation)"
      ],
      "metadata": {
        "colab": {
          "base_uri": "https://localhost:8080/"
        },
        "id": "xthst96h9IQp",
        "outputId": "d4bf57f3-85df-45b7-b084-cf799f4a88fe"
      },
      "execution_count": 10,
      "outputs": [
        {
          "output_type": "stream",
          "name": "stdout",
          "text": [
            "Random Numbers: [60 25  3 27 35 23 72 77 10 92 62 26 91 80 14 63 66 76 45 67 56 27 11  1\n",
            " 28  0 90 33 84 24 30 48  8 75 70 20 53 95 55 36 99 88 41 11 38  0 88 43\n",
            " 43 85]\n",
            "Mean: 47.88\n",
            "Median: 44.0\n",
            "Standard Deviation: 29.386826980808934\n"
          ]
        }
      ]
    },
    {
      "cell_type": "code",
      "source": [
        "#Exercise3 Create a NumPy array of dates for the month of January 2023. Convert these dates to another format (e.g., YYYY/MM/DD)\n",
        "dates_january_2023 = np.arange('2023-01-01', '2023-02-01', dtype='datetime64[D]')\n",
        "dates_january_2023"
      ],
      "metadata": {
        "colab": {
          "base_uri": "https://localhost:8080/"
        },
        "id": "C-LhXu0u97Uo",
        "outputId": "d9013585-d75b-467a-ab60-3bc1f89320f5"
      },
      "execution_count": 13,
      "outputs": [
        {
          "output_type": "execute_result",
          "data": {
            "text/plain": [
              "array(['2023-01-01', '2023-01-02', '2023-01-03', '2023-01-04',\n",
              "       '2023-01-05', '2023-01-06', '2023-01-07', '2023-01-08',\n",
              "       '2023-01-09', '2023-01-10', '2023-01-11', '2023-01-12',\n",
              "       '2023-01-13', '2023-01-14', '2023-01-15', '2023-01-16',\n",
              "       '2023-01-17', '2023-01-18', '2023-01-19', '2023-01-20',\n",
              "       '2023-01-21', '2023-01-22', '2023-01-23', '2023-01-24',\n",
              "       '2023-01-25', '2023-01-26', '2023-01-27', '2023-01-28',\n",
              "       '2023-01-29', '2023-01-30', '2023-01-31'], dtype='datetime64[D]')"
            ]
          },
          "metadata": {},
          "execution_count": 13
        }
      ]
    },
    {
      "cell_type": "code",
      "source": [
        "dates_formatted = np.array(np.datetime_as_string(dates_january_2023, unit='D'))\n",
        "\n",
        "print(\"Dates for January 2023 (YYYY/MM/DD):\")\n",
        "print(dates_formatted)"
      ],
      "metadata": {
        "colab": {
          "base_uri": "https://localhost:8080/"
        },
        "id": "jcURNWYQ_KQC",
        "outputId": "5b3cb041-183f-4e15-af3a-204a2db9dc6c"
      },
      "execution_count": 15,
      "outputs": [
        {
          "output_type": "stream",
          "name": "stdout",
          "text": [
            "Dates for January 2023 (YYYY/MM/DD):\n",
            "['2023-01-01' '2023-01-02' '2023-01-03' '2023-01-04' '2023-01-05'\n",
            " '2023-01-06' '2023-01-07' '2023-01-08' '2023-01-09' '2023-01-10'\n",
            " '2023-01-11' '2023-01-12' '2023-01-13' '2023-01-14' '2023-01-15'\n",
            " '2023-01-16' '2023-01-17' '2023-01-18' '2023-01-19' '2023-01-20'\n",
            " '2023-01-21' '2023-01-22' '2023-01-23' '2023-01-24' '2023-01-25'\n",
            " '2023-01-26' '2023-01-27' '2023-01-28' '2023-01-29' '2023-01-30'\n",
            " '2023-01-31']\n"
          ]
        }
      ]
    },
    {
      "cell_type": "code",
      "source": [
        "formatted_dates2 = np.array([date.astype('datetime64[D]').astype('O').strftime('%d/%m/%Y') for date in dates_january_2023])\n",
        "print(\"Original dates for January 2023:\")\n",
        "print(dates_january_2023)\n",
        "\n",
        "print(\"\\nFormatted dates (DD/MM/YYYY):\")\n",
        "print(formatted_dates2)"
      ],
      "metadata": {
        "colab": {
          "base_uri": "https://localhost:8080/"
        },
        "id": "xyLcVsiJDSW4",
        "outputId": "e602437c-ba53-487c-d194-b23d1f9dd084"
      },
      "execution_count": 30,
      "outputs": [
        {
          "output_type": "stream",
          "name": "stdout",
          "text": [
            "Original dates for January 2023:\n",
            "['2023-01-01' '2023-01-02' '2023-01-03' '2023-01-04' '2023-01-05'\n",
            " '2023-01-06' '2023-01-07' '2023-01-08' '2023-01-09' '2023-01-10'\n",
            " '2023-01-11' '2023-01-12' '2023-01-13' '2023-01-14' '2023-01-15'\n",
            " '2023-01-16' '2023-01-17' '2023-01-18' '2023-01-19' '2023-01-20'\n",
            " '2023-01-21' '2023-01-22' '2023-01-23' '2023-01-24' '2023-01-25'\n",
            " '2023-01-26' '2023-01-27' '2023-01-28' '2023-01-29' '2023-01-30'\n",
            " '2023-01-31']\n",
            "\n",
            "Formatted dates (DD/MM/YYYY):\n",
            "['01/01/2023' '02/01/2023' '03/01/2023' '04/01/2023' '05/01/2023'\n",
            " '06/01/2023' '07/01/2023' '08/01/2023' '09/01/2023' '10/01/2023'\n",
            " '11/01/2023' '12/01/2023' '13/01/2023' '14/01/2023' '15/01/2023'\n",
            " '16/01/2023' '17/01/2023' '18/01/2023' '19/01/2023' '20/01/2023'\n",
            " '21/01/2023' '22/01/2023' '23/01/2023' '24/01/2023' '25/01/2023'\n",
            " '26/01/2023' '27/01/2023' '28/01/2023' '29/01/2023' '30/01/2023'\n",
            " '31/01/2023']\n"
          ]
        }
      ]
    },
    {
      "cell_type": "code",
      "source": [
        "#Exercise4 Create a DataFrame with random numbers and perform\n",
        "data = pd.DataFrame(np.random.rand(5, 3), columns=['A', 'B', 'C'])\n",
        "data"
      ],
      "metadata": {
        "colab": {
          "base_uri": "https://localhost:8080/",
          "height": 206
        },
        "id": "9M2IqQKTAmcE",
        "outputId": "094314f4-fbeb-4b5e-91bb-302fd2fe7300"
      },
      "execution_count": 18,
      "outputs": [
        {
          "output_type": "execute_result",
          "data": {
            "text/plain": [
              "          A         B         C\n",
              "0  0.038799  0.284261  0.668467\n",
              "1  0.780439  0.871100  0.243173\n",
              "2  0.854254  0.104965  0.126659\n",
              "3  0.048880  0.531431  0.056237\n",
              "4  0.951733  0.178111  0.831920"
            ],
            "text/html": [
              "\n",
              "  <div id=\"df-1eb83c97-9b9c-44c2-ab15-10e4097b7468\" class=\"colab-df-container\">\n",
              "    <div>\n",
              "<style scoped>\n",
              "    .dataframe tbody tr th:only-of-type {\n",
              "        vertical-align: middle;\n",
              "    }\n",
              "\n",
              "    .dataframe tbody tr th {\n",
              "        vertical-align: top;\n",
              "    }\n",
              "\n",
              "    .dataframe thead th {\n",
              "        text-align: right;\n",
              "    }\n",
              "</style>\n",
              "<table border=\"1\" class=\"dataframe\">\n",
              "  <thead>\n",
              "    <tr style=\"text-align: right;\">\n",
              "      <th></th>\n",
              "      <th>A</th>\n",
              "      <th>B</th>\n",
              "      <th>C</th>\n",
              "    </tr>\n",
              "  </thead>\n",
              "  <tbody>\n",
              "    <tr>\n",
              "      <th>0</th>\n",
              "      <td>0.038799</td>\n",
              "      <td>0.284261</td>\n",
              "      <td>0.668467</td>\n",
              "    </tr>\n",
              "    <tr>\n",
              "      <th>1</th>\n",
              "      <td>0.780439</td>\n",
              "      <td>0.871100</td>\n",
              "      <td>0.243173</td>\n",
              "    </tr>\n",
              "    <tr>\n",
              "      <th>2</th>\n",
              "      <td>0.854254</td>\n",
              "      <td>0.104965</td>\n",
              "      <td>0.126659</td>\n",
              "    </tr>\n",
              "    <tr>\n",
              "      <th>3</th>\n",
              "      <td>0.048880</td>\n",
              "      <td>0.531431</td>\n",
              "      <td>0.056237</td>\n",
              "    </tr>\n",
              "    <tr>\n",
              "      <th>4</th>\n",
              "      <td>0.951733</td>\n",
              "      <td>0.178111</td>\n",
              "      <td>0.831920</td>\n",
              "    </tr>\n",
              "  </tbody>\n",
              "</table>\n",
              "</div>\n",
              "    <div class=\"colab-df-buttons\">\n",
              "\n",
              "  <div class=\"colab-df-container\">\n",
              "    <button class=\"colab-df-convert\" onclick=\"convertToInteractive('df-1eb83c97-9b9c-44c2-ab15-10e4097b7468')\"\n",
              "            title=\"Convert this dataframe to an interactive table.\"\n",
              "            style=\"display:none;\">\n",
              "\n",
              "  <svg xmlns=\"http://www.w3.org/2000/svg\" height=\"24px\" viewBox=\"0 -960 960 960\">\n",
              "    <path d=\"M120-120v-720h720v720H120Zm60-500h600v-160H180v160Zm220 220h160v-160H400v160Zm0 220h160v-160H400v160ZM180-400h160v-160H180v160Zm440 0h160v-160H620v160ZM180-180h160v-160H180v160Zm440 0h160v-160H620v160Z\"/>\n",
              "  </svg>\n",
              "    </button>\n",
              "\n",
              "  <style>\n",
              "    .colab-df-container {\n",
              "      display:flex;\n",
              "      gap: 12px;\n",
              "    }\n",
              "\n",
              "    .colab-df-convert {\n",
              "      background-color: #E8F0FE;\n",
              "      border: none;\n",
              "      border-radius: 50%;\n",
              "      cursor: pointer;\n",
              "      display: none;\n",
              "      fill: #1967D2;\n",
              "      height: 32px;\n",
              "      padding: 0 0 0 0;\n",
              "      width: 32px;\n",
              "    }\n",
              "\n",
              "    .colab-df-convert:hover {\n",
              "      background-color: #E2EBFA;\n",
              "      box-shadow: 0px 1px 2px rgba(60, 64, 67, 0.3), 0px 1px 3px 1px rgba(60, 64, 67, 0.15);\n",
              "      fill: #174EA6;\n",
              "    }\n",
              "\n",
              "    .colab-df-buttons div {\n",
              "      margin-bottom: 4px;\n",
              "    }\n",
              "\n",
              "    [theme=dark] .colab-df-convert {\n",
              "      background-color: #3B4455;\n",
              "      fill: #D2E3FC;\n",
              "    }\n",
              "\n",
              "    [theme=dark] .colab-df-convert:hover {\n",
              "      background-color: #434B5C;\n",
              "      box-shadow: 0px 1px 3px 1px rgba(0, 0, 0, 0.15);\n",
              "      filter: drop-shadow(0px 1px 2px rgba(0, 0, 0, 0.3));\n",
              "      fill: #FFFFFF;\n",
              "    }\n",
              "  </style>\n",
              "\n",
              "    <script>\n",
              "      const buttonEl =\n",
              "        document.querySelector('#df-1eb83c97-9b9c-44c2-ab15-10e4097b7468 button.colab-df-convert');\n",
              "      buttonEl.style.display =\n",
              "        google.colab.kernel.accessAllowed ? 'block' : 'none';\n",
              "\n",
              "      async function convertToInteractive(key) {\n",
              "        const element = document.querySelector('#df-1eb83c97-9b9c-44c2-ab15-10e4097b7468');\n",
              "        const dataTable =\n",
              "          await google.colab.kernel.invokeFunction('convertToInteractive',\n",
              "                                                    [key], {});\n",
              "        if (!dataTable) return;\n",
              "\n",
              "        const docLinkHtml = 'Like what you see? Visit the ' +\n",
              "          '<a target=\"_blank\" href=https://colab.research.google.com/notebooks/data_table.ipynb>data table notebook</a>'\n",
              "          + ' to learn more about interactive tables.';\n",
              "        element.innerHTML = '';\n",
              "        dataTable['output_type'] = 'display_data';\n",
              "        await google.colab.output.renderOutput(dataTable, element);\n",
              "        const docLink = document.createElement('div');\n",
              "        docLink.innerHTML = docLinkHtml;\n",
              "        element.appendChild(docLink);\n",
              "      }\n",
              "    </script>\n",
              "  </div>\n",
              "\n",
              "\n",
              "<div id=\"df-8c28fc8e-0f9d-4470-a61c-ff702a9398bc\">\n",
              "  <button class=\"colab-df-quickchart\" onclick=\"quickchart('df-8c28fc8e-0f9d-4470-a61c-ff702a9398bc')\"\n",
              "            title=\"Suggest charts\"\n",
              "            style=\"display:none;\">\n",
              "\n",
              "<svg xmlns=\"http://www.w3.org/2000/svg\" height=\"24px\"viewBox=\"0 0 24 24\"\n",
              "     width=\"24px\">\n",
              "    <g>\n",
              "        <path d=\"M19 3H5c-1.1 0-2 .9-2 2v14c0 1.1.9 2 2 2h14c1.1 0 2-.9 2-2V5c0-1.1-.9-2-2-2zM9 17H7v-7h2v7zm4 0h-2V7h2v10zm4 0h-2v-4h2v4z\"/>\n",
              "    </g>\n",
              "</svg>\n",
              "  </button>\n",
              "\n",
              "<style>\n",
              "  .colab-df-quickchart {\n",
              "      --bg-color: #E8F0FE;\n",
              "      --fill-color: #1967D2;\n",
              "      --hover-bg-color: #E2EBFA;\n",
              "      --hover-fill-color: #174EA6;\n",
              "      --disabled-fill-color: #AAA;\n",
              "      --disabled-bg-color: #DDD;\n",
              "  }\n",
              "\n",
              "  [theme=dark] .colab-df-quickchart {\n",
              "      --bg-color: #3B4455;\n",
              "      --fill-color: #D2E3FC;\n",
              "      --hover-bg-color: #434B5C;\n",
              "      --hover-fill-color: #FFFFFF;\n",
              "      --disabled-bg-color: #3B4455;\n",
              "      --disabled-fill-color: #666;\n",
              "  }\n",
              "\n",
              "  .colab-df-quickchart {\n",
              "    background-color: var(--bg-color);\n",
              "    border: none;\n",
              "    border-radius: 50%;\n",
              "    cursor: pointer;\n",
              "    display: none;\n",
              "    fill: var(--fill-color);\n",
              "    height: 32px;\n",
              "    padding: 0;\n",
              "    width: 32px;\n",
              "  }\n",
              "\n",
              "  .colab-df-quickchart:hover {\n",
              "    background-color: var(--hover-bg-color);\n",
              "    box-shadow: 0 1px 2px rgba(60, 64, 67, 0.3), 0 1px 3px 1px rgba(60, 64, 67, 0.15);\n",
              "    fill: var(--button-hover-fill-color);\n",
              "  }\n",
              "\n",
              "  .colab-df-quickchart-complete:disabled,\n",
              "  .colab-df-quickchart-complete:disabled:hover {\n",
              "    background-color: var(--disabled-bg-color);\n",
              "    fill: var(--disabled-fill-color);\n",
              "    box-shadow: none;\n",
              "  }\n",
              "\n",
              "  .colab-df-spinner {\n",
              "    border: 2px solid var(--fill-color);\n",
              "    border-color: transparent;\n",
              "    border-bottom-color: var(--fill-color);\n",
              "    animation:\n",
              "      spin 1s steps(1) infinite;\n",
              "  }\n",
              "\n",
              "  @keyframes spin {\n",
              "    0% {\n",
              "      border-color: transparent;\n",
              "      border-bottom-color: var(--fill-color);\n",
              "      border-left-color: var(--fill-color);\n",
              "    }\n",
              "    20% {\n",
              "      border-color: transparent;\n",
              "      border-left-color: var(--fill-color);\n",
              "      border-top-color: var(--fill-color);\n",
              "    }\n",
              "    30% {\n",
              "      border-color: transparent;\n",
              "      border-left-color: var(--fill-color);\n",
              "      border-top-color: var(--fill-color);\n",
              "      border-right-color: var(--fill-color);\n",
              "    }\n",
              "    40% {\n",
              "      border-color: transparent;\n",
              "      border-right-color: var(--fill-color);\n",
              "      border-top-color: var(--fill-color);\n",
              "    }\n",
              "    60% {\n",
              "      border-color: transparent;\n",
              "      border-right-color: var(--fill-color);\n",
              "    }\n",
              "    80% {\n",
              "      border-color: transparent;\n",
              "      border-right-color: var(--fill-color);\n",
              "      border-bottom-color: var(--fill-color);\n",
              "    }\n",
              "    90% {\n",
              "      border-color: transparent;\n",
              "      border-bottom-color: var(--fill-color);\n",
              "    }\n",
              "  }\n",
              "</style>\n",
              "\n",
              "  <script>\n",
              "    async function quickchart(key) {\n",
              "      const quickchartButtonEl =\n",
              "        document.querySelector('#' + key + ' button');\n",
              "      quickchartButtonEl.disabled = true;  // To prevent multiple clicks.\n",
              "      quickchartButtonEl.classList.add('colab-df-spinner');\n",
              "      try {\n",
              "        const charts = await google.colab.kernel.invokeFunction(\n",
              "            'suggestCharts', [key], {});\n",
              "      } catch (error) {\n",
              "        console.error('Error during call to suggestCharts:', error);\n",
              "      }\n",
              "      quickchartButtonEl.classList.remove('colab-df-spinner');\n",
              "      quickchartButtonEl.classList.add('colab-df-quickchart-complete');\n",
              "    }\n",
              "    (() => {\n",
              "      let quickchartButtonEl =\n",
              "        document.querySelector('#df-8c28fc8e-0f9d-4470-a61c-ff702a9398bc button');\n",
              "      quickchartButtonEl.style.display =\n",
              "        google.colab.kernel.accessAllowed ? 'block' : 'none';\n",
              "    })();\n",
              "  </script>\n",
              "</div>\n",
              "\n",
              "  <div id=\"id_242fd0ee-be02-41bb-a1be-5fd2537dd85a\">\n",
              "    <style>\n",
              "      .colab-df-generate {\n",
              "        background-color: #E8F0FE;\n",
              "        border: none;\n",
              "        border-radius: 50%;\n",
              "        cursor: pointer;\n",
              "        display: none;\n",
              "        fill: #1967D2;\n",
              "        height: 32px;\n",
              "        padding: 0 0 0 0;\n",
              "        width: 32px;\n",
              "      }\n",
              "\n",
              "      .colab-df-generate:hover {\n",
              "        background-color: #E2EBFA;\n",
              "        box-shadow: 0px 1px 2px rgba(60, 64, 67, 0.3), 0px 1px 3px 1px rgba(60, 64, 67, 0.15);\n",
              "        fill: #174EA6;\n",
              "      }\n",
              "\n",
              "      [theme=dark] .colab-df-generate {\n",
              "        background-color: #3B4455;\n",
              "        fill: #D2E3FC;\n",
              "      }\n",
              "\n",
              "      [theme=dark] .colab-df-generate:hover {\n",
              "        background-color: #434B5C;\n",
              "        box-shadow: 0px 1px 3px 1px rgba(0, 0, 0, 0.15);\n",
              "        filter: drop-shadow(0px 1px 2px rgba(0, 0, 0, 0.3));\n",
              "        fill: #FFFFFF;\n",
              "      }\n",
              "    </style>\n",
              "    <button class=\"colab-df-generate\" onclick=\"generateWithVariable('data')\"\n",
              "            title=\"Generate code using this dataframe.\"\n",
              "            style=\"display:none;\">\n",
              "\n",
              "  <svg xmlns=\"http://www.w3.org/2000/svg\" height=\"24px\"viewBox=\"0 0 24 24\"\n",
              "       width=\"24px\">\n",
              "    <path d=\"M7,19H8.4L18.45,9,17,7.55,7,17.6ZM5,21V16.75L18.45,3.32a2,2,0,0,1,2.83,0l1.4,1.43a1.91,1.91,0,0,1,.58,1.4,1.91,1.91,0,0,1-.58,1.4L9.25,21ZM18.45,9,17,7.55Zm-12,3A5.31,5.31,0,0,0,4.9,8.1,5.31,5.31,0,0,0,1,6.5,5.31,5.31,0,0,0,4.9,4.9,5.31,5.31,0,0,0,6.5,1,5.31,5.31,0,0,0,8.1,4.9,5.31,5.31,0,0,0,12,6.5,5.46,5.46,0,0,0,6.5,12Z\"/>\n",
              "  </svg>\n",
              "    </button>\n",
              "    <script>\n",
              "      (() => {\n",
              "      const buttonEl =\n",
              "        document.querySelector('#id_242fd0ee-be02-41bb-a1be-5fd2537dd85a button.colab-df-generate');\n",
              "      buttonEl.style.display =\n",
              "        google.colab.kernel.accessAllowed ? 'block' : 'none';\n",
              "\n",
              "      buttonEl.onclick = () => {\n",
              "        google.colab.notebook.generateWithVariable('data');\n",
              "      }\n",
              "      })();\n",
              "    </script>\n",
              "  </div>\n",
              "\n",
              "    </div>\n",
              "  </div>\n"
            ],
            "application/vnd.google.colaboratory.intrinsic+json": {
              "type": "dataframe",
              "variable_name": "data",
              "summary": "{\n  \"name\": \"data\",\n  \"rows\": 5,\n  \"fields\": [\n    {\n      \"column\": \"A\",\n      \"properties\": {\n        \"dtype\": \"number\",\n        \"std\": 0.452315639995592,\n        \"min\": 0.03879910728080982,\n        \"max\": 0.9517330580001923,\n        \"num_unique_values\": 5,\n        \"samples\": [\n          0.7804386867442547,\n          0.9517330580001923,\n          0.8542535955591436\n        ],\n        \"semantic_type\": \"\",\n        \"description\": \"\"\n      }\n    },\n    {\n      \"column\": \"B\",\n      \"properties\": {\n        \"dtype\": \"number\",\n        \"std\": 0.31173056316055825,\n        \"min\": 0.10496480178224465,\n        \"max\": 0.8711000324249639,\n        \"num_unique_values\": 5,\n        \"samples\": [\n          0.8711000324249639,\n          0.17811070440485388,\n          0.10496480178224465\n        ],\n        \"semantic_type\": \"\",\n        \"description\": \"\"\n      }\n    },\n    {\n      \"column\": \"C\",\n      \"properties\": {\n        \"dtype\": \"number\",\n        \"std\": 0.3446122398656256,\n        \"min\": 0.05623726749076163,\n        \"max\": 0.8319197321193924,\n        \"num_unique_values\": 5,\n        \"samples\": [\n          0.24317320028699285,\n          0.8319197321193924,\n          0.1266587575264435\n        ],\n        \"semantic_type\": \"\",\n        \"description\": \"\"\n      }\n    }\n  ]\n}"
            }
          },
          "metadata": {},
          "execution_count": 18
        }
      ]
    },
    {
      "cell_type": "code",
      "source": [
        "#Conditional selection of data\n",
        "condition = data['A'] > 0.5\n",
        "selected_data = data[condition]\n",
        "selected_data_count = selected_data.count()\n",
        "selected_data"
      ],
      "metadata": {
        "colab": {
          "base_uri": "https://localhost:8080/",
          "height": 143
        },
        "id": "XUSaQonXAtqa",
        "outputId": "acb679a6-0899-4671-f13f-cc0754af8a2c"
      },
      "execution_count": 36,
      "outputs": [
        {
          "output_type": "execute_result",
          "data": {
            "text/plain": [
              "          A         B         C\n",
              "1  0.780439  0.871100  0.243173\n",
              "2  0.854254  0.104965  0.126659\n",
              "4  0.951733  0.178111  0.831920"
            ],
            "text/html": [
              "\n",
              "  <div id=\"df-7b4f3c88-f544-46bb-938b-e12244b8b3cf\" class=\"colab-df-container\">\n",
              "    <div>\n",
              "<style scoped>\n",
              "    .dataframe tbody tr th:only-of-type {\n",
              "        vertical-align: middle;\n",
              "    }\n",
              "\n",
              "    .dataframe tbody tr th {\n",
              "        vertical-align: top;\n",
              "    }\n",
              "\n",
              "    .dataframe thead th {\n",
              "        text-align: right;\n",
              "    }\n",
              "</style>\n",
              "<table border=\"1\" class=\"dataframe\">\n",
              "  <thead>\n",
              "    <tr style=\"text-align: right;\">\n",
              "      <th></th>\n",
              "      <th>A</th>\n",
              "      <th>B</th>\n",
              "      <th>C</th>\n",
              "    </tr>\n",
              "  </thead>\n",
              "  <tbody>\n",
              "    <tr>\n",
              "      <th>1</th>\n",
              "      <td>0.780439</td>\n",
              "      <td>0.871100</td>\n",
              "      <td>0.243173</td>\n",
              "    </tr>\n",
              "    <tr>\n",
              "      <th>2</th>\n",
              "      <td>0.854254</td>\n",
              "      <td>0.104965</td>\n",
              "      <td>0.126659</td>\n",
              "    </tr>\n",
              "    <tr>\n",
              "      <th>4</th>\n",
              "      <td>0.951733</td>\n",
              "      <td>0.178111</td>\n",
              "      <td>0.831920</td>\n",
              "    </tr>\n",
              "  </tbody>\n",
              "</table>\n",
              "</div>\n",
              "    <div class=\"colab-df-buttons\">\n",
              "\n",
              "  <div class=\"colab-df-container\">\n",
              "    <button class=\"colab-df-convert\" onclick=\"convertToInteractive('df-7b4f3c88-f544-46bb-938b-e12244b8b3cf')\"\n",
              "            title=\"Convert this dataframe to an interactive table.\"\n",
              "            style=\"display:none;\">\n",
              "\n",
              "  <svg xmlns=\"http://www.w3.org/2000/svg\" height=\"24px\" viewBox=\"0 -960 960 960\">\n",
              "    <path d=\"M120-120v-720h720v720H120Zm60-500h600v-160H180v160Zm220 220h160v-160H400v160Zm0 220h160v-160H400v160ZM180-400h160v-160H180v160Zm440 0h160v-160H620v160ZM180-180h160v-160H180v160Zm440 0h160v-160H620v160Z\"/>\n",
              "  </svg>\n",
              "    </button>\n",
              "\n",
              "  <style>\n",
              "    .colab-df-container {\n",
              "      display:flex;\n",
              "      gap: 12px;\n",
              "    }\n",
              "\n",
              "    .colab-df-convert {\n",
              "      background-color: #E8F0FE;\n",
              "      border: none;\n",
              "      border-radius: 50%;\n",
              "      cursor: pointer;\n",
              "      display: none;\n",
              "      fill: #1967D2;\n",
              "      height: 32px;\n",
              "      padding: 0 0 0 0;\n",
              "      width: 32px;\n",
              "    }\n",
              "\n",
              "    .colab-df-convert:hover {\n",
              "      background-color: #E2EBFA;\n",
              "      box-shadow: 0px 1px 2px rgba(60, 64, 67, 0.3), 0px 1px 3px 1px rgba(60, 64, 67, 0.15);\n",
              "      fill: #174EA6;\n",
              "    }\n",
              "\n",
              "    .colab-df-buttons div {\n",
              "      margin-bottom: 4px;\n",
              "    }\n",
              "\n",
              "    [theme=dark] .colab-df-convert {\n",
              "      background-color: #3B4455;\n",
              "      fill: #D2E3FC;\n",
              "    }\n",
              "\n",
              "    [theme=dark] .colab-df-convert:hover {\n",
              "      background-color: #434B5C;\n",
              "      box-shadow: 0px 1px 3px 1px rgba(0, 0, 0, 0.15);\n",
              "      filter: drop-shadow(0px 1px 2px rgba(0, 0, 0, 0.3));\n",
              "      fill: #FFFFFF;\n",
              "    }\n",
              "  </style>\n",
              "\n",
              "    <script>\n",
              "      const buttonEl =\n",
              "        document.querySelector('#df-7b4f3c88-f544-46bb-938b-e12244b8b3cf button.colab-df-convert');\n",
              "      buttonEl.style.display =\n",
              "        google.colab.kernel.accessAllowed ? 'block' : 'none';\n",
              "\n",
              "      async function convertToInteractive(key) {\n",
              "        const element = document.querySelector('#df-7b4f3c88-f544-46bb-938b-e12244b8b3cf');\n",
              "        const dataTable =\n",
              "          await google.colab.kernel.invokeFunction('convertToInteractive',\n",
              "                                                    [key], {});\n",
              "        if (!dataTable) return;\n",
              "\n",
              "        const docLinkHtml = 'Like what you see? Visit the ' +\n",
              "          '<a target=\"_blank\" href=https://colab.research.google.com/notebooks/data_table.ipynb>data table notebook</a>'\n",
              "          + ' to learn more about interactive tables.';\n",
              "        element.innerHTML = '';\n",
              "        dataTable['output_type'] = 'display_data';\n",
              "        await google.colab.output.renderOutput(dataTable, element);\n",
              "        const docLink = document.createElement('div');\n",
              "        docLink.innerHTML = docLinkHtml;\n",
              "        element.appendChild(docLink);\n",
              "      }\n",
              "    </script>\n",
              "  </div>\n",
              "\n",
              "\n",
              "<div id=\"df-68c993bb-9407-48da-b775-7fd343952d7b\">\n",
              "  <button class=\"colab-df-quickchart\" onclick=\"quickchart('df-68c993bb-9407-48da-b775-7fd343952d7b')\"\n",
              "            title=\"Suggest charts\"\n",
              "            style=\"display:none;\">\n",
              "\n",
              "<svg xmlns=\"http://www.w3.org/2000/svg\" height=\"24px\"viewBox=\"0 0 24 24\"\n",
              "     width=\"24px\">\n",
              "    <g>\n",
              "        <path d=\"M19 3H5c-1.1 0-2 .9-2 2v14c0 1.1.9 2 2 2h14c1.1 0 2-.9 2-2V5c0-1.1-.9-2-2-2zM9 17H7v-7h2v7zm4 0h-2V7h2v10zm4 0h-2v-4h2v4z\"/>\n",
              "    </g>\n",
              "</svg>\n",
              "  </button>\n",
              "\n",
              "<style>\n",
              "  .colab-df-quickchart {\n",
              "      --bg-color: #E8F0FE;\n",
              "      --fill-color: #1967D2;\n",
              "      --hover-bg-color: #E2EBFA;\n",
              "      --hover-fill-color: #174EA6;\n",
              "      --disabled-fill-color: #AAA;\n",
              "      --disabled-bg-color: #DDD;\n",
              "  }\n",
              "\n",
              "  [theme=dark] .colab-df-quickchart {\n",
              "      --bg-color: #3B4455;\n",
              "      --fill-color: #D2E3FC;\n",
              "      --hover-bg-color: #434B5C;\n",
              "      --hover-fill-color: #FFFFFF;\n",
              "      --disabled-bg-color: #3B4455;\n",
              "      --disabled-fill-color: #666;\n",
              "  }\n",
              "\n",
              "  .colab-df-quickchart {\n",
              "    background-color: var(--bg-color);\n",
              "    border: none;\n",
              "    border-radius: 50%;\n",
              "    cursor: pointer;\n",
              "    display: none;\n",
              "    fill: var(--fill-color);\n",
              "    height: 32px;\n",
              "    padding: 0;\n",
              "    width: 32px;\n",
              "  }\n",
              "\n",
              "  .colab-df-quickchart:hover {\n",
              "    background-color: var(--hover-bg-color);\n",
              "    box-shadow: 0 1px 2px rgba(60, 64, 67, 0.3), 0 1px 3px 1px rgba(60, 64, 67, 0.15);\n",
              "    fill: var(--button-hover-fill-color);\n",
              "  }\n",
              "\n",
              "  .colab-df-quickchart-complete:disabled,\n",
              "  .colab-df-quickchart-complete:disabled:hover {\n",
              "    background-color: var(--disabled-bg-color);\n",
              "    fill: var(--disabled-fill-color);\n",
              "    box-shadow: none;\n",
              "  }\n",
              "\n",
              "  .colab-df-spinner {\n",
              "    border: 2px solid var(--fill-color);\n",
              "    border-color: transparent;\n",
              "    border-bottom-color: var(--fill-color);\n",
              "    animation:\n",
              "      spin 1s steps(1) infinite;\n",
              "  }\n",
              "\n",
              "  @keyframes spin {\n",
              "    0% {\n",
              "      border-color: transparent;\n",
              "      border-bottom-color: var(--fill-color);\n",
              "      border-left-color: var(--fill-color);\n",
              "    }\n",
              "    20% {\n",
              "      border-color: transparent;\n",
              "      border-left-color: var(--fill-color);\n",
              "      border-top-color: var(--fill-color);\n",
              "    }\n",
              "    30% {\n",
              "      border-color: transparent;\n",
              "      border-left-color: var(--fill-color);\n",
              "      border-top-color: var(--fill-color);\n",
              "      border-right-color: var(--fill-color);\n",
              "    }\n",
              "    40% {\n",
              "      border-color: transparent;\n",
              "      border-right-color: var(--fill-color);\n",
              "      border-top-color: var(--fill-color);\n",
              "    }\n",
              "    60% {\n",
              "      border-color: transparent;\n",
              "      border-right-color: var(--fill-color);\n",
              "    }\n",
              "    80% {\n",
              "      border-color: transparent;\n",
              "      border-right-color: var(--fill-color);\n",
              "      border-bottom-color: var(--fill-color);\n",
              "    }\n",
              "    90% {\n",
              "      border-color: transparent;\n",
              "      border-bottom-color: var(--fill-color);\n",
              "    }\n",
              "  }\n",
              "</style>\n",
              "\n",
              "  <script>\n",
              "    async function quickchart(key) {\n",
              "      const quickchartButtonEl =\n",
              "        document.querySelector('#' + key + ' button');\n",
              "      quickchartButtonEl.disabled = true;  // To prevent multiple clicks.\n",
              "      quickchartButtonEl.classList.add('colab-df-spinner');\n",
              "      try {\n",
              "        const charts = await google.colab.kernel.invokeFunction(\n",
              "            'suggestCharts', [key], {});\n",
              "      } catch (error) {\n",
              "        console.error('Error during call to suggestCharts:', error);\n",
              "      }\n",
              "      quickchartButtonEl.classList.remove('colab-df-spinner');\n",
              "      quickchartButtonEl.classList.add('colab-df-quickchart-complete');\n",
              "    }\n",
              "    (() => {\n",
              "      let quickchartButtonEl =\n",
              "        document.querySelector('#df-68c993bb-9407-48da-b775-7fd343952d7b button');\n",
              "      quickchartButtonEl.style.display =\n",
              "        google.colab.kernel.accessAllowed ? 'block' : 'none';\n",
              "    })();\n",
              "  </script>\n",
              "</div>\n",
              "\n",
              "  <div id=\"id_a7c297b6-c9d8-4be1-b473-2727fbb7996f\">\n",
              "    <style>\n",
              "      .colab-df-generate {\n",
              "        background-color: #E8F0FE;\n",
              "        border: none;\n",
              "        border-radius: 50%;\n",
              "        cursor: pointer;\n",
              "        display: none;\n",
              "        fill: #1967D2;\n",
              "        height: 32px;\n",
              "        padding: 0 0 0 0;\n",
              "        width: 32px;\n",
              "      }\n",
              "\n",
              "      .colab-df-generate:hover {\n",
              "        background-color: #E2EBFA;\n",
              "        box-shadow: 0px 1px 2px rgba(60, 64, 67, 0.3), 0px 1px 3px 1px rgba(60, 64, 67, 0.15);\n",
              "        fill: #174EA6;\n",
              "      }\n",
              "\n",
              "      [theme=dark] .colab-df-generate {\n",
              "        background-color: #3B4455;\n",
              "        fill: #D2E3FC;\n",
              "      }\n",
              "\n",
              "      [theme=dark] .colab-df-generate:hover {\n",
              "        background-color: #434B5C;\n",
              "        box-shadow: 0px 1px 3px 1px rgba(0, 0, 0, 0.15);\n",
              "        filter: drop-shadow(0px 1px 2px rgba(0, 0, 0, 0.3));\n",
              "        fill: #FFFFFF;\n",
              "      }\n",
              "    </style>\n",
              "    <button class=\"colab-df-generate\" onclick=\"generateWithVariable('selected_data')\"\n",
              "            title=\"Generate code using this dataframe.\"\n",
              "            style=\"display:none;\">\n",
              "\n",
              "  <svg xmlns=\"http://www.w3.org/2000/svg\" height=\"24px\"viewBox=\"0 0 24 24\"\n",
              "       width=\"24px\">\n",
              "    <path d=\"M7,19H8.4L18.45,9,17,7.55,7,17.6ZM5,21V16.75L18.45,3.32a2,2,0,0,1,2.83,0l1.4,1.43a1.91,1.91,0,0,1,.58,1.4,1.91,1.91,0,0,1-.58,1.4L9.25,21ZM18.45,9,17,7.55Zm-12,3A5.31,5.31,0,0,0,4.9,8.1,5.31,5.31,0,0,0,1,6.5,5.31,5.31,0,0,0,4.9,4.9,5.31,5.31,0,0,0,6.5,1,5.31,5.31,0,0,0,8.1,4.9,5.31,5.31,0,0,0,12,6.5,5.46,5.46,0,0,0,6.5,12Z\"/>\n",
              "  </svg>\n",
              "    </button>\n",
              "    <script>\n",
              "      (() => {\n",
              "      const buttonEl =\n",
              "        document.querySelector('#id_a7c297b6-c9d8-4be1-b473-2727fbb7996f button.colab-df-generate');\n",
              "      buttonEl.style.display =\n",
              "        google.colab.kernel.accessAllowed ? 'block' : 'none';\n",
              "\n",
              "      buttonEl.onclick = () => {\n",
              "        google.colab.notebook.generateWithVariable('selected_data');\n",
              "      }\n",
              "      })();\n",
              "    </script>\n",
              "  </div>\n",
              "\n",
              "    </div>\n",
              "  </div>\n"
            ],
            "application/vnd.google.colaboratory.intrinsic+json": {
              "type": "dataframe",
              "variable_name": "selected_data",
              "summary": "{\n  \"name\": \"selected_data\",\n  \"rows\": 3,\n  \"fields\": [\n    {\n      \"column\": \"A\",\n      \"properties\": {\n        \"dtype\": \"number\",\n        \"std\": 0.0859191945814139,\n        \"min\": 0.7804386867442547,\n        \"max\": 0.9517330580001923,\n        \"num_unique_values\": 3,\n        \"samples\": [\n          0.7804386867442547,\n          0.8542535955591436,\n          0.9517330580001923\n        ],\n        \"semantic_type\": \"\",\n        \"description\": \"\"\n      }\n    },\n    {\n      \"column\": \"B\",\n      \"properties\": {\n        \"dtype\": \"number\",\n        \"std\": 0.42279776951717957,\n        \"min\": 0.10496480178224465,\n        \"max\": 0.8711000324249639,\n        \"num_unique_values\": 3,\n        \"samples\": [\n          0.8711000324249639,\n          0.10496480178224465,\n          0.17811070440485388\n        ],\n        \"semantic_type\": \"\",\n        \"description\": \"\"\n      }\n    },\n    {\n      \"column\": \"C\",\n      \"properties\": {\n        \"dtype\": \"number\",\n        \"std\": 0.3780632963760337,\n        \"min\": 0.1266587575264435,\n        \"max\": 0.8319197321193924,\n        \"num_unique_values\": 3,\n        \"samples\": [\n          0.24317320028699285,\n          0.1266587575264435,\n          0.8319197321193924\n        ],\n        \"semantic_type\": \"\",\n        \"description\": \"\"\n      }\n    }\n  ]\n}"
            }
          },
          "metadata": {},
          "execution_count": 36
        }
      ]
    },
    {
      "cell_type": "code",
      "source": [
        "#Aggregation functions like sum and average.\n",
        "sum_data = data.sum()\n",
        "average_data = data.mean()"
      ],
      "metadata": {
        "id": "x7VHgwm-Cysd"
      },
      "execution_count": 37,
      "outputs": []
    },
    {
      "cell_type": "code",
      "source": [
        "print(\"Original DataFrame:\")\n",
        "print(data)\n",
        "print(\"\\nConditional Selection of Data (where A > 0.5):\")\n",
        "print(selected_data)\n",
        "print(\"\\nCount of selected_data_count:\")\n",
        "print(selected_data_count)\n",
        "print(\"\\nSum of Each Column:\")\n",
        "print(sum_data)\n",
        "print(\"\\nAverage of Each Column:\")\n",
        "print(average_data)"
      ],
      "metadata": {
        "colab": {
          "base_uri": "https://localhost:8080/"
        },
        "id": "rpy9DvbEDBNw",
        "outputId": "95527ac0-13a7-4458-81b8-b7df713a3db5"
      },
      "execution_count": 38,
      "outputs": [
        {
          "output_type": "stream",
          "name": "stdout",
          "text": [
            "Original DataFrame:\n",
            "          A         B         C\n",
            "0  0.038799  0.284261  0.668467\n",
            "1  0.780439  0.871100  0.243173\n",
            "2  0.854254  0.104965  0.126659\n",
            "3  0.048880  0.531431  0.056237\n",
            "4  0.951733  0.178111  0.831920\n",
            "\n",
            "Conditional Selection of Data (where A > 0.5):\n",
            "          A         B         C\n",
            "1  0.780439  0.871100  0.243173\n",
            "2  0.854254  0.104965  0.126659\n",
            "4  0.951733  0.178111  0.831920\n",
            "\n",
            "Count of selected_data_count:\n",
            "A    3\n",
            "B    3\n",
            "C    3\n",
            "dtype: int64\n",
            "\n",
            "Sum of Each Column:\n",
            "A    2.674104\n",
            "B    1.969868\n",
            "C    1.926456\n",
            "dtype: float64\n",
            "\n",
            "Average of Each Column:\n",
            "A    0.534821\n",
            "B    0.393974\n",
            "C    0.385291\n",
            "dtype: float64\n"
          ]
        }
      ]
    },
    {
      "cell_type": "code",
      "source": [],
      "metadata": {
        "id": "NnCSZ47WHKKt"
      },
      "execution_count": null,
      "outputs": []
    },
    {
      "cell_type": "markdown",
      "source": [
        "In NumPy, images are commonly represented as multi-dimensional arrays, where each element of the array corresponds to a pixel in the image. The dimensions of the array represent the height, width, and color channels of the image.\n",
        "\n",
        "For grayscale images, the array typically has two dimensions: height and width. Each element of the array represents the intensity of the pixel at that location. The intensity values are usually represented as integers ranging from 0 (black) to 255 (white), where intermediate values represent shades of gray.\n",
        "\n",
        "For color images, the array has three dimensions: height, width, and color channels (typically red, green, and blue). Each element of the array represents the intensity of the corresponding color channel at that location."
      ],
      "metadata": {
        "id": "3TlY2zbqIfs9"
      }
    },
    {
      "cell_type": "code",
      "source": [
        " #Create a 5x5 grayscale image (array)\n",
        "image = np.array([\n",
        "    [0, 64, 128, 192, 255],\n",
        "    [32, 96, 160, 224, 255],\n",
        "    [64, 128, 192, 255, 255],\n",
        "    [96, 160, 224, 255, 255],\n",
        "    [128, 192, 255, 255, 255]\n",
        "], dtype=np.uint8)\n",
        "\n",
        "# Display the image using Matplotlib\n",
        "plt.imshow(image, cmap='gray', vmin=0, vmax=255)\n",
        "plt.title('Grayscale Image')\n",
        "plt.axis('off')\n",
        "plt.show()"
      ],
      "metadata": {
        "colab": {
          "base_uri": "https://localhost:8080/",
          "height": 428
        },
        "id": "OSx7fTS_IhTx",
        "outputId": "bb892c3a-7e94-4681-d66d-9451bc89c7c7"
      },
      "execution_count": 42,
      "outputs": [
        {
          "output_type": "display_data",
          "data": {
            "text/plain": [
              "<Figure size 640x480 with 1 Axes>"
            ],
            "image/png": "[encoded data removed]"
          },
          "metadata": {}
        }
      ]
    },
    {
      "cell_type": "code",
      "source": [
        "image = Image.open('DSC00984-01.jpeg')"
      ],
      "metadata": {
        "id": "5NfM-CqsMl_X"
      },
      "execution_count": 45,
      "outputs": []
    },
    {
      "cell_type": "code",
      "source": [
        "print(\"Original image size:\", image.size)"
      ],
      "metadata": {
        "colab": {
          "base_uri": "https://localhost:8080/"
        },
        "id": "n_kzhTkAN7wU",
        "outputId": "aa7dce05-8a4e-4bee-adb8-c4c603b05725"
      },
      "execution_count": 46,
      "outputs": [
        {
          "output_type": "stream",
          "name": "stdout",
          "text": [
            "Original image size: (3012, 4533)\n"
          ]
        }
      ]
    },
    {
      "cell_type": "code",
      "source": [
        "# Convert the image to a NumPy array\n",
        "arr = np.array(image)\n",
        "print(\"Array shape after conversion:\", arr.shape)\n",
        "arr"
      ],
      "metadata": {
        "colab": {
          "base_uri": "https://localhost:8080/"
        },
        "id": "Q39hyIYXN__X",
        "outputId": "3de970ae-cdb3-4517-f66f-e02214093ca6"
      },
      "execution_count": 47,
      "outputs": [
        {
          "output_type": "stream",
          "name": "stdout",
          "text": [
            "Array shape after conversion: (4533, 3012, 3)\n"
          ]
        },
        {
          "output_type": "execute_result",
          "data": {
            "text/plain": [
              "array([[[254, 255, 249],\n",
              "        [254, 255, 249],\n",
              "        [254, 255, 249],\n",
              "        ...,\n",
              "        [ 37,  52,  31],\n",
              "        [ 43,  58,  37],\n",
              "        [ 37,  52,  31]],\n",
              "\n",
              "       [[254, 255, 249],\n",
              "        [254, 255, 249],\n",
              "        [254, 255, 249],\n",
              "        ...,\n",
              "        [ 36,  51,  30],\n",
              "        [ 43,  58,  37],\n",
              "        [ 38,  53,  32]],\n",
              "\n",
              "       [[254, 255, 249],\n",
              "        [254, 255, 249],\n",
              "        [254, 255, 249],\n",
              "        ...,\n",
              "        [ 40,  58,  36],\n",
              "        [ 46,  64,  42],\n",
              "        [ 43,  61,  39]],\n",
              "\n",
              "       ...,\n",
              "\n",
              "       [[210, 205, 199],\n",
              "        [211, 206, 200],\n",
              "        [212, 207, 201],\n",
              "        ...,\n",
              "        [117, 109, 107],\n",
              "        [112, 104, 102],\n",
              "        [116, 108, 106]],\n",
              "\n",
              "       [[212, 207, 201],\n",
              "        [214, 209, 203],\n",
              "        [216, 211, 205],\n",
              "        ...,\n",
              "        [117, 109, 107],\n",
              "        [114, 106, 104],\n",
              "        [118, 110, 108]],\n",
              "\n",
              "       [[217, 213, 204],\n",
              "        [219, 215, 206],\n",
              "        [220, 216, 207],\n",
              "        ...,\n",
              "        [118, 110, 108],\n",
              "        [116, 108, 106],\n",
              "        [121, 113, 111]]], dtype=uint8)"
            ]
          },
          "metadata": {},
          "execution_count": 47
        }
      ]
    },
    {
      "cell_type": "code",
      "source": [
        "# Calculate the mean of RGB values across the third axis (color channels)\n",
        "res = arr.mean(axis=2)\n",
        "print(\"Shape after calculating mean across color channels:\", res.shape)\n",
        "res\n",
        "# Round the mean values\n",
        "res = res.round()\n",
        "print(\"Values after rounding:\", res)\n",
        "res"
      ],
      "metadata": {
        "colab": {
          "base_uri": "https://localhost:8080/"
        },
        "id": "7tmddzrBOIIt",
        "outputId": "8016940e-b510-488b-bf62-65297bdf6e7f"
      },
      "execution_count": 48,
      "outputs": [
        {
          "output_type": "stream",
          "name": "stdout",
          "text": [
            "Shape after calculating mean across color channels: (4533, 3012)\n",
            "Values after rounding: [[253. 253. 253. ...  40.  46.  40.]\n",
            " [253. 253. 253. ...  39.  46.  41.]\n",
            " [253. 253. 253. ...  45.  51.  48.]\n",
            " ...\n",
            " [205. 206. 207. ... 111. 106. 110.]\n",
            " [207. 209. 211. ... 111. 108. 112.]\n",
            " [211. 213. 214. ... 112. 110. 115.]]\n"
          ]
        },
        {
          "output_type": "execute_result",
          "data": {
            "text/plain": [
              "array([[253., 253., 253., ...,  40.,  46.,  40.],\n",
              "       [253., 253., 253., ...,  39.,  46.,  41.],\n",
              "       [253., 253., 253., ...,  45.,  51.,  48.],\n",
              "       ...,\n",
              "       [205., 206., 207., ..., 111., 106., 110.],\n",
              "       [207., 209., 211., ..., 111., 108., 112.],\n",
              "       [211., 213., 214., ..., 112., 110., 115.]])"
            ]
          },
          "metadata": {},
          "execution_count": 48
        }
      ]
    },
    {
      "cell_type": "code",
      "source": [
        "# Convert the array to unsigned 8-bit integers\n",
        "res = res.astype(np.uint8)\n",
        "print(\"Data type after conversion:\", res.dtype)\n",
        "res"
      ],
      "metadata": {
        "colab": {
          "base_uri": "https://localhost:8080/"
        },
        "id": "pG29rATLOOW2",
        "outputId": "a72862e1-f119-423f-cf5c-2ba33f5547ac"
      },
      "execution_count": 49,
      "outputs": [
        {
          "output_type": "stream",
          "name": "stdout",
          "text": [
            "Data type after conversion: uint8\n"
          ]
        },
        {
          "output_type": "execute_result",
          "data": {
            "text/plain": [
              "array([[253, 253, 253, ...,  40,  46,  40],\n",
              "       [253, 253, 253, ...,  39,  46,  41],\n",
              "       [253, 253, 253, ...,  45,  51,  48],\n",
              "       ...,\n",
              "       [205, 206, 207, ..., 111, 106, 110],\n",
              "       [207, 209, 211, ..., 111, 108, 112],\n",
              "       [211, 213, 214, ..., 112, 110, 115]], dtype=uint8)"
            ]
          },
          "metadata": {},
          "execution_count": 49
        }
      ]
    },
    {
      "cell_type": "code",
      "source": [
        "# Convert the NumPy array back to a PIL Image\n",
        "im = Image.fromarray(res)\n",
        "print(\"Image mode after conversion:\", im.mode)"
      ],
      "metadata": {
        "colab": {
          "base_uri": "https://localhost:8080/"
        },
        "id": "VX0fJrOBOVln",
        "outputId": "38c3b0b6-2a9c-4630-ce93-07954d507a4d"
      },
      "execution_count": 50,
      "outputs": [
        {
          "output_type": "stream",
          "name": "stdout",
          "text": [
            "Image mode after conversion: L\n"
          ]
        }
      ]
    },
    {
      "cell_type": "code",
      "source": [
        "plt.imshow(im, cmap='gray', vmin=0, vmax=255)\n",
        "plt.axis('off')\n",
        "plt.title('Grayscale Image')\n",
        "plt.show()"
      ],
      "metadata": {
        "colab": {
          "base_uri": "https://localhost:8080/",
          "height": 428
        },
        "id": "hIjnJdHjOoD7",
        "outputId": "926a0b45-d6fb-482d-ae6c-62e17fb04d37"
      },
      "execution_count": 51,
      "outputs": [
        {
          "output_type": "display_data",
          "data": {
            "text/plain": [
              "<Figure size 640x480 with 1 Axes>"
            ],
            "image/png": "[encoded data removed]"
          },
          "metadata": {}
        }
      ]
    },
    {
      "cell_type": "code",
      "source": [
        "#Exercise6 Create a sample dataset to test the effectiveness of a new training program on employee productivity\n",
        "# Productivity scores of employees before the training program\n",
        "productivity_before = np.round(np.random.normal(loc=50, scale=10, size=30), 2)\n",
        "productivity_before"
      ],
      "metadata": {
        "colab": {
          "base_uri": "https://localhost:8080/"
        },
        "id": "icGh0dIgO9JB",
        "outputId": "d2f4b111-e775-4aa3-c939-ccd7f9f8534b"
      },
      "execution_count": 53,
      "outputs": [
        {
          "output_type": "execute_result",
          "data": {
            "text/plain": [
              "array([54.23, 66.96, 49.43, 64.93, 24.76, 43.13, 55.5 , 55.32, 39.94,\n",
              "       56.41, 36.74, 57.56, 46.38, 47.37, 55.51, 50.17, 63.99, 38.8 ,\n",
              "       56.74, 41.96, 48.15, 53.44, 58.  , 64.54, 40.5 , 56.22, 47.06,\n",
              "       35.94, 61.45, 51.44])"
            ]
          },
          "metadata": {},
          "execution_count": 53
        }
      ]
    },
    {
      "cell_type": "code",
      "source": [
        "# Productivity scores of the same employees after the training program\n",
        "productivity_after = productivity_before + np.round(np.random.normal(loc=5, scale=3, size=30))\n",
        "productivity_after"
      ],
      "metadata": {
        "colab": {
          "base_uri": "https://localhost:8080/"
        },
        "id": "whD4I-uWRAf0",
        "outputId": "01d5a240-7ec3-4add-ba14-f54d857edfb4"
      },
      "execution_count": 55,
      "outputs": [
        {
          "output_type": "execute_result",
          "data": {
            "text/plain": [
              "array([54.23, 71.96, 54.43, 67.93, 24.76, 53.13, 58.5 , 62.32, 54.94,\n",
              "       60.41, 41.74, 67.56, 49.38, 50.37, 63.51, 53.17, 67.99, 44.8 ,\n",
              "       61.74, 43.96, 52.15, 64.44, 61.  , 71.54, 45.5 , 63.22, 52.06,\n",
              "       43.94, 67.45, 55.44])"
            ]
          },
          "metadata": {},
          "execution_count": 55
        }
      ]
    },
    {
      "cell_type": "code",
      "source": [
        "# Calculate the mean productivity scores before and after the training program\n",
        "mean_before = np.round(np.mean(productivity_before), 2)\n",
        "mean_after = np.round(np.mean(productivity_after), 2)\n",
        "print('Mean before: ', mean_before)\n",
        "print('Mean after: ', mean_after)"
      ],
      "metadata": {
        "colab": {
          "base_uri": "https://localhost:8080/"
        },
        "id": "IewUn9B2RVSM",
        "outputId": "eb2c5f42-28ea-4e8c-e894-77c23af00348"
      },
      "execution_count": 59,
      "outputs": [
        {
          "output_type": "stream",
          "name": "stdout",
          "text": [
            "Mean before:  50.75\n",
            "Mean after:  56.12\n"
          ]
        }
      ]
    },
    {
      "cell_type": "markdown",
      "source": [
        "Null Hypothesis (HO): The average productivity of employees after the training program is not significantly different from the average productivity before the training program.\n",
        "\n",
        "Alternative Hypothesis (H1): The average productivity of employees after the training program is significantly higher than the average productivity before the training program.\n",
        "\n",
        "We\n",
        " aim to test whether the average productivity of employees after the training program is significantly higher than the average productivity before the training program.\n",
        "\n",
        "To conduct this hypothesis test, we will perform a paired t-test, also known as a dependent t-test, since we have paired observations (productivity scores of the same employees before and after the training program)."
      ],
      "metadata": {
        "id": "owuKLSSzYDPp"
      }
    },
    {
      "cell_type": "code",
      "source": [
        "# Perform a paired t-test\n",
        "t_statistic, p_value = ttest_rel(productivity_after, productivity_before)\n",
        "print(\"t-statistic:\", t_statistic)\n",
        "print(\"p-value:\", p_value)"
      ],
      "metadata": {
        "colab": {
          "base_uri": "https://localhost:8080/"
        },
        "id": "gxmU7EeAR1sw",
        "outputId": "c3b9f77d-12db-484c-d10b-ad0690f283e6"
      },
      "execution_count": 66,
      "outputs": [
        {
          "output_type": "stream",
          "name": "stdout",
          "text": [
            "t-statistic: 9.12441539234578\n",
            "p-value: 5.057406872088076e-10\n"
          ]
        }
      ]
    },
    {
      "cell_type": "code",
      "source": [
        "alpha = 0.05\n",
        "# Check if the p-value is less than the significance level\n",
        "if p_value < alpha:\n",
        "    print(\"Reject null hypothesis. There is sufficient evidence to suggest that the training program had an effect on productivity.\")\n",
        "else:\n",
        "    print(\"Fail to reject null hypothesis. There is not enough evidence to suggest that the training program had an effect on productivity.\")"
      ],
      "metadata": {
        "colab": {
          "base_uri": "https://localhost:8080/"
        },
        "id": "rfOZSBvdXat7",
        "outputId": "4bcaf311-42ba-4b90-f3c7-b7bd56cbb709"
      },
      "execution_count": 67,
      "outputs": [
        {
          "output_type": "stream",
          "name": "stdout",
          "text": [
            "Reject null hypothesis. There is sufficient evidence to suggest that the training program had an effect on productivity.\n"
          ]
        }
      ]
    },
    {
      "cell_type": "code",
      "source": [
        "#Exercise7 Create two arrays and perform element-wise comparison\n",
        "#to find which elements are greater in the first array.\n",
        "\n",
        "#The expected output is a boolean array showing which elements\n",
        "#in the first array are greater than the corresponding elements in the second array.\n",
        "array1 = np.random.randint(1,100,size=10)\n",
        "array2 = np.random.randint(1,100,size=10)\n",
        "\n",
        "# Perform element-wise comparison\n",
        "comparison_result = array1 > array2\n",
        "\n",
        "# Print the result\n",
        "print(\"Comparison result (array1 > array2):\", comparison_result)\n"
      ],
      "metadata": {
        "colab": {
          "base_uri": "https://localhost:8080/"
        },
        "id": "eOPMFZ9jXodl",
        "outputId": "3960ede3-17ea-4569-864b-d6382ed19301"
      },
      "execution_count": 71,
      "outputs": [
        {
          "output_type": "stream",
          "name": "stdout",
          "text": [
            "Comparison result (array1 > array2): [ True False False  True False False False False False False]\n"
          ]
        }
      ]
    },
    {
      "cell_type": "code",
      "source": [
        "#Exercise8 Generate time series data for the year 2023.\n",
        "dates_array = np.arange('2023-01-01','2023-12-31', dtype='datetime64[D]')\n",
        "dates_array"
      ],
      "metadata": {
        "id": "uzs45jqNZkFW"
      },
      "execution_count": null,
      "outputs": []
    },
    {
      "cell_type": "code",
      "source": [
        "#Demonstrate slicing for January to March\n",
        "start_date = np.datetime64('2023-01-01')\n",
        "end_date = np.datetime64('2023-03-31')\n",
        "\n",
        "# Perform boolean indexing to get the dates for January to March 2023\n",
        "jan_to_mar = dates_array[(dates_array >= start_date) & (dates_array <= end_date)]\n",
        "jan_to_mar"
      ],
      "metadata": {
        "id": "d2zg-w8ZaSHH"
      },
      "execution_count": null,
      "outputs": []
    },
    {
      "cell_type": "code",
      "source": [
        "#Demonstrate slicing for April to June\n",
        "start_date2 = np.datetime64('2023-04-01')\n",
        "end_date2 = np.datetime64('2023-06-30')\n",
        "\n",
        "# Perform boolean indexing to get the dates for January to March 2023\n",
        "apr_to_jun = dates_array[(dates_array >= start_date2) & (dates_array <= end_date2)]\n",
        "apr_to_jun"
      ],
      "metadata": {
        "id": "R_SE_uCedD5Z"
      },
      "execution_count": null,
      "outputs": []
    },
    {
      "cell_type": "code",
      "source": [
        "#Demonstrate slicing for July to September\n",
        "start_date3 = np.datetime64('2023-07-01')\n",
        "end_date3 = np.datetime64('2023-09-30')\n",
        "\n",
        "# Perform boolean indexing to get the dates for January to March 2023\n",
        "jul_to_sep = dates_array[(dates_array >= start_date3) & (dates_array <= end_date3)]\n",
        "jul_to_sep"
      ],
      "metadata": {
        "id": "pNXZ8uWcdd4n"
      },
      "execution_count": null,
      "outputs": []
    },
    {
      "cell_type": "code",
      "source": [
        "#Demonstrate slicing for October to December\n",
        "start_date4 = np.datetime64('2023-10-01')\n",
        "end_date4 = np.datetime64('2023-12-31')\n",
        "\n",
        "# Perform boolean indexing to get the dates for January to March 2023\n",
        "oct_to_dec = dates_array[(dates_array >= start_date3) & (dates_array <= end_date3)]\n",
        "jul_to_sep"
      ],
      "metadata": {
        "id": "Uqzk8alwd400"
      },
      "execution_count": null,
      "outputs": []
    },
    {
      "cell_type": "markdown",
      "source": [
        "the another way using pandas:"
      ],
      "metadata": {
        "id": "IuyuLNH0epRO"
      }
    },
    {
      "cell_type": "code",
      "source": [
        "import pandas as pd\n",
        "\n",
        "dates_2023 = pd.date_range(start='2023-01-01', end='2023-12-31', freq='D')\n",
        "jan_to_march = dates_2023[(dates_2023.month >= 1) & (dates_2023.month <= 3)]\n",
        "april_to_june = dates_2023[(dates_2023.month >= 4) & (dates_2023.month <= 6)]\n",
        "july_to_september = dates_2023[(dates_2023.month >= 7) & (dates_2023.month <= 9)]\n",
        "oct_to_december = dates_2023[(dates_2023.month >= 10) & (dates_2023.month <= 12)]\n",
        "specific_period = dates_2023[(dates_2023.month >= 4) & (dates_2023.month <= 9)]\n",
        "\n",
        "print(\"January to March:\", jan_to_march)\n",
        "print(\"April to June:\", april_to_june)\n",
        "print(\"July to September:\", july_to_september)\n",
        "print(\"October to December:\", oct_to_december)\n",
        "print(\"Specific period (April to September):\", specific_period)"
      ],
      "metadata": {
        "id": "yUog4LfFedVZ"
      },
      "execution_count": null,
      "outputs": []
    },
    {
      "cell_type": "code",
      "source": [
        "#Exercise9 Demonstrate how to convert a NumPy array to a Pandas DataFrame and vice versa\n",
        "array = np.arange(1,10).reshape(3,3)\n",
        "df = pd.DataFrame(data=array, columns=['A', 'B', 'C'])\n",
        "# Print the Pandas DataFrame\n",
        "print(\"Pandas DataFrame:\")\n",
        "print(df)"
      ],
      "metadata": {
        "colab": {
          "base_uri": "https://localhost:8080/"
        },
        "id": "1481VPWQesrt",
        "outputId": "ef8b7d30-50a8-4a29-9df0-7c9c7b4c8b61"
      },
      "execution_count": 90,
      "outputs": [
        {
          "output_type": "stream",
          "name": "stdout",
          "text": [
            "Pandas DataFrame:\n",
            "   A  B  C\n",
            "0  1  2  3\n",
            "1  4  5  6\n",
            "2  7  8  9\n"
          ]
        }
      ]
    },
    {
      "cell_type": "code",
      "source": [
        "# Convert Pandas DataFrame to NumPy array\n",
        "numpy_array = df.values\n",
        "\n",
        "# Print the NumPy array\n",
        "print(\"\\nNumPy Array:\")\n",
        "print(numpy_array)"
      ],
      "metadata": {
        "colab": {
          "base_uri": "https://localhost:8080/"
        },
        "id": "MRt6jcgTfikM",
        "outputId": "beaaeaab-49a3-49c1-bd36-81946004465a"
      },
      "execution_count": 91,
      "outputs": [
        {
          "output_type": "stream",
          "name": "stdout",
          "text": [
            "\n",
            "NumPy Array:\n",
            "[[1 2 3]\n",
            " [4 5 6]\n",
            " [7 8 9]]\n"
          ]
        }
      ]
    },
    {
      "cell_type": "code",
      "source": [
        "#Exercise10 Use Matplotlib to visualize a simple dataset created with NumPy (e.g., a line graph of random numbers)\n",
        "x = np.arange(0, 10, 0.5)\n",
        "y = np.random.randn(len(x))\n",
        "x\n"
      ],
      "metadata": {
        "colab": {
          "base_uri": "https://localhost:8080/"
        },
        "id": "4ynF0o30fxGr",
        "outputId": "95b1d54f-f24e-4215-dbff-9a84499735b6"
      },
      "execution_count": 96,
      "outputs": [
        {
          "output_type": "execute_result",
          "data": {
            "text/plain": [
              "array([0. , 0.5, 1. , 1.5, 2. , 2.5, 3. , 3.5, 4. , 4.5, 5. , 5.5, 6. ,\n",
              "       6.5, 7. , 7.5, 8. , 8.5, 9. , 9.5])"
            ]
          },
          "metadata": {},
          "execution_count": 96
        }
      ]
    },
    {
      "cell_type": "code",
      "source": [
        "# Plot the data\n",
        "plt.figure(figsize=(8, 6))\n",
        "plt.plot(x, y, color='blue', linestyle='-')\n",
        "plt.title('Random Data')\n",
        "plt.xlabel('X')\n",
        "plt.ylabel('Y')\n",
        "plt.grid(True)\n",
        "plt.show()"
      ],
      "metadata": {
        "colab": {
          "base_uri": "https://localhost:8080/",
          "height": 564
        },
        "id": "oJOoKY0yh64w",
        "outputId": "b3c633df-9b5c-4f69-8a20-1872046f9805"
      },
      "execution_count": 97,
      "outputs": [
        {
          "output_type": "display_data",
          "data": {
            "text/plain": [
              "<Figure size 800x600 with 1 Axes>"
            ],
            "image/png": "[encoded data removed]"
          },
          "metadata": {}
        }
      ]
    }
  ]
}